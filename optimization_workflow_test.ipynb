{
 "cells": [
  {
   "cell_type": "code",
   "execution_count": 1,
   "metadata": {
    "scrolled": true
   },
   "outputs": [
    {
     "name": "stderr",
     "output_type": "stream",
     "text": [
      "/disk/scratch/mhennig/miniconda3/envs/spikesorting/lib/python3.7/site-packages/sklearn/externals/six.py:31: DeprecationWarning: The module is deprecated in version 0.21 and will be removed in version 0.23 since we've dropped support for Python 2.7. Please rely on the official version of six (https://pypi.org/project/six/).\n",
      "  \"(https://pypi.org/project/six/).\", DeprecationWarning)\n",
      "/disk/scratch/mhennig/miniconda3/envs/spikesorting/lib/python3.7/site-packages/sklearn/externals/joblib/__init__.py:15: DeprecationWarning: sklearn.externals.joblib is deprecated in 0.21 and will be removed in 0.23. Please import this functionality directly from joblib, which can be installed with: pip install joblib. If this warning is raised when loading pickled models, you may need to re-serialize those models with scikit-learn 0.21+.\n",
      "  warnings.warn(msg, category=DeprecationWarning)\n"
     ]
    }
   ],
   "source": [
    "%load_ext autoreload\n",
    "%autoreload 2\n",
    "%matplotlib inline\n",
    "\n",
    "import bayesianoptimization as b\n",
    "import tpeoptimization as t\n",
    "from hyperopt import hp\n",
    "\n",
    "import matplotlib.pyplot as plt\n",
    "\n",
    "import os\n",
    "os.environ['KBUCKET_CACHE_DIR'] = '/disk/scratch/mhennig/sha1-cache-mhennig'\n",
    "\n",
    "from spikeforest import SFMdaRecordingExtractor, SFMdaSortingExtractor\n",
    "from mountaintools import client as mt\n",
    "\n",
    "# import a spike sorter from the spikesorters module of spikeforest\n",
    "from spikesorters import Mountainsort4Sorter, HerdingspikesSorter\n",
    "import shutil\n",
    "\n",
    "# Configure to download from the public spikeforest kachery node\n",
    "mt.configDownloadFrom('spikeforest.public')\n",
    "\n",
    "import numpy as np\n"
   ]
  },
  {
   "cell_type": "code",
   "execution_count": 2,
   "metadata": {},
   "outputs": [
    {
     "name": "stdout",
     "output_type": "stream",
     "text": [
      "Load recording...\n"
     ]
    },
    {
     "data": {
      "text/plain": [
       "(-12.109856630824373,\n",
       " 12.109856630824371,\n",
       " -15.415176600441502,\n",
       " 323.4151766004415)"
      ]
     },
     "execution_count": 2,
     "metadata": {},
     "output_type": "execute_result"
    },
    {
     "data": {
      "image/png": "[encoded data removed]",
      "text/plain": [
       "<Figure size 432x288 with 1 Axes>"
      ]
     },
     "metadata": {
      "needs_background": "light"
     },
     "output_type": "display_data"
    }
   ],
   "source": [
    "# SYNTH_VISAPY\n",
    "# mea_c30 set 1\n",
    "recdir = 'sha1dir://ed0fe4de4ef2c54b7c9de420c87f9df200721b24.synth_visapy/mea_c30/set1'\n",
    "\n",
    "#synth_bionet_static static_8x_A_2A\n",
    "# recdir = 'sha1dir://abc900f5cd62436e7c89d914c9f36dcd7fcca0e7.synth_bionet/bionet_static/static_8x_A_2A'\n",
    "\n",
    "# synth_magland_noise10_K10_C4\n",
    "# tetrode\n",
    "# recdir = 'sha1dir://fb52d510d2543634e247e0d2d1d4390be9ed9e20.synth_magland/datasets_noise10_K10_C4/001_synth'\n",
    "\n",
    "print('Load recording...')\n",
    "recording = SFMdaRecordingExtractor(dataset_directory=recdir, download=True)\n",
    "sorting_true = SFMdaSortingExtractor(firings_file=recdir + '/firings_true.mda')\n",
    "\n",
    "cl=np.array(recording.get_channel_locations(recording.get_channel_ids()))\n",
    "plt.figure()\n",
    "plt.scatter(cl[:,0], cl[:,1])\n",
    "plt.axis('equal')\n"
   ]
  },
  {
   "cell_type": "code",
   "execution_count": 3,
   "metadata": {},
   "outputs": [],
   "source": [
    "\n",
    "\n",
    "sorter = 'herdingspikes'\n",
    "\n",
    "space = {'clustering_bandwidth': hp.uniform('clustering_bandwidth', 3, 16),\n",
    "    'clustering_alpha': hp.uniform('clustering_alpha', 3, 16),\n",
    "    'detection_threshold': hp.qnormal('detection_threshold', 30, 10, 1),\n",
    "    'ahpthr': hp.quniform('ahpthr', -30, 30, 1),\n",
    "    'probe_inner_radius':hp.quniform('probe_inner_radius',60,100,1),\n",
    "         'probe_neighbor_radius':hp.quniform('probe_neighbor_radius',70,120,1),\n",
    "         'probe_event_length':hp.uniform('probe_event_length',0.1,0.3),\n",
    "    'maa': hp.quniform('maa',0,10,1)\n",
    "#     'pca_ncomponents': hp.quniform('pca_ncomponents', 1, 5, 1),\n",
    "#          'filter':hp.choice('filter',['True','False']),\n",
    "#          'pre_scale_value': hp.uniform('pre_scale_value',20,25)\n",
    "        }\n",
    "\n",
    "params = {     'clustering_bandwidth': (3., 16.),\n",
    "                'clustering_alpha': (3., 16.),\n",
    "               'detection_threshold': (10, 30),\n",
    "              'probe_inner_radius': (60,100),\n",
    "             'probe_neighbor_radius': (70,120),\n",
    "              'probe_event_length': (0.1,0.3),\n",
    "             'ahpthr': (-30, 30),\n",
    "             'maa': (0,10)\n",
    "#               'pca_ncomponents': (1, 4),\n",
    "#            'pre_scale_value':(20.,21.),\n",
    "#           'filter':(['True','False'])\n",
    "                       } \n"
   ]
  },
  {
   "cell_type": "code",
   "execution_count": 4,
   "metadata": {},
   "outputs": [],
   "source": [
    "# test = b.BayesianOptimization(sorter=sorter, recording=recording, gt_sorting=sorting_true, params_to_opt=params, \n",
    "#                               run_schedule=[20, 20],\n",
    "#                               metric ='accuracy', recdir = recdir, outfile = 'res')\n",
    "\n",
    "test = t.TPEOptimization(sorter=sorter, recording=recording, gt_sorting=sorting_true, params_to_opt=params, \n",
    "                              space=space, run_schedule=[80, 80],\n",
    "                              metric ='accuracy', recdir = recdir, outfile = 'res')\n",
    "\n"
   ]
  },
  {
   "cell_type": "code",
   "execution_count": 5,
   "metadata": {
    "scrolled": true
   },
   "outputs": [
    {
     "name": "stdout",
     "output_type": "stream",
     "text": [
      "chosen values:                                      \n",
      "{'ahpthr': 24.0, 'clustering_alpha': 4.240405691413095, 'clustering_bandwidth': 11.380658854774673, 'detection_threshold': 34.0, 'maa': 5.0, 'probe_event_length': 0.2514567583367172, 'probe_inner_radius': 91.0, 'probe_neighbor_radius': 71.0}\n",
      "Clustering spikes with parameters: {'ahpthr': 24.0, 'clustering_alpha': 4.240405691413095, 'clustering_bandwidth': 11.380658854774673, 'detection_threshold': 34.0, 'maa': 5.0, 'probe_event_length': 0.2514567583367172, 'probe_inner_radius': 91.0, 'probe_neighbor_radius': 71.0}\n",
      "# Generating new position and neighbor files from data file\n",
      "# Not Masking any Channels                          \n",
      "# Sampling rate: 32000                              \n",
      "# Localization On                                   \n",
      "# Number of recorded channels: 30                   \n",
      "# Analysing frames: 9600000; Seconds: 300.0         \n",
      "# Frames before spike in cutout: 6                  \n",
      "# Frames after spike in cutout: 32                  \n",
      "# tcuts: 51 77                                      \n",
      "# tInc: 1000000                                     \n",
      "# Analysing frames from -51 to 1000077  (0.0%)      \n",
      "# Analysing frames from 999949 to 2000077  (10.4%)  \n",
      "# Analysing frames from 1999949 to 3000077  (20.8%) \n",
      "# Analysing frames from 2999949 to 4000077  (31.2%) \n",
      "# Analysing frames from 3999949 to 5000077  (41.7%) \n",
      "# Analysing frames from 4999949 to 6000077  (52.1%) \n",
      "# Analysing frames from 5999949 to 7000077  (62.5%) \n",
      "# Analysing frames from 6999949 to 8000077  (72.9%) \n",
      "# Analysing frames from 7999949 to 9000077  (83.3%) \n",
      "# Analysing frames from 8999949 to 9600000  (93.8%) \n",
      "# Detection completed, time taken: 0:00:14.831056   \n",
      "# Time per frame: 0:00:00.001545                    \n",
      "# Time per sample: 0:00:00.000051                   \n",
      "Loaded 9905 spikes.                                 \n",
      "Fitting dimensionality reduction using all spikes...\n",
      "...projecting...                                    \n",
      "...done                                             \n",
      "Clustering...                                       \n",
      "Clustering 9905 spikes...                           \n",
      "number of seeds: 51                                 \n",
      "seeds/job: 3                                        \n",
      "using 24 cpus                                       \n",
      "  0%|          | 0/80 [00:16<?, ?it/s, best loss: ?]"
     ]
    },
    {
     "name": "stderr",
     "output_type": "stream",
     "text": [
      "[Parallel(n_jobs=24)]: Using backend LokyBackend with 24 concurrent workers.\n",
      "\n",
      "[Parallel(n_jobs=24)]: Done   3 out of  24 | elapsed:    2.2s remaining:   15.1s\n",
      "\n",
      "[Parallel(n_jobs=24)]: Done  16 out of  24 | elapsed:    2.3s remaining:    1.1s\n",
      "\n"
     ]
    },
    {
     "name": "stdout",
     "output_type": "stream",
     "text": [
      "Number of estimated units:                          \n",
      "9                                                   \n",
      "Saving to                                           \n",
      "/disk/scratch/mhennig/spikeinterface/spikeoptimizer-develop/optimization_0/HS2_sorted.hdf5\n",
      "Warning: sampling frequency information not found. Setting delta_frames to 10.\n",
      "  0%|          | 0/80 [00:18<?, ?it/s, best loss: ?]"
     ]
    },
    {
     "name": "stderr",
     "output_type": "stream",
     "text": [
      "[Parallel(n_jobs=24)]: Done  24 out of  24 | elapsed:    2.5s finished\n",
      "\n"
     ]
    },
    {
     "name": "stdout",
     "output_type": "stream",
     "text": [
      "score:                                              \n",
      "-0.23567855180590497                                \n",
      "chosen values:                                                                 \n",
      "{'ahpthr': 28.0, 'clustering_alpha': 8.498688562966546, 'clustering_bandwidth': 4.614122989473965, 'detection_threshold': 27.0, 'maa': 1.0, 'probe_event_length': 0.24450613688676504, 'probe_inner_radius': 76.0, 'probe_neighbor_radius': 75.0}\n",
      "Clustering spikes with parameters: {'ahpthr': 28.0, 'clustering_alpha': 8.498688562966546, 'clustering_bandwidth': 4.614122989473965, 'detection_threshold': 27.0, 'maa': 1.0, 'probe_event_length': 0.24450613688676504, 'probe_inner_radius': 76.0, 'probe_neighbor_radius': 75.0}\n",
      "# Generating new position and neighbor files from data file                    \n",
      "# Not Masking any Channels                                                     \n",
      "# Sampling rate: 32000                                                         \n",
      "# Localization On                                                              \n",
      "# Number of recorded channels: 30                                              \n",
      "# Analysing frames: 9600000; Seconds: 300.0                                    \n",
      "# Frames before spike in cutout: 6                                             \n",
      "# Frames after spike in cutout: 32                                             \n",
      "# tcuts: 51 77                                                                 \n",
      "# tInc: 1000000                                                                \n",
      "# Analysing frames from -51 to 1000077  (0.0%)                                 \n",
      "# Analysing frames from 999949 to 2000077  (10.4%)                             \n",
      "# Analysing frames from 1999949 to 3000077  (20.8%)                            \n",
      "# Analysing frames from 2999949 to 4000077  (31.2%)                            \n",
      "# Analysing frames from 3999949 to 5000077  (41.7%)                            \n",
      "# Analysing frames from 4999949 to 6000077  (52.1%)                            \n",
      "# Analysing frames from 5999949 to 7000077  (62.5%)                            \n",
      "# Analysing frames from 6999949 to 8000077  (72.9%)                            \n",
      "# Analysing frames from 7999949 to 9000077  (83.3%)                            \n",
      "# Analysing frames from 8999949 to 9600000  (93.8%)                            \n",
      "# Detection completed, time taken: 0:00:15.060124                              \n",
      "# Time per frame: 0:00:00.001569                                               \n",
      "# Time per sample: 0:00:00.000052                                              \n",
      "Loaded 14401 spikes.                                                           \n",
      "Fitting dimensionality reduction using all spikes...                           \n",
      "...projecting...                                                               \n",
      "...done                                                                        \n",
      "Clustering...                                                                  \n",
      "Clustering 14401 spikes...                                                     \n",
      "number of seeds: 310                                                           \n",
      "seeds/job: 13                                                                  \n",
      "using 24 cpus                                                                  \n",
      "  1%|▏         | 1/80 [00:39<30:07, 22.88s/it, best loss: -0.23567855180590497]"
     ]
    },
    {
     "name": "stderr",
     "output_type": "stream",
     "text": [
      "[Parallel(n_jobs=24)]: Using backend LokyBackend with 24 concurrent workers.\n",
      "\n",
      "[Parallel(n_jobs=24)]: Done   3 out of  24 | elapsed:    2.4s remaining:   17.1s\n",
      "\n",
      "[Parallel(n_jobs=24)]: Done  16 out of  24 | elapsed:    2.5s remaining:    1.3s\n",
      "\n"
     ]
    },
    {
     "name": "stdout",
     "output_type": "stream",
     "text": [
      "Number of estimated units:                                                     \n",
      "13                                                                             \n",
      "Saving to                                                                      \n",
      "/disk/scratch/mhennig/spikeinterface/spikeoptimizer-develop/optimization_1/HS2_sorted.hdf5\n",
      "Warning: sampling frequency information not found. Setting delta_frames to 10. \n",
      "  1%|▏         | 1/80 [00:42<30:07, 22.88s/it, best loss: -0.23567855180590497]"
     ]
    },
    {
     "name": "stderr",
     "output_type": "stream",
     "text": [
      "[Parallel(n_jobs=24)]: Done  24 out of  24 | elapsed:    2.7s finished\n",
      "\n"
     ]
    },
    {
     "name": "stdout",
     "output_type": "stream",
     "text": [
      "score:                                                                         \n",
      "-0.3183234883789961                                                            \n",
      "chosen values:                                                                 \n",
      "{'ahpthr': -28.0, 'clustering_alpha': 11.6844020228832, 'clustering_bandwidth': 12.747439253821693, 'detection_threshold': 46.0, 'maa': 7.0, 'probe_event_length': 0.1143373999318051, 'probe_inner_radius': 80.0, 'probe_neighbor_radius': 83.0}\n",
      "Clustering spikes with parameters: {'ahpthr': -28.0, 'clustering_alpha': 11.6844020228832, 'clustering_bandwidth': 12.747439253821693, 'detection_threshold': 46.0, 'maa': 7.0, 'probe_event_length': 0.1143373999318051, 'probe_inner_radius': 80.0, 'probe_neighbor_radius': 83.0}\n",
      "# Generating new position and neighbor files from data file                   \n",
      "# Not Masking any Channels                                                    \n",
      "# Sampling rate: 32000                                                        \n",
      "# Localization On                                                             \n",
      "# Number of recorded channels: 30                                             \n",
      "# Analysing frames: 9600000; Seconds: 300.0                                   \n",
      "# Frames before spike in cutout: 6                                            \n",
      "# Frames after spike in cutout: 32                                            \n",
      "# tcuts: 51 77                                                                \n",
      "# tInc: 1000000                                                               \n",
      "# Analysing frames from -51 to 1000077  (0.0%)                                \n",
      "# Analysing frames from 999949 to 2000077  (10.4%)                            \n",
      "# Analysing frames from 1999949 to 3000077  (20.8%)                           \n",
      "# Analysing frames from 2999949 to 4000077  (31.2%)                           \n",
      "# Analysing frames from 3999949 to 5000077  (41.7%)                           \n",
      "# Analysing frames from 4999949 to 6000077  (52.1%)                           \n",
      "# Analysing frames from 5999949 to 7000077  (62.5%)                           \n",
      "# Analysing frames from 6999949 to 8000077  (72.9%)                           \n",
      "# Analysing frames from 7999949 to 9000077  (83.3%)                           \n",
      "# Analysing frames from 8999949 to 9600000  (93.8%)                           \n",
      "# Detection completed, time taken: 0:00:14.376226                             \n",
      "# Time per frame: 0:00:00.001498                                              \n",
      "# Time per sample: 0:00:00.000050                                             \n",
      "Loaded 0 spikes.                                                              \n",
      "Saving to                                                                     \n",
      "/disk/scratch/mhennig/spikeinterface/spikeoptimizer-develop/optimization_2/HS2_sorted.hdf5\n",
      "sorter found no units                                                         \n",
      "score:                                                                        \n",
      "0                                                                             \n",
      "chosen values:                                                                \n",
      "{'ahpthr': -26.0, 'clustering_alpha': 4.318543896518275, 'clustering_bandwidth': 13.499422523441972, 'detection_threshold': 19.0, 'maa': 1.0, 'probe_event_length': 0.26590355195314463, 'probe_inner_radius': 76.0, 'probe_neighbor_radius': 99.0}\n",
      "Clustering spikes with parameters: {'ahpthr': -26.0, 'clustering_alpha': 4.318543896518275, 'clustering_bandwidth': 13.499422523441972, 'detection_threshold': 19.0, 'maa': 1.0, 'probe_event_length': 0.26590355195314463, 'probe_inner_radius': 76.0, 'probe_neighbor_radius': 99.0}\n",
      "  4%|▍         | 3/80 [01:02<26:47, 20.88s/it, best loss: -0.3183234883789961]"
     ]
    },
    {
     "name": "stderr",
     "output_type": "stream",
     "text": [
      "/disk/scratch/mhennig/miniconda3/envs/spikesorting/lib/python3.7/site-packages/herdingspikes/hs2.py:164: UserWarning: Loading an empty file /disk/scratch/mhennig/spikeinterface/spikeoptimizer-develop/optimization_2/HS2_detected.bin . This usually happens when no spikes weredetected due to the detection parameters being set too strictly\n",
      "  \"strictly\".format(file_name)\n",
      "\n"
     ]
    },
    {
     "name": "stdout",
     "output_type": "stream",
     "text": [
      "# Generating new position and neighbor files from data file                   \n",
      "# Not Masking any Channels                                                    \n",
      "# Sampling rate: 32000                                                        \n",
      "# Localization On                                                             \n",
      "# Number of recorded channels: 30                                             \n",
      "# Analysing frames: 9600000; Seconds: 300.0                                   \n",
      "# Frames before spike in cutout: 6                                            \n",
      "# Frames after spike in cutout: 32                                            \n",
      "# tcuts: 51 77                                                                \n",
      "# tInc: 1000000                                                               \n",
      "# Analysing frames from -51 to 1000077  (0.0%)                                \n",
      "# Analysing frames from 999949 to 2000077  (10.4%)                            \n",
      "# Analysing frames from 1999949 to 3000077  (20.8%)                           \n",
      "# Analysing frames from 2999949 to 4000077  (31.2%)                           \n",
      "# Analysing frames from 3999949 to 5000077  (41.7%)                           \n",
      "# Analysing frames from 4999949 to 6000077  (52.1%)                           \n",
      "# Analysing frames from 5999949 to 7000077  (62.5%)                           \n",
      "# Analysing frames from 6999949 to 8000077  (72.9%)                           \n",
      "# Analysing frames from 7999949 to 9000077  (83.3%)                           \n",
      "# Analysing frames from 8999949 to 9600000  (93.8%)                           \n",
      "# Detection completed, time taken: 0:00:14.453830                             \n",
      "# Time per frame: 0:00:00.001506                                              \n",
      "# Time per sample: 0:00:00.000050                                             \n",
      "Loaded 0 spikes.                                                              \n",
      "Saving to                                                                     \n",
      "/disk/scratch/mhennig/spikeinterface/spikeoptimizer-develop/optimization_3/HS2_sorted.hdf5\n",
      "sorter found no units                                                         \n",
      "score:                                                                        \n",
      "0                                                                             \n",
      "chosen values:                                                                \n",
      "{'ahpthr': 19.0, 'clustering_alpha': 13.996133927899033, 'clustering_bandwidth': 14.991577052356272, 'detection_threshold': 26.0, 'maa': 0.0, 'probe_event_length': 0.15938418774991525, 'probe_inner_radius': 95.0, 'probe_neighbor_radius': 72.0}\n",
      "Clustering spikes with parameters: {'ahpthr': 19.0, 'clustering_alpha': 13.996133927899033, 'clustering_bandwidth': 14.991577052356272, 'detection_threshold': 26.0, 'maa': 0.0, 'probe_event_length': 0.15938418774991525, 'probe_inner_radius': 95.0, 'probe_neighbor_radius': 72.0}\n",
      "  5%|▌         | 4/80 [01:17<24:26, 19.29s/it, best loss: -0.3183234883789961]"
     ]
    },
    {
     "name": "stderr",
     "output_type": "stream",
     "text": [
      "/disk/scratch/mhennig/miniconda3/envs/spikesorting/lib/python3.7/site-packages/herdingspikes/hs2.py:164: UserWarning: Loading an empty file /disk/scratch/mhennig/spikeinterface/spikeoptimizer-develop/optimization_3/HS2_detected.bin . This usually happens when no spikes weredetected due to the detection parameters being set too strictly\n",
      "  \"strictly\".format(file_name)\n",
      "\n"
     ]
    },
    {
     "name": "stdout",
     "output_type": "stream",
     "text": [
      "# Generating new position and neighbor files from data file                   \n",
      "# Not Masking any Channels                                                    \n",
      "# Sampling rate: 32000                                                        \n",
      "# Localization On                                                             \n",
      "# Number of recorded channels: 30                                             \n",
      "# Analysing frames: 9600000; Seconds: 300.0                                   \n",
      "# Frames before spike in cutout: 6                                            \n",
      "# Frames after spike in cutout: 32                                            \n",
      "# tcuts: 51 77                                                                \n",
      "# tInc: 1000000                                                               \n",
      "# Analysing frames from -51 to 1000077  (0.0%)                                \n",
      "# Analysing frames from 999949 to 2000077  (10.4%)                            \n",
      "# Analysing frames from 1999949 to 3000077  (20.8%)                           \n",
      "# Analysing frames from 2999949 to 4000077  (31.2%)                           \n",
      "# Analysing frames from 3999949 to 5000077  (41.7%)                           \n",
      "# Analysing frames from 4999949 to 6000077  (52.1%)                           \n",
      "# Analysing frames from 5999949 to 7000077  (62.5%)                           \n",
      "# Analysing frames from 6999949 to 8000077  (72.9%)                           \n",
      "# Analysing frames from 7999949 to 9000077  (83.3%)                           \n",
      "# Analysing frames from 8999949 to 9600000  (93.8%)                           \n",
      "# Detection completed, time taken: 0:00:15.110584                             \n",
      "# Time per frame: 0:00:00.001574                                              \n",
      "# Time per sample: 0:00:00.000052                                             \n",
      "Loaded 15650 spikes.                                                          \n",
      "Fitting dimensionality reduction using all spikes...                          \n",
      "...projecting...                                                              \n",
      "...done                                                                       \n",
      "Clustering...                                                                 \n",
      "Clustering 15650 spikes...                                                    \n",
      "number of seeds: 135                                                          \n",
      "seeds/job: 6                                                                  \n",
      "using 24 cpus                                                                 \n",
      "  5%|▌         | 4/80 [01:34<24:26, 19.29s/it, best loss: -0.3183234883789961]"
     ]
    },
    {
     "name": "stderr",
     "output_type": "stream",
     "text": [
      "[Parallel(n_jobs=24)]: Using backend LokyBackend with 24 concurrent workers.\n",
      "\n",
      "[Parallel(n_jobs=24)]: Done   3 out of  24 | elapsed:    2.4s remaining:   16.8s\n",
      "\n",
      "[Parallel(n_jobs=24)]: Done  16 out of  24 | elapsed:    2.5s remaining:    1.3s\n",
      "\n"
     ]
    },
    {
     "name": "stdout",
     "output_type": "stream",
     "text": [
      "Number of estimated units:                                                    \n",
      "11                                                                            \n",
      "Saving to                                                                     \n",
      "/disk/scratch/mhennig/spikeinterface/spikeoptimizer-develop/optimization_4/HS2_sorted.hdf5\n",
      "Warning: sampling frequency information not found. Setting delta_frames to 10.\n",
      "  5%|▌         | 4/80 [01:37<24:26, 19.29s/it, best loss: -0.3183234883789961]"
     ]
    },
    {
     "name": "stderr",
     "output_type": "stream",
     "text": [
      "[Parallel(n_jobs=24)]: Done  24 out of  24 | elapsed:    2.7s finished\n",
      "\n"
     ]
    },
    {
     "name": "stdout",
     "output_type": "stream",
     "text": [
      "score:                                                                        \n",
      "-0.25118112518477725                                                          \n",
      "chosen values:                                                                \n",
      "{'ahpthr': -22.0, 'clustering_alpha': 10.84015576782199, 'clustering_bandwidth': 10.820012548399408, 'detection_threshold': 36.0, 'maa': 6.0, 'probe_event_length': 0.29487772704749105, 'probe_inner_radius': 62.0, 'probe_neighbor_radius': 101.0}\n",
      "Clustering spikes with parameters: {'ahpthr': -22.0, 'clustering_alpha': 10.84015576782199, 'clustering_bandwidth': 10.820012548399408, 'detection_threshold': 36.0, 'maa': 6.0, 'probe_event_length': 0.29487772704749105, 'probe_inner_radius': 62.0, 'probe_neighbor_radius': 101.0}\n",
      "# Generating new position and neighbor files from data file                   \n",
      "# Not Masking any Channels                                                    \n",
      "# Sampling rate: 32000                                                        \n",
      "# Localization On                                                             \n",
      "# Number of recorded channels: 30                                             \n",
      "# Analysing frames: 9600000; Seconds: 300.0                                   \n",
      "# Frames before spike in cutout: 6                                            \n",
      "# Frames after spike in cutout: 32                                            \n",
      "# tcuts: 51 77                                                                \n",
      "# tInc: 1000000                                                               \n",
      "# Analysing frames from -51 to 1000077  (0.0%)                                \n",
      "# Analysing frames from 999949 to 2000077  (10.4%)                            \n",
      "# Analysing frames from 1999949 to 3000077  (20.8%)                           \n",
      "# Analysing frames from 2999949 to 4000077  (31.2%)                           \n",
      "# Analysing frames from 3999949 to 5000077  (41.7%)                           \n",
      "# Analysing frames from 4999949 to 6000077  (52.1%)                           \n",
      "# Analysing frames from 5999949 to 7000077  (62.5%)                           \n",
      "# Analysing frames from 6999949 to 8000077  (72.9%)                           \n",
      "# Analysing frames from 7999949 to 9000077  (83.3%)                           \n",
      "# Analysing frames from 8999949 to 9600000  (93.8%)                           \n",
      "# Detection completed, time taken: 0:00:14.306182                             \n",
      "# Time per frame: 0:00:00.001490                                              \n",
      "# Time per sample: 0:00:00.000050                                             \n",
      "Loaded 2 spikes.                                                              \n",
      "Fitting dimensionality reduction using all spikes...                          \n",
      "...projecting...                                                              \n",
      "...done                                                                       \n",
      "Clustering...                                                                 \n",
      "Clustering 2 spikes...                                                        \n",
      "number of seeds: 0                                                            \n",
      "seeds/job: 1                                                                  \n",
      "using 24 cpus                                                                 \n",
      "  6%|▋         | 5/80 [01:57<25:56, 20.76s/it, best loss: -0.3183234883789961]"
     ]
    },
    {
     "name": "stderr",
     "output_type": "stream",
     "text": [
      "[Parallel(n_jobs=24)]: Using backend LokyBackend with 24 concurrent workers.\n",
      "\n",
      "[Parallel(n_jobs=24)]: Done   3 out of  24 | elapsed:    2.4s remaining:   16.7s\n",
      "\n",
      "[Parallel(n_jobs=24)]: Done  16 out of  24 | elapsed:    2.5s remaining:    1.3s\n",
      "\n"
     ]
    },
    {
     "name": "stdout",
     "output_type": "stream",
     "text": [
      "sorter failed for these parameters                                            \n",
      "chosen values:                                                                \n",
      "{'ahpthr': -8.0, 'clustering_alpha': 7.365608504655338, 'clustering_bandwidth': 9.4414453194382, 'detection_threshold': 29.0, 'maa': 10.0, 'probe_event_length': 0.163807764898461, 'probe_inner_radius': 99.0, 'probe_neighbor_radius': 94.0}\n",
      "Clustering spikes with parameters: {'ahpthr': -8.0, 'clustering_alpha': 7.365608504655338, 'clustering_bandwidth': 9.4414453194382, 'detection_threshold': 29.0, 'maa': 10.0, 'probe_event_length': 0.163807764898461, 'probe_inner_radius': 99.0, 'probe_neighbor_radius': 94.0}\n",
      "  8%|▊         | 6/80 [02:00<24:47, 20.11s/it, best loss: -0.3183234883789961]"
     ]
    },
    {
     "name": "stderr",
     "output_type": "stream",
     "text": [
      "[Parallel(n_jobs=24)]: Done  24 out of  24 | elapsed:    2.6s finished\n",
      "\n"
     ]
    },
    {
     "name": "stdout",
     "output_type": "stream",
     "text": [
      "# Generating new position and neighbor files from data file                   \n",
      "# Not Masking any Channels                                                    \n",
      "# Sampling rate: 32000                                                        \n",
      "# Localization On                                                             \n",
      "# Number of recorded channels: 30                                             \n",
      "# Analysing frames: 9600000; Seconds: 300.0                                   \n",
      "# Frames before spike in cutout: 6                                            \n",
      "# Frames after spike in cutout: 32                                            \n",
      "# tcuts: 51 77                                                                \n",
      "# tInc: 1000000                                                               \n",
      "# Analysing frames from -51 to 1000077  (0.0%)                                \n",
      "# Analysing frames from 999949 to 2000077  (10.4%)                            \n",
      "# Analysing frames from 1999949 to 3000077  (20.8%)                           \n",
      "# Analysing frames from 2999949 to 4000077  (31.2%)                           \n",
      "# Analysing frames from 3999949 to 5000077  (41.7%)                           \n",
      "# Analysing frames from 4999949 to 6000077  (52.1%)                           \n",
      "# Analysing frames from 5999949 to 7000077  (62.5%)                           \n",
      "# Analysing frames from 6999949 to 8000077  (72.9%)                           \n",
      "# Analysing frames from 7999949 to 9000077  (83.3%)                           \n",
      "# Analysing frames from 8999949 to 9600000  (93.8%)                           \n",
      "# Detection completed, time taken: 0:00:14.681262                             \n",
      "# Time per frame: 0:00:00.001529                                              \n",
      "# Time per sample: 0:00:00.000051                                             \n",
      "Loaded 6569 spikes.                                                           \n",
      "Fitting dimensionality reduction using all spikes...                          \n",
      "...projecting...                                                              \n",
      "...done                                                                       \n",
      "Clustering...                                                                 \n",
      "Clustering 6569 spikes...                                                     \n",
      "number of seeds: 78                                                           \n",
      "seeds/job: 4                                                                  \n",
      "using 24 cpus                                                                 \n",
      "Number of estimated units:                                                    \n",
      "9                                                                             \n",
      "Saving to                                                                     \n",
      "/disk/scratch/mhennig/spikeinterface/spikeoptimizer-develop/optimization_6/HS2_sorted.hdf5\n",
      "Warning: sampling frequency information not found. Setting delta_frames to 10.\n",
      "  8%|▊         | 6/80 [02:16<24:47, 20.11s/it, best loss: -0.3183234883789961]"
     ]
    },
    {
     "name": "stderr",
     "output_type": "stream",
     "text": [
      "[Parallel(n_jobs=24)]: Using backend LokyBackend with 24 concurrent workers.\n",
      "\n",
      "[Parallel(n_jobs=24)]: Done   3 out of  24 | elapsed:    0.0s remaining:    0.3s\n",
      "\n",
      "[Parallel(n_jobs=24)]: Done  16 out of  24 | elapsed:    0.1s remaining:    0.0s\n",
      "\n",
      "[Parallel(n_jobs=24)]: Done  24 out of  24 | elapsed:    0.1s finished\n",
      "\n"
     ]
    },
    {
     "name": "stdout",
     "output_type": "stream",
     "text": [
      "score:                                                                        \n",
      "-0.14276298049555083                                                          \n",
      "chosen values:                                                                \n",
      "{'ahpthr': 3.0, 'clustering_alpha': 7.404208448276983, 'clustering_bandwidth': 5.245715822223604, 'detection_threshold': 41.0, 'maa': 0.0, 'probe_event_length': 0.28927071211799127, 'probe_inner_radius': 93.0, 'probe_neighbor_radius': 74.0}\n",
      "Clustering spikes with parameters: {'ahpthr': 3.0, 'clustering_alpha': 7.404208448276983, 'clustering_bandwidth': 5.245715822223604, 'detection_threshold': 41.0, 'maa': 0.0, 'probe_event_length': 0.28927071211799127, 'probe_inner_radius': 93.0, 'probe_neighbor_radius': 74.0}\n",
      "# Generating new position and neighbor files from data file                   \n",
      "# Not Masking any Channels                                                    \n",
      "# Sampling rate: 32000                                                        \n",
      "# Localization On                                                             \n",
      "# Number of recorded channels: 30                                             \n",
      "# Analysing frames: 9600000; Seconds: 300.0                                   \n",
      "# Frames before spike in cutout: 6                                            \n",
      "# Frames after spike in cutout: 32                                            \n",
      "# tcuts: 51 77                                                                \n",
      "# tInc: 1000000                                                               \n",
      "# Analysing frames from -51 to 1000077  (0.0%)                                \n",
      "# Analysing frames from 999949 to 2000077  (10.4%)                            \n",
      "# Analysing frames from 1999949 to 3000077  (20.8%)                           \n",
      "# Analysing frames from 2999949 to 4000077  (31.2%)                           \n",
      "# Analysing frames from 3999949 to 5000077  (41.7%)                           \n",
      "# Analysing frames from 4999949 to 6000077  (52.1%)                           \n",
      "# Analysing frames from 5999949 to 7000077  (62.5%)                           \n",
      "# Analysing frames from 6999949 to 8000077  (72.9%)                           \n",
      "# Analysing frames from 7999949 to 9000077  (83.3%)                           \n",
      "# Analysing frames from 8999949 to 9600000  (93.8%)                           \n",
      "# Detection completed, time taken: 0:00:14.667356                             \n",
      "# Time per frame: 0:00:00.001528                                              \n",
      "# Time per sample: 0:00:00.000051                                             \n",
      "Loaded 6645 spikes.                                                           \n",
      "Fitting dimensionality reduction using all spikes...                          \n",
      "...projecting...                                                              \n",
      "...done                                                                       \n",
      "Clustering...                                                                 \n",
      "Clustering 6645 spikes...                                                     \n",
      "number of seeds: 115                                                          \n",
      "seeds/job: 5                                                                  \n",
      "using 24 cpus                                                                 \n",
      "  9%|▉         | 7/80 [02:37<24:38, 20.25s/it, best loss: -0.3183234883789961]"
     ]
    },
    {
     "name": "stderr",
     "output_type": "stream",
     "text": [
      "[Parallel(n_jobs=24)]: Using backend LokyBackend with 24 concurrent workers.\n",
      "\n"
     ]
    },
    {
     "name": "stdout",
     "output_type": "stream",
     "text": [
      "Number of estimated units:                                                    \n",
      "                                                                              \r"
     ]
    },
    {
     "name": "stderr",
     "output_type": "stream",
     "text": [
      "[Parallel(n_jobs=24)]: Done   3 out of  24 | elapsed:    2.6s remaining:   18.0s\n",
      "\n",
      "[Parallel(n_jobs=24)]: Done  16 out of  24 | elapsed:    2.7s remaining:    1.3s\n",
      "\n",
      "[Parallel(n_jobs=24)]: Done  24 out of  24 | elapsed:    2.8s finished\n",
      "\n"
     ]
    },
    {
     "name": "stdout",
     "output_type": "stream",
     "text": [
      "6\n",
      "Saving to                                                                     \n",
      "/disk/scratch/mhennig/spikeinterface/spikeoptimizer-develop/optimization_7/HS2_sorted.hdf5\n",
      "Warning: sampling frequency information not found. Setting delta_frames to 10.\n",
      "score:                                                                        \n",
      "-0.18606752401891397                                                          \n",
      "chosen values:                                                                \n",
      "{'ahpthr': -26.0, 'clustering_alpha': 3.3621155771676845, 'clustering_bandwidth': 9.153499259152863, 'detection_threshold': 23.0, 'maa': 5.0, 'probe_event_length': 0.13840688906348456, 'probe_inner_radius': 87.0, 'probe_neighbor_radius': 93.0}\n",
      "Clustering spikes with parameters: {'ahpthr': -26.0, 'clustering_alpha': 3.3621155771676845, 'clustering_bandwidth': 9.153499259152863, 'detection_threshold': 23.0, 'maa': 5.0, 'probe_event_length': 0.13840688906348456, 'probe_inner_radius': 87.0, 'probe_neighbor_radius': 93.0}\n",
      "# Generating new position and neighbor files from data file                   \n",
      "# Not Masking any Channels                                                    \n",
      "# Sampling rate: 32000                                                        \n",
      "# Localization On                                                             \n",
      "# Number of recorded channels: 30                                             \n",
      "# Analysing frames: 9600000; Seconds: 300.0                                   \n",
      "# Frames before spike in cutout: 6                                            \n",
      "# Frames after spike in cutout: 32                                            \n",
      "# tcuts: 51 77                                                                \n",
      "# tInc: 1000000                                                               \n",
      "# Analysing frames from -51 to 1000077  (0.0%)                                \n",
      "# Analysing frames from 999949 to 2000077  (10.4%)                            \n",
      "# Analysing frames from 1999949 to 3000077  (20.8%)                           \n",
      "# Analysing frames from 2999949 to 4000077  (31.2%)                           \n",
      "# Analysing frames from 3999949 to 5000077  (41.7%)                           \n",
      "# Analysing frames from 4999949 to 6000077  (52.1%)                           \n",
      "# Analysing frames from 5999949 to 7000077  (62.5%)                           \n",
      "# Analysing frames from 6999949 to 8000077  (72.9%)                           \n",
      "# Analysing frames from 7999949 to 9000077  (83.3%)                           \n",
      "# Analysing frames from 8999949 to 9600000  (93.8%)                           \n",
      "# Detection completed, time taken: 0:00:14.573521                             \n",
      "# Time per frame: 0:00:00.001518                                              \n",
      "# Time per sample: 0:00:00.000051                                             \n",
      "Loaded 0 spikes.                                                              \n",
      "Saving to                                                                     \n",
      "/disk/scratch/mhennig/spikeinterface/spikeoptimizer-develop/optimization_8/HS2_sorted.hdf5\n",
      "sorter found no units                                                         \n",
      "score:                                                                        \n",
      "0                                                                             \n",
      "chosen values:                                                                \n",
      "{'ahpthr': -26.0, 'clustering_alpha': 9.864723512583097, 'clustering_bandwidth': 4.528053566057807, 'detection_threshold': 19.0, 'maa': 1.0, 'probe_event_length': 0.19996516558208763, 'probe_inner_radius': 63.0, 'probe_neighbor_radius': 78.0}\n",
      "Clustering spikes with parameters: {'ahpthr': -26.0, 'clustering_alpha': 9.864723512583097, 'clustering_bandwidth': 4.528053566057807, 'detection_threshold': 19.0, 'maa': 1.0, 'probe_event_length': 0.19996516558208763, 'probe_inner_radius': 63.0, 'probe_neighbor_radius': 78.0}\n",
      " 11%|█▏        | 9/80 [03:00<23:15, 19.66s/it, best loss: -0.3183234883789961]"
     ]
    },
    {
     "name": "stderr",
     "output_type": "stream",
     "text": [
      "/disk/scratch/mhennig/miniconda3/envs/spikesorting/lib/python3.7/site-packages/herdingspikes/hs2.py:164: UserWarning: Loading an empty file /disk/scratch/mhennig/spikeinterface/spikeoptimizer-develop/optimization_8/HS2_detected.bin . This usually happens when no spikes weredetected due to the detection parameters being set too strictly\n",
      "  \"strictly\".format(file_name)\n",
      "\n"
     ]
    },
    {
     "name": "stdout",
     "output_type": "stream",
     "text": [
      "# Generating new position and neighbor files from data file                   \n",
      "# Not Masking any Channels                                                    \n",
      "# Sampling rate: 32000                                                        \n",
      "# Localization On                                                             \n",
      "# Number of recorded channels: 30                                             \n",
      "# Analysing frames: 9600000; Seconds: 300.0                                   \n",
      "# Frames before spike in cutout: 6                                            \n",
      "# Frames after spike in cutout: 32                                            \n",
      "# tcuts: 51 77                                                                \n",
      "# tInc: 1000000                                                               \n",
      "# Analysing frames from -51 to 1000077  (0.0%)                                \n",
      "# Analysing frames from 999949 to 2000077  (10.4%)                            \n",
      "# Analysing frames from 1999949 to 3000077  (20.8%)                           \n",
      "# Analysing frames from 2999949 to 4000077  (31.2%)                           \n",
      "# Analysing frames from 3999949 to 5000077  (41.7%)                           \n",
      "# Analysing frames from 4999949 to 6000077  (52.1%)                           \n",
      "# Analysing frames from 5999949 to 7000077  (62.5%)                           \n",
      "# Analysing frames from 6999949 to 8000077  (72.9%)                           \n",
      "# Analysing frames from 7999949 to 9000077  (83.3%)                           \n",
      "# Analysing frames from 8999949 to 9600000  (93.8%)                           \n",
      "# Detection completed, time taken: 0:00:14.850003                             \n",
      "# Time per frame: 0:00:00.001547                                              \n",
      "# Time per sample: 0:00:00.000052                                             \n",
      "Loaded 0 spikes.                                                              \n",
      "Saving to                                                                     \n",
      "/disk/scratch/mhennig/spikeinterface/spikeoptimizer-develop/optimization_9/HS2_sorted.hdf5\n",
      "sorter found no units                                                         \n",
      "score:                                                                        \n",
      "0                                                                             \n",
      "chosen values:                                                                 \n",
      "{'ahpthr': 1.0, 'clustering_alpha': 7.330218951729095, 'clustering_bandwidth': 8.555024889547088, 'detection_threshold': 40.0, 'maa': 5.0, 'probe_event_length': 0.24783416478721046, 'probe_inner_radius': 78.0, 'probe_neighbor_radius': 105.0}\n",
      "Clustering spikes with parameters: {'ahpthr': 1.0, 'clustering_alpha': 7.330218951729095, 'clustering_bandwidth': 8.555024889547088, 'detection_threshold': 40.0, 'maa': 5.0, 'probe_event_length': 0.24783416478721046, 'probe_inner_radius': 78.0, 'probe_neighbor_radius': 105.0}\n",
      " 12%|█▎        | 10/80 [03:16<21:35, 18.50s/it, best loss: -0.3183234883789961]"
     ]
    },
    {
     "name": "stderr",
     "output_type": "stream",
     "text": [
      "/disk/scratch/mhennig/miniconda3/envs/spikesorting/lib/python3.7/site-packages/herdingspikes/hs2.py:164: UserWarning: Loading an empty file /disk/scratch/mhennig/spikeinterface/spikeoptimizer-develop/optimization_9/HS2_detected.bin . This usually happens when no spikes weredetected due to the detection parameters being set too strictly\n",
      "  \"strictly\".format(file_name)\n",
      "\n"
     ]
    },
    {
     "name": "stdout",
     "output_type": "stream",
     "text": [
      "# Generating new position and neighbor files from data file                    \n",
      "# Not Masking any Channels                                                     \n",
      "# Sampling rate: 32000                                                         \n",
      "# Localization On                                                              \n",
      "# Number of recorded channels: 30                                              \n",
      "# Analysing frames: 9600000; Seconds: 300.0                                    \n",
      "# Frames before spike in cutout: 6                                             \n",
      "# Frames after spike in cutout: 32                                             \n",
      "# tcuts: 51 77                                                                 \n",
      "# tInc: 1000000                                                                \n",
      "# Analysing frames from -51 to 1000077  (0.0%)                                 \n",
      "# Analysing frames from 999949 to 2000077  (10.4%)                             \n",
      "# Analysing frames from 1999949 to 3000077  (20.8%)                            \n",
      "# Analysing frames from 2999949 to 4000077  (31.2%)                            \n",
      "# Analysing frames from 3999949 to 5000077  (41.7%)                            \n",
      "# Analysing frames from 4999949 to 6000077  (52.1%)                            \n",
      "# Analysing frames from 5999949 to 7000077  (62.5%)                            \n",
      "# Analysing frames from 6999949 to 8000077  (72.9%)                            \n",
      "# Analysing frames from 7999949 to 9000077  (83.3%)                            \n",
      "# Analysing frames from 8999949 to 9600000  (93.8%)                            \n",
      "# Detection completed, time taken: 0:00:14.572324                              \n",
      "# Time per frame: 0:00:00.001518                                               \n",
      "# Time per sample: 0:00:00.000051                                              \n",
      "Loaded 7088 spikes.                                                            \n",
      "Fitting dimensionality reduction using all spikes...                           \n",
      "...projecting...                                                               \n",
      "...done                                                                        \n",
      "Clustering...                                                                  \n",
      "Clustering 7088 spikes...                                                      \n",
      "number of seeds: 82                                                            \n",
      "seeds/job: 4                                                                   \n",
      "using 24 cpus                                                                  \n",
      " 12%|█▎        | 10/80 [03:32<21:35, 18.50s/it, best loss: -0.3183234883789961]"
     ]
    },
    {
     "name": "stderr",
     "output_type": "stream",
     "text": [
      "[Parallel(n_jobs=24)]: Using backend LokyBackend with 24 concurrent workers.\n",
      "\n",
      "[Parallel(n_jobs=24)]: Done   3 out of  24 | elapsed:    2.6s remaining:   18.4s\n",
      "\n",
      "[Parallel(n_jobs=24)]: Done  16 out of  24 | elapsed:    2.7s remaining:    1.4s\n",
      "\n"
     ]
    },
    {
     "name": "stdout",
     "output_type": "stream",
     "text": [
      "Number of estimated units:                                                     \n",
      "7                                                                              \n",
      "Saving to                                                                      \n",
      "/disk/scratch/mhennig/spikeinterface/spikeoptimizer-develop/optimization_10/HS2_sorted.hdf5\n",
      "Warning: sampling frequency information not found. Setting delta_frames to 10. \n",
      " 12%|█▎        | 10/80 [03:36<21:35, 18.50s/it, best loss: -0.3183234883789961]"
     ]
    },
    {
     "name": "stderr",
     "output_type": "stream",
     "text": [
      "[Parallel(n_jobs=24)]: Done  24 out of  24 | elapsed:    2.8s finished\n",
      "\n"
     ]
    },
    {
     "name": "stdout",
     "output_type": "stream",
     "text": [
      "score:                                                                         \n",
      "-0.1907255273690229                                                            \n",
      "chosen values:                                                                 \n",
      "{'ahpthr': 11.0, 'clustering_alpha': 8.23540568592734, 'clustering_bandwidth': 12.072723864772044, 'detection_threshold': 32.0, 'maa': 2.0, 'probe_event_length': 0.2701824579695975, 'probe_inner_radius': 81.0, 'probe_neighbor_radius': 105.0}\n",
      "Clustering spikes with parameters: {'ahpthr': 11.0, 'clustering_alpha': 8.23540568592734, 'clustering_bandwidth': 12.072723864772044, 'detection_threshold': 32.0, 'maa': 2.0, 'probe_event_length': 0.2701824579695975, 'probe_inner_radius': 81.0, 'probe_neighbor_radius': 105.0}\n",
      "# Generating new position and neighbor files from data file                    \n",
      "# Not Masking any Channels                                                     \n",
      "# Sampling rate: 32000                                                         \n",
      "# Localization On                                                              \n",
      "# Number of recorded channels: 30                                              \n",
      "# Analysing frames: 9600000; Seconds: 300.0                                    \n",
      "# Frames before spike in cutout: 6                                             \n",
      "# Frames after spike in cutout: 32                                             \n",
      "# tcuts: 51 77                                                                 \n",
      "# tInc: 1000000                                                                \n",
      "# Analysing frames from -51 to 1000077  (0.0%)                                 \n",
      "# Analysing frames from 999949 to 2000077  (10.4%)                             \n",
      "# Analysing frames from 1999949 to 3000077  (20.8%)                            \n",
      "# Analysing frames from 2999949 to 4000077  (31.2%)                            \n",
      "# Analysing frames from 3999949 to 5000077  (41.7%)                            \n",
      "# Analysing frames from 4999949 to 6000077  (52.1%)                            \n",
      "# Analysing frames from 5999949 to 7000077  (62.5%)                            \n",
      "# Analysing frames from 6999949 to 8000077  (72.9%)                            \n",
      "# Analysing frames from 7999949 to 9000077  (83.3%)                            \n",
      "# Analysing frames from 8999949 to 9600000  (93.8%)                            \n",
      "# Detection completed, time taken: 0:00:14.673994                              \n",
      "# Time per frame: 0:00:00.001529                                               \n",
      "# Time per sample: 0:00:00.000051                                              \n",
      "Loaded 10866 spikes.                                                           \n",
      "Fitting dimensionality reduction using all spikes...                           \n",
      "...projecting...                                                               \n",
      "...done                                                                        \n",
      "Clustering...                                                                  \n",
      "Clustering 10866 spikes...                                                     \n",
      "number of seeds: 86                                                            \n",
      "seeds/job: 4                                                                   \n",
      "using 24 cpus                                                                  \n",
      " 14%|█▍        | 11/80 [03:56<23:01, 20.03s/it, best loss: -0.3183234883789961]"
     ]
    },
    {
     "name": "stderr",
     "output_type": "stream",
     "text": [
      "[Parallel(n_jobs=24)]: Using backend LokyBackend with 24 concurrent workers.\n",
      "\n",
      "[Parallel(n_jobs=24)]: Done   3 out of  24 | elapsed:    2.6s remaining:   17.9s\n",
      "\n",
      "[Parallel(n_jobs=24)]: Done  16 out of  24 | elapsed:    2.7s remaining:    1.3s\n",
      "\n"
     ]
    },
    {
     "name": "stdout",
     "output_type": "stream",
     "text": [
      "Number of estimated units:                                                     \n",
      "9                                                                              \n",
      "Saving to                                                                      \n",
      "/disk/scratch/mhennig/spikeinterface/spikeoptimizer-develop/optimization_11/HS2_sorted.hdf5\n",
      "Warning: sampling frequency information not found. Setting delta_frames to 10. \n",
      " 14%|█▍        | 11/80 [03:59<23:01, 20.03s/it, best loss: -0.3183234883789961]"
     ]
    },
    {
     "name": "stderr",
     "output_type": "stream",
     "text": [
      "[Parallel(n_jobs=24)]: Done  24 out of  24 | elapsed:    2.8s finished\n",
      "\n"
     ]
    },
    {
     "name": "stdout",
     "output_type": "stream",
     "text": [
      "score:                                                                         \n",
      "-0.2683438766288663                                                            \n",
      "chosen values:                                                                 \n",
      "{'ahpthr': -15.0, 'clustering_alpha': 7.2682958987512665, 'clustering_bandwidth': 6.83018720347297, 'detection_threshold': 43.0, 'maa': 7.0, 'probe_event_length': 0.1966304699153408, 'probe_inner_radius': 76.0, 'probe_neighbor_radius': 100.0}\n",
      "Clustering spikes with parameters: {'ahpthr': -15.0, 'clustering_alpha': 7.2682958987512665, 'clustering_bandwidth': 6.83018720347297, 'detection_threshold': 43.0, 'maa': 7.0, 'probe_event_length': 0.1966304699153408, 'probe_inner_radius': 76.0, 'probe_neighbor_radius': 100.0}\n",
      "# Generating new position and neighbor files from data file                    \n",
      "# Not Masking any Channels                                                     \n",
      "# Sampling rate: 32000                                                         \n",
      "# Localization On                                                              \n",
      "# Number of recorded channels: 30                                              \n",
      "# Analysing frames: 9600000; Seconds: 300.0                                    \n",
      "# Frames before spike in cutout: 6                                             \n",
      "# Frames after spike in cutout: 32                                             \n",
      "# tcuts: 51 77                                                                 \n",
      "# tInc: 1000000                                                                \n",
      "# Analysing frames from -51 to 1000077  (0.0%)                                 \n",
      "# Analysing frames from 999949 to 2000077  (10.4%)                             \n",
      "# Analysing frames from 1999949 to 3000077  (20.8%)                            \n",
      "# Analysing frames from 2999949 to 4000077  (31.2%)                            \n",
      "# Analysing frames from 3999949 to 5000077  (41.7%)                            \n",
      "# Analysing frames from 4999949 to 6000077  (52.1%)                            \n",
      "# Analysing frames from 5999949 to 7000077  (62.5%)                            \n",
      "# Analysing frames from 6999949 to 8000077  (72.9%)                            \n",
      "# Analysing frames from 7999949 to 9000077  (83.3%)                            \n",
      "# Analysing frames from 8999949 to 9600000  (93.8%)                            \n",
      "# Detection completed, time taken: 0:00:14.865985                              \n",
      "# Time per frame: 0:00:00.001549                                               \n",
      "# Time per sample: 0:00:00.000052                                              \n",
      "Loaded 113 spikes.                                                             \n",
      "Fitting dimensionality reduction using all spikes...                           \n",
      "...projecting...                                                               \n",
      "...done                                                                        \n",
      "Clustering...                                                                  \n",
      "Clustering 113 spikes...                                                       \n",
      "number of seeds: 2                                                             \n",
      "seeds/job: 1                                                                   \n",
      "using 24 cpus                                                                  \n",
      " 15%|█▌        | 12/80 [04:19<23:57, 21.14s/it, best loss: -0.3183234883789961]"
     ]
    },
    {
     "name": "stderr",
     "output_type": "stream",
     "text": [
      "[Parallel(n_jobs=24)]: Using backend LokyBackend with 24 concurrent workers.\n",
      "\n",
      "[Parallel(n_jobs=24)]: Done   3 out of  24 | elapsed:    2.6s remaining:   18.0s\n",
      "\n",
      "[Parallel(n_jobs=24)]: Done  16 out of  24 | elapsed:    2.7s remaining:    1.3s\n",
      "\n"
     ]
    },
    {
     "name": "stdout",
     "output_type": "stream",
     "text": [
      "Number of estimated units:                                                     \n",
      "1                                                                              \n",
      "Saving to                                                                      \n",
      "/disk/scratch/mhennig/spikeinterface/spikeoptimizer-develop/optimization_12/HS2_sorted.hdf5\n",
      "Warning: sampling frequency information not found. Setting delta_frames to 10. \n",
      " 15%|█▌        | 12/80 [04:23<23:57, 21.14s/it, best loss: -0.3183234883789961]"
     ]
    },
    {
     "name": "stderr",
     "output_type": "stream",
     "text": [
      "[Parallel(n_jobs=24)]: Done  24 out of  24 | elapsed:    2.8s finished\n",
      "\n"
     ]
    },
    {
     "name": "stdout",
     "output_type": "stream",
     "text": [
      "score:                                                                         \n",
      "-0.0                                                                           \n",
      "chosen values:                                                                 \n",
      "{'ahpthr': -8.0, 'clustering_alpha': 9.437276898940716, 'clustering_bandwidth': 3.758880318986109, 'detection_threshold': 24.0, 'maa': 2.0, 'probe_event_length': 0.2995241353337791, 'probe_inner_radius': 87.0, 'probe_neighbor_radius': 92.0}\n",
      "Clustering spikes with parameters: {'ahpthr': -8.0, 'clustering_alpha': 9.437276898940716, 'clustering_bandwidth': 3.758880318986109, 'detection_threshold': 24.0, 'maa': 2.0, 'probe_event_length': 0.2995241353337791, 'probe_inner_radius': 87.0, 'probe_neighbor_radius': 92.0}\n",
      " 16%|█▋        | 13/80 [04:27<24:30, 21.95s/it, best loss: -0.3183234883789961]"
     ]
    },
    {
     "name": "stderr",
     "output_type": "stream",
     "text": [
      "/disk/scratch/mhennig/miniconda3/envs/spikesorting/lib/python3.7/site-packages/spiketoolkit/comparison/groundtruthcomparison.py:333: RuntimeWarning: invalid value encountered in long_scalars\n",
      "  perf['precision'] = tp / (tp + fp)\n",
      "\n",
      "/disk/scratch/mhennig/miniconda3/envs/spikesorting/lib/python3.7/site-packages/spiketoolkit/comparison/groundtruthcomparison.py:334: RuntimeWarning: invalid value encountered in long_scalars\n",
      "  perf['false_discovery_rate'] = fp / (tp + fp)\n",
      "\n"
     ]
    },
    {
     "name": "stdout",
     "output_type": "stream",
     "text": [
      "# Generating new position and neighbor files from data file                    \n",
      "# Not Masking any Channels                                                     \n",
      "# Sampling rate: 32000                                                         \n",
      "# Localization On                                                              \n",
      "# Number of recorded channels: 30                                              \n",
      "# Analysing frames: 9600000; Seconds: 300.0                                    \n",
      "# Frames before spike in cutout: 6                                             \n",
      "# Frames after spike in cutout: 32                                             \n",
      "# tcuts: 51 77                                                                 \n",
      "# tInc: 1000000                                                                \n",
      "# Analysing frames from -51 to 1000077  (0.0%)                                 \n",
      "# Analysing frames from 999949 to 2000077  (10.4%)                             \n",
      "# Analysing frames from 1999949 to 3000077  (20.8%)                            \n",
      "# Analysing frames from 2999949 to 4000077  (31.2%)                            \n",
      "# Analysing frames from 3999949 to 5000077  (41.7%)                            \n",
      "# Analysing frames from 4999949 to 6000077  (52.1%)                            \n",
      "# Analysing frames from 5999949 to 7000077  (62.5%)                            \n",
      "# Analysing frames from 6999949 to 8000077  (72.9%)                            \n",
      "# Analysing frames from 7999949 to 9000077  (83.3%)                            \n",
      "# Analysing frames from 8999949 to 9600000  (93.8%)                            \n",
      "# Detection completed, time taken: 0:00:14.505359                              \n",
      "# Time per frame: 0:00:00.001511                                               \n",
      "# Time per sample: 0:00:00.000050                                              \n",
      "Loaded 7162 spikes.                                                            \n",
      "Fitting dimensionality reduction using all spikes...                           \n",
      "...projecting...                                                               \n",
      "...done                                                                        \n",
      "Clustering...                                                                  \n",
      "Clustering 7162 spikes...                                                      \n",
      "number of seeds: 179                                                           \n",
      "seeds/job: 8                                                                   \n",
      "using 24 cpus                                                                  \n",
      " 16%|█▋        | 13/80 [04:43<24:30, 21.95s/it, best loss: -0.3183234883789961]"
     ]
    },
    {
     "name": "stderr",
     "output_type": "stream",
     "text": [
      "[Parallel(n_jobs=24)]: Using backend LokyBackend with 24 concurrent workers.\n",
      "\n",
      "[Parallel(n_jobs=24)]: Done   3 out of  24 | elapsed:    2.7s remaining:   19.1s\n",
      "\n",
      "[Parallel(n_jobs=24)]: Done  16 out of  24 | elapsed:    2.8s remaining:    1.4s\n",
      "\n"
     ]
    },
    {
     "name": "stdout",
     "output_type": "stream",
     "text": [
      "Number of estimated units:                                                     \n",
      "10                                                                             \n",
      "Saving to                                                                      \n",
      "/disk/scratch/mhennig/spikeinterface/spikeoptimizer-develop/optimization_13/HS2_sorted.hdf5\n",
      "Warning: sampling frequency information not found. Setting delta_frames to 10. \n",
      " 16%|█▋        | 13/80 [04:47<24:30, 21.95s/it, best loss: -0.3183234883789961]"
     ]
    },
    {
     "name": "stderr",
     "output_type": "stream",
     "text": [
      "[Parallel(n_jobs=24)]: Done  24 out of  24 | elapsed:    3.0s finished\n",
      "\n"
     ]
    },
    {
     "name": "stdout",
     "output_type": "stream",
     "text": [
      "score:                                                                         \n",
      "-0.14106280193236714                                                           \n",
      "chosen values:                                                                 \n",
      "{'ahpthr': 21.0, 'clustering_alpha': 3.9271848739171142, 'clustering_bandwidth': 6.4094314534145855, 'detection_threshold': 31.0, 'maa': 7.0, 'probe_event_length': 0.23030927161337086, 'probe_inner_radius': 65.0, 'probe_neighbor_radius': 119.0}\n",
      "Clustering spikes with parameters: {'ahpthr': 21.0, 'clustering_alpha': 3.9271848739171142, 'clustering_bandwidth': 6.4094314534145855, 'detection_threshold': 31.0, 'maa': 7.0, 'probe_event_length': 0.23030927161337086, 'probe_inner_radius': 65.0, 'probe_neighbor_radius': 119.0}\n",
      "# Generating new position and neighbor files from data file                    \n",
      "# Not Masking any Channels                                                     \n",
      "# Sampling rate: 32000                                                         \n",
      "# Localization On                                                              \n",
      "# Number of recorded channels: 30                                              \n",
      "# Analysing frames: 9600000; Seconds: 300.0                                    \n",
      "# Frames before spike in cutout: 6                                             \n",
      "# Frames after spike in cutout: 32                                             \n",
      "# tcuts: 51 77                                                                 \n",
      "# tInc: 1000000                                                                \n",
      "# Analysing frames from -51 to 1000077  (0.0%)                                 \n",
      "# Analysing frames from 999949 to 2000077  (10.4%)                             \n",
      "# Analysing frames from 1999949 to 3000077  (20.8%)                            \n",
      "# Analysing frames from 2999949 to 4000077  (31.2%)                            \n",
      "# Analysing frames from 3999949 to 5000077  (41.7%)                            \n",
      "# Analysing frames from 4999949 to 6000077  (52.1%)                            \n",
      "# Analysing frames from 5999949 to 7000077  (62.5%)                            \n",
      "# Analysing frames from 6999949 to 8000077  (72.9%)                            \n",
      "# Analysing frames from 7999949 to 9000077  (83.3%)                            \n",
      "# Analysing frames from 8999949 to 9600000  (93.8%)                            \n",
      "# Detection completed, time taken: 0:00:14.699026                              \n",
      "# Time per frame: 0:00:00.001531                                               \n",
      "# Time per sample: 0:00:00.000051                                              \n",
      "Loaded 11351 spikes.                                                           \n",
      "Fitting dimensionality reduction using all spikes...                           \n",
      "...projecting...                                                               \n",
      "...done                                                                        \n",
      "Clustering...                                                                  \n",
      "Clustering 11351 spikes...                                                     \n",
      "number of seeds: 95                                                            \n",
      "seeds/job: 4                                                                   \n",
      "using 24 cpus                                                                  \n",
      " 18%|█▊        | 14/80 [05:07<24:43, 22.47s/it, best loss: -0.3183234883789961]"
     ]
    },
    {
     "name": "stderr",
     "output_type": "stream",
     "text": [
      "[Parallel(n_jobs=24)]: Using backend LokyBackend with 24 concurrent workers.\n",
      "\n",
      "[Parallel(n_jobs=24)]: Done   3 out of  24 | elapsed:    2.6s remaining:   18.5s\n",
      "\n",
      "[Parallel(n_jobs=24)]: Done  16 out of  24 | elapsed:    2.8s remaining:    1.4s\n",
      "\n"
     ]
    },
    {
     "name": "stdout",
     "output_type": "stream",
     "text": [
      "Number of estimated units:                                                     \n",
      "10                                                                             \n",
      "Saving to                                                                      \n",
      "/disk/scratch/mhennig/spikeinterface/spikeoptimizer-develop/optimization_14/HS2_sorted.hdf5\n",
      "Warning: sampling frequency information not found. Setting delta_frames to 10. \n",
      " 18%|█▊        | 14/80 [05:11<24:43, 22.47s/it, best loss: -0.3183234883789961]"
     ]
    },
    {
     "name": "stderr",
     "output_type": "stream",
     "text": [
      "[Parallel(n_jobs=24)]: Done  24 out of  24 | elapsed:    2.9s finished\n",
      "\n"
     ]
    },
    {
     "name": "stdout",
     "output_type": "stream",
     "text": [
      "score:                                                                         \n",
      "-0.27385179579719426                                                           \n",
      "chosen values:                                                                 \n",
      "{'ahpthr': 13.0, 'clustering_alpha': 15.46093525771426, 'clustering_bandwidth': 13.833612644521162, 'detection_threshold': 17.0, 'maa': 5.0, 'probe_event_length': 0.28090606237114824, 'probe_inner_radius': 89.0, 'probe_neighbor_radius': 87.0}\n",
      "Clustering spikes with parameters: {'ahpthr': 13.0, 'clustering_alpha': 15.46093525771426, 'clustering_bandwidth': 13.833612644521162, 'detection_threshold': 17.0, 'maa': 5.0, 'probe_event_length': 0.28090606237114824, 'probe_inner_radius': 89.0, 'probe_neighbor_radius': 87.0}\n",
      "# Generating new position and neighbor files from data file                    \n",
      "# Not Masking any Channels                                                     \n",
      "# Sampling rate: 32000                                                         \n",
      "# Localization On                                                              \n",
      "# Number of recorded channels: 30                                              \n",
      "# Analysing frames: 9600000; Seconds: 300.0                                    \n",
      "# Frames before spike in cutout: 6                                             \n",
      "# Frames after spike in cutout: 32                                             \n",
      "# tcuts: 51 77                                                                 \n",
      "# tInc: 1000000                                                                \n",
      "# Analysing frames from -51 to 1000077  (0.0%)                                 \n",
      "# Analysing frames from 999949 to 2000077  (10.4%)                             \n",
      "# Analysing frames from 1999949 to 3000077  (20.8%)                            \n",
      "# Analysing frames from 2999949 to 4000077  (31.2%)                            \n",
      "# Analysing frames from 3999949 to 5000077  (41.7%)                            \n",
      "# Analysing frames from 4999949 to 6000077  (52.1%)                            \n",
      "# Analysing frames from 5999949 to 7000077  (62.5%)                            \n",
      "# Analysing frames from 6999949 to 8000077  (72.9%)                            \n",
      "# Analysing frames from 7999949 to 9000077  (83.3%)                            \n",
      "# Analysing frames from 8999949 to 9600000  (93.8%)                            \n",
      "# Detection completed, time taken: 0:00:15.056074                              \n",
      "# Time per frame: 0:00:00.001568                                               \n",
      "# Time per sample: 0:00:00.000052                                              \n",
      "Loaded 31423 spikes.                                                           \n",
      "Fitting dimensionality reduction using all spikes...                           \n",
      "...projecting...                                                               \n",
      "...done                                                                        \n",
      "Clustering...                                                                  \n",
      "Clustering 31423 spikes...                                                     \n",
      "number of seeds: 250                                                           \n",
      "seeds/job: 11                                                                  \n",
      "using 24 cpus                                                                  \n",
      " 19%|█▉        | 15/80 [05:32<24:50, 22.93s/it, best loss: -0.3183234883789961]"
     ]
    },
    {
     "name": "stderr",
     "output_type": "stream",
     "text": [
      "[Parallel(n_jobs=24)]: Using backend LokyBackend with 24 concurrent workers.\n",
      "\n",
      "[Parallel(n_jobs=24)]: Done   3 out of  24 | elapsed:    2.9s remaining:   20.0s\n",
      "\n",
      "[Parallel(n_jobs=24)]: Done  16 out of  24 | elapsed:    3.0s remaining:    1.5s\n",
      "\n"
     ]
    },
    {
     "name": "stdout",
     "output_type": "stream",
     "text": [
      "Number of estimated units:                                                     \n",
      "11                                                                             \n",
      "Saving to                                                                      \n",
      "/disk/scratch/mhennig/spikeinterface/spikeoptimizer-develop/optimization_15/HS2_sorted.hdf5\n",
      "Warning: sampling frequency information not found. Setting delta_frames to 10. \n",
      " 19%|█▉        | 15/80 [05:36<24:50, 22.93s/it, best loss: -0.3183234883789961]"
     ]
    },
    {
     "name": "stderr",
     "output_type": "stream",
     "text": [
      "[Parallel(n_jobs=24)]: Done  24 out of  24 | elapsed:    3.1s finished\n",
      "\n"
     ]
    },
    {
     "name": "stdout",
     "output_type": "stream",
     "text": [
      "score:                                                                         \n",
      "-0.4784771278143768                                                            \n",
      "chosen values:                                                                 \n",
      "{'ahpthr': -9.0, 'clustering_alpha': 10.127617105064317, 'clustering_bandwidth': 11.811290573718878, 'detection_threshold': 35.0, 'maa': 7.0, 'probe_event_length': 0.261523715353288, 'probe_inner_radius': 75.0, 'probe_neighbor_radius': 96.0}\n",
      "Clustering spikes with parameters: {'ahpthr': -9.0, 'clustering_alpha': 10.127617105064317, 'clustering_bandwidth': 11.811290573718878, 'detection_threshold': 35.0, 'maa': 7.0, 'probe_event_length': 0.261523715353288, 'probe_inner_radius': 75.0, 'probe_neighbor_radius': 96.0}\n",
      "# Generating new position and neighbor files from data file                    \n",
      "# Not Masking any Channels                                                     \n",
      "# Sampling rate: 32000                                                         \n",
      "# Localization On                                                              \n",
      "# Number of recorded channels: 30                                              \n",
      "# Analysing frames: 9600000; Seconds: 300.0                                    \n",
      "# Frames before spike in cutout: 6                                             \n",
      "# Frames after spike in cutout: 32                                             \n",
      "# tcuts: 51 77                                                                 \n",
      "# tInc: 1000000                                                                \n",
      "# Analysing frames from -51 to 1000077  (0.0%)                                 \n",
      "# Analysing frames from 999949 to 2000077  (10.4%)                             \n",
      "# Analysing frames from 1999949 to 3000077  (20.8%)                            \n",
      "# Analysing frames from 2999949 to 4000077  (31.2%)                            \n",
      "# Analysing frames from 3999949 to 5000077  (41.7%)                            \n",
      "# Analysing frames from 4999949 to 6000077  (52.1%)                            \n",
      "# Analysing frames from 5999949 to 7000077  (62.5%)                            \n",
      "# Analysing frames from 6999949 to 8000077  (72.9%)                            \n",
      "# Analysing frames from 7999949 to 9000077  (83.3%)                            \n",
      "# Analysing frames from 8999949 to 9600000  (93.8%)                            \n",
      "# Detection completed, time taken: 0:00:14.480344                              \n",
      "# Time per frame: 0:00:00.001508                                               \n",
      "# Time per sample: 0:00:00.000050                                              \n",
      "Loaded 4295 spikes.                                                            \n",
      "Fitting dimensionality reduction using all spikes...                           \n",
      "...projecting...                                                               \n",
      "...done                                                                        \n",
      "Clustering...                                                                  \n",
      "Clustering 4295 spikes...                                                      \n",
      "number of seeds: 66                                                            \n",
      "seeds/job: 3                                                                   \n",
      "using 24 cpus                                                                  \n",
      " 20%|██        | 16/80 [05:56<25:15, 23.68s/it, best loss: -0.4784771278143768]"
     ]
    },
    {
     "name": "stderr",
     "output_type": "stream",
     "text": [
      "[Parallel(n_jobs=24)]: Using backend LokyBackend with 24 concurrent workers.\n",
      "\n",
      "[Parallel(n_jobs=24)]: Done   3 out of  24 | elapsed:    2.7s remaining:   19.0s\n",
      "\n",
      "[Parallel(n_jobs=24)]: Done  16 out of  24 | elapsed:    2.8s remaining:    1.4s\n",
      "\n"
     ]
    },
    {
     "name": "stdout",
     "output_type": "stream",
     "text": [
      "Number of estimated units:                                                     \n",
      "6                                                                              \n",
      "Saving to                                                                      \n",
      "/disk/scratch/mhennig/spikeinterface/spikeoptimizer-develop/optimization_16/HS2_sorted.hdf5\n",
      "Warning: sampling frequency information not found. Setting delta_frames to 10. \n",
      " 20%|██        | 16/80 [06:00<25:15, 23.68s/it, best loss: -0.4784771278143768]"
     ]
    },
    {
     "name": "stderr",
     "output_type": "stream",
     "text": [
      "[Parallel(n_jobs=24)]: Done  24 out of  24 | elapsed:    3.0s finished\n",
      "\n"
     ]
    },
    {
     "name": "stdout",
     "output_type": "stream",
     "text": [
      "score:                                                                         \n",
      "-0.0824642544058523                                                            \n",
      "chosen values:                                                                 \n",
      "{'ahpthr': 11.0, 'clustering_alpha': 11.344820292890391, 'clustering_bandwidth': 10.585497501870435, 'detection_threshold': 23.0, 'maa': 4.0, 'probe_event_length': 0.14279059913623784, 'probe_inner_radius': 76.0, 'probe_neighbor_radius': 76.0}\n",
      "Clustering spikes with parameters: {'ahpthr': 11.0, 'clustering_alpha': 11.344820292890391, 'clustering_bandwidth': 10.585497501870435, 'detection_threshold': 23.0, 'maa': 4.0, 'probe_event_length': 0.14279059913623784, 'probe_inner_radius': 76.0, 'probe_neighbor_radius': 76.0}\n",
      "# Generating new position and neighbor files from data file                    \n",
      "# Not Masking any Channels                                                     \n",
      "# Sampling rate: 32000                                                         \n",
      "# Localization On                                                              \n",
      "# Number of recorded channels: 30                                              \n",
      "# Analysing frames: 9600000; Seconds: 300.0                                    \n",
      "# Frames before spike in cutout: 6                                             \n",
      "# Frames after spike in cutout: 32                                             \n",
      "# tcuts: 51 77                                                                 \n",
      "# tInc: 1000000                                                                \n",
      "# Analysing frames from -51 to 1000077  (0.0%)                                 \n",
      "# Analysing frames from 999949 to 2000077  (10.4%)                             \n",
      "# Analysing frames from 1999949 to 3000077  (20.8%)                            \n",
      "# Analysing frames from 2999949 to 4000077  (31.2%)                            \n",
      "# Analysing frames from 3999949 to 5000077  (41.7%)                            \n",
      "# Analysing frames from 4999949 to 6000077  (52.1%)                            \n",
      "# Analysing frames from 5999949 to 7000077  (62.5%)                            \n",
      "# Analysing frames from 6999949 to 8000077  (72.9%)                            \n",
      "# Analysing frames from 7999949 to 9000077  (83.3%)                            \n",
      "# Analysing frames from 8999949 to 9600000  (93.8%)                            \n",
      "# Detection completed, time taken: 0:00:14.683055                              \n",
      "# Time per frame: 0:00:00.001529                                               \n",
      "# Time per sample: 0:00:00.000051                                              \n",
      "Loaded 20666 spikes.                                                           \n",
      "Fitting dimensionality reduction using all spikes...                           \n",
      "...projecting...                                                               \n",
      "...done                                                                        \n",
      "Clustering...                                                                  \n",
      "Clustering 20666 spikes...                                                     \n",
      "number of seeds: 219                                                           \n",
      "seeds/job: 10                                                                  \n",
      "using 24 cpus                                                                  \n",
      " 21%|██▏       | 17/80 [06:20<24:52, 23.69s/it, best loss: -0.4784771278143768]"
     ]
    },
    {
     "name": "stderr",
     "output_type": "stream",
     "text": [
      "[Parallel(n_jobs=24)]: Using backend LokyBackend with 24 concurrent workers.\n",
      "\n",
      "[Parallel(n_jobs=24)]: Done   3 out of  24 | elapsed:    2.9s remaining:   20.1s\n",
      "\n",
      "[Parallel(n_jobs=24)]: Done  16 out of  24 | elapsed:    3.0s remaining:    1.5s\n",
      "\n"
     ]
    },
    {
     "name": "stdout",
     "output_type": "stream",
     "text": [
      "Number of estimated units:                                                     \n",
      "12                                                                             \n",
      "Saving to                                                                      \n",
      "/disk/scratch/mhennig/spikeinterface/spikeoptimizer-develop/optimization_17/HS2_sorted.hdf5\n",
      "Warning: sampling frequency information not found. Setting delta_frames to 10. \n",
      " 21%|██▏       | 17/80 [06:24<24:52, 23.69s/it, best loss: -0.4784771278143768]"
     ]
    },
    {
     "name": "stderr",
     "output_type": "stream",
     "text": [
      "[Parallel(n_jobs=24)]: Done  24 out of  24 | elapsed:    3.1s finished\n",
      "\n"
     ]
    },
    {
     "name": "stdout",
     "output_type": "stream",
     "text": [
      "score:                                                                         \n",
      "-0.3506319744932817                                                            \n",
      "chosen values:                                                                 \n",
      "{'ahpthr': 10.0, 'clustering_alpha': 6.5003807195388115, 'clustering_bandwidth': 8.460881681640457, 'detection_threshold': 18.0, 'maa': 10.0, 'probe_event_length': 0.16814202711900875, 'probe_inner_radius': 89.0, 'probe_neighbor_radius': 111.0}\n",
      "Clustering spikes with parameters: {'ahpthr': 10.0, 'clustering_alpha': 6.5003807195388115, 'clustering_bandwidth': 8.460881681640457, 'detection_threshold': 18.0, 'maa': 10.0, 'probe_event_length': 0.16814202711900875, 'probe_inner_radius': 89.0, 'probe_neighbor_radius': 111.0}\n",
      "# Generating new position and neighbor files from data file                    \n",
      "# Not Masking any Channels                                                     \n",
      "# Sampling rate: 32000                                                         \n",
      "# Localization On                                                              \n",
      "# Number of recorded channels: 30                                              \n",
      "# Analysing frames: 9600000; Seconds: 300.0                                    \n",
      "# Frames before spike in cutout: 6                                             \n",
      "# Frames after spike in cutout: 32                                             \n",
      "# tcuts: 51 77                                                                 \n",
      "# tInc: 1000000                                                                \n",
      "# Analysing frames from -51 to 1000077  (0.0%)                                 \n",
      "# Analysing frames from 999949 to 2000077  (10.4%)                             \n",
      "# Analysing frames from 1999949 to 3000077  (20.8%)                            \n",
      "# Analysing frames from 2999949 to 4000077  (31.2%)                            \n",
      "# Analysing frames from 3999949 to 5000077  (41.7%)                            \n",
      "# Analysing frames from 4999949 to 6000077  (52.1%)                            \n",
      "# Analysing frames from 5999949 to 7000077  (62.5%)                            \n",
      "# Analysing frames from 6999949 to 8000077  (72.9%)                            \n",
      "# Analysing frames from 7999949 to 9000077  (83.3%)                            \n",
      "# Analysing frames from 8999949 to 9600000  (93.8%)                            \n",
      "# Detection completed, time taken: 0:00:15.195407                              \n",
      "# Time per frame: 0:00:00.001583                                               \n",
      "# Time per sample: 0:00:00.000053                                              \n",
      "Loaded 29800 spikes.                                                           \n",
      "Fitting dimensionality reduction using all spikes...                           \n",
      "...projecting...                                                               \n",
      "...done                                                                        \n",
      "Clustering...                                                                  \n",
      "Clustering 29800 spikes...                                                     \n",
      "number of seeds: 260                                                           \n",
      "seeds/job: 11                                                                  \n",
      "using 24 cpus                                                                  \n",
      " 22%|██▎       | 18/80 [06:46<24:45, 23.97s/it, best loss: -0.4784771278143768]"
     ]
    },
    {
     "name": "stderr",
     "output_type": "stream",
     "text": [
      "[Parallel(n_jobs=24)]: Using backend LokyBackend with 24 concurrent workers.\n",
      "\n",
      "[Parallel(n_jobs=24)]: Done   3 out of  24 | elapsed:    2.9s remaining:   20.0s\n",
      "\n",
      "[Parallel(n_jobs=24)]: Done  16 out of  24 | elapsed:    3.0s remaining:    1.5s\n",
      "\n"
     ]
    },
    {
     "name": "stdout",
     "output_type": "stream",
     "text": [
      "Number of estimated units:                                                     \n",
      "13                                                                             \n",
      "Saving to                                                                      \n",
      "/disk/scratch/mhennig/spikeinterface/spikeoptimizer-develop/optimization_18/HS2_sorted.hdf5\n",
      "Warning: sampling frequency information not found. Setting delta_frames to 10. \n",
      " 22%|██▎       | 18/80 [06:49<24:45, 23.97s/it, best loss: -0.4784771278143768]"
     ]
    },
    {
     "name": "stderr",
     "output_type": "stream",
     "text": [
      "[Parallel(n_jobs=24)]: Done  24 out of  24 | elapsed:    3.1s finished\n",
      "\n"
     ]
    },
    {
     "name": "stdout",
     "output_type": "stream",
     "text": [
      "score:                                                                         \n",
      "-0.4900321022957188                                                            \n",
      "chosen values:                                                                 \n",
      "{'ahpthr': -9.0, 'clustering_alpha': 13.60590030472804, 'clustering_bandwidth': 15.083444209485014, 'detection_threshold': 11.0, 'maa': 7.0, 'probe_event_length': 0.1372493075747312, 'probe_inner_radius': 96.0, 'probe_neighbor_radius': 81.0}\n",
      "Clustering spikes with parameters: {'ahpthr': -9.0, 'clustering_alpha': 13.60590030472804, 'clustering_bandwidth': 15.083444209485014, 'detection_threshold': 11.0, 'maa': 7.0, 'probe_event_length': 0.1372493075747312, 'probe_inner_radius': 96.0, 'probe_neighbor_radius': 81.0}\n",
      "# Generating new position and neighbor files from data file                    \n",
      "# Not Masking any Channels                                                     \n",
      "# Sampling rate: 32000                                                         \n",
      "# Localization On                                                              \n",
      "# Number of recorded channels: 30                                              \n",
      "# Analysing frames: 9600000; Seconds: 300.0                                    \n",
      "# Frames before spike in cutout: 6                                             \n",
      "# Frames after spike in cutout: 32                                             \n",
      "# tcuts: 51 77                                                                 \n",
      "# tInc: 1000000                                                                \n",
      "# Analysing frames from -51 to 1000077  (0.0%)                                 \n",
      "# Analysing frames from 999949 to 2000077  (10.4%)                             \n",
      "# Analysing frames from 1999949 to 3000077  (20.8%)                            \n",
      "# Analysing frames from 2999949 to 4000077  (31.2%)                            \n",
      "# Analysing frames from 3999949 to 5000077  (41.7%)                            \n",
      "# Analysing frames from 4999949 to 6000077  (52.1%)                            \n",
      "# Analysing frames from 5999949 to 7000077  (62.5%)                            \n",
      "# Analysing frames from 6999949 to 8000077  (72.9%)                            \n",
      "# Analysing frames from 7999949 to 9000077  (83.3%)                            \n",
      "# Analysing frames from 8999949 to 9600000  (93.8%)                            \n",
      "# Detection completed, time taken: 0:00:14.642355                              \n",
      "# Time per frame: 0:00:00.001525                                               \n",
      "# Time per sample: 0:00:00.000051                                              \n",
      "Loaded 5788 spikes.                                                            \n",
      "Fitting dimensionality reduction using all spikes...                           \n",
      "...projecting...                                                               \n",
      "...done                                                                        \n",
      "Clustering...                                                                  \n",
      "Clustering 5788 spikes...                                                      \n",
      "number of seeds: 91                                                            \n",
      "seeds/job: 4                                                                   \n",
      "using 24 cpus                                                                  \n",
      " 24%|██▍       | 19/80 [07:11<25:03, 24.65s/it, best loss: -0.4900321022957188]"
     ]
    },
    {
     "name": "stderr",
     "output_type": "stream",
     "text": [
      "[Parallel(n_jobs=24)]: Using backend LokyBackend with 24 concurrent workers.\n",
      "\n",
      "[Parallel(n_jobs=24)]: Done   3 out of  24 | elapsed:    2.9s remaining:   20.4s\n",
      "\n",
      "[Parallel(n_jobs=24)]: Done  16 out of  24 | elapsed:    3.0s remaining:    1.5s\n",
      "\n"
     ]
    },
    {
     "name": "stdout",
     "output_type": "stream",
     "text": [
      "Number of estimated units:                                                     \n",
      "12                                                                             \n",
      "Saving to                                                                      \n",
      "/disk/scratch/mhennig/spikeinterface/spikeoptimizer-develop/optimization_19/HS2_sorted.hdf5\n",
      "Warning: sampling frequency information not found. Setting delta_frames to 10. \n",
      " 24%|██▍       | 19/80 [07:15<25:03, 24.65s/it, best loss: -0.4900321022957188]"
     ]
    },
    {
     "name": "stderr",
     "output_type": "stream",
     "text": [
      "[Parallel(n_jobs=24)]: Done  24 out of  24 | elapsed:    3.1s finished\n",
      "\n"
     ]
    },
    {
     "name": "stdout",
     "output_type": "stream",
     "text": [
      "score:                                                                         \n",
      "-0.08467303275716186                                                           \n",
      "chosen values:                                                                 \n",
      "{'ahpthr': 12.0, 'clustering_alpha': 15.586238528231874, 'clustering_bandwidth': 7.779489337153245, 'detection_threshold': 17.0, 'maa': 10.0, 'probe_event_length': 0.18248371053968632, 'probe_inner_radius': 86.0, 'probe_neighbor_radius': 118.0}\n",
      "Clustering spikes with parameters: {'ahpthr': 12.0, 'clustering_alpha': 15.586238528231874, 'clustering_bandwidth': 7.779489337153245, 'detection_threshold': 17.0, 'maa': 10.0, 'probe_event_length': 0.18248371053968632, 'probe_inner_radius': 86.0, 'probe_neighbor_radius': 118.0}\n",
      "# Generating new position and neighbor files from data file                    \n",
      "# Not Masking any Channels                                                     \n",
      "# Sampling rate: 32000                                                         \n",
      "# Localization On                                                              \n",
      "# Number of recorded channels: 30                                              \n",
      "# Analysing frames: 9600000; Seconds: 300.0                                    \n",
      "# Frames before spike in cutout: 6                                             \n",
      "# Frames after spike in cutout: 32                                             \n",
      "# tcuts: 51 77                                                                 \n",
      "# tInc: 1000000                                                                \n",
      "# Analysing frames from -51 to 1000077  (0.0%)                                 \n",
      "# Analysing frames from 999949 to 2000077  (10.4%)                             \n",
      "# Analysing frames from 1999949 to 3000077  (20.8%)                            \n",
      "# Analysing frames from 2999949 to 4000077  (31.2%)                            \n",
      "# Analysing frames from 3999949 to 5000077  (41.7%)                            \n",
      "# Analysing frames from 4999949 to 6000077  (52.1%)                            \n",
      "# Analysing frames from 5999949 to 7000077  (62.5%)                            \n",
      "# Analysing frames from 6999949 to 8000077  (72.9%)                            \n",
      "# Analysing frames from 7999949 to 9000077  (83.3%)                            \n",
      "# Analysing frames from 8999949 to 9600000  (93.8%)                            \n",
      "# Detection completed, time taken: 0:00:14.991661                              \n",
      "# Time per frame: 0:00:00.001562                                               \n",
      "# Time per sample: 0:00:00.000052                                              \n",
      "Loaded 31100 spikes.                                                           \n",
      "Fitting dimensionality reduction using all spikes...                           \n",
      "...projecting...                                                               \n",
      "...done                                                                        \n",
      "Clustering...                                                                  \n",
      "Clustering 31100 spikes...                                                     \n",
      "number of seeds: 518                                                           \n",
      "seeds/job: 22                                                                  \n",
      "using 24 cpus                                                                  \n",
      " 25%|██▌       | 20/80 [07:36<24:30, 24.51s/it, best loss: -0.4900321022957188]"
     ]
    },
    {
     "name": "stderr",
     "output_type": "stream",
     "text": [
      "[Parallel(n_jobs=24)]: Using backend LokyBackend with 24 concurrent workers.\n",
      "\n",
      "[Parallel(n_jobs=24)]: Done   3 out of  24 | elapsed:    3.4s remaining:   23.8s\n",
      "\n",
      "[Parallel(n_jobs=24)]: Done  16 out of  24 | elapsed:    3.5s remaining:    1.8s\n",
      "\n"
     ]
    },
    {
     "name": "stdout",
     "output_type": "stream",
     "text": [
      "Number of estimated units:                                                     \n",
      "15                                                                             \n",
      "Saving to                                                                      \n",
      "/disk/scratch/mhennig/spikeinterface/spikeoptimizer-develop/optimization_20/HS2_sorted.hdf5\n",
      "Warning: sampling frequency information not found. Setting delta_frames to 10. \n",
      " 25%|██▌       | 20/80 [07:41<24:30, 24.51s/it, best loss: -0.4900321022957188]"
     ]
    },
    {
     "name": "stderr",
     "output_type": "stream",
     "text": [
      "[Parallel(n_jobs=24)]: Done  24 out of  24 | elapsed:    3.8s finished\n",
      "\n"
     ]
    },
    {
     "name": "stdout",
     "output_type": "stream",
     "text": [
      "score:                                                                         \n",
      "-0.7127958947194173                                                            \n",
      "chosen values:                                                                 \n",
      "{'ahpthr': 7.0, 'clustering_alpha': 5.932912265872798, 'clustering_bandwidth': 7.758639622677977, 'detection_threshold': -6.0, 'maa': 10.0, 'probe_event_length': 0.17954040385515255, 'probe_inner_radius': 84.0, 'probe_neighbor_radius': 120.0}\n",
      "Clustering spikes with parameters: {'ahpthr': 7.0, 'clustering_alpha': 5.932912265872798, 'clustering_bandwidth': 7.758639622677977, 'detection_threshold': -6.0, 'maa': 10.0, 'probe_event_length': 0.17954040385515255, 'probe_inner_radius': 84.0, 'probe_neighbor_radius': 120.0}\n",
      "# Generating new position and neighbor files from data file                    \n",
      "# Not Masking any Channels                                                     \n",
      "# Sampling rate: 32000                                                         \n",
      "# Localization On                                                              \n",
      "# Number of recorded channels: 30                                              \n",
      "# Analysing frames: 9600000; Seconds: 300.0                                    \n",
      "# Frames before spike in cutout: 6                                             \n",
      "# Frames after spike in cutout: 32                                             \n",
      "# tcuts: 51 77                                                                 \n",
      "# tInc: 1000000                                                                \n",
      "# Analysing frames from -51 to 1000077  (0.0%)                                 \n",
      "# Analysing frames from 999949 to 2000077  (10.4%)                             \n",
      "# Analysing frames from 1999949 to 3000077  (20.8%)                            \n",
      "# Analysing frames from 2999949 to 4000077  (31.2%)                            \n",
      "# Analysing frames from 3999949 to 5000077  (41.7%)                            \n",
      "# Analysing frames from 4999949 to 6000077  (52.1%)                            \n",
      "# Analysing frames from 5999949 to 7000077  (62.5%)                            \n",
      "# Analysing frames from 6999949 to 8000077  (72.9%)                            \n",
      "# Analysing frames from 7999949 to 9000077  (83.3%)                            \n",
      "# Analysing frames from 8999949 to 9600000  (93.8%)                            \n",
      "# Detection completed, time taken: 0:00:17.713815                              \n",
      "# Time per frame: 0:00:00.001845                                               \n",
      "# Time per sample: 0:00:00.000062                                              \n",
      "Loaded 58451 spikes.                                                           \n",
      "Fitting dimensionality reduction using all spikes...                           \n",
      "...projecting...                                                               \n",
      "...done                                                                        \n",
      "Clustering...                                                                  \n",
      "Clustering 58451 spikes...                                                     \n",
      "number of seeds: 651                                                           \n",
      "seeds/job: 28                                                                  \n",
      "using 24 cpus                                                                  \n",
      " 26%|██▋       | 21/80 [08:05<24:40, 25.10s/it, best loss: -0.7127958947194173]"
     ]
    },
    {
     "name": "stderr",
     "output_type": "stream",
     "text": [
      "[Parallel(n_jobs=24)]: Using backend LokyBackend with 24 concurrent workers.\n",
      "\n",
      "[Parallel(n_jobs=24)]: Done   3 out of  24 | elapsed:    3.5s remaining:   24.7s\n",
      "\n"
     ]
    },
    {
     "name": "stdout",
     "output_type": "stream",
     "text": [
      "Number of estimated units:                                                     \n",
      "22                                                                             \n",
      "Saving to                                                                      \n",
      "/disk/scratch/mhennig/spikeinterface/spikeoptimizer-develop/optimization_21/HS2_sorted.hdf5\n",
      " 26%|██▋       | 21/80 [08:10<24:40, 25.10s/it, best loss: -0.7127958947194173]"
     ]
    },
    {
     "name": "stderr",
     "output_type": "stream",
     "text": [
      "[Parallel(n_jobs=24)]: Done  16 out of  24 | elapsed:    3.9s remaining:    1.9s\n",
      "\n",
      "[Parallel(n_jobs=24)]: Done  24 out of  24 | elapsed:    3.9s finished\n",
      "\n"
     ]
    },
    {
     "name": "stdout",
     "output_type": "stream",
     "text": [
      "Warning: sampling frequency information not found. Setting delta_frames to 10. \n",
      "score:                                                                         \n",
      "-0.5160884329510105                                                            \n",
      "chosen values:                                                                 \n",
      "{'ahpthr': 3.0, 'clustering_alpha': 5.410598304920753, 'clustering_bandwidth': 7.196129877978214, 'detection_threshold': -25.0, 'maa': 9.0, 'probe_event_length': 0.21714630963038323, 'probe_inner_radius': 83.0, 'probe_neighbor_radius': 119.0}\n",
      "Clustering spikes with parameters: {'ahpthr': 3.0, 'clustering_alpha': 5.410598304920753, 'clustering_bandwidth': 7.196129877978214, 'detection_threshold': -25.0, 'maa': 9.0, 'probe_event_length': 0.21714630963038323, 'probe_inner_radius': 83.0, 'probe_neighbor_radius': 119.0}\n",
      "# Generating new position and neighbor files from data file                    \n",
      "# Not Masking any Channels                                                     \n",
      "# Sampling rate: 32000                                                         \n",
      "# Localization On                                                              \n",
      "# Number of recorded channels: 30                                              \n",
      "# Analysing frames: 9600000; Seconds: 300.0                                    \n",
      "# Frames before spike in cutout: 6                                             \n",
      "# Frames after spike in cutout: 32                                             \n",
      "# tcuts: 51 77                                                                 \n",
      "# tInc: 1000000                                                                \n",
      "# Analysing frames from -51 to 1000077  (0.0%)                                 \n",
      "# Analysing frames from 999949 to 2000077  (10.4%)                             \n",
      "# Analysing frames from 1999949 to 3000077  (20.8%)                            \n",
      "# Analysing frames from 2999949 to 4000077  (31.2%)                            \n",
      "# Analysing frames from 3999949 to 5000077  (41.7%)                            \n",
      "# Analysing frames from 4999949 to 6000077  (52.1%)                            \n",
      "# Analysing frames from 5999949 to 7000077  (62.5%)                            \n",
      "# Analysing frames from 6999949 to 8000077  (72.9%)                            \n",
      "# Analysing frames from 7999949 to 9000077  (83.3%)                            \n",
      "# Analysing frames from 8999949 to 9600000  (93.8%)                            \n",
      "# Detection completed, time taken: 0:00:17.821778                              \n",
      "# Time per frame: 0:00:00.001856                                               \n",
      "# Time per sample: 0:00:00.000062                                              \n",
      "Loaded 67516 spikes.                                                           \n",
      "Fitting dimensionality reduction using all spikes...                           \n",
      "...projecting...                                                               \n",
      "...done                                                                        \n",
      "Clustering...                                                                  \n",
      "Clustering 67516 spikes...                                                     \n",
      "number of seeds: 803                                                           \n",
      "seeds/job: 34                                                                  \n",
      "using 24 cpus                                                                  \n",
      " 28%|██▊       | 22/80 [08:35<25:36, 26.50s/it, best loss: -0.7127958947194173]"
     ]
    },
    {
     "name": "stderr",
     "output_type": "stream",
     "text": [
      "[Parallel(n_jobs=24)]: Using backend LokyBackend with 24 concurrent workers.\n",
      "\n",
      "[Parallel(n_jobs=24)]: Done   3 out of  24 | elapsed:    4.0s remaining:   28.2s\n",
      "\n",
      "[Parallel(n_jobs=24)]: Done  16 out of  24 | elapsed:    4.4s remaining:    2.2s\n",
      "\n",
      "[Parallel(n_jobs=24)]: Done  24 out of  24 | elapsed:    4.6s finished\n",
      "\n"
     ]
    },
    {
     "name": "stdout",
     "output_type": "stream",
     "text": [
      "Number of estimated units:                                                     \n",
      "25                                                                             \n",
      "Saving to                                                                      \n",
      "/disk/scratch/mhennig/spikeinterface/spikeoptimizer-develop/optimization_22/HS2_sorted.hdf5\n",
      "Warning: sampling frequency information not found. Setting delta_frames to 10. \n",
      "score:                                                                         \n",
      "-0.4871639241075443                                                            \n",
      "chosen values:                                                                 \n",
      "{'ahpthr': 30.0, 'clustering_alpha': 5.630834575787063, 'clustering_bandwidth': 3.0122370363547697, 'detection_threshold': -5.0, 'maa': 9.0, 'probe_event_length': 0.1828795020000783, 'probe_inner_radius': 71.0, 'probe_neighbor_radius': 114.0}\n",
      "Clustering spikes with parameters: {'ahpthr': 30.0, 'clustering_alpha': 5.630834575787063, 'clustering_bandwidth': 3.0122370363547697, 'detection_threshold': -5.0, 'maa': 9.0, 'probe_event_length': 0.1828795020000783, 'probe_inner_radius': 71.0, 'probe_neighbor_radius': 114.0}\n",
      "# Generating new position and neighbor files from data file                    \n",
      "# Not Masking any Channels                                                     \n",
      "# Sampling rate: 32000                                                         \n",
      "# Localization On                                                              \n",
      "# Number of recorded channels: 30                                              \n",
      "# Analysing frames: 9600000; Seconds: 300.0                                    \n",
      "# Frames before spike in cutout: 6                                             \n",
      "# Frames after spike in cutout: 32                                             \n",
      "# tcuts: 51 77                                                                 \n",
      "# tInc: 1000000                                                                \n",
      "# Analysing frames from -51 to 1000077  (0.0%)                                 \n",
      "# Analysing frames from 999949 to 2000077  (10.4%)                             \n",
      "# Analysing frames from 1999949 to 3000077  (20.8%)                            \n",
      "# Analysing frames from 2999949 to 4000077  (31.2%)                            \n",
      "# Analysing frames from 3999949 to 5000077  (41.7%)                            \n",
      "# Analysing frames from 4999949 to 6000077  (52.1%)                            \n",
      "# Analysing frames from 5999949 to 7000077  (62.5%)                            \n",
      "# Analysing frames from 6999949 to 8000077  (72.9%)                            \n",
      "# Analysing frames from 7999949 to 9000077  (83.3%)                            \n",
      "# Analysing frames from 8999949 to 9600000  (93.8%)                            \n",
      "# Detection completed, time taken: 0:00:17.757750                              \n",
      "# Time per frame: 0:00:00.001850                                               \n",
      "# Time per sample: 0:00:00.000062                                              \n",
      "Loaded 70506 spikes.                                                           \n",
      "Fitting dimensionality reduction using all spikes...                           \n",
      "...projecting...                                                               \n",
      "...done                                                                        \n",
      "Clustering...                                                                  \n",
      "Clustering 70506 spikes...                                                     \n",
      "number of seeds: 2108                                                          \n",
      "seeds/job: 88                                                                  \n",
      "using 24 cpus                                                                  \n",
      " 29%|██▉       | 23/80 [09:06<26:21, 27.74s/it, best loss: -0.7127958947194173]"
     ]
    },
    {
     "name": "stderr",
     "output_type": "stream",
     "text": [
      "[Parallel(n_jobs=24)]: Using backend LokyBackend with 24 concurrent workers.\n",
      "\n",
      "[Parallel(n_jobs=24)]: Done   3 out of  24 | elapsed:    5.9s remaining:   41.3s\n",
      "\n",
      "[Parallel(n_jobs=24)]: Done  16 out of  24 | elapsed:    6.2s remaining:    3.1s\n",
      "\n"
     ]
    },
    {
     "name": "stdout",
     "output_type": "stream",
     "text": [
      "Number of estimated units:                                                     \n",
      "217                                                                            \n",
      " 29%|██▉       | 23/80 [09:13<26:21, 27.74s/it, best loss: -0.7127958947194173]"
     ]
    },
    {
     "name": "stderr",
     "output_type": "stream",
     "text": [
      "[Parallel(n_jobs=24)]: Done  24 out of  24 | elapsed:    6.6s finished\n",
      "\n"
     ]
    },
    {
     "name": "stdout",
     "output_type": "stream",
     "text": [
      "Saving to                                                                      \n",
      "/disk/scratch/mhennig/spikeinterface/spikeoptimizer-develop/optimization_23/HS2_sorted.hdf5\n",
      "Warning: sampling frequency information not found. Setting delta_frames to 10. \n",
      "score:                                                                         \n",
      "-0.7254004576659039                                                            \n",
      "chosen values:                                                                 \n",
      "{'ahpthr': 28.0, 'clustering_alpha': 15.851166565296515, 'clustering_bandwidth': 3.296849843048215, 'detection_threshold': -3.0, 'maa': 9.0, 'probe_event_length': 0.18562831151915243, 'probe_inner_radius': 71.0, 'probe_neighbor_radius': 113.0}\n",
      "Clustering spikes with parameters: {'ahpthr': 28.0, 'clustering_alpha': 15.851166565296515, 'clustering_bandwidth': 3.296849843048215, 'detection_threshold': -3.0, 'maa': 9.0, 'probe_event_length': 0.18562831151915243, 'probe_inner_radius': 71.0, 'probe_neighbor_radius': 113.0}\n",
      "# Generating new position and neighbor files from data file                    \n",
      "# Not Masking any Channels                                                     \n",
      "# Sampling rate: 32000                                                         \n",
      "# Localization On                                                              \n",
      "# Number of recorded channels: 30                                              \n",
      "# Analysing frames: 9600000; Seconds: 300.0                                    \n",
      "# Frames before spike in cutout: 6                                             \n",
      "# Frames after spike in cutout: 32                                             \n",
      "# tcuts: 51 77                                                                 \n",
      "# tInc: 1000000                                                                \n",
      "# Analysing frames from -51 to 1000077  (0.0%)                                 \n",
      "# Analysing frames from 999949 to 2000077  (10.4%)                             \n",
      "# Analysing frames from 1999949 to 3000077  (20.8%)                            \n",
      "# Analysing frames from 2999949 to 4000077  (31.2%)                            \n",
      "# Analysing frames from 3999949 to 5000077  (41.7%)                            \n",
      "# Analysing frames from 4999949 to 6000077  (52.1%)                            \n",
      "# Analysing frames from 5999949 to 7000077  (62.5%)                            \n",
      "# Analysing frames from 6999949 to 8000077  (72.9%)                            \n",
      "# Analysing frames from 7999949 to 9000077  (83.3%)                            \n",
      "# Analysing frames from 8999949 to 9600000  (93.8%)                            \n",
      "# Detection completed, time taken: 0:00:17.664394                              \n",
      "# Time per frame: 0:00:00.001840                                               \n",
      "# Time per sample: 0:00:00.000061                                              \n",
      "Loaded 74042 spikes.                                                           \n",
      "Fitting dimensionality reduction using all spikes...                           \n",
      "...projecting...                                                               \n",
      "...done                                                                        \n",
      "Clustering...                                                                  \n",
      "Clustering 74042 spikes...                                                     \n",
      "number of seeds: 1462                                                          \n",
      "seeds/job: 61                                                                  \n",
      "using 24 cpus                                                                  \n",
      " 30%|███       | 24/80 [09:39<27:22, 29.33s/it, best loss: -0.7254004576659039]"
     ]
    },
    {
     "name": "stderr",
     "output_type": "stream",
     "text": [
      "[Parallel(n_jobs=24)]: Using backend LokyBackend with 24 concurrent workers.\n",
      "\n",
      "[Parallel(n_jobs=24)]: Done   3 out of  24 | elapsed:    4.7s remaining:   33.0s\n",
      "\n",
      "[Parallel(n_jobs=24)]: Done  16 out of  24 | elapsed:    5.1s remaining:    2.5s\n",
      "\n",
      "[Parallel(n_jobs=24)]: Done  24 out of  24 | elapsed:    5.2s finished\n",
      "\n"
     ]
    },
    {
     "name": "stdout",
     "output_type": "stream",
     "text": [
      "Number of estimated units:                                                     \n",
      "238                                                                            \n",
      "Saving to                                                                      \n",
      "/disk/scratch/mhennig/spikeinterface/spikeoptimizer-develop/optimization_24/HS2_sorted.hdf5\n",
      "Warning: sampling frequency information not found. Setting delta_frames to 10. \n",
      "score:                                                                         \n",
      "-0.0                                                                           \n",
      "chosen values:                                                                 \n",
      "{'ahpthr': 17.0, 'clustering_alpha': 12.458767713617059, 'clustering_bandwidth': 5.5114618188056115, 'detection_threshold': 4.0, 'maa': 9.0, 'probe_event_length': 0.21758068397202435, 'probe_inner_radius': 69.0, 'probe_neighbor_radius': 113.0}\n",
      "Clustering spikes with parameters: {'ahpthr': 17.0, 'clustering_alpha': 12.458767713617059, 'clustering_bandwidth': 5.5114618188056115, 'detection_threshold': 4.0, 'maa': 9.0, 'probe_event_length': 0.21758068397202435, 'probe_inner_radius': 69.0, 'probe_neighbor_radius': 113.0}\n",
      " 31%|███▏      | 25/80 [09:50<27:12, 29.67s/it, best loss: -0.7254004576659039]"
     ]
    },
    {
     "name": "stderr",
     "output_type": "stream",
     "text": [
      "/disk/scratch/mhennig/miniconda3/envs/spikesorting/lib/python3.7/site-packages/spiketoolkit/comparison/groundtruthcomparison.py:333: RuntimeWarning: invalid value encountered in long_scalars\n",
      "  perf['precision'] = tp / (tp + fp)\n",
      "\n",
      "/disk/scratch/mhennig/miniconda3/envs/spikesorting/lib/python3.7/site-packages/spiketoolkit/comparison/groundtruthcomparison.py:334: RuntimeWarning: invalid value encountered in long_scalars\n",
      "  perf['false_discovery_rate'] = fp / (tp + fp)\n",
      "\n"
     ]
    },
    {
     "name": "stdout",
     "output_type": "stream",
     "text": [
      "# Generating new position and neighbor files from data file                    \n",
      "# Not Masking any Channels                                                     \n",
      "# Sampling rate: 32000                                                         \n",
      "# Localization On                                                              \n",
      "# Number of recorded channels: 30                                              \n",
      "# Analysing frames: 9600000; Seconds: 300.0                                    \n",
      "# Frames before spike in cutout: 6                                             \n",
      "# Frames after spike in cutout: 32                                             \n",
      "# tcuts: 51 77                                                                 \n",
      "# tInc: 1000000                                                                \n",
      "# Analysing frames from -51 to 1000077  (0.0%)                                 \n",
      "# Analysing frames from 999949 to 2000077  (10.4%)                             \n",
      "# Analysing frames from 1999949 to 3000077  (20.8%)                            \n",
      "# Analysing frames from 2999949 to 4000077  (31.2%)                            \n",
      "# Analysing frames from 3999949 to 5000077  (41.7%)                            \n",
      "# Analysing frames from 4999949 to 6000077  (52.1%)                            \n",
      "# Analysing frames from 5999949 to 7000077  (62.5%)                            \n",
      "# Analysing frames from 6999949 to 8000077  (72.9%)                            \n",
      "# Analysing frames from 7999949 to 9000077  (83.3%)                            \n",
      "# Analysing frames from 8999949 to 9600000  (93.8%)                            \n",
      "# Detection completed, time taken: 0:00:17.163907                              \n",
      "# Time per frame: 0:00:00.001788                                               \n",
      "# Time per sample: 0:00:00.000060                                              \n",
      "Loaded 57194 spikes.                                                           \n",
      "Fitting dimensionality reduction using all spikes...                           \n",
      "...projecting...                                                               \n",
      "...done                                                                        \n",
      "Clustering...                                                                  \n",
      "Clustering 57194 spikes...                                                     \n",
      "number of seeds: 1514                                                          \n",
      "seeds/job: 64                                                                  \n",
      "using 24 cpus                                                                  \n",
      " 31%|███▏      | 25/80 [10:09<27:12, 29.67s/it, best loss: -0.7254004576659039]"
     ]
    },
    {
     "name": "stderr",
     "output_type": "stream",
     "text": [
      "[Parallel(n_jobs=24)]: Using backend LokyBackend with 24 concurrent workers.\n",
      "\n",
      "[Parallel(n_jobs=24)]: Done   3 out of  24 | elapsed:    5.3s remaining:   36.8s\n",
      "\n",
      "[Parallel(n_jobs=24)]: Done  16 out of  24 | elapsed:    5.6s remaining:    2.8s\n",
      "\n"
     ]
    },
    {
     "name": "stdout",
     "output_type": "stream",
     "text": [
      "Number of estimated units:                                                     \n",
      "105                                                                            \n",
      "Saving to                                                                      \n",
      "/disk/scratch/mhennig/spikeinterface/spikeoptimizer-develop/optimization_25/HS2_sorted.hdf5\n",
      " 31%|███▏      | 25/80 [10:15<27:12, 29.67s/it, best loss: -0.7254004576659039]"
     ]
    },
    {
     "name": "stderr",
     "output_type": "stream",
     "text": [
      "[Parallel(n_jobs=24)]: Done  24 out of  24 | elapsed:    5.8s finished\n",
      "\n"
     ]
    },
    {
     "name": "stdout",
     "output_type": "stream",
     "text": [
      "Warning: sampling frequency information not found. Setting delta_frames to 10. \n",
      "score:                                                                         \n",
      "-0.7153132637191735                                                            \n",
      "chosen values:                                                                 \n",
      "{'ahpthr': 17.0, 'clustering_alpha': 12.886757748658553, 'clustering_bandwidth': 6.029391631052455, 'detection_threshold': -1.0, 'maa': 9.0, 'probe_event_length': 0.2179524222823757, 'probe_inner_radius': 71.0, 'probe_neighbor_radius': 114.0}\n",
      "Clustering spikes with parameters: {'ahpthr': 17.0, 'clustering_alpha': 12.886757748658553, 'clustering_bandwidth': 6.029391631052455, 'detection_threshold': -1.0, 'maa': 9.0, 'probe_event_length': 0.2179524222823757, 'probe_inner_radius': 71.0, 'probe_neighbor_radius': 114.0}\n",
      "# Generating new position and neighbor files from data file                    \n",
      "# Not Masking any Channels                                                     \n",
      "# Sampling rate: 32000                                                         \n",
      "# Localization On                                                              \n",
      "# Number of recorded channels: 30                                              \n",
      "# Analysing frames: 9600000; Seconds: 300.0                                    \n",
      "# Frames before spike in cutout: 6                                             \n",
      "# Frames after spike in cutout: 32                                             \n",
      "# tcuts: 51 77                                                                 \n",
      "# tInc: 1000000                                                                \n",
      "# Analysing frames from -51 to 1000077  (0.0%)                                 \n",
      "# Analysing frames from 999949 to 2000077  (10.4%)                             \n",
      "# Analysing frames from 1999949 to 3000077  (20.8%)                            \n",
      "# Analysing frames from 2999949 to 4000077  (31.2%)                            \n",
      "# Analysing frames from 3999949 to 5000077  (41.7%)                            \n",
      "# Analysing frames from 4999949 to 6000077  (52.1%)                            \n",
      "# Analysing frames from 5999949 to 7000077  (62.5%)                            \n",
      "# Analysing frames from 6999949 to 8000077  (72.9%)                            \n",
      "# Analysing frames from 7999949 to 9000077  (83.3%)                            \n",
      "# Analysing frames from 8999949 to 9600000  (93.8%)                            \n",
      "# Detection completed, time taken: 0:00:17.809372                              \n",
      "# Time per frame: 0:00:00.001855                                               \n",
      "# Time per sample: 0:00:00.000062                                              \n",
      "Loaded 81483 spikes.                                                           \n",
      "Fitting dimensionality reduction using all spikes...                           \n",
      "...projecting...                                                               \n",
      "...done                                                                        \n",
      "Clustering...                                                                  \n",
      "Clustering 81483 spikes...                                                     \n",
      "number of seeds: 2329                                                          \n",
      "seeds/job: 98                                                                  \n",
      "using 24 cpus                                                                  \n",
      " 32%|███▎      | 26/80 [10:41<27:07, 30.13s/it, best loss: -0.7254004576659039]"
     ]
    },
    {
     "name": "stderr",
     "output_type": "stream",
     "text": [
      "[Parallel(n_jobs=24)]: Using backend LokyBackend with 24 concurrent workers.\n",
      "\n",
      "[Parallel(n_jobs=24)]: Done   3 out of  24 | elapsed:    8.8s remaining:  1.0min\n",
      "\n",
      "[Parallel(n_jobs=24)]: Done  16 out of  24 | elapsed:    9.2s remaining:    4.6s\n",
      "\n"
     ]
    },
    {
     "name": "stdout",
     "output_type": "stream",
     "text": [
      "Number of estimated units:                                                     \n",
      "82                                                                             \n",
      "Saving to                                                                      \n",
      "/disk/scratch/mhennig/spikeinterface/spikeoptimizer-develop/optimization_26/HS2_sorted.hdf5\n",
      " 32%|███▎      | 26/80 [10:51<27:07, 30.13s/it, best loss: -0.7254004576659039]"
     ]
    },
    {
     "name": "stderr",
     "output_type": "stream",
     "text": [
      "[Parallel(n_jobs=24)]: Done  24 out of  24 | elapsed:    9.7s finished\n",
      "\n"
     ]
    },
    {
     "name": "stdout",
     "output_type": "stream",
     "text": [
      "Warning: sampling frequency information not found. Setting delta_frames to 10. \n",
      "score:                                                                         \n",
      "-0.6958774071060483                                                            \n",
      "chosen values:                                                                 \n",
      "{'ahpthr': 30.0, 'clustering_alpha': 12.021711677072513, 'clustering_bandwidth': 3.432069111180662, 'detection_threshold': 6.0, 'maa': 8.0, 'probe_event_length': 0.2126117665479118, 'probe_inner_radius': 68.0, 'probe_neighbor_radius': 109.0}\n",
      "Clustering spikes with parameters: {'ahpthr': 30.0, 'clustering_alpha': 12.021711677072513, 'clustering_bandwidth': 3.432069111180662, 'detection_threshold': 6.0, 'maa': 8.0, 'probe_event_length': 0.2126117665479118, 'probe_inner_radius': 68.0, 'probe_neighbor_radius': 109.0}\n",
      "# Generating new position and neighbor files from data file                    \n",
      "# Not Masking any Channels                                                     \n",
      "# Sampling rate: 32000                                                         \n",
      "# Localization On                                                              \n",
      "# Number of recorded channels: 30                                              \n",
      "# Analysing frames: 9600000; Seconds: 300.0                                    \n",
      "# Frames before spike in cutout: 6                                             \n",
      "# Frames after spike in cutout: 32                                             \n",
      "# tcuts: 51 77                                                                 \n",
      "# tInc: 1000000                                                                \n",
      "# Analysing frames from -51 to 1000077  (0.0%)                                 \n",
      "# Analysing frames from 999949 to 2000077  (10.4%)                             \n",
      "# Analysing frames from 1999949 to 3000077  (20.8%)                            \n",
      "# Analysing frames from 2999949 to 4000077  (31.2%)                            \n",
      "# Analysing frames from 3999949 to 5000077  (41.7%)                            \n",
      "# Analysing frames from 4999949 to 6000077  (52.1%)                            \n",
      "# Analysing frames from 5999949 to 7000077  (62.5%)                            \n",
      "# Analysing frames from 6999949 to 8000077  (72.9%)                            \n",
      "# Analysing frames from 7999949 to 9000077  (83.3%)                            \n",
      "# Analysing frames from 8999949 to 9600000  (93.8%)                            \n",
      "# Detection completed, time taken: 0:00:15.906555                              \n",
      "# Time per frame: 0:00:00.001657                                               \n",
      "# Time per sample: 0:00:00.000055                                              \n",
      "Loaded 50572 spikes.                                                           \n",
      "Fitting dimensionality reduction using all spikes...                           \n",
      "...projecting...                                                               \n",
      "...done                                                                        \n",
      "Clustering...                                                                  \n",
      "Clustering 50572 spikes...                                                     \n",
      "number of seeds: 1305                                                          \n",
      "seeds/job: 55                                                                  \n",
      "using 24 cpus                                                                  \n",
      " 34%|███▍      | 27/80 [11:15<28:12, 31.94s/it, best loss: -0.7254004576659039]"
     ]
    },
    {
     "name": "stderr",
     "output_type": "stream",
     "text": [
      "[Parallel(n_jobs=24)]: Using backend LokyBackend with 24 concurrent workers.\n",
      "\n",
      "[Parallel(n_jobs=24)]: Done   3 out of  24 | elapsed:    4.5s remaining:   31.2s\n",
      "\n",
      "[Parallel(n_jobs=24)]: Done  16 out of  24 | elapsed:    4.9s remaining:    2.4s\n",
      "\n",
      "[Parallel(n_jobs=24)]: Done  24 out of  24 | elapsed:    5.1s finished\n",
      "\n"
     ]
    },
    {
     "name": "stdout",
     "output_type": "stream",
     "text": [
      "Number of estimated units:                                                     \n",
      "98                                                                             \n",
      "Saving to                                                                      \n",
      "/disk/scratch/mhennig/spikeinterface/spikeoptimizer-develop/optimization_27/HS2_sorted.hdf5\n",
      "Warning: sampling frequency information not found. Setting delta_frames to 10. \n",
      "score:                                                                         \n",
      "-0.3320862487505355                                                            \n",
      "chosen values:                                                                 \n",
      "{'ahpthr': 26.0, 'clustering_alpha': 14.245976351722438, 'clustering_bandwidth': 5.561145176699372, 'detection_threshold': 4.0, 'maa': 8.0, 'probe_event_length': 0.10584372528194556, 'probe_inner_radius': 60.0, 'probe_neighbor_radius': 106.0}\n",
      "Clustering spikes with parameters: {'ahpthr': 26.0, 'clustering_alpha': 14.245976351722438, 'clustering_bandwidth': 5.561145176699372, 'detection_threshold': 4.0, 'maa': 8.0, 'probe_event_length': 0.10584372528194556, 'probe_inner_radius': 60.0, 'probe_neighbor_radius': 106.0}\n",
      "# Generating new position and neighbor files from data file                    \n",
      "# Not Masking any Channels                                                     \n",
      "# Sampling rate: 32000                                                         \n",
      "# Localization On                                                              \n",
      "# Number of recorded channels: 30                                              \n",
      "# Analysing frames: 9600000; Seconds: 300.0                                    \n",
      "# Frames before spike in cutout: 6                                             \n",
      "# Frames after spike in cutout: 32                                             \n",
      "# tcuts: 51 77                                                                 \n",
      "# tInc: 1000000                                                                \n",
      "# Analysing frames from -51 to 1000077  (0.0%)                                 \n",
      "# Analysing frames from 999949 to 2000077  (10.4%)                             \n",
      "# Analysing frames from 1999949 to 3000077  (20.8%)                            \n",
      "# Analysing frames from 2999949 to 4000077  (31.2%)                            \n",
      "# Analysing frames from 3999949 to 5000077  (41.7%)                            \n",
      "# Analysing frames from 4999949 to 6000077  (52.1%)                            \n",
      "# Analysing frames from 5999949 to 7000077  (62.5%)                            \n",
      "# Analysing frames from 6999949 to 8000077  (72.9%)                            \n",
      "# Analysing frames from 7999949 to 9000077  (83.3%)                            \n",
      "# Analysing frames from 8999949 to 9600000  (93.8%)                            \n",
      "# Detection completed, time taken: 0:00:17.334511                              \n",
      "# Time per frame: 0:00:00.001806                                               \n",
      "# Time per sample: 0:00:00.000060                                              \n",
      "Loaded 70138 spikes.                                                           \n",
      "Fitting dimensionality reduction using all spikes...                           \n",
      "...projecting...                                                               \n",
      "...done                                                                        \n",
      "Clustering...                                                                  \n",
      "Clustering 70138 spikes...                                                     \n",
      "number of seeds: 2102                                                          \n",
      "seeds/job: 88                                                                  \n",
      "using 24 cpus                                                                  \n",
      " 35%|███▌      | 28/80 [11:45<26:54, 31.05s/it, best loss: -0.7254004576659039]"
     ]
    },
    {
     "name": "stderr",
     "output_type": "stream",
     "text": [
      "[Parallel(n_jobs=24)]: Using backend LokyBackend with 24 concurrent workers.\n",
      "\n",
      "[Parallel(n_jobs=24)]: Done   3 out of  24 | elapsed:    7.0s remaining:   49.1s\n",
      "\n",
      "[Parallel(n_jobs=24)]: Done  16 out of  24 | elapsed:    7.5s remaining:    3.7s\n",
      "\n"
     ]
    },
    {
     "name": "stdout",
     "output_type": "stream",
     "text": [
      "Number of estimated units:                                                     \n",
      "154                                                                            \n",
      "Saving to                                                                      \n",
      "/disk/scratch/mhennig/spikeinterface/spikeoptimizer-develop/optimization_28/HS2_sorted.hdf5\n",
      " 35%|███▌      | 28/80 [11:54<26:54, 31.05s/it, best loss: -0.7254004576659039]"
     ]
    },
    {
     "name": "stderr",
     "output_type": "stream",
     "text": [
      "[Parallel(n_jobs=24)]: Done  24 out of  24 | elapsed:    7.8s finished\n",
      "\n"
     ]
    },
    {
     "name": "stdout",
     "output_type": "stream",
     "text": [
      "Warning: sampling frequency information not found. Setting delta_frames to 10. \n",
      "score:                                                                         \n",
      "-0.5747658371667683                                                            \n",
      "chosen values:                                                                 \n",
      "{'ahpthr': 23.0, 'clustering_alpha': 4.961095082130396, 'clustering_bandwidth': 4.49375517630502, 'detection_threshold': -12.0, 'maa': 8.0, 'probe_event_length': 0.22833848207767246, 'probe_inner_radius': 71.0, 'probe_neighbor_radius': 115.0}\n",
      "Clustering spikes with parameters: {'ahpthr': 23.0, 'clustering_alpha': 4.961095082130396, 'clustering_bandwidth': 4.49375517630502, 'detection_threshold': -12.0, 'maa': 8.0, 'probe_event_length': 0.22833848207767246, 'probe_inner_radius': 71.0, 'probe_neighbor_radius': 115.0}\n",
      "# Generating new position and neighbor files from data file                    \n",
      "# Not Masking any Channels                                                     \n",
      "# Sampling rate: 32000                                                         \n",
      "# Localization On                                                              \n",
      "# Number of recorded channels: 30                                              \n",
      "# Analysing frames: 9600000; Seconds: 300.0                                    \n",
      "# Frames before spike in cutout: 6                                             \n",
      "# Frames after spike in cutout: 32                                             \n",
      "# tcuts: 51 77                                                                 \n",
      "# tInc: 1000000                                                                \n",
      "# Analysing frames from -51 to 1000077  (0.0%)                                 \n",
      "# Analysing frames from 999949 to 2000077  (10.4%)                             \n",
      "# Analysing frames from 1999949 to 3000077  (20.8%)                            \n",
      "# Analysing frames from 2999949 to 4000077  (31.2%)                            \n",
      "# Analysing frames from 3999949 to 5000077  (41.7%)                            \n",
      "# Analysing frames from 4999949 to 6000077  (52.1%)                            \n",
      "# Analysing frames from 5999949 to 7000077  (62.5%)                            \n",
      "# Analysing frames from 6999949 to 8000077  (72.9%)                            \n",
      "# Analysing frames from 7999949 to 9000077  (83.3%)                            \n",
      "# Analysing frames from 8999949 to 9600000  (93.8%)                            \n",
      "# Detection completed, time taken: 0:00:17.935574                              \n",
      "# Time per frame: 0:00:00.001868                                               \n",
      "# Time per sample: 0:00:00.000062                                              \n",
      "Loaded 86542 spikes.                                                           \n",
      "Fitting dimensionality reduction using all spikes...                           \n",
      "...projecting...                                                               \n",
      "...done                                                                        \n",
      "Clustering...                                                                  \n",
      "Clustering 86542 spikes...                                                     \n",
      "number of seeds: 1958                                                          \n",
      "seeds/job: 82                                                                  \n",
      "using 24 cpus                                                                  \n",
      " 36%|███▋      | 29/80 [12:20<27:03, 31.83s/it, best loss: -0.7254004576659039]"
     ]
    },
    {
     "name": "stderr",
     "output_type": "stream",
     "text": [
      "[Parallel(n_jobs=24)]: Using backend LokyBackend with 24 concurrent workers.\n",
      "\n",
      "[Parallel(n_jobs=24)]: Done   3 out of  24 | elapsed:    7.9s remaining:   55.5s\n",
      "\n",
      "[Parallel(n_jobs=24)]: Done  16 out of  24 | elapsed:    8.5s remaining:    4.2s\n",
      "\n"
     ]
    },
    {
     "name": "stdout",
     "output_type": "stream",
     "text": [
      "Number of estimated units:                                                     \n",
      "79                                                                             \n",
      "Saving to                                                                      \n",
      "/disk/scratch/mhennig/spikeinterface/spikeoptimizer-develop/optimization_29/HS2_sorted.hdf5\n",
      " 36%|███▋      | 29/80 [12:29<27:03, 31.83s/it, best loss: -0.7254004576659039]"
     ]
    },
    {
     "name": "stderr",
     "output_type": "stream",
     "text": [
      "[Parallel(n_jobs=24)]: Done  24 out of  24 | elapsed:    8.8s finished\n",
      "\n"
     ]
    },
    {
     "name": "stdout",
     "output_type": "stream",
     "text": [
      "Warning: sampling frequency information not found. Setting delta_frames to 10. \n",
      "score:                                                                         \n",
      "-0.707446391725651                                                             \n",
      "chosen values:                                                                 \n",
      "{'ahpthr': 24.0, 'clustering_alpha': 8.754122926652556, 'clustering_bandwidth': 4.004917928827599, 'detection_threshold': -11.0, 'maa': 6.0, 'probe_event_length': 0.23441908383260635, 'probe_inner_radius': 67.0, 'probe_neighbor_radius': 107.0}\n",
      "Clustering spikes with parameters: {'ahpthr': 24.0, 'clustering_alpha': 8.754122926652556, 'clustering_bandwidth': 4.004917928827599, 'detection_threshold': -11.0, 'maa': 6.0, 'probe_event_length': 0.23441908383260635, 'probe_inner_radius': 67.0, 'probe_neighbor_radius': 107.0}\n",
      "# Generating new position and neighbor files from data file                    \n",
      "# Not Masking any Channels                                                     \n",
      "# Sampling rate: 32000                                                         \n",
      "# Localization On                                                              \n",
      "# Number of recorded channels: 30                                              \n",
      "# Analysing frames: 9600000; Seconds: 300.0                                    \n",
      "# Frames before spike in cutout: 6                                             \n",
      "# Frames after spike in cutout: 32                                             \n",
      "# tcuts: 51 77                                                                 \n",
      "# tInc: 1000000                                                                \n",
      "# Analysing frames from -51 to 1000077  (0.0%)                                 \n",
      "# Analysing frames from 999949 to 2000077  (10.4%)                             \n",
      "# Analysing frames from 1999949 to 3000077  (20.8%)                            \n",
      "# Analysing frames from 2999949 to 4000077  (31.2%)                            \n",
      "# Analysing frames from 3999949 to 5000077  (41.7%)                            \n",
      "# Analysing frames from 4999949 to 6000077  (52.1%)                            \n",
      "# Analysing frames from 5999949 to 7000077  (62.5%)                            \n",
      "# Analysing frames from 6999949 to 8000077  (72.9%)                            \n",
      "# Analysing frames from 7999949 to 9000077  (83.3%)                            \n",
      "# Analysing frames from 8999949 to 9600000  (93.8%)                            \n",
      "# Detection completed, time taken: 0:00:19.112017                              \n",
      "# Time per frame: 0:00:00.001991                                               \n",
      "# Time per sample: 0:00:00.000066                                              \n",
      "Loaded 190857 spikes.                                                          \n",
      "Fitting dimensionality reduction using all spikes...                           \n",
      "...projecting...                                                               \n",
      "...done                                                                        \n",
      "Clustering...                                                                  \n",
      "Clustering 190857 spikes...                                                    \n",
      "number of seeds: 5450                                                          \n",
      "seeds/job: 228                                                                 \n",
      "using 24 cpus                                                                  \n",
      " 38%|███▊      | 30/80 [12:59<27:29, 32.99s/it, best loss: -0.7254004576659039]"
     ]
    },
    {
     "name": "stderr",
     "output_type": "stream",
     "text": [
      "[Parallel(n_jobs=24)]: Using backend LokyBackend with 24 concurrent workers.\n",
      "\n",
      "[Parallel(n_jobs=24)]: Done   3 out of  24 | elapsed:   11.8s remaining:  1.4min\n",
      "\n",
      "[Parallel(n_jobs=24)]: Done  16 out of  24 | elapsed:   12.4s remaining:    6.2s\n",
      "\n",
      "[Parallel(n_jobs=24)]: Done  24 out of  24 | elapsed:   12.8s finished\n",
      "\n"
     ]
    },
    {
     "name": "stdout",
     "output_type": "stream",
     "text": [
      "Number of estimated units:                                                     \n",
      "230                                                                            \n",
      "Saving to                                                                      \n",
      "/disk/scratch/mhennig/spikeinterface/spikeoptimizer-develop/optimization_30/HS2_sorted.hdf5\n",
      "Warning: sampling frequency information not found. Setting delta_frames to 10. \n",
      "score:                                                                         \n",
      "-0.39945034914046945                                                           \n",
      "chosen values:                                                                 \n",
      "{'ahpthr': 16.0, 'clustering_alpha': 14.661558016712442, 'clustering_bandwidth': 5.290057296743766, 'detection_threshold': 4.0, 'maa': 4.0, 'probe_event_length': 0.12433566885721511, 'probe_inner_radius': 68.0, 'probe_neighbor_radius': 116.0}\n",
      "Clustering spikes with parameters: {'ahpthr': 16.0, 'clustering_alpha': 14.661558016712442, 'clustering_bandwidth': 5.290057296743766, 'detection_threshold': 4.0, 'maa': 4.0, 'probe_event_length': 0.12433566885721511, 'probe_inner_radius': 68.0, 'probe_neighbor_radius': 116.0}\n",
      "# Generating new position and neighbor files from data file                    \n",
      "# Not Masking any Channels                                                     \n",
      "# Sampling rate: 32000                                                         \n",
      "# Localization On                                                              \n",
      "# Number of recorded channels: 30                                              \n",
      "# Analysing frames: 9600000; Seconds: 300.0                                    \n",
      "# Frames before spike in cutout: 6                                             \n",
      "# Frames after spike in cutout: 32                                             \n",
      "# tcuts: 51 77                                                                 \n",
      "# tInc: 1000000                                                                \n",
      "# Analysing frames from -51 to 1000077  (0.0%)                                 \n",
      "# Analysing frames from 999949 to 2000077  (10.4%)                             \n",
      "# Analysing frames from 1999949 to 3000077  (20.8%)                            \n",
      "# Analysing frames from 2999949 to 4000077  (31.2%)                            \n",
      "# Analysing frames from 3999949 to 5000077  (41.7%)                            \n",
      "# Analysing frames from 4999949 to 6000077  (52.1%)                            \n",
      "# Analysing frames from 5999949 to 7000077  (62.5%)                            \n",
      "# Analysing frames from 6999949 to 8000077  (72.9%)                            \n",
      "# Analysing frames from 7999949 to 9000077  (83.3%)                            \n",
      "# Analysing frames from 8999949 to 9600000  (93.8%)                            \n",
      "# Detection completed, time taken: 0:00:19.197855                              \n",
      "# Time per frame: 0:00:00.002000                                               \n",
      "# Time per sample: 0:00:00.000067                                              \n",
      "Loaded 289171 spikes.                                                          \n",
      "Fitting dimensionality reduction using all spikes...                           \n",
      "...projecting...                                                               \n",
      "...done                                                                        \n",
      "Clustering...                                                                  \n",
      "Clustering 289171 spikes...                                                    \n",
      "number of seeds: 7809                                                          \n",
      "seeds/job: 326                                                                 \n",
      "using 24 cpus                                                                  \n",
      " 39%|███▉      | 31/80 [13:43<29:24, 36.01s/it, best loss: -0.7254004576659039]"
     ]
    },
    {
     "name": "stderr",
     "output_type": "stream",
     "text": [
      "[Parallel(n_jobs=24)]: Using backend LokyBackend with 24 concurrent workers.\n",
      "\n",
      "[Parallel(n_jobs=24)]: Done   3 out of  24 | elapsed:   26.0s remaining:  3.0min\n",
      "\n",
      "[Parallel(n_jobs=24)]: Done  16 out of  24 | elapsed:   27.5s remaining:   13.8s\n",
      "\n",
      "[Parallel(n_jobs=24)]: Done  24 out of  24 | elapsed:   32.8s finished\n",
      "\n"
     ]
    },
    {
     "name": "stdout",
     "output_type": "stream",
     "text": [
      "Number of estimated units:                                                     \n",
      "260                                                                            \n",
      "Saving to                                                                      \n",
      "/disk/scratch/mhennig/spikeinterface/spikeoptimizer-develop/optimization_31/HS2_sorted.hdf5\n",
      "Warning: sampling frequency information not found. Setting delta_frames to 10. \n",
      "score:                                                                         \n",
      "-0.21332907236861218                                                           \n",
      "chosen values:                                                                 \n",
      "{'ahpthr': 30.0, 'clustering_alpha': 12.361408314093145, 'clustering_bandwidth': 10.21873586295837, 'detection_threshold': -7.0, 'maa': 9.0, 'probe_event_length': 0.20483410523955523, 'probe_inner_radius': 72.0, 'probe_neighbor_radius': 110.0}\n",
      "Clustering spikes with parameters: {'ahpthr': 30.0, 'clustering_alpha': 12.361408314093145, 'clustering_bandwidth': 10.21873586295837, 'detection_threshold': -7.0, 'maa': 9.0, 'probe_event_length': 0.20483410523955523, 'probe_inner_radius': 72.0, 'probe_neighbor_radius': 110.0}\n",
      "# Generating new position and neighbor files from data file                    \n",
      "# Not Masking any Channels                                                     \n",
      "# Sampling rate: 32000                                                         \n",
      "# Localization On                                                              \n",
      "# Number of recorded channels: 30                                              \n",
      "# Analysing frames: 9600000; Seconds: 300.0                                    \n",
      "# Frames before spike in cutout: 6                                             \n",
      "# Frames after spike in cutout: 32                                             \n",
      "# tcuts: 51 77                                                                 \n",
      "# tInc: 1000000                                                                \n",
      "# Analysing frames from -51 to 1000077  (0.0%)                                 \n",
      "# Analysing frames from 999949 to 2000077  (10.4%)                             \n",
      "# Analysing frames from 1999949 to 3000077  (20.8%)                            \n",
      "# Analysing frames from 2999949 to 4000077  (31.2%)                            \n",
      "# Analysing frames from 3999949 to 5000077  (41.7%)                            \n",
      "# Analysing frames from 4999949 to 6000077  (52.1%)                            \n",
      "# Analysing frames from 5999949 to 7000077  (62.5%)                            \n",
      "# Analysing frames from 6999949 to 8000077  (72.9%)                            \n",
      "# Analysing frames from 7999949 to 9000077  (83.3%)                            \n",
      "# Analysing frames from 8999949 to 9600000  (93.8%)                            \n",
      "# Detection completed, time taken: 0:00:17.656634                              \n",
      "# Time per frame: 0:00:00.001839                                               \n",
      "# Time per sample: 0:00:00.000061                                              \n",
      "Loaded 68532 spikes.                                                           \n",
      "Fitting dimensionality reduction using all spikes...                           \n",
      "...projecting...                                                               \n",
      "...done                                                                        \n",
      "Clustering...                                                                  \n",
      "Clustering 68532 spikes...                                                     \n",
      "number of seeds: 815                                                           \n",
      "seeds/job: 34                                                                  \n",
      "using 24 cpus                                                                  \n",
      " 40%|████      | 32/80 [14:42<35:35, 44.50s/it, best loss: -0.7254004576659039]"
     ]
    },
    {
     "name": "stderr",
     "output_type": "stream",
     "text": [
      "[Parallel(n_jobs=24)]: Using backend LokyBackend with 24 concurrent workers.\n",
      "\n",
      "[Parallel(n_jobs=24)]: Done   3 out of  24 | elapsed:    4.5s remaining:   31.7s\n",
      "\n"
     ]
    },
    {
     "name": "stdout",
     "output_type": "stream",
     "text": [
      "Number of estimated units:                                                     \n",
      "26                                                                             \n",
      "Saving to                                                                      \n",
      "/disk/scratch/mhennig/spikeinterface/spikeoptimizer-develop/optimization_32/HS2_sorted.hdf5\n",
      " 40%|████      | 32/80 [14:48<35:35, 44.50s/it, best loss: -0.7254004576659039]"
     ]
    },
    {
     "name": "stderr",
     "output_type": "stream",
     "text": [
      "[Parallel(n_jobs=24)]: Done  16 out of  24 | elapsed:    4.7s remaining:    2.4s\n",
      "\n",
      "[Parallel(n_jobs=24)]: Done  24 out of  24 | elapsed:    4.8s finished\n",
      "\n"
     ]
    },
    {
     "name": "stdout",
     "output_type": "stream",
     "text": [
      "Warning: sampling frequency information not found. Setting delta_frames to 10. \n",
      "score:                                                                         \n",
      "-0.6183387913069366                                                            \n",
      "chosen values:                                                                 \n",
      "{'ahpthr': 6.0, 'clustering_alpha': 13.193196979066228, 'clustering_bandwidth': 5.913156214693663, 'detection_threshold': -16.0, 'maa': 6.0, 'probe_event_length': 0.15511224421738273, 'probe_inner_radius': 74.0, 'probe_neighbor_radius': 89.0}\n",
      "Clustering spikes with parameters: {'ahpthr': 6.0, 'clustering_alpha': 13.193196979066228, 'clustering_bandwidth': 5.913156214693663, 'detection_threshold': -16.0, 'maa': 6.0, 'probe_event_length': 0.15511224421738273, 'probe_inner_radius': 74.0, 'probe_neighbor_radius': 89.0}\n",
      "# Generating new position and neighbor files from data file                    \n",
      "# Not Masking any Channels                                                     \n",
      "# Sampling rate: 32000                                                         \n",
      "# Localization On                                                              \n",
      "# Number of recorded channels: 30                                              \n",
      "# Analysing frames: 9600000; Seconds: 300.0                                    \n",
      "# Frames before spike in cutout: 6                                             \n",
      "# Frames after spike in cutout: 32                                             \n",
      "# tcuts: 51 77                                                                 \n",
      "# tInc: 1000000                                                                \n",
      "# Analysing frames from -51 to 1000077  (0.0%)                                 \n",
      "# Analysing frames from 999949 to 2000077  (10.4%)                             \n",
      "# Analysing frames from 1999949 to 3000077  (20.8%)                            \n",
      "# Analysing frames from 2999949 to 4000077  (31.2%)                            \n",
      "# Analysing frames from 3999949 to 5000077  (41.7%)                            \n",
      "# Analysing frames from 4999949 to 6000077  (52.1%)                            \n",
      "# Analysing frames from 5999949 to 7000077  (62.5%)                            \n",
      "# Analysing frames from 6999949 to 8000077  (72.9%)                            \n",
      "# Analysing frames from 7999949 to 9000077  (83.3%)                            \n",
      "# Analysing frames from 8999949 to 9600000  (93.8%)                            \n",
      "# Detection completed, time taken: 0:00:18.858570                              \n",
      "# Time per frame: 0:00:00.001964                                               \n",
      "# Time per sample: 0:00:00.000065                                              \n",
      "Loaded 197777 spikes.                                                          \n",
      "Fitting dimensionality reduction using all spikes...                           \n",
      "...projecting...                                                               \n",
      "...done                                                                        \n",
      "Clustering...                                                                  \n",
      "Clustering 197777 spikes...                                                    \n",
      "number of seeds: 4421                                                          \n",
      "seeds/job: 185                                                                 \n",
      "using 24 cpus                                                                  \n",
      " 41%|████▏     | 33/80 [15:16<31:37, 40.38s/it, best loss: -0.7254004576659039]"
     ]
    },
    {
     "name": "stderr",
     "output_type": "stream",
     "text": [
      "[Parallel(n_jobs=24)]: Using backend LokyBackend with 24 concurrent workers.\n",
      "\n",
      "[Parallel(n_jobs=24)]: Done   3 out of  24 | elapsed:   14.4s remaining:  1.7min\n",
      "\n",
      "[Parallel(n_jobs=24)]: Done  16 out of  24 | elapsed:   14.9s remaining:    7.5s\n",
      "\n",
      "[Parallel(n_jobs=24)]: Done  24 out of  24 | elapsed:   15.9s finished\n",
      "\n"
     ]
    },
    {
     "name": "stdout",
     "output_type": "stream",
     "text": [
      "Number of estimated units:                                                     \n",
      "121                                                                            \n",
      "Saving to                                                                      \n",
      "/disk/scratch/mhennig/spikeinterface/spikeoptimizer-develop/optimization_33/HS2_sorted.hdf5\n",
      "Warning: sampling frequency information not found. Setting delta_frames to 10. \n",
      "score:                                                                         \n",
      "-0.48564084137206665                                                           \n",
      "chosen values:                                                                 \n",
      "{'ahpthr': 20.0, 'clustering_alpha': 9.115295825571195, 'clustering_bandwidth': 4.8049849520132275, 'detection_threshold': 10.0, 'maa': 8.0, 'probe_event_length': 0.19061179940988235, 'probe_inner_radius': 60.0, 'probe_neighbor_radius': 102.0}\n",
      "Clustering spikes with parameters: {'ahpthr': 20.0, 'clustering_alpha': 9.115295825571195, 'clustering_bandwidth': 4.8049849520132275, 'detection_threshold': 10.0, 'maa': 8.0, 'probe_event_length': 0.19061179940988235, 'probe_inner_radius': 60.0, 'probe_neighbor_radius': 102.0}\n",
      "# Generating new position and neighbor files from data file                    \n",
      "# Not Masking any Channels                                                     \n",
      "# Sampling rate: 32000                                                         \n",
      "# Localization On                                                              \n",
      "# Number of recorded channels: 30                                              \n",
      "# Analysing frames: 9600000; Seconds: 300.0                                    \n",
      "# Frames before spike in cutout: 6                                             \n",
      "# Frames after spike in cutout: 32                                             \n",
      "# tcuts: 51 77                                                                 \n",
      "# tInc: 1000000                                                                \n",
      "# Analysing frames from -51 to 1000077  (0.0%)                                 \n",
      "# Analysing frames from 999949 to 2000077  (10.4%)                             \n",
      "# Analysing frames from 1999949 to 3000077  (20.8%)                            \n",
      "# Analysing frames from 2999949 to 4000077  (31.2%)                            \n",
      "# Analysing frames from 3999949 to 5000077  (41.7%)                            \n",
      "# Analysing frames from 4999949 to 6000077  (52.1%)                            \n",
      "# Analysing frames from 5999949 to 7000077  (62.5%)                            \n",
      "# Analysing frames from 6999949 to 8000077  (72.9%)                            \n",
      "# Analysing frames from 7999949 to 9000077  (83.3%)                            \n",
      "# Analysing frames from 8999949 to 9600000  (93.8%)                            \n",
      "# Detection completed, time taken: 0:00:15.416008                              \n",
      "# Time per frame: 0:00:00.001606                                               \n",
      "# Time per sample: 0:00:00.000054                                              \n",
      "Loaded 39905 spikes.                                                           \n",
      "Fitting dimensionality reduction using all spikes...                           \n",
      "...projecting...                                                               \n",
      "...done                                                                        \n",
      "Clustering...                                                                  \n",
      "Clustering 39905 spikes...                                                     \n",
      "number of seeds: 842                                                           \n",
      "seeds/job: 36                                                                  \n",
      "using 24 cpus                                                                  \n",
      " 42%|████▎     | 34/80 [15:56<32:09, 41.94s/it, best loss: -0.7254004576659039]"
     ]
    },
    {
     "name": "stderr",
     "output_type": "stream",
     "text": [
      "[Parallel(n_jobs=24)]: Using backend LokyBackend with 24 concurrent workers.\n",
      "\n",
      "[Parallel(n_jobs=24)]: Done   3 out of  24 | elapsed:    4.1s remaining:   28.6s\n",
      "\n",
      "[Parallel(n_jobs=24)]: Done  16 out of  24 | elapsed:    4.2s remaining:    2.1s\n",
      "\n"
     ]
    },
    {
     "name": "stdout",
     "output_type": "stream",
     "text": [
      "Number of estimated units:                                                     \n",
      "33                                                                             \n",
      "Saving to                                                                      \n",
      "/disk/scratch/mhennig/spikeinterface/spikeoptimizer-develop/optimization_34/HS2_sorted.hdf5\n",
      " 42%|████▎     | 34/80 [16:01<32:09, 41.94s/it, best loss: -0.7254004576659039]"
     ]
    },
    {
     "name": "stderr",
     "output_type": "stream",
     "text": [
      "[Parallel(n_jobs=24)]: Done  24 out of  24 | elapsed:    4.4s finished\n",
      "\n"
     ]
    },
    {
     "name": "stdout",
     "output_type": "stream",
     "text": [
      "Warning: sampling frequency information not found. Setting delta_frames to 10. \n",
      "score:                                                                         \n",
      "-0.7743108569525026                                                            \n",
      "chosen values:                                                                 \n",
      "{'ahpthr': 21.0, 'clustering_alpha': 3.0910561329861697, 'clustering_bandwidth': 3.2645056219804562, 'detection_threshold': 13.0, 'maa': 8.0, 'probe_event_length': 0.1706445627765308, 'probe_inner_radius': 62.0, 'probe_neighbor_radius': 102.0}\n",
      "Clustering spikes with parameters: {'ahpthr': 21.0, 'clustering_alpha': 3.0910561329861697, 'clustering_bandwidth': 3.2645056219804562, 'detection_threshold': 13.0, 'maa': 8.0, 'probe_event_length': 0.1706445627765308, 'probe_inner_radius': 62.0, 'probe_neighbor_radius': 102.0}\n",
      "# Generating new position and neighbor files from data file                    \n",
      "# Not Masking any Channels                                                     \n",
      "# Sampling rate: 32000                                                         \n",
      "# Localization On                                                              \n",
      "# Number of recorded channels: 30                                              \n",
      "# Analysing frames: 9600000; Seconds: 300.0                                    \n",
      "# Frames before spike in cutout: 6                                             \n",
      "# Frames after spike in cutout: 32                                             \n",
      "# tcuts: 51 77                                                                 \n",
      "# tInc: 1000000                                                                \n",
      "# Analysing frames from -51 to 1000077  (0.0%)                                 \n",
      "# Analysing frames from 999949 to 2000077  (10.4%)                             \n",
      "# Analysing frames from 1999949 to 3000077  (20.8%)                            \n",
      "# Analysing frames from 2999949 to 4000077  (31.2%)                            \n",
      "# Analysing frames from 3999949 to 5000077  (41.7%)                            \n",
      "# Analysing frames from 4999949 to 6000077  (52.1%)                            \n",
      "# Analysing frames from 5999949 to 7000077  (62.5%)                            \n",
      "# Analysing frames from 6999949 to 8000077  (72.9%)                            \n",
      "# Analysing frames from 7999949 to 9000077  (83.3%)                            \n",
      "# Analysing frames from 8999949 to 9600000  (93.8%)                            \n",
      "# Detection completed, time taken: 0:00:15.088212                              \n",
      "# Time per frame: 0:00:00.001572                                               \n",
      "# Time per sample: 0:00:00.000052                                              \n",
      "Loaded 35901 spikes.                                                           \n",
      "Fitting dimensionality reduction using all spikes...                           \n",
      "...projecting...                                                               \n",
      "...done                                                                        \n",
      "Clustering...                                                                  \n",
      "Clustering 35901 spikes...                                                     \n",
      "number of seeds: 603                                                           \n",
      "seeds/job: 26                                                                  \n",
      "using 24 cpus                                                                  \n",
      " 44%|████▍     | 35/80 [16:24<28:17, 37.73s/it, best loss: -0.7743108569525026]"
     ]
    },
    {
     "name": "stderr",
     "output_type": "stream",
     "text": [
      "[Parallel(n_jobs=24)]: Using backend LokyBackend with 24 concurrent workers.\n",
      "\n",
      "[Parallel(n_jobs=24)]: Done   3 out of  24 | elapsed:    3.5s remaining:   24.3s\n",
      "\n",
      "[Parallel(n_jobs=24)]: Done  16 out of  24 | elapsed:    3.7s remaining:    1.8s\n",
      "\n",
      "[Parallel(n_jobs=24)]: Done  24 out of  24 | elapsed:    3.9s finished\n",
      "\n"
     ]
    },
    {
     "name": "stdout",
     "output_type": "stream",
     "text": [
      "Number of estimated units:                                                     \n",
      "27                                                                             \n",
      "Saving to                                                                      \n",
      "/disk/scratch/mhennig/spikeinterface/spikeoptimizer-develop/optimization_35/HS2_sorted.hdf5\n",
      "Warning: sampling frequency information not found. Setting delta_frames to 10. \n",
      "score:                                                                         \n",
      "-0.7707190612634739                                                            \n",
      "chosen values:                                                                 \n",
      "{'ahpthr': -3.0, 'clustering_alpha': 3.071691853753852, 'clustering_bandwidth': 3.0038501410376366, 'detection_threshold': 10.0, 'maa': 4.0, 'probe_event_length': 0.14663255444564532, 'probe_inner_radius': 60.0, 'probe_neighbor_radius': 102.0}\n",
      "Clustering spikes with parameters: {'ahpthr': -3.0, 'clustering_alpha': 3.071691853753852, 'clustering_bandwidth': 3.0038501410376366, 'detection_threshold': 10.0, 'maa': 4.0, 'probe_event_length': 0.14663255444564532, 'probe_inner_radius': 60.0, 'probe_neighbor_radius': 102.0}\n",
      "# Generating new position and neighbor files from data file                    \n",
      "# Not Masking any Channels                                                     \n",
      "# Sampling rate: 32000                                                         \n",
      "# Localization On                                                              \n",
      "# Number of recorded channels: 30                                              \n",
      "# Analysing frames: 9600000; Seconds: 300.0                                    \n",
      "# Frames before spike in cutout: 6                                             \n",
      "# Frames after spike in cutout: 32                                             \n",
      "# tcuts: 51 77                                                                 \n",
      "# tInc: 1000000                                                                \n",
      "# Analysing frames from -51 to 1000077  (0.0%)                                 \n",
      "# Analysing frames from 999949 to 2000077  (10.4%)                             \n",
      "# Analysing frames from 1999949 to 3000077  (20.8%)                            \n",
      "# Analysing frames from 2999949 to 4000077  (31.2%)                            \n",
      "# Analysing frames from 3999949 to 5000077  (41.7%)                            \n",
      "# Analysing frames from 4999949 to 6000077  (52.1%)                            \n",
      "# Analysing frames from 5999949 to 7000077  (62.5%)                            \n",
      "# Analysing frames from 6999949 to 8000077  (72.9%)                            \n",
      "# Analysing frames from 7999949 to 9000077  (83.3%)                            \n",
      "# Analysing frames from 8999949 to 9600000  (93.8%)                            \n",
      "# Detection completed, time taken: 0:00:15.486553                              \n",
      "# Time per frame: 0:00:00.001613                                               \n",
      "# Time per sample: 0:00:00.000054                                              \n",
      "Loaded 43316 spikes.                                                           \n",
      "Fitting dimensionality reduction using all spikes...                           \n",
      "...projecting...                                                               \n",
      "...done                                                                        \n",
      "Clustering...                                                                  \n",
      "Clustering 43316 spikes...                                                     \n",
      "number of seeds: 916                                                           \n",
      "seeds/job: 39                                                                  \n",
      "using 24 cpus                                                                  \n",
      " 45%|████▌     | 36/80 [16:52<25:23, 34.62s/it, best loss: -0.7743108569525026]"
     ]
    },
    {
     "name": "stderr",
     "output_type": "stream",
     "text": [
      "[Parallel(n_jobs=24)]: Using backend LokyBackend with 24 concurrent workers.\n",
      "\n",
      "[Parallel(n_jobs=24)]: Done   3 out of  24 | elapsed:    3.9s remaining:   27.5s\n",
      "\n",
      "[Parallel(n_jobs=24)]: Done  16 out of  24 | elapsed:    4.0s remaining:    2.0s\n",
      "\n"
     ]
    },
    {
     "name": "stdout",
     "output_type": "stream",
     "text": [
      "Number of estimated units:                                                     \n",
      "63                                                                             \n",
      "Saving to                                                                      \n",
      "/disk/scratch/mhennig/spikeinterface/spikeoptimizer-develop/optimization_36/HS2_sorted.hdf5\n",
      "Warning: sampling frequency information not found. Setting delta_frames to 10. \n",
      " 45%|████▌     | 36/80 [16:57<25:23, 34.62s/it, best loss: -0.7743108569525026]"
     ]
    },
    {
     "name": "stderr",
     "output_type": "stream",
     "text": [
      "[Parallel(n_jobs=24)]: Done  24 out of  24 | elapsed:    4.2s finished\n",
      "\n"
     ]
    },
    {
     "name": "stdout",
     "output_type": "stream",
     "text": [
      "score:                                                                         \n",
      "-0.7604543384499987                                                            \n",
      "chosen values:                                                                 \n",
      "{'ahpthr': 20.0, 'clustering_alpha': 4.700263469512542, 'clustering_bandwidth': 4.1320702860584975, 'detection_threshold': 11.0, 'maa': 8.0, 'probe_event_length': 0.12295458382415853, 'probe_inner_radius': 63.0, 'probe_neighbor_radius': 98.0}\n",
      "Clustering spikes with parameters: {'ahpthr': 20.0, 'clustering_alpha': 4.700263469512542, 'clustering_bandwidth': 4.1320702860584975, 'detection_threshold': 11.0, 'maa': 8.0, 'probe_event_length': 0.12295458382415853, 'probe_inner_radius': 63.0, 'probe_neighbor_radius': 98.0}\n",
      "# Generating new position and neighbor files from data file                    \n",
      "# Not Masking any Channels                                                     \n",
      "# Sampling rate: 32000                                                         \n",
      "# Localization On                                                              \n",
      "# Number of recorded channels: 30                                              \n",
      "# Analysing frames: 9600000; Seconds: 300.0                                    \n",
      "# Frames before spike in cutout: 6                                             \n",
      "# Frames after spike in cutout: 32                                             \n",
      "# tcuts: 51 77                                                                 \n",
      "# tInc: 1000000                                                                \n",
      "# Analysing frames from -51 to 1000077  (0.0%)                                 \n",
      "# Analysing frames from 999949 to 2000077  (10.4%)                             \n",
      "# Analysing frames from 1999949 to 3000077  (20.8%)                            \n",
      "# Analysing frames from 2999949 to 4000077  (31.2%)                            \n",
      "# Analysing frames from 3999949 to 5000077  (41.7%)                            \n",
      "# Analysing frames from 4999949 to 6000077  (52.1%)                            \n",
      "# Analysing frames from 5999949 to 7000077  (62.5%)                            \n",
      "# Analysing frames from 6999949 to 8000077  (72.9%)                            \n",
      "# Analysing frames from 7999949 to 9000077  (83.3%)                            \n",
      "# Analysing frames from 8999949 to 9600000  (93.8%)                            \n",
      "# Detection completed, time taken: 0:00:15.389550                              \n",
      "# Time per frame: 0:00:00.001603                                               \n",
      "# Time per sample: 0:00:00.000053                                              \n",
      "Loaded 39462 spikes.                                                           \n",
      "Fitting dimensionality reduction using all spikes...                           \n",
      "...projecting...                                                               \n",
      "...done                                                                        \n",
      "Clustering...                                                                  \n",
      "Clustering 39462 spikes...                                                     \n",
      "number of seeds: 676                                                           \n",
      "seeds/job: 29                                                                  \n",
      "using 24 cpus                                                                  \n",
      " 46%|████▋     | 37/80 [17:21<23:38, 32.98s/it, best loss: -0.7743108569525026]"
     ]
    },
    {
     "name": "stderr",
     "output_type": "stream",
     "text": [
      "[Parallel(n_jobs=24)]: Using backend LokyBackend with 24 concurrent workers.\n",
      "\n",
      "[Parallel(n_jobs=24)]: Done   3 out of  24 | elapsed:    3.7s remaining:   25.7s\n",
      "\n",
      "[Parallel(n_jobs=24)]: Done  16 out of  24 | elapsed:    3.8s remaining:    1.9s\n",
      "\n"
     ]
    },
    {
     "name": "stdout",
     "output_type": "stream",
     "text": [
      "Number of estimated units:                                                     \n",
      "32                                                                             \n",
      "Saving to                                                                      \n",
      "/disk/scratch/mhennig/spikeinterface/spikeoptimizer-develop/optimization_37/HS2_sorted.hdf5\n",
      "Warning: sampling frequency information not found. Setting delta_frames to 10. \n",
      " 46%|████▋     | 37/80 [17:25<23:38, 32.98s/it, best loss: -0.7743108569525026]"
     ]
    },
    {
     "name": "stderr",
     "output_type": "stream",
     "text": [
      "[Parallel(n_jobs=24)]: Done  24 out of  24 | elapsed:    4.1s finished\n",
      "\n"
     ]
    },
    {
     "name": "stdout",
     "output_type": "stream",
     "text": [
      "score:                                                                         \n",
      "-0.7690555927662425                                                            \n",
      "chosen values:                                                                 \n",
      "{'ahpthr': -2.0, 'clustering_alpha': 10.72928275804023, 'clustering_bandwidth': 4.902928536322268, 'detection_threshold': 9.0, 'maa': 6.0, 'probe_event_length': 0.16947127526771916, 'probe_inner_radius': 61.0, 'probe_neighbor_radius': 86.0}\n",
      "Clustering spikes with parameters: {'ahpthr': -2.0, 'clustering_alpha': 10.72928275804023, 'clustering_bandwidth': 4.902928536322268, 'detection_threshold': 9.0, 'maa': 6.0, 'probe_event_length': 0.16947127526771916, 'probe_inner_radius': 61.0, 'probe_neighbor_radius': 86.0}\n",
      "# Generating new position and neighbor files from data file                    \n",
      "# Not Masking any Channels                                                     \n",
      "# Sampling rate: 32000                                                         \n",
      "# Localization On                                                              \n",
      "# Number of recorded channels: 30                                              \n",
      "# Analysing frames: 9600000; Seconds: 300.0                                    \n",
      "# Frames before spike in cutout: 6                                             \n",
      "# Frames after spike in cutout: 32                                             \n",
      "# tcuts: 51 77                                                                 \n",
      "# tInc: 1000000                                                                \n",
      "# Analysing frames from -51 to 1000077  (0.0%)                                 \n",
      "# Analysing frames from 999949 to 2000077  (10.4%)                             \n",
      "# Analysing frames from 1999949 to 3000077  (20.8%)                            \n",
      "# Analysing frames from 2999949 to 4000077  (31.2%)                            \n",
      "# Analysing frames from 3999949 to 5000077  (41.7%)                            \n",
      "# Analysing frames from 4999949 to 6000077  (52.1%)                            \n",
      "# Analysing frames from 5999949 to 7000077  (62.5%)                            \n",
      "# Analysing frames from 6999949 to 8000077  (72.9%)                            \n",
      "# Analysing frames from 7999949 to 9000077  (83.3%)                            \n",
      "# Analysing frames from 8999949 to 9600000  (93.8%)                            \n",
      "# Detection completed, time taken: 0:00:15.844445                              \n",
      "# Time per frame: 0:00:00.001650                                               \n",
      "# Time per sample: 0:00:00.000055                                              \n",
      "Loaded 45306 spikes.                                                           \n",
      "Fitting dimensionality reduction using all spikes...                           \n",
      "...projecting...                                                               \n",
      "...done                                                                        \n",
      "Clustering...                                                                  \n",
      "Clustering 45306 spikes...                                                     \n",
      "number of seeds: 1089                                                          \n",
      "seeds/job: 46                                                                  \n",
      "using 24 cpus                                                                  \n",
      " 48%|████▊     | 38/80 [17:49<21:58, 31.39s/it, best loss: -0.7743108569525026]"
     ]
    },
    {
     "name": "stderr",
     "output_type": "stream",
     "text": [
      "[Parallel(n_jobs=24)]: Using backend LokyBackend with 24 concurrent workers.\n",
      "\n",
      "[Parallel(n_jobs=24)]: Done   3 out of  24 | elapsed:    4.5s remaining:   31.8s\n",
      "\n",
      "[Parallel(n_jobs=24)]: Done  16 out of  24 | elapsed:    4.7s remaining:    2.4s\n",
      "\n"
     ]
    },
    {
     "name": "stdout",
     "output_type": "stream",
     "text": [
      "Number of estimated units:                                                     \n",
      "49                                                                             \n",
      "Saving to                                                                      \n",
      "/disk/scratch/mhennig/spikeinterface/spikeoptimizer-develop/optimization_38/HS2_sorted.hdf5\n",
      " 48%|████▊     | 38/80 [17:55<21:58, 31.39s/it, best loss: -0.7743108569525026]"
     ]
    },
    {
     "name": "stderr",
     "output_type": "stream",
     "text": [
      "[Parallel(n_jobs=24)]: Done  24 out of  24 | elapsed:    5.0s finished\n",
      "\n"
     ]
    },
    {
     "name": "stdout",
     "output_type": "stream",
     "text": [
      "Warning: sampling frequency information not found. Setting delta_frames to 10. \n",
      "score:                                                                         \n",
      "-0.7572828862469454                                                            \n",
      "chosen values:                                                                 \n",
      "{'ahpthr': 26.0, 'clustering_alpha': 3.8844362556098018, 'clustering_bandwidth': 13.430980845407, 'detection_threshold': 14.0, 'maa': 3.0, 'probe_event_length': 0.19371576608590046, 'probe_inner_radius': 65.0, 'probe_neighbor_radius': 103.0}\n",
      "Clustering spikes with parameters: {'ahpthr': 26.0, 'clustering_alpha': 3.8844362556098018, 'clustering_bandwidth': 13.430980845407, 'detection_threshold': 14.0, 'maa': 3.0, 'probe_event_length': 0.19371576608590046, 'probe_inner_radius': 65.0, 'probe_neighbor_radius': 103.0}\n",
      "# Generating new position and neighbor files from data file                    \n",
      "# Not Masking any Channels                                                     \n",
      "# Sampling rate: 32000                                                         \n",
      "# Localization On                                                              \n",
      "# Number of recorded channels: 30                                              \n",
      "# Analysing frames: 9600000; Seconds: 300.0                                    \n",
      "# Frames before spike in cutout: 6                                             \n",
      "# Frames after spike in cutout: 32                                             \n",
      "# tcuts: 51 77                                                                 \n",
      "# tInc: 1000000                                                                \n",
      "# Analysing frames from -51 to 1000077  (0.0%)                                 \n",
      "# Analysing frames from 999949 to 2000077  (10.4%)                             \n",
      "# Analysing frames from 1999949 to 3000077  (20.8%)                            \n",
      "# Analysing frames from 2999949 to 4000077  (31.2%)                            \n",
      "# Analysing frames from 3999949 to 5000077  (41.7%)                            \n",
      "# Analysing frames from 4999949 to 6000077  (52.1%)                            \n",
      "# Analysing frames from 5999949 to 7000077  (62.5%)                            \n",
      "# Analysing frames from 6999949 to 8000077  (72.9%)                            \n",
      "# Analysing frames from 7999949 to 9000077  (83.3%)                            \n",
      "# Analysing frames from 8999949 to 9600000  (93.8%)                            \n",
      "# Detection completed, time taken: 0:00:15.171221                              \n",
      "# Time per frame: 0:00:00.001580                                               \n",
      "# Time per sample: 0:00:00.000053                                              \n",
      "Loaded 35265 spikes.                                                           \n",
      "Fitting dimensionality reduction using all spikes...                           \n",
      "...projecting...                                                               \n",
      "...done                                                                        \n",
      "Clustering...                                                                  \n",
      "Clustering 35265 spikes...                                                     \n",
      "number of seeds: 101                                                           \n",
      "seeds/job: 5                                                                   \n",
      "using 24 cpus                                                                  \n",
      " 49%|████▉     | 39/80 [18:17<21:01, 30.76s/it, best loss: -0.7743108569525026]"
     ]
    },
    {
     "name": "stderr",
     "output_type": "stream",
     "text": [
      "[Parallel(n_jobs=24)]: Using backend LokyBackend with 24 concurrent workers.\n",
      "\n",
      "[Parallel(n_jobs=24)]: Done   3 out of  24 | elapsed:    3.3s remaining:   22.9s\n",
      "\n",
      "[Parallel(n_jobs=24)]: Done  16 out of  24 | elapsed:    3.4s remaining:    1.7s\n",
      "\n"
     ]
    },
    {
     "name": "stdout",
     "output_type": "stream",
     "text": [
      "Number of estimated units:                                                     \n",
      "10                                                                             \n",
      "Saving to                                                                      \n",
      "/disk/scratch/mhennig/spikeinterface/spikeoptimizer-develop/optimization_39/HS2_sorted.hdf5\n",
      "Warning: sampling frequency information not found. Setting delta_frames to 10. \n",
      " 49%|████▉     | 39/80 [18:21<21:01, 30.76s/it, best loss: -0.7743108569525026]"
     ]
    },
    {
     "name": "stderr",
     "output_type": "stream",
     "text": [
      "[Parallel(n_jobs=24)]: Done  24 out of  24 | elapsed:    3.5s finished\n",
      "\n"
     ]
    },
    {
     "name": "stdout",
     "output_type": "stream",
     "text": [
      "score:                                                                         \n",
      "-0.43713269791100795                                                           \n",
      "chosen values:                                                                 \n",
      "{'ahpthr': 8.0, 'clustering_alpha': 6.613719804531044, 'clustering_bandwidth': 6.867204050340559, 'detection_threshold': 8.0, 'maa': 6.0, 'probe_event_length': 0.1544686276038098, 'probe_inner_radius': 65.0, 'probe_neighbor_radius': 98.0}\n",
      "Clustering spikes with parameters: {'ahpthr': 8.0, 'clustering_alpha': 6.613719804531044, 'clustering_bandwidth': 6.867204050340559, 'detection_threshold': 8.0, 'maa': 6.0, 'probe_event_length': 0.1544686276038098, 'probe_inner_radius': 65.0, 'probe_neighbor_radius': 98.0}\n",
      "# Generating new position and neighbor files from data file                    \n",
      "# Not Masking any Channels                                                     \n",
      "# Sampling rate: 32000                                                         \n",
      "# Localization On                                                              \n",
      "# Number of recorded channels: 30                                              \n",
      "# Analysing frames: 9600000; Seconds: 300.0                                    \n",
      "# Frames before spike in cutout: 6                                             \n",
      "# Frames after spike in cutout: 32                                             \n",
      "# tcuts: 51 77                                                                 \n",
      "# tInc: 1000000                                                                \n",
      "# Analysing frames from -51 to 1000077  (0.0%)                                 \n",
      "# Analysing frames from 999949 to 2000077  (10.4%)                             \n",
      "# Analysing frames from 1999949 to 3000077  (20.8%)                            \n",
      "# Analysing frames from 2999949 to 4000077  (31.2%)                            \n",
      "# Analysing frames from 3999949 to 5000077  (41.7%)                            \n",
      "# Analysing frames from 4999949 to 6000077  (52.1%)                            \n",
      "# Analysing frames from 5999949 to 7000077  (62.5%)                            \n",
      "# Analysing frames from 6999949 to 8000077  (72.9%)                            \n",
      "# Analysing frames from 7999949 to 9000077  (83.3%)                            \n",
      "# Analysing frames from 8999949 to 9600000  (93.8%)                            \n",
      "# Detection completed, time taken: 0:00:15.634818                              \n",
      "# Time per frame: 0:00:00.001629                                               \n",
      "# Time per sample: 0:00:00.000054                                              \n",
      "Loaded 51153 spikes.                                                           \n",
      "Fitting dimensionality reduction using all spikes...                           \n",
      "...projecting...                                                               \n",
      "...done                                                                        \n",
      "Clustering...                                                                  \n",
      "Clustering 51153 spikes...                                                     \n",
      "number of seeds: 709                                                           \n",
      "seeds/job: 30                                                                  \n",
      "using 24 cpus                                                                  \n",
      " 50%|█████     | 40/80 [18:44<19:41, 29.54s/it, best loss: -0.7743108569525026]"
     ]
    },
    {
     "name": "stderr",
     "output_type": "stream",
     "text": [
      "[Parallel(n_jobs=24)]: Using backend LokyBackend with 24 concurrent workers.\n",
      "\n",
      "[Parallel(n_jobs=24)]: Done   3 out of  24 | elapsed:    3.9s remaining:   27.2s\n",
      "\n",
      "[Parallel(n_jobs=24)]: Done  16 out of  24 | elapsed:    4.0s remaining:    2.0s\n",
      "\n"
     ]
    },
    {
     "name": "stdout",
     "output_type": "stream",
     "text": [
      "Number of estimated units:                                                     \n",
      "40                                                                             \n",
      "Saving to                                                                      \n",
      "/disk/scratch/mhennig/spikeinterface/spikeoptimizer-develop/optimization_40/HS2_sorted.hdf5\n",
      "Warning: sampling frequency information not found. Setting delta_frames to 10. \n",
      " 50%|█████     | 40/80 [18:49<19:41, 29.54s/it, best loss: -0.7743108569525026]"
     ]
    },
    {
     "name": "stderr",
     "output_type": "stream",
     "text": [
      "[Parallel(n_jobs=24)]: Done  24 out of  24 | elapsed:    4.1s finished\n",
      "\n"
     ]
    },
    {
     "name": "stdout",
     "output_type": "stream",
     "text": [
      "score:                                                                         \n",
      "-0.7396875638145803                                                            \n",
      "chosen values:                                                                 \n",
      "{'ahpthr': 14.0, 'clustering_alpha': 8.327994020654604, 'clustering_bandwidth': 9.9705842864133, 'detection_threshold': 13.0, 'maa': 8.0, 'probe_event_length': 0.17338668783193728, 'probe_inner_radius': 79.0, 'probe_neighbor_radius': 90.0}\n",
      "Clustering spikes with parameters: {'ahpthr': 14.0, 'clustering_alpha': 8.327994020654604, 'clustering_bandwidth': 9.9705842864133, 'detection_threshold': 13.0, 'maa': 8.0, 'probe_event_length': 0.17338668783193728, 'probe_inner_radius': 79.0, 'probe_neighbor_radius': 90.0}\n",
      "# Generating new position and neighbor files from data file                    \n",
      "# Not Masking any Channels                                                     \n",
      "# Sampling rate: 32000                                                         \n",
      "# Localization On                                                              \n",
      "# Number of recorded channels: 30                                              \n",
      "# Analysing frames: 9600000; Seconds: 300.0                                    \n",
      "# Frames before spike in cutout: 6                                             \n",
      "# Frames after spike in cutout: 32                                             \n",
      "# tcuts: 51 77                                                                 \n",
      "# tInc: 1000000                                                                \n",
      "# Analysing frames from -51 to 1000077  (0.0%)                                 \n",
      "# Analysing frames from 999949 to 2000077  (10.4%)                             \n",
      "# Analysing frames from 1999949 to 3000077  (20.8%)                            \n",
      "# Analysing frames from 2999949 to 4000077  (31.2%)                            \n",
      "# Analysing frames from 3999949 to 5000077  (41.7%)                            \n",
      "# Analysing frames from 4999949 to 6000077  (52.1%)                            \n",
      "# Analysing frames from 5999949 to 7000077  (62.5%)                            \n",
      "# Analysing frames from 6999949 to 8000077  (72.9%)                            \n",
      "# Analysing frames from 7999949 to 9000077  (83.3%)                            \n",
      "# Analysing frames from 8999949 to 9600000  (93.8%)                            \n",
      "# Detection completed, time taken: 0:00:15.138167                              \n",
      "# Time per frame: 0:00:00.001577                                               \n",
      "# Time per sample: 0:00:00.000053                                              \n",
      "Loaded 35953 spikes.                                                           \n",
      "Fitting dimensionality reduction using all spikes...                           \n",
      "...projecting...                                                               \n",
      "...done                                                                        \n",
      "Clustering...                                                                  \n",
      "Clustering 35953 spikes...                                                     \n",
      "number of seeds: 313                                                           \n",
      "seeds/job: 14                                                                  \n",
      "using 24 cpus                                                                  \n",
      " 51%|█████▏    | 41/80 [19:12<18:54, 29.10s/it, best loss: -0.7743108569525026]"
     ]
    },
    {
     "name": "stderr",
     "output_type": "stream",
     "text": [
      "[Parallel(n_jobs=24)]: Using backend LokyBackend with 24 concurrent workers.\n",
      "\n",
      "[Parallel(n_jobs=24)]: Done   3 out of  24 | elapsed:    3.4s remaining:   23.6s\n",
      "\n",
      "[Parallel(n_jobs=24)]: Done  16 out of  24 | elapsed:    3.5s remaining:    1.7s\n",
      "\n"
     ]
    },
    {
     "name": "stdout",
     "output_type": "stream",
     "text": [
      "Number of estimated units:                                                     \n",
      "16                                                                             \n",
      "Saving to                                                                      \n",
      "/disk/scratch/mhennig/spikeinterface/spikeoptimizer-develop/optimization_41/HS2_sorted.hdf5\n",
      "Warning: sampling frequency information not found. Setting delta_frames to 10. \n",
      " 51%|█████▏    | 41/80 [19:16<18:54, 29.10s/it, best loss: -0.7743108569525026]"
     ]
    },
    {
     "name": "stderr",
     "output_type": "stream",
     "text": [
      "[Parallel(n_jobs=24)]: Done  24 out of  24 | elapsed:    3.6s finished\n",
      "\n"
     ]
    },
    {
     "name": "stdout",
     "output_type": "stream",
     "text": [
      "score:                                                                         \n",
      "-0.567555544571584                                                             \n",
      "chosen values:                                                                 \n",
      "{'ahpthr': -18.0, 'clustering_alpha': 9.1928667797627, 'clustering_bandwidth': 8.62717452767797, 'detection_threshold': 14.0, 'maa': 7.0, 'probe_event_length': 0.2417888820551278, 'probe_inner_radius': 63.0, 'probe_neighbor_radius': 96.0}\n",
      "Clustering spikes with parameters: {'ahpthr': -18.0, 'clustering_alpha': 9.1928667797627, 'clustering_bandwidth': 8.62717452767797, 'detection_threshold': 14.0, 'maa': 7.0, 'probe_event_length': 0.2417888820551278, 'probe_inner_radius': 63.0, 'probe_neighbor_radius': 96.0}\n",
      "# Generating new position and neighbor files from data file                    \n",
      "# Not Masking any Channels                                                     \n",
      "# Sampling rate: 32000                                                         \n",
      "# Localization On                                                              \n",
      "# Number of recorded channels: 30                                              \n",
      "# Analysing frames: 9600000; Seconds: 300.0                                    \n",
      "# Frames before spike in cutout: 6                                             \n",
      "# Frames after spike in cutout: 32                                             \n",
      "# tcuts: 51 77                                                                 \n",
      "# tInc: 1000000                                                                \n",
      "# Analysing frames from -51 to 1000077  (0.0%)                                 \n",
      "# Analysing frames from 999949 to 2000077  (10.4%)                             \n",
      "# Analysing frames from 1999949 to 3000077  (20.8%)                            \n",
      "# Analysing frames from 2999949 to 4000077  (31.2%)                            \n",
      "# Analysing frames from 3999949 to 5000077  (41.7%)                            \n",
      "# Analysing frames from 4999949 to 6000077  (52.1%)                            \n",
      "# Analysing frames from 5999949 to 7000077  (62.5%)                            \n",
      "# Analysing frames from 6999949 to 8000077  (72.9%)                            \n",
      "# Analysing frames from 7999949 to 9000077  (83.3%)                            \n",
      "# Analysing frames from 8999949 to 9600000  (93.8%)                            \n",
      "# Detection completed, time taken: 0:00:14.572414                              \n",
      "# Time per frame: 0:00:00.001518                                               \n",
      "# Time per sample: 0:00:00.000051                                              \n",
      "Loaded 32 spikes.                                                              \n",
      "Fitting dimensionality reduction using all spikes...                           \n",
      "...projecting...                                                               \n",
      "...done                                                                        \n",
      "Clustering...                                                                  \n",
      "Clustering 32 spikes...                                                        \n",
      "number of seeds: 1                                                             \n",
      "seeds/job: 1                                                                   \n",
      "using 24 cpus                                                                  \n",
      " 52%|█████▎    | 42/80 [19:37<17:57, 28.37s/it, best loss: -0.7743108569525026]"
     ]
    },
    {
     "name": "stderr",
     "output_type": "stream",
     "text": [
      "[Parallel(n_jobs=24)]: Using backend LokyBackend with 24 concurrent workers.\n",
      "\n",
      "[Parallel(n_jobs=24)]: Done   3 out of  24 | elapsed:    3.3s remaining:   23.0s\n",
      "\n",
      "[Parallel(n_jobs=24)]: Done  16 out of  24 | elapsed:    3.3s remaining:    1.7s\n",
      "\n"
     ]
    },
    {
     "name": "stdout",
     "output_type": "stream",
     "text": [
      "Number of estimated units:                                                     \n",
      "1                                                                              \n",
      "Saving to                                                                      \n",
      "/disk/scratch/mhennig/spikeinterface/spikeoptimizer-develop/optimization_42/HS2_sorted.hdf5\n",
      "Warning: sampling frequency information not found. Setting delta_frames to 10. \n",
      " 52%|█████▎    | 42/80 [19:42<17:57, 28.37s/it, best loss: -0.7743108569525026]"
     ]
    },
    {
     "name": "stderr",
     "output_type": "stream",
     "text": [
      "[Parallel(n_jobs=24)]: Done  24 out of  24 | elapsed:    3.5s finished\n",
      "\n"
     ]
    },
    {
     "name": "stdout",
     "output_type": "stream",
     "text": [
      "score:                                                                         \n",
      "-0.0                                                                           \n",
      "chosen values:                                                                 \n",
      "{'ahpthr': 22.0, 'clustering_alpha': 7.918436210898993, 'clustering_bandwidth': 4.706280042536314, 'detection_threshold': 27.0, 'maa': 10.0, 'probe_event_length': 0.10211544312660953, 'probe_inner_radius': 66.0, 'probe_neighbor_radius': 103.0}\n",
      "Clustering spikes with parameters: {'ahpthr': 22.0, 'clustering_alpha': 7.918436210898993, 'clustering_bandwidth': 4.706280042536314, 'detection_threshold': 27.0, 'maa': 10.0, 'probe_event_length': 0.10211544312660953, 'probe_inner_radius': 66.0, 'probe_neighbor_radius': 103.0}\n",
      " 54%|█████▍    | 43/80 [19:47<16:50, 27.30s/it, best loss: -0.7743108569525026]"
     ]
    },
    {
     "name": "stderr",
     "output_type": "stream",
     "text": [
      "/disk/scratch/mhennig/miniconda3/envs/spikesorting/lib/python3.7/site-packages/spiketoolkit/comparison/groundtruthcomparison.py:333: RuntimeWarning: invalid value encountered in long_scalars\n",
      "  perf['precision'] = tp / (tp + fp)\n",
      "\n",
      "/disk/scratch/mhennig/miniconda3/envs/spikesorting/lib/python3.7/site-packages/spiketoolkit/comparison/groundtruthcomparison.py:334: RuntimeWarning: invalid value encountered in long_scalars\n",
      "  perf['false_discovery_rate'] = fp / (tp + fp)\n",
      "\n"
     ]
    },
    {
     "name": "stdout",
     "output_type": "stream",
     "text": [
      "# Generating new position and neighbor files from data file                    \n",
      "# Not Masking any Channels                                                     \n",
      "# Sampling rate: 32000                                                         \n",
      "# Localization On                                                              \n",
      "# Number of recorded channels: 30                                              \n",
      "# Analysing frames: 9600000; Seconds: 300.0                                    \n",
      "# Frames before spike in cutout: 6                                             \n",
      "# Frames after spike in cutout: 32                                             \n",
      "# tcuts: 51 77                                                                 \n",
      "# tInc: 1000000                                                                \n",
      "# Analysing frames from -51 to 1000077  (0.0%)                                 \n",
      "# Analysing frames from 999949 to 2000077  (10.4%)                             \n",
      "# Analysing frames from 1999949 to 3000077  (20.8%)                            \n",
      "# Analysing frames from 2999949 to 4000077  (31.2%)                            \n",
      "# Analysing frames from 3999949 to 5000077  (41.7%)                            \n",
      "# Analysing frames from 4999949 to 6000077  (52.1%)                            \n",
      "# Analysing frames from 5999949 to 7000077  (62.5%)                            \n",
      "# Analysing frames from 6999949 to 8000077  (72.9%)                            \n",
      "# Analysing frames from 7999949 to 9000077  (83.3%)                            \n",
      "# Analysing frames from 8999949 to 9600000  (93.8%)                            \n",
      "# Detection completed, time taken: 0:00:14.546272                              \n",
      "# Time per frame: 0:00:00.001515                                               \n",
      "# Time per sample: 0:00:00.000051                                              \n",
      "Loaded 14496 spikes.                                                           \n",
      "Fitting dimensionality reduction using all spikes...                           \n",
      "...projecting...                                                               \n",
      "...done                                                                        \n",
      "Clustering...                                                                  \n",
      "Clustering 14496 spikes...                                                     \n",
      "number of seeds: 300                                                           \n",
      "seeds/job: 13                                                                  \n",
      "using 24 cpus                                                                  \n",
      " 54%|█████▍    | 43/80 [20:02<16:50, 27.30s/it, best loss: -0.7743108569525026]"
     ]
    },
    {
     "name": "stderr",
     "output_type": "stream",
     "text": [
      "[Parallel(n_jobs=24)]: Using backend LokyBackend with 24 concurrent workers.\n",
      "\n",
      "[Parallel(n_jobs=24)]: Done   3 out of  24 | elapsed:    3.4s remaining:   23.7s\n",
      "\n",
      "[Parallel(n_jobs=24)]: Done  16 out of  24 | elapsed:    3.5s remaining:    1.7s\n",
      "\n"
     ]
    },
    {
     "name": "stdout",
     "output_type": "stream",
     "text": [
      "Number of estimated units:                                                     \n",
      "14                                                                             \n",
      "Saving to                                                                      \n",
      "/disk/scratch/mhennig/spikeinterface/spikeoptimizer-develop/optimization_43/HS2_sorted.hdf5\n",
      " 54%|█████▍    | 43/80 [20:07<16:50, 27.30s/it, best loss: -0.7743108569525026]"
     ]
    },
    {
     "name": "stderr",
     "output_type": "stream",
     "text": [
      "[Parallel(n_jobs=24)]: Done  24 out of  24 | elapsed:    3.7s finished\n",
      "\n"
     ]
    },
    {
     "name": "stdout",
     "output_type": "stream",
     "text": [
      "Warning: sampling frequency information not found. Setting delta_frames to 10. \n",
      "score:                                                                         \n",
      "-0.3219057822218254                                                            \n",
      "chosen values:                                                                 \n",
      "{'ahpthr': 27.0, 'clustering_alpha': 3.352645900154017, 'clustering_bandwidth': 7.560493576183126, 'detection_threshold': 8.0, 'maa': 5.0, 'probe_event_length': 0.13020220570635055, 'probe_inner_radius': 73.0, 'probe_neighbor_radius': 84.0}\n",
      "Clustering spikes with parameters: {'ahpthr': 27.0, 'clustering_alpha': 3.352645900154017, 'clustering_bandwidth': 7.560493576183126, 'detection_threshold': 8.0, 'maa': 5.0, 'probe_event_length': 0.13020220570635055, 'probe_inner_radius': 73.0, 'probe_neighbor_radius': 84.0}\n",
      "# Generating new position and neighbor files from data file                    \n",
      "# Not Masking any Channels                                                     \n",
      "# Sampling rate: 32000                                                         \n",
      "# Localization On                                                              \n",
      "# Number of recorded channels: 30                                              \n",
      "# Analysing frames: 9600000; Seconds: 300.0                                    \n",
      "# Frames before spike in cutout: 6                                             \n",
      "# Frames after spike in cutout: 32                                             \n",
      "# tcuts: 51 77                                                                 \n",
      "# tInc: 1000000                                                                \n",
      "# Analysing frames from -51 to 1000077  (0.0%)                                 \n",
      "# Analysing frames from 999949 to 2000077  (10.4%)                             \n",
      "# Analysing frames from 1999949 to 3000077  (20.8%)                            \n",
      "# Analysing frames from 2999949 to 4000077  (31.2%)                            \n",
      "# Analysing frames from 3999949 to 5000077  (41.7%)                            \n",
      "# Analysing frames from 4999949 to 6000077  (52.1%)                            \n",
      "# Analysing frames from 5999949 to 7000077  (62.5%)                            \n",
      "# Analysing frames from 6999949 to 8000077  (72.9%)                            \n",
      "# Analysing frames from 7999949 to 9000077  (83.3%)                            \n",
      "# Analysing frames from 8999949 to 9600000  (93.8%)                            \n",
      "# Detection completed, time taken: 0:00:16.009229                              \n",
      "# Time per frame: 0:00:00.001668                                               \n",
      "# Time per sample: 0:00:00.000056                                              \n",
      "Loaded 55167 spikes.                                                           \n",
      "Fitting dimensionality reduction using all spikes...                           \n",
      "...projecting...                                                               \n",
      "...done                                                                        \n",
      "Clustering...                                                                  \n",
      "Clustering 55167 spikes...                                                     \n",
      "number of seeds: 408                                                           \n",
      "seeds/job: 18                                                                  \n",
      "using 24 cpus                                                                  \n",
      " 55%|█████▌    | 44/80 [20:30<16:05, 26.81s/it, best loss: -0.7743108569525026]"
     ]
    },
    {
     "name": "stderr",
     "output_type": "stream",
     "text": [
      "[Parallel(n_jobs=24)]: Using backend LokyBackend with 24 concurrent workers.\n",
      "\n",
      "[Parallel(n_jobs=24)]: Done   3 out of  24 | elapsed:    3.6s remaining:   25.4s\n",
      "\n",
      "[Parallel(n_jobs=24)]: Done  16 out of  24 | elapsed:    3.8s remaining:    1.9s\n",
      "\n"
     ]
    },
    {
     "name": "stdout",
     "output_type": "stream",
     "text": [
      "Number of estimated units:                                                     \n",
      "18                                                                             \n",
      "Saving to                                                                      \n",
      "/disk/scratch/mhennig/spikeinterface/spikeoptimizer-develop/optimization_44/HS2_sorted.hdf5\n",
      "Warning: sampling frequency information not found. Setting delta_frames to 10. \n",
      " 55%|█████▌    | 44/80 [20:35<16:05, 26.81s/it, best loss: -0.7743108569525026]"
     ]
    },
    {
     "name": "stderr",
     "output_type": "stream",
     "text": [
      "[Parallel(n_jobs=24)]: Done  24 out of  24 | elapsed:    3.9s finished\n",
      "\n"
     ]
    },
    {
     "name": "stdout",
     "output_type": "stream",
     "text": [
      "score:                                                                         \n",
      "-0.452203046132822                                                             \n",
      "chosen values:                                                                 \n",
      "{'ahpthr': 4.0, 'clustering_alpha': 10.343376114095772, 'clustering_bandwidth': 6.282490251579873, 'detection_threshold': 12.0, 'maa': 8.0, 'probe_event_length': 0.1139941991153196, 'probe_inner_radius': 62.0, 'probe_neighbor_radius': 92.0}\n",
      "Clustering spikes with parameters: {'ahpthr': 4.0, 'clustering_alpha': 10.343376114095772, 'clustering_bandwidth': 6.282490251579873, 'detection_threshold': 12.0, 'maa': 8.0, 'probe_event_length': 0.1139941991153196, 'probe_inner_radius': 62.0, 'probe_neighbor_radius': 92.0}\n",
      "# Generating new position and neighbor files from data file                    \n",
      "# Not Masking any Channels                                                     \n",
      "# Sampling rate: 32000                                                         \n",
      "# Localization On                                                              \n",
      "# Number of recorded channels: 30                                              \n",
      "# Analysing frames: 9600000; Seconds: 300.0                                    \n",
      "# Frames before spike in cutout: 6                                             \n",
      "# Frames after spike in cutout: 32                                             \n",
      "# tcuts: 51 77                                                                 \n",
      "# tInc: 1000000                                                                \n",
      "# Analysing frames from -51 to 1000077  (0.0%)                                 \n",
      "# Analysing frames from 999949 to 2000077  (10.4%)                             \n",
      "# Analysing frames from 1999949 to 3000077  (20.8%)                            \n",
      "# Analysing frames from 2999949 to 4000077  (31.2%)                            \n",
      "# Analysing frames from 3999949 to 5000077  (41.7%)                            \n",
      "# Analysing frames from 4999949 to 6000077  (52.1%)                            \n",
      "# Analysing frames from 5999949 to 7000077  (62.5%)                            \n",
      "# Analysing frames from 6999949 to 8000077  (72.9%)                            \n",
      "# Analysing frames from 7999949 to 9000077  (83.3%)                            \n",
      "# Analysing frames from 8999949 to 9600000  (93.8%)                            \n",
      "# Detection completed, time taken: 0:00:15.216291                              \n",
      "# Time per frame: 0:00:00.001585                                               \n",
      "# Time per sample: 0:00:00.000053                                              \n",
      "Loaded 37999 spikes.                                                           \n",
      "Fitting dimensionality reduction using all spikes...                           \n",
      "...projecting...                                                               \n",
      "...done                                                                        \n",
      "Clustering...                                                                  \n",
      "Clustering 37999 spikes...                                                     \n",
      "number of seeds: 629                                                           \n",
      "seeds/job: 27                                                                  \n",
      "using 24 cpus                                                                  \n",
      " 56%|█████▋    | 45/80 [20:58<15:57, 27.36s/it, best loss: -0.7743108569525026]"
     ]
    },
    {
     "name": "stderr",
     "output_type": "stream",
     "text": [
      "[Parallel(n_jobs=24)]: Using backend LokyBackend with 24 concurrent workers.\n",
      "\n",
      "[Parallel(n_jobs=24)]: Done   3 out of  24 | elapsed:    4.0s remaining:   28.2s\n",
      "\n",
      "[Parallel(n_jobs=24)]: Done  16 out of  24 | elapsed:    4.2s remaining:    2.1s\n",
      "\n"
     ]
    },
    {
     "name": "stdout",
     "output_type": "stream",
     "text": [
      "Number of estimated units:                                                     \n",
      "29                                                                             \n",
      "Saving to                                                                      \n",
      "/disk/scratch/mhennig/spikeinterface/spikeoptimizer-develop/optimization_45/HS2_sorted.hdf5\n",
      "Warning: sampling frequency information not found. Setting delta_frames to 10. \n",
      " 56%|█████▋    | 45/80 [21:03<15:57, 27.36s/it, best loss: -0.7743108569525026]"
     ]
    },
    {
     "name": "stderr",
     "output_type": "stream",
     "text": [
      "[Parallel(n_jobs=24)]: Done  24 out of  24 | elapsed:    4.3s finished\n",
      "\n"
     ]
    },
    {
     "name": "stdout",
     "output_type": "stream",
     "text": [
      "score:                                                                         \n",
      "-0.7631416368959681                                                            \n",
      "chosen values:                                                                 \n",
      "{'ahpthr': -30.0, 'clustering_alpha': 11.324552078107068, 'clustering_bandwidth': 3.6499537484217677, 'detection_threshold': 6.0, 'maa': 3.0, 'probe_event_length': 0.2550210681877276, 'probe_inner_radius': 93.0, 'probe_neighbor_radius': 108.0}\n",
      "Clustering spikes with parameters: {'ahpthr': -30.0, 'clustering_alpha': 11.324552078107068, 'clustering_bandwidth': 3.6499537484217677, 'detection_threshold': 6.0, 'maa': 3.0, 'probe_event_length': 0.2550210681877276, 'probe_inner_radius': 93.0, 'probe_neighbor_radius': 108.0}\n",
      "# Generating new position and neighbor files from data file                    \n",
      "# Not Masking any Channels                                                     \n",
      "# Sampling rate: 32000                                                         \n",
      "# Localization On                                                              \n",
      "# Number of recorded channels: 30                                              \n",
      "# Analysing frames: 9600000; Seconds: 300.0                                    \n",
      "# Frames before spike in cutout: 6                                             \n",
      "# Frames after spike in cutout: 32                                             \n",
      "# tcuts: 51 77                                                                 \n",
      "# tInc: 1000000                                                                \n",
      "# Analysing frames from -51 to 1000077  (0.0%)                                 \n",
      "# Analysing frames from 999949 to 2000077  (10.4%)                             \n",
      "# Analysing frames from 1999949 to 3000077  (20.8%)                            \n",
      "# Analysing frames from 2999949 to 4000077  (31.2%)                            \n",
      "# Analysing frames from 3999949 to 5000077  (41.7%)                            \n",
      "# Analysing frames from 4999949 to 6000077  (52.1%)                            \n",
      "# Analysing frames from 5999949 to 7000077  (62.5%)                            \n",
      "# Analysing frames from 6999949 to 8000077  (72.9%)                            \n",
      "# Analysing frames from 7999949 to 9000077  (83.3%)                            \n",
      "# Analysing frames from 8999949 to 9600000  (93.8%)                            \n",
      "# Detection completed, time taken: 0:00:14.674031                              \n",
      "# Time per frame: 0:00:00.001529                                               \n",
      "# Time per sample: 0:00:00.000051                                              \n",
      "Loaded 0 spikes.                                                               \n",
      "Saving to                                                                      \n",
      "/disk/scratch/mhennig/spikeinterface/spikeoptimizer-develop/optimization_46/HS2_sorted.hdf5\n",
      "sorter found no units                                                          \n",
      "score:                                                                         \n",
      "0                                                                              \n",
      "chosen values:                                                                 \n",
      "{'ahpthr': 19.0, 'clustering_alpha': 6.274453681096599, 'clustering_bandwidth': 15.965728335256825, 'detection_threshold': 50.0, 'maa': 6.0, 'probe_event_length': 0.19146679254243645, 'probe_inner_radius': 98.0, 'probe_neighbor_radius': 100.0}\n",
      "Clustering spikes with parameters: {'ahpthr': 19.0, 'clustering_alpha': 6.274453681096599, 'clustering_bandwidth': 15.965728335256825, 'detection_threshold': 50.0, 'maa': 6.0, 'probe_event_length': 0.19146679254243645, 'probe_inner_radius': 98.0, 'probe_neighbor_radius': 100.0}\n",
      " 59%|█████▉    | 47/80 [21:24<13:09, 23.91s/it, best loss: -0.7743108569525026]"
     ]
    },
    {
     "name": "stderr",
     "output_type": "stream",
     "text": [
      "/disk/scratch/mhennig/miniconda3/envs/spikesorting/lib/python3.7/site-packages/herdingspikes/hs2.py:164: UserWarning: Loading an empty file /disk/scratch/mhennig/spikeinterface/spikeoptimizer-develop/optimization_46/HS2_detected.bin . This usually happens when no spikes weredetected due to the detection parameters being set too strictly\n",
      "  \"strictly\".format(file_name)\n",
      "\n"
     ]
    },
    {
     "name": "stdout",
     "output_type": "stream",
     "text": [
      "# Generating new position and neighbor files from data file                    \n",
      "# Not Masking any Channels                                                     \n",
      "# Sampling rate: 32000                                                         \n",
      "# Localization On                                                              \n",
      "# Number of recorded channels: 30                                              \n",
      "# Analysing frames: 9600000; Seconds: 300.0                                    \n",
      "# Frames before spike in cutout: 6                                             \n",
      "# Frames after spike in cutout: 32                                             \n",
      "# tcuts: 51 77                                                                 \n",
      "# tInc: 1000000                                                                \n",
      "# Analysing frames from -51 to 1000077  (0.0%)                                 \n",
      "# Analysing frames from 999949 to 2000077  (10.4%)                             \n",
      "# Analysing frames from 1999949 to 3000077  (20.8%)                            \n",
      "# Analysing frames from 2999949 to 4000077  (31.2%)                            \n",
      "# Analysing frames from 3999949 to 5000077  (41.7%)                            \n",
      "# Analysing frames from 4999949 to 6000077  (52.1%)                            \n",
      "# Analysing frames from 5999949 to 7000077  (62.5%)                            \n",
      "# Analysing frames from 6999949 to 8000077  (72.9%)                            \n",
      "# Analysing frames from 7999949 to 9000077  (83.3%)                            \n",
      "# Analysing frames from 8999949 to 9600000  (93.8%)                            \n",
      "# Detection completed, time taken: 0:00:14.318013                              \n",
      "# Time per frame: 0:00:00.001491                                               \n",
      "# Time per sample: 0:00:00.000050                                              \n",
      "Loaded 3937 spikes.                                                            \n",
      "Fitting dimensionality reduction using all spikes...                           \n",
      "...projecting...                                                               \n",
      "...done                                                                        \n",
      "Clustering...                                                                  \n",
      "Clustering 3937 spikes...                                                      \n",
      "number of seeds: 29                                                            \n",
      "seeds/job: 2                                                                   \n",
      "using 24 cpus                                                                  \n",
      " 59%|█████▉    | 47/80 [21:40<13:09, 23.91s/it, best loss: -0.7743108569525026]"
     ]
    },
    {
     "name": "stderr",
     "output_type": "stream",
     "text": [
      "[Parallel(n_jobs=24)]: Using backend LokyBackend with 24 concurrent workers.\n",
      "\n",
      "[Parallel(n_jobs=24)]: Done   3 out of  24 | elapsed:    3.3s remaining:   23.3s\n",
      "\n",
      "[Parallel(n_jobs=24)]: Done  16 out of  24 | elapsed:    3.4s remaining:    1.7s\n",
      "\n"
     ]
    },
    {
     "name": "stdout",
     "output_type": "stream",
     "text": [
      "Number of estimated units:                                                     \n",
      "4                                                                              \n",
      "Saving to                                                                      \n",
      "/disk/scratch/mhennig/spikeinterface/spikeoptimizer-develop/optimization_47/HS2_sorted.hdf5\n",
      "Warning: sampling frequency information not found. Setting delta_frames to 10. \n",
      " 59%|█████▉    | 47/80 [21:44<13:09, 23.91s/it, best loss: -0.7743108569525026]"
     ]
    },
    {
     "name": "stderr",
     "output_type": "stream",
     "text": [
      "[Parallel(n_jobs=24)]: Done  24 out of  24 | elapsed:    3.6s finished\n",
      "\n"
     ]
    },
    {
     "name": "stdout",
     "output_type": "stream",
     "text": [
      "score:                                                                         \n",
      "-0.038704766366085025                                                          \n",
      "chosen values:                                                                 \n",
      "{'ahpthr': -5.0, 'clustering_alpha': 7.067778334925565, 'clustering_bandwidth': 11.33027977762656, 'detection_threshold': 37.0, 'maa': 7.0, 'probe_event_length': 0.2072218980968283, 'probe_inner_radius': 82.0, 'probe_neighbor_radius': 71.0}\n",
      "Clustering spikes with parameters: {'ahpthr': -5.0, 'clustering_alpha': 7.067778334925565, 'clustering_bandwidth': 11.33027977762656, 'detection_threshold': 37.0, 'maa': 7.0, 'probe_event_length': 0.2072218980968283, 'probe_inner_radius': 82.0, 'probe_neighbor_radius': 71.0}\n",
      "# Generating new position and neighbor files from data file                    \n",
      "# Not Masking any Channels                                                     \n",
      "# Sampling rate: 32000                                                         \n",
      "# Localization On                                                              \n",
      "# Number of recorded channels: 30                                              \n",
      "# Analysing frames: 9600000; Seconds: 300.0                                    \n",
      "# Frames before spike in cutout: 6                                             \n",
      "# Frames after spike in cutout: 32                                             \n",
      "# tcuts: 51 77                                                                 \n",
      "# tInc: 1000000                                                                \n",
      "# Analysing frames from -51 to 1000077  (0.0%)                                 \n",
      "# Analysing frames from 999949 to 2000077  (10.4%)                             \n",
      "# Analysing frames from 1999949 to 3000077  (20.8%)                            \n",
      "# Analysing frames from 2999949 to 4000077  (31.2%)                            \n",
      "# Analysing frames from 3999949 to 5000077  (41.7%)                            \n",
      "# Analysing frames from 4999949 to 6000077  (52.1%)                            \n",
      "# Analysing frames from 5999949 to 7000077  (62.5%)                            \n",
      "# Analysing frames from 6999949 to 8000077  (72.9%)                            \n",
      "# Analysing frames from 7999949 to 9000077  (83.3%)                            \n",
      "# Analysing frames from 8999949 to 9600000  (93.8%)                            \n",
      "# Detection completed, time taken: 0:00:15.264372                              \n",
      "# Time per frame: 0:00:00.001590                                               \n",
      "# Time per sample: 0:00:00.000053                                              \n",
      "Loaded 8275 spikes.                                                            \n",
      "Fitting dimensionality reduction using all spikes...                           \n",
      "...projecting...                                                               \n",
      "...done                                                                        \n",
      "Clustering...                                                                  \n",
      "Clustering 8275 spikes...                                                      \n",
      "number of seeds: 67                                                            \n",
      "seeds/job: 3                                                                   \n",
      "using 24 cpus                                                                  \n",
      " 60%|██████    | 48/80 [22:05<12:51, 24.11s/it, best loss: -0.7743108569525026]"
     ]
    },
    {
     "name": "stderr",
     "output_type": "stream",
     "text": [
      "[Parallel(n_jobs=24)]: Using backend LokyBackend with 24 concurrent workers.\n",
      "\n",
      "[Parallel(n_jobs=24)]: Done   3 out of  24 | elapsed:    3.3s remaining:   23.1s\n",
      "\n",
      "[Parallel(n_jobs=24)]: Done  16 out of  24 | elapsed:    3.4s remaining:    1.7s\n",
      "\n"
     ]
    },
    {
     "name": "stdout",
     "output_type": "stream",
     "text": [
      "Number of estimated units:                                                     \n",
      "6                                                                              \n",
      "Saving to                                                                      \n",
      "/disk/scratch/mhennig/spikeinterface/spikeoptimizer-develop/optimization_48/HS2_sorted.hdf5\n",
      " 60%|██████    | 48/80 [22:10<12:51, 24.11s/it, best loss: -0.7743108569525026]"
     ]
    },
    {
     "name": "stderr",
     "output_type": "stream",
     "text": [
      "[Parallel(n_jobs=24)]: Done  24 out of  24 | elapsed:    3.7s finished\n",
      "\n"
     ]
    },
    {
     "name": "stdout",
     "output_type": "stream",
     "text": [
      "Warning: sampling frequency information not found. Setting delta_frames to 10. \n",
      "score:                                                                         \n",
      "-0.22220577788302154                                                           \n",
      "chosen values:                                                                 \n",
      "{'ahpthr': -13.0, 'clustering_alpha': 7.8670224383075675, 'clustering_bandwidth': 4.231972904132267, 'detection_threshold': 21.0, 'maa': 10.0, 'probe_event_length': 0.1512235442283889, 'probe_inner_radius': 77.0, 'probe_neighbor_radius': 95.0}\n",
      "Clustering spikes with parameters: {'ahpthr': -13.0, 'clustering_alpha': 7.8670224383075675, 'clustering_bandwidth': 4.231972904132267, 'detection_threshold': 21.0, 'maa': 10.0, 'probe_event_length': 0.1512235442283889, 'probe_inner_radius': 77.0, 'probe_neighbor_radius': 95.0}\n",
      "# Generating new position and neighbor files from data file                    \n",
      "# Not Masking any Channels                                                     \n",
      "# Sampling rate: 32000                                                         \n",
      "# Localization On                                                              \n",
      "# Number of recorded channels: 30                                              \n",
      "# Analysing frames: 9600000; Seconds: 300.0                                    \n",
      "# Frames before spike in cutout: 6                                             \n",
      "# Frames after spike in cutout: 32                                             \n",
      "# tcuts: 51 77                                                                 \n",
      "# tInc: 1000000                                                                \n",
      "# Analysing frames from -51 to 1000077  (0.0%)                                 \n",
      "# Analysing frames from 999949 to 2000077  (10.4%)                             \n",
      "# Analysing frames from 1999949 to 3000077  (20.8%)                            \n",
      "# Analysing frames from 2999949 to 4000077  (31.2%)                            \n",
      "# Analysing frames from 3999949 to 5000077  (41.7%)                            \n",
      "# Analysing frames from 4999949 to 6000077  (52.1%)                            \n",
      "# Analysing frames from 5999949 to 7000077  (62.5%)                            \n",
      "# Analysing frames from 6999949 to 8000077  (72.9%)                            \n",
      "# Analysing frames from 7999949 to 9000077  (83.3%)                            \n",
      "# Analysing frames from 8999949 to 9600000  (93.8%)                            \n",
      "# Detection completed, time taken: 0:00:14.431842                              \n",
      "# Time per frame: 0:00:00.001503                                               \n",
      "# Time per sample: 0:00:00.000050                                              \n",
      "Loaded 676 spikes.                                                             \n",
      "Fitting dimensionality reduction using all spikes...                           \n",
      "...projecting...                                                               \n",
      "...done                                                                        \n",
      "Clustering...                                                                  \n",
      "Clustering 676 spikes...                                                       \n",
      "number of seeds: 10                                                            \n",
      "seeds/job: 1                                                                   \n",
      "using 24 cpus                                                                  \n",
      " 61%|██████▏   | 49/80 [22:30<12:46, 24.72s/it, best loss: -0.7743108569525026]"
     ]
    },
    {
     "name": "stderr",
     "output_type": "stream",
     "text": [
      "[Parallel(n_jobs=24)]: Using backend LokyBackend with 24 concurrent workers.\n",
      "\n",
      "[Parallel(n_jobs=24)]: Done   3 out of  24 | elapsed:    3.3s remaining:   22.9s\n",
      "\n",
      "[Parallel(n_jobs=24)]: Done  16 out of  24 | elapsed:    3.3s remaining:    1.7s\n",
      "\n"
     ]
    },
    {
     "name": "stdout",
     "output_type": "stream",
     "text": [
      "Number of estimated units:                                                     \n",
      "2                                                                              \n",
      "Saving to                                                                      \n",
      "/disk/scratch/mhennig/spikeinterface/spikeoptimizer-develop/optimization_49/HS2_sorted.hdf5\n",
      "Warning: sampling frequency information not found. Setting delta_frames to 10. \n",
      " 61%|██████▏   | 49/80 [22:35<12:46, 24.72s/it, best loss: -0.7743108569525026]"
     ]
    },
    {
     "name": "stderr",
     "output_type": "stream",
     "text": [
      "[Parallel(n_jobs=24)]: Done  24 out of  24 | elapsed:    3.5s finished\n",
      "\n"
     ]
    },
    {
     "name": "stdout",
     "output_type": "stream",
     "text": [
      "score:                                                                         \n",
      "-0.0                                                                           \n",
      "chosen values:                                                                 \n",
      "{'ahpthr': 9.0, 'clustering_alpha': 8.94407042633411, 'clustering_bandwidth': 8.392450161616924, 'detection_threshold': 28.0, 'maa': 3.0, 'probe_event_length': 0.16147991634953054, 'probe_inner_radius': 69.0, 'probe_neighbor_radius': 104.0}\n",
      "Clustering spikes with parameters: {'ahpthr': 9.0, 'clustering_alpha': 8.94407042633411, 'clustering_bandwidth': 8.392450161616924, 'detection_threshold': 28.0, 'maa': 3.0, 'probe_event_length': 0.16147991634953054, 'probe_inner_radius': 69.0, 'probe_neighbor_radius': 104.0}\n",
      " 62%|██████▎   | 50/80 [22:39<12:19, 24.64s/it, best loss: -0.7743108569525026]"
     ]
    },
    {
     "name": "stderr",
     "output_type": "stream",
     "text": [
      "/disk/scratch/mhennig/miniconda3/envs/spikesorting/lib/python3.7/site-packages/spiketoolkit/comparison/groundtruthcomparison.py:333: RuntimeWarning: invalid value encountered in long_scalars\n",
      "  perf['precision'] = tp / (tp + fp)\n",
      "\n",
      "/disk/scratch/mhennig/miniconda3/envs/spikesorting/lib/python3.7/site-packages/spiketoolkit/comparison/groundtruthcomparison.py:334: RuntimeWarning: invalid value encountered in long_scalars\n",
      "  perf['false_discovery_rate'] = fp / (tp + fp)\n",
      "\n"
     ]
    },
    {
     "name": "stdout",
     "output_type": "stream",
     "text": [
      "# Generating new position and neighbor files from data file                    \n",
      "# Not Masking any Channels                                                     \n",
      "# Sampling rate: 32000                                                         \n",
      "# Localization On                                                              \n",
      "# Number of recorded channels: 30                                              \n",
      "# Analysing frames: 9600000; Seconds: 300.0                                    \n",
      "# Frames before spike in cutout: 6                                             \n",
      "# Frames after spike in cutout: 32                                             \n",
      "# tcuts: 51 77                                                                 \n",
      "# tInc: 1000000                                                                \n",
      "# Analysing frames from -51 to 1000077  (0.0%)                                 \n",
      "# Analysing frames from 999949 to 2000077  (10.4%)                             \n",
      "# Analysing frames from 1999949 to 3000077  (20.8%)                            \n",
      "# Analysing frames from 2999949 to 4000077  (31.2%)                            \n",
      "# Analysing frames from 3999949 to 5000077  (41.7%)                            \n",
      "# Analysing frames from 4999949 to 6000077  (52.1%)                            \n",
      "# Analysing frames from 5999949 to 7000077  (62.5%)                            \n",
      "# Analysing frames from 6999949 to 8000077  (72.9%)                            \n",
      "# Analysing frames from 7999949 to 9000077  (83.3%)                            \n",
      "# Analysing frames from 8999949 to 9600000  (93.8%)                            \n",
      "# Detection completed, time taken: 0:00:15.049601                              \n",
      "# Time per frame: 0:00:00.001568                                               \n",
      "# Time per sample: 0:00:00.000052                                              \n",
      "Loaded 13473 spikes.                                                           \n",
      "Fitting dimensionality reduction using all spikes...                           \n",
      "...projecting...                                                               \n",
      "...done                                                                        \n",
      "Clustering...                                                                  \n",
      "Clustering 13473 spikes...                                                     \n",
      "number of seeds: 147                                                           \n",
      "seeds/job: 7                                                                   \n",
      "using 24 cpus                                                                  \n",
      " 62%|██████▎   | 50/80 [22:56<12:19, 24.64s/it, best loss: -0.7743108569525026]"
     ]
    },
    {
     "name": "stderr",
     "output_type": "stream",
     "text": [
      "[Parallel(n_jobs=24)]: Using backend LokyBackend with 24 concurrent workers.\n",
      "\n",
      "[Parallel(n_jobs=24)]: Done   3 out of  24 | elapsed:    3.3s remaining:   23.4s\n",
      "\n",
      "[Parallel(n_jobs=24)]: Done  16 out of  24 | elapsed:    3.4s remaining:    1.7s\n",
      "\n"
     ]
    },
    {
     "name": "stdout",
     "output_type": "stream",
     "text": [
      "Number of estimated units:                                                     \n",
      "13                                                                             \n",
      "Saving to                                                                      \n",
      "/disk/scratch/mhennig/spikeinterface/spikeoptimizer-develop/optimization_50/HS2_sorted.hdf5\n",
      "Warning: sampling frequency information not found. Setting delta_frames to 10. \n",
      " 62%|██████▎   | 50/80 [23:00<12:19, 24.64s/it, best loss: -0.7743108569525026]"
     ]
    },
    {
     "name": "stderr",
     "output_type": "stream",
     "text": [
      "[Parallel(n_jobs=24)]: Done  24 out of  24 | elapsed:    3.6s finished\n",
      "\n"
     ]
    },
    {
     "name": "stdout",
     "output_type": "stream",
     "text": [
      "score:                                                                         \n",
      "-0.2850418410041841                                                            \n",
      "chosen values:                                                                 \n",
      "{'ahpthr': 15.0, 'clustering_alpha': 4.106662376710286, 'clustering_bandwidth': 9.002421103673736, 'detection_threshold': 25.0, 'maa': 5.0, 'probe_event_length': 0.27122482392777886, 'probe_inner_radius': 64.0, 'probe_neighbor_radius': 97.0}\n",
      "Clustering spikes with parameters: {'ahpthr': 15.0, 'clustering_alpha': 4.106662376710286, 'clustering_bandwidth': 9.002421103673736, 'detection_threshold': 25.0, 'maa': 5.0, 'probe_event_length': 0.27122482392777886, 'probe_inner_radius': 64.0, 'probe_neighbor_radius': 97.0}\n",
      "# Generating new position and neighbor files from data file                    \n",
      "# Not Masking any Channels                                                     \n",
      "# Sampling rate: 32000                                                         \n",
      "# Localization On                                                              \n",
      "# Number of recorded channels: 30                                              \n",
      "# Analysing frames: 9600000; Seconds: 300.0                                    \n",
      "# Frames before spike in cutout: 6                                             \n",
      "# Frames after spike in cutout: 32                                             \n",
      "# tcuts: 51 77                                                                 \n",
      "# tInc: 1000000                                                                \n",
      "# Analysing frames from -51 to 1000077  (0.0%)                                 \n",
      "# Analysing frames from 999949 to 2000077  (10.4%)                             \n",
      "# Analysing frames from 1999949 to 3000077  (20.8%)                            \n",
      "# Analysing frames from 2999949 to 4000077  (31.2%)                            \n",
      "# Analysing frames from 3999949 to 5000077  (41.7%)                            \n",
      "# Analysing frames from 4999949 to 6000077  (52.1%)                            \n",
      "# Analysing frames from 5999949 to 7000077  (62.5%)                            \n",
      "# Analysing frames from 6999949 to 8000077  (72.9%)                            \n",
      "# Analysing frames from 7999949 to 9000077  (83.3%)                            \n",
      "# Analysing frames from 8999949 to 9600000  (93.8%)                            \n",
      "# Detection completed, time taken: 0:00:14.944882                              \n",
      "# Time per frame: 0:00:00.001557                                               \n",
      "# Time per sample: 0:00:00.000052                                              \n",
      "Loaded 16912 spikes.                                                           \n",
      "Fitting dimensionality reduction using all spikes...                           \n",
      "...projecting...                                                               \n",
      "...done                                                                        \n",
      "Clustering...                                                                  \n",
      "Clustering 16912 spikes...                                                     \n",
      "number of seeds: 100                                                           \n",
      "seeds/job: 5                                                                   \n",
      "using 24 cpus                                                                  \n",
      " 64%|██████▍   | 51/80 [23:22<12:07, 25.07s/it, best loss: -0.7743108569525026]"
     ]
    },
    {
     "name": "stderr",
     "output_type": "stream",
     "text": [
      "[Parallel(n_jobs=24)]: Using backend LokyBackend with 24 concurrent workers.\n",
      "\n",
      "[Parallel(n_jobs=24)]: Done   3 out of  24 | elapsed:    3.4s remaining:   23.5s\n",
      "\n",
      "[Parallel(n_jobs=24)]: Done  16 out of  24 | elapsed:    3.5s remaining:    1.7s\n",
      "\n"
     ]
    },
    {
     "name": "stdout",
     "output_type": "stream",
     "text": [
      "Number of estimated units:                                                     \n",
      "11                                                                             \n",
      "Saving to                                                                      \n",
      "/disk/scratch/mhennig/spikeinterface/spikeoptimizer-develop/optimization_51/HS2_sorted.hdf5\n",
      " 64%|██████▍   | 51/80 [23:26<12:07, 25.07s/it, best loss: -0.7743108569525026]"
     ]
    },
    {
     "name": "stderr",
     "output_type": "stream",
     "text": [
      "[Parallel(n_jobs=24)]: Done  24 out of  24 | elapsed:    3.6s finished\n",
      "\n"
     ]
    },
    {
     "name": "stdout",
     "output_type": "stream",
     "text": [
      "Warning: sampling frequency information not found. Setting delta_frames to 10. \n",
      "score:                                                                         \n",
      "-0.30442186688217976                                                           \n",
      "chosen values:                                                                 \n",
      "{'ahpthr': -0.0, 'clustering_alpha': 9.687059254538594, 'clustering_bandwidth': 6.744509055128008, 'detection_threshold': 16.0, 'maa': 7.0, 'probe_event_length': 0.17703203889232733, 'probe_inner_radius': 79.0, 'probe_neighbor_radius': 81.0}\n",
      "Clustering spikes with parameters: {'ahpthr': -0.0, 'clustering_alpha': 9.687059254538594, 'clustering_bandwidth': 6.744509055128008, 'detection_threshold': 16.0, 'maa': 7.0, 'probe_event_length': 0.17703203889232733, 'probe_inner_radius': 79.0, 'probe_neighbor_radius': 81.0}\n",
      "# Generating new position and neighbor files from data file                    \n",
      "# Not Masking any Channels                                                     \n",
      "# Sampling rate: 32000                                                         \n",
      "# Localization On                                                              \n",
      "# Number of recorded channels: 30                                              \n",
      "# Analysing frames: 9600000; Seconds: 300.0                                    \n",
      "# Frames before spike in cutout: 6                                             \n",
      "# Frames after spike in cutout: 32                                             \n",
      "# tcuts: 51 77                                                                 \n",
      "# tInc: 1000000                                                                \n",
      "# Analysing frames from -51 to 1000077  (0.0%)                                 \n",
      "# Analysing frames from 999949 to 2000077  (10.4%)                             \n",
      "# Analysing frames from 1999949 to 3000077  (20.8%)                            \n",
      "# Analysing frames from 2999949 to 4000077  (31.2%)                            \n",
      "# Analysing frames from 3999949 to 5000077  (41.7%)                            \n",
      "# Analysing frames from 4999949 to 6000077  (52.1%)                            \n",
      "# Analysing frames from 5999949 to 7000077  (62.5%)                            \n",
      "# Analysing frames from 6999949 to 8000077  (72.9%)                            \n",
      "# Analysing frames from 7999949 to 9000077  (83.3%)                            \n",
      "# Analysing frames from 8999949 to 9600000  (93.8%)                            \n",
      "# Detection completed, time taken: 0:00:15.514382                              \n",
      "# Time per frame: 0:00:00.001616                                               \n",
      "# Time per sample: 0:00:00.000054                                              \n",
      "Loaded 32954 spikes.                                                           \n",
      "Fitting dimensionality reduction using all spikes...                           \n",
      "...projecting...                                                               \n",
      "...done                                                                        \n",
      "Clustering...                                                                  \n",
      "Clustering 32954 spikes...                                                     \n",
      "number of seeds: 442                                                           \n",
      "seeds/job: 19                                                                  \n",
      "using 24 cpus                                                                  \n",
      " 65%|██████▌   | 52/80 [23:49<11:50, 25.39s/it, best loss: -0.7743108569525026]"
     ]
    },
    {
     "name": "stderr",
     "output_type": "stream",
     "text": [
      "[Parallel(n_jobs=24)]: Using backend LokyBackend with 24 concurrent workers.\n",
      "\n",
      "[Parallel(n_jobs=24)]: Done   3 out of  24 | elapsed:    3.6s remaining:   24.9s\n",
      "\n",
      "[Parallel(n_jobs=24)]: Done  16 out of  24 | elapsed:    3.7s remaining:    1.9s\n",
      "\n"
     ]
    },
    {
     "name": "stdout",
     "output_type": "stream",
     "text": [
      "Number of estimated units:                                                     \n",
      "21                                                                             \n",
      "Saving to                                                                      \n",
      "/disk/scratch/mhennig/spikeinterface/spikeoptimizer-develop/optimization_52/HS2_sorted.hdf5\n",
      "Warning: sampling frequency information not found. Setting delta_frames to 10. \n",
      " 65%|██████▌   | 52/80 [23:53<11:50, 25.39s/it, best loss: -0.7743108569525026]"
     ]
    },
    {
     "name": "stderr",
     "output_type": "stream",
     "text": [
      "[Parallel(n_jobs=24)]: Done  24 out of  24 | elapsed:    3.8s finished\n",
      "\n"
     ]
    },
    {
     "name": "stdout",
     "output_type": "stream",
     "text": [
      "score:                                                                         \n",
      "-0.7458495821727019                                                            \n",
      "chosen values:                                                                 \n",
      "{'ahpthr': 5.0, 'clustering_alpha': 14.977816595813191, 'clustering_bandwidth': 4.97135949850312, 'detection_threshold': 33.0, 'maa': 0.0, 'probe_event_length': 0.2260513687880061, 'probe_inner_radius': 62.0, 'probe_neighbor_radius': 93.0}\n",
      "Clustering spikes with parameters: {'ahpthr': 5.0, 'clustering_alpha': 14.977816595813191, 'clustering_bandwidth': 4.97135949850312, 'detection_threshold': 33.0, 'maa': 0.0, 'probe_event_length': 0.2260513687880061, 'probe_inner_radius': 62.0, 'probe_neighbor_radius': 93.0}\n",
      "# Generating new position and neighbor files from data file                    \n",
      "# Not Masking any Channels                                                     \n",
      "# Sampling rate: 32000                                                         \n",
      "# Localization On                                                              \n",
      "# Number of recorded channels: 30                                              \n",
      "# Analysing frames: 9600000; Seconds: 300.0                                    \n",
      "# Frames before spike in cutout: 6                                             \n",
      "# Frames after spike in cutout: 32                                             \n",
      "# tcuts: 51 77                                                                 \n",
      "# tInc: 1000000                                                                \n",
      "# Analysing frames from -51 to 1000077  (0.0%)                                 \n",
      "# Analysing frames from 999949 to 2000077  (10.4%)                             \n",
      "# Analysing frames from 1999949 to 3000077  (20.8%)                            \n",
      "# Analysing frames from 2999949 to 4000077  (31.2%)                            \n",
      "# Analysing frames from 3999949 to 5000077  (41.7%)                            \n",
      "# Analysing frames from 4999949 to 6000077  (52.1%)                            \n",
      "# Analysing frames from 5999949 to 7000077  (62.5%)                            \n",
      "# Analysing frames from 6999949 to 8000077  (72.9%)                            \n",
      "# Analysing frames from 7999949 to 9000077  (83.3%)                            \n",
      "# Analysing frames from 8999949 to 9600000  (93.8%)                            \n",
      "# Detection completed, time taken: 0:00:14.843274                              \n",
      "# Time per frame: 0:00:00.001546                                               \n",
      "# Time per sample: 0:00:00.000052                                              \n",
      "Loaded 10397 spikes.                                                           \n",
      "Fitting dimensionality reduction using all spikes...                           \n",
      "...projecting...                                                               \n",
      "...done                                                                        \n",
      "Clustering...                                                                  \n",
      "Clustering 10397 spikes...                                                     \n",
      "number of seeds: 319                                                           \n",
      "seeds/job: 14                                                                  \n",
      "using 24 cpus                                                                  \n",
      " 66%|██████▋   | 53/80 [24:15<11:41, 25.98s/it, best loss: -0.7743108569525026]"
     ]
    },
    {
     "name": "stderr",
     "output_type": "stream",
     "text": [
      "[Parallel(n_jobs=24)]: Using backend LokyBackend with 24 concurrent workers.\n",
      "\n",
      "[Parallel(n_jobs=24)]: Done   3 out of  24 | elapsed:    3.6s remaining:   25.0s\n",
      "\n",
      "[Parallel(n_jobs=24)]: Done  16 out of  24 | elapsed:    3.8s remaining:    1.9s\n",
      "\n"
     ]
    },
    {
     "name": "stdout",
     "output_type": "stream",
     "text": [
      "Number of estimated units:                                                     \n",
      "10                                                                             \n",
      "Saving to                                                                      \n",
      "/disk/scratch/mhennig/spikeinterface/spikeoptimizer-develop/optimization_53/HS2_sorted.hdf5\n",
      "Warning: sampling frequency information not found. Setting delta_frames to 10. \n",
      " 66%|██████▋   | 53/80 [24:20<11:41, 25.98s/it, best loss: -0.7743108569525026]"
     ]
    },
    {
     "name": "stderr",
     "output_type": "stream",
     "text": [
      "[Parallel(n_jobs=24)]: Done  24 out of  24 | elapsed:    3.8s finished\n",
      "\n"
     ]
    },
    {
     "name": "stdout",
     "output_type": "stream",
     "text": [
      "score:                                                                         \n",
      "-0.25127867675649807                                                           \n",
      "chosen values:                                                                 \n",
      "{'ahpthr': 25.0, 'clustering_alpha': 4.834860836542524, 'clustering_bandwidth': 3.012148856085, 'detection_threshold': 20.0, 'maa': 9.0, 'probe_event_length': 0.20184861795401973, 'probe_inner_radius': 60.0, 'probe_neighbor_radius': 111.0}\n",
      "Clustering spikes with parameters: {'ahpthr': 25.0, 'clustering_alpha': 4.834860836542524, 'clustering_bandwidth': 3.012148856085, 'detection_threshold': 20.0, 'maa': 9.0, 'probe_event_length': 0.20184861795401973, 'probe_inner_radius': 60.0, 'probe_neighbor_radius': 111.0}\n",
      "# Generating new position and neighbor files from data file                    \n",
      "# Not Masking any Channels                                                     \n",
      "# Sampling rate: 32000                                                         \n",
      "# Localization On                                                              \n",
      "# Number of recorded channels: 30                                              \n",
      "# Analysing frames: 9600000; Seconds: 300.0                                    \n",
      "# Frames before spike in cutout: 6                                             \n",
      "# Frames after spike in cutout: 32                                             \n",
      "# tcuts: 51 77                                                                 \n",
      "# tInc: 1000000                                                                \n",
      "# Analysing frames from -51 to 1000077  (0.0%)                                 \n",
      "# Analysing frames from 999949 to 2000077  (10.4%)                             \n",
      "# Analysing frames from 1999949 to 3000077  (20.8%)                            \n",
      "# Analysing frames from 2999949 to 4000077  (31.2%)                            \n",
      "# Analysing frames from 3999949 to 5000077  (41.7%)                            \n",
      "# Analysing frames from 4999949 to 6000077  (52.1%)                            \n",
      "# Analysing frames from 5999949 to 7000077  (62.5%)                            \n",
      "# Analysing frames from 6999949 to 8000077  (72.9%)                            \n",
      "# Analysing frames from 7999949 to 9000077  (83.3%)                            \n",
      "# Analysing frames from 8999949 to 9600000  (93.8%)                            \n",
      "# Detection completed, time taken: 0:00:14.847549                              \n",
      "# Time per frame: 0:00:00.001547                                               \n",
      "# Time per sample: 0:00:00.000052                                              \n",
      "Loaded 26457 spikes.                                                           \n",
      "Fitting dimensionality reduction using all spikes...                           \n",
      "...projecting...                                                               \n",
      "...done                                                                        \n",
      "Clustering...                                                                  \n",
      "Clustering 26457 spikes...                                                     \n",
      "number of seeds: 585                                                           \n",
      "seeds/job: 25                                                                  \n",
      "using 24 cpus                                                                  \n",
      " 68%|██████▊   | 54/80 [24:41<11:12, 25.88s/it, best loss: -0.7743108569525026]"
     ]
    },
    {
     "name": "stderr",
     "output_type": "stream",
     "text": [
      "[Parallel(n_jobs=24)]: Using backend LokyBackend with 24 concurrent workers.\n",
      "\n",
      "[Parallel(n_jobs=24)]: Done   3 out of  24 | elapsed:    3.9s remaining:   27.3s\n",
      "\n",
      "[Parallel(n_jobs=24)]: Done  16 out of  24 | elapsed:    4.0s remaining:    2.0s\n",
      "\n",
      "[Parallel(n_jobs=24)]: Done  24 out of  24 | elapsed:    4.1s finished\n",
      "\n"
     ]
    },
    {
     "name": "stdout",
     "output_type": "stream",
     "text": [
      "Number of estimated units:                                                     \n",
      "17                                                                             \n",
      "Saving to                                                                      \n",
      "/disk/scratch/mhennig/spikeinterface/spikeoptimizer-develop/optimization_54/HS2_sorted.hdf5\n",
      "Warning: sampling frequency information not found. Setting delta_frames to 10. \n",
      "score:                                                                         \n",
      "-0.5784207916460054                                                            \n",
      "chosen values:                                                                 \n",
      "{'ahpthr': 21.0, 'clustering_alpha': 5.337941977170103, 'clustering_bandwidth': 9.64525259374044, 'detection_threshold': 30.0, 'maa': 4.0, 'probe_event_length': 0.18965373377109573, 'probe_inner_radius': 74.0, 'probe_neighbor_radius': 101.0}\n",
      "Clustering spikes with parameters: {'ahpthr': 21.0, 'clustering_alpha': 5.337941977170103, 'clustering_bandwidth': 9.64525259374044, 'detection_threshold': 30.0, 'maa': 4.0, 'probe_event_length': 0.18965373377109573, 'probe_inner_radius': 74.0, 'probe_neighbor_radius': 101.0}\n",
      "# Generating new position and neighbor files from data file                    \n",
      "# Not Masking any Channels                                                     \n",
      "# Sampling rate: 32000                                                         \n",
      "# Localization On                                                              \n",
      "# Number of recorded channels: 30                                              \n",
      "# Analysing frames: 9600000; Seconds: 300.0                                    \n",
      "# Frames before spike in cutout: 6                                             \n",
      "# Frames after spike in cutout: 32                                             \n",
      "# tcuts: 51 77                                                                 \n",
      "# tInc: 1000000                                                                \n",
      "# Analysing frames from -51 to 1000077  (0.0%)                                 \n",
      "# Analysing frames from 999949 to 2000077  (10.4%)                             \n",
      "# Analysing frames from 1999949 to 3000077  (20.8%)                            \n",
      "# Analysing frames from 2999949 to 4000077  (31.2%)                            \n",
      "# Analysing frames from 3999949 to 5000077  (41.7%)                            \n",
      "# Analysing frames from 4999949 to 6000077  (52.1%)                            \n",
      "# Analysing frames from 5999949 to 7000077  (62.5%)                            \n",
      "# Analysing frames from 6999949 to 8000077  (72.9%)                            \n",
      "# Analysing frames from 7999949 to 9000077  (83.3%)                            \n",
      "# Analysing frames from 8999949 to 9600000  (93.8%)                            \n",
      "# Detection completed, time taken: 0:00:15.099695                              \n",
      "# Time per frame: 0:00:00.001573                                               \n",
      "# Time per sample: 0:00:00.000052                                              \n",
      "Loaded 11971 spikes.                                                           \n",
      "Fitting dimensionality reduction using all spikes...                           \n",
      "...projecting...                                                               \n",
      "...done                                                                        \n",
      "Clustering...                                                                  \n",
      "Clustering 11971 spikes...                                                     \n",
      "number of seeds: 90                                                            \n",
      "seeds/job: 4                                                                   \n",
      "using 24 cpus                                                                  \n",
      " 69%|██████▉   | 55/80 [25:08<10:51, 26.05s/it, best loss: -0.7743108569525026]"
     ]
    },
    {
     "name": "stderr",
     "output_type": "stream",
     "text": [
      "[Parallel(n_jobs=24)]: Using backend LokyBackend with 24 concurrent workers.\n",
      "\n",
      "[Parallel(n_jobs=24)]: Done   3 out of  24 | elapsed:    3.5s remaining:   24.2s\n",
      "\n",
      "[Parallel(n_jobs=24)]: Done  16 out of  24 | elapsed:    3.6s remaining:    1.8s\n",
      "\n"
     ]
    },
    {
     "name": "stdout",
     "output_type": "stream",
     "text": [
      "Number of estimated units:                                                     \n",
      "9                                                                              \n",
      "Saving to                                                                      \n",
      "/disk/scratch/mhennig/spikeinterface/spikeoptimizer-develop/optimization_55/HS2_sorted.hdf5\n",
      "Warning: sampling frequency information not found. Setting delta_frames to 10. \n",
      " 69%|██████▉   | 55/80 [25:12<10:51, 26.05s/it, best loss: -0.7743108569525026]"
     ]
    },
    {
     "name": "stderr",
     "output_type": "stream",
     "text": [
      "[Parallel(n_jobs=24)]: Done  24 out of  24 | elapsed:    3.7s finished\n",
      "\n"
     ]
    },
    {
     "name": "stdout",
     "output_type": "stream",
     "text": [
      "score:                                                                         \n",
      "-0.2770798355815435                                                            \n",
      "chosen values:                                                                 \n",
      "{'ahpthr': 19.0, 'clustering_alpha': 6.825841291807791, 'clustering_bandwidth': 8.044476020569403, 'detection_threshold': 10.0, 'maa': 2.0, 'probe_event_length': 0.13322066833548413, 'probe_inner_radius': 85.0, 'probe_neighbor_radius': 89.0}\n",
      "Clustering spikes with parameters: {'ahpthr': 19.0, 'clustering_alpha': 6.825841291807791, 'clustering_bandwidth': 8.044476020569403, 'detection_threshold': 10.0, 'maa': 2.0, 'probe_event_length': 0.13322066833548413, 'probe_inner_radius': 85.0, 'probe_neighbor_radius': 89.0}\n",
      "# Generating new position and neighbor files from data file                    \n",
      "# Not Masking any Channels                                                     \n",
      "# Sampling rate: 32000                                                         \n",
      "# Localization On                                                              \n",
      "# Number of recorded channels: 30                                              \n",
      "# Analysing frames: 9600000; Seconds: 300.0                                    \n",
      "# Frames before spike in cutout: 6                                             \n",
      "# Frames after spike in cutout: 32                                             \n",
      "# tcuts: 51 77                                                                 \n",
      "# tInc: 1000000                                                                \n",
      "# Analysing frames from -51 to 1000077  (0.0%)                                 \n",
      "# Analysing frames from 999949 to 2000077  (10.4%)                             \n",
      "# Analysing frames from 1999949 to 3000077  (20.8%)                            \n",
      "# Analysing frames from 2999949 to 4000077  (31.2%)                            \n",
      "# Analysing frames from 3999949 to 5000077  (41.7%)                            \n",
      "# Analysing frames from 4999949 to 6000077  (52.1%)                            \n",
      "# Analysing frames from 5999949 to 7000077  (62.5%)                            \n",
      "# Analysing frames from 6999949 to 8000077  (72.9%)                            \n",
      "# Analysing frames from 7999949 to 9000077  (83.3%)                            \n",
      "# Analysing frames from 8999949 to 9600000  (93.8%)                            \n",
      "# Detection completed, time taken: 0:00:15.521060                              \n",
      "# Time per frame: 0:00:00.001617                                               \n",
      "# Time per sample: 0:00:00.000054                                              \n",
      "Loaded 47984 spikes.                                                           \n",
      "Fitting dimensionality reduction using all spikes...                           \n",
      "...projecting...                                                               \n",
      "...done                                                                        \n",
      "Clustering...                                                                  \n",
      "Clustering 47984 spikes...                                                     \n",
      "number of seeds: 544                                                           \n",
      "seeds/job: 23                                                                  \n",
      "using 24 cpus                                                                  \n",
      " 70%|███████   | 56/80 [25:35<10:26, 26.09s/it, best loss: -0.7743108569525026]"
     ]
    },
    {
     "name": "stderr",
     "output_type": "stream",
     "text": [
      "[Parallel(n_jobs=24)]: Using backend LokyBackend with 24 concurrent workers.\n",
      "\n",
      "[Parallel(n_jobs=24)]: Done   3 out of  24 | elapsed:    3.7s remaining:   25.9s\n",
      "\n"
     ]
    },
    {
     "name": "stdout",
     "output_type": "stream",
     "text": [
      "Number of estimated units:                                                     \n",
      "21                                                                             \n",
      "Saving to                                                                      \n",
      "/disk/scratch/mhennig/spikeinterface/spikeoptimizer-develop/optimization_56/HS2_sorted.hdf5\n",
      " 70%|███████   | 56/80 [25:39<10:26, 26.09s/it, best loss: -0.7743108569525026]"
     ]
    },
    {
     "name": "stderr",
     "output_type": "stream",
     "text": [
      "[Parallel(n_jobs=24)]: Done  16 out of  24 | elapsed:    4.0s remaining:    2.0s\n",
      "\n",
      "[Parallel(n_jobs=24)]: Done  24 out of  24 | elapsed:    4.1s finished\n",
      "\n"
     ]
    },
    {
     "name": "stdout",
     "output_type": "stream",
     "text": [
      "Warning: sampling frequency information not found. Setting delta_frames to 10. \n",
      "score:                                                                         \n",
      "-0.5171653543307086                                                            \n",
      "chosen values:                                                                 \n",
      "{'ahpthr': 13.0, 'clustering_alpha': 7.643147528404896, 'clustering_bandwidth': 7.1873141220067875, 'detection_threshold': 8.0, 'maa': 10.0, 'probe_event_length': 0.23845505512660306, 'probe_inner_radius': 90.0, 'probe_neighbor_radius': 105.0}\n",
      "Clustering spikes with parameters: {'ahpthr': 13.0, 'clustering_alpha': 7.643147528404896, 'clustering_bandwidth': 7.1873141220067875, 'detection_threshold': 8.0, 'maa': 10.0, 'probe_event_length': 0.23845505512660306, 'probe_inner_radius': 90.0, 'probe_neighbor_radius': 105.0}\n",
      "# Generating new position and neighbor files from data file                    \n",
      "# Not Masking any Channels                                                     \n",
      "# Sampling rate: 32000                                                         \n",
      "# Localization On                                                              \n",
      "# Number of recorded channels: 30                                              \n",
      "# Analysing frames: 9600000; Seconds: 300.0                                    \n",
      "# Frames before spike in cutout: 6                                             \n",
      "# Frames after spike in cutout: 32                                             \n",
      "# tcuts: 51 77                                                                 \n",
      "# tInc: 1000000                                                                \n",
      "# Analysing frames from -51 to 1000077  (0.0%)                                 \n",
      "# Analysing frames from 999949 to 2000077  (10.4%)                             \n",
      "# Analysing frames from 1999949 to 3000077  (20.8%)                            \n",
      "# Analysing frames from 2999949 to 4000077  (31.2%)                            \n",
      "# Analysing frames from 3999949 to 5000077  (41.7%)                            \n",
      "# Analysing frames from 4999949 to 6000077  (52.1%)                            \n",
      "# Analysing frames from 5999949 to 7000077  (62.5%)                            \n",
      "# Analysing frames from 6999949 to 8000077  (72.9%)                            \n",
      "# Analysing frames from 7999949 to 9000077  (83.3%)                            \n",
      "# Analysing frames from 8999949 to 9600000  (93.8%)                            \n",
      "# Detection completed, time taken: 0:00:15.402799                              \n",
      "# Time per frame: 0:00:00.001604                                               \n",
      "# Time per sample: 0:00:00.000053                                              \n",
      "Loaded 40076 spikes.                                                           \n",
      "Fitting dimensionality reduction using all spikes...                           \n",
      "...projecting...                                                               \n",
      "...done                                                                        \n",
      "Clustering...                                                                  \n",
      "Clustering 40076 spikes...                                                     \n",
      "number of seeds: 522                                                           \n",
      "seeds/job: 22                                                                  \n",
      "using 24 cpus                                                                  \n",
      " 71%|███████▏  | 57/80 [26:03<10:14, 26.70s/it, best loss: -0.7743108569525026]"
     ]
    },
    {
     "name": "stderr",
     "output_type": "stream",
     "text": [
      "[Parallel(n_jobs=24)]: Using backend LokyBackend with 24 concurrent workers.\n",
      "\n",
      "[Parallel(n_jobs=24)]: Done   3 out of  24 | elapsed:    3.7s remaining:   25.6s\n",
      "\n",
      "[Parallel(n_jobs=24)]: Done  16 out of  24 | elapsed:    3.8s remaining:    1.9s\n",
      "\n"
     ]
    },
    {
     "name": "stdout",
     "output_type": "stream",
     "text": [
      "Number of estimated units:                                                     \n",
      "26                                                                             \n",
      "Saving to                                                                      \n",
      "/disk/scratch/mhennig/spikeinterface/spikeoptimizer-develop/optimization_57/HS2_sorted.hdf5\n",
      " 71%|███████▏  | 57/80 [26:07<10:14, 26.70s/it, best loss: -0.7743108569525026]"
     ]
    },
    {
     "name": "stderr",
     "output_type": "stream",
     "text": [
      "[Parallel(n_jobs=24)]: Done  24 out of  24 | elapsed:    3.9s finished\n",
      "\n"
     ]
    },
    {
     "name": "stdout",
     "output_type": "stream",
     "text": [
      "Warning: sampling frequency information not found. Setting delta_frames to 10. \n",
      "score:                                                                         \n",
      "-0.750828965664777                                                             \n",
      "chosen values:                                                                 \n",
      "{'ahpthr': -22.0, 'clustering_alpha': 3.671960195713085, 'clustering_bandwidth': 12.587880759319182, 'detection_threshold': 38.0, 'maa': 8.0, 'probe_event_length': 0.16421267484249374, 'probe_inner_radius': 81.0, 'probe_neighbor_radius': 99.0}\n",
      "Clustering spikes with parameters: {'ahpthr': -22.0, 'clustering_alpha': 3.671960195713085, 'clustering_bandwidth': 12.587880759319182, 'detection_threshold': 38.0, 'maa': 8.0, 'probe_event_length': 0.16421267484249374, 'probe_inner_radius': 81.0, 'probe_neighbor_radius': 99.0}\n",
      "# Generating new position and neighbor files from data file                    \n",
      "# Not Masking any Channels                                                     \n",
      "# Sampling rate: 32000                                                         \n",
      "# Localization On                                                              \n",
      "# Number of recorded channels: 30                                              \n",
      "# Analysing frames: 9600000; Seconds: 300.0                                    \n",
      "# Frames before spike in cutout: 6                                             \n",
      "# Frames after spike in cutout: 32                                             \n",
      "# tcuts: 51 77                                                                 \n",
      "# tInc: 1000000                                                                \n",
      "# Analysing frames from -51 to 1000077  (0.0%)                                 \n",
      "# Analysing frames from 999949 to 2000077  (10.4%)                             \n",
      "# Analysing frames from 1999949 to 3000077  (20.8%)                            \n",
      "# Analysing frames from 2999949 to 4000077  (31.2%)                            \n",
      "# Analysing frames from 3999949 to 5000077  (41.7%)                            \n",
      "# Analysing frames from 4999949 to 6000077  (52.1%)                            \n",
      "# Analysing frames from 5999949 to 7000077  (62.5%)                            \n",
      "# Analysing frames from 6999949 to 8000077  (72.9%)                            \n",
      "# Analysing frames from 7999949 to 9000077  (83.3%)                            \n",
      "# Analysing frames from 8999949 to 9600000  (93.8%)                            \n",
      "# Detection completed, time taken: 0:00:14.292800                              \n",
      "# Time per frame: 0:00:00.001489                                               \n",
      "# Time per sample: 0:00:00.000050                                              \n",
      "Loaded 2 spikes.                                                               \n",
      "Fitting dimensionality reduction using all spikes...                           \n",
      "...projecting...                                                               \n",
      "...done                                                                        \n",
      "Clustering...                                                                  \n",
      "Clustering 2 spikes...                                                         \n",
      "number of seeds: 0                                                             \n",
      "seeds/job: 1                                                                   \n",
      "using 24 cpus                                                                  \n",
      " 72%|███████▎  | 58/80 [26:29<09:54, 27.03s/it, best loss: -0.7743108569525026]"
     ]
    },
    {
     "name": "stderr",
     "output_type": "stream",
     "text": [
      "[Parallel(n_jobs=24)]: Using backend LokyBackend with 24 concurrent workers.\n",
      "\n",
      "[Parallel(n_jobs=24)]: Done   3 out of  24 | elapsed:    3.3s remaining:   22.9s\n",
      "\n",
      "[Parallel(n_jobs=24)]: Done  16 out of  24 | elapsed:    3.4s remaining:    1.7s\n",
      "\n"
     ]
    },
    {
     "name": "stdout",
     "output_type": "stream",
     "text": [
      "sorter failed for these parameters                                             \n",
      "chosen values:                                                                 \n",
      "{'ahpthr': -12.0, 'clustering_alpha': 11.094836438942593, 'clustering_bandwidth': 3.846536583676078, 'detection_threshold': 6.0, 'maa': 6.0, 'probe_event_length': 0.14450138390191017, 'probe_inner_radius': 69.0, 'probe_neighbor_radius': 117.0}\n",
      "Clustering spikes with parameters: {'ahpthr': -12.0, 'clustering_alpha': 11.094836438942593, 'clustering_bandwidth': 3.846536583676078, 'detection_threshold': 6.0, 'maa': 6.0, 'probe_event_length': 0.14450138390191017, 'probe_inner_radius': 69.0, 'probe_neighbor_radius': 117.0}\n",
      " 74%|███████▍  | 59/80 [26:33<08:40, 24.79s/it, best loss: -0.7743108569525026]"
     ]
    },
    {
     "name": "stderr",
     "output_type": "stream",
     "text": [
      "[Parallel(n_jobs=24)]: Done  24 out of  24 | elapsed:    3.6s finished\n",
      "\n"
     ]
    },
    {
     "name": "stdout",
     "output_type": "stream",
     "text": [
      "# Generating new position and neighbor files from data file                    \n",
      "# Not Masking any Channels                                                     \n",
      "# Sampling rate: 32000                                                         \n",
      "# Localization On                                                              \n",
      "# Number of recorded channels: 30                                              \n",
      "# Analysing frames: 9600000; Seconds: 300.0                                    \n",
      "# Frames before spike in cutout: 6                                             \n",
      "# Frames after spike in cutout: 32                                             \n",
      "# tcuts: 51 77                                                                 \n",
      "# tInc: 1000000                                                                \n",
      "# Analysing frames from -51 to 1000077  (0.0%)                                 \n",
      "# Analysing frames from 999949 to 2000077  (10.4%)                             \n",
      "# Analysing frames from 1999949 to 3000077  (20.8%)                            \n",
      "# Analysing frames from 2999949 to 4000077  (31.2%)                            \n",
      "# Analysing frames from 3999949 to 5000077  (41.7%)                            \n",
      "# Analysing frames from 4999949 to 6000077  (52.1%)                            \n",
      "# Analysing frames from 5999949 to 7000077  (62.5%)                            \n",
      "# Analysing frames from 6999949 to 8000077  (72.9%)                            \n",
      "# Analysing frames from 7999949 to 9000077  (83.3%)                            \n",
      "# Analysing frames from 8999949 to 9600000  (93.8%)                            \n",
      "# Detection completed, time taken: 0:00:14.682407                              \n",
      "# Time per frame: 0:00:00.001529                                               \n",
      "# Time per sample: 0:00:00.000051                                              \n",
      "Loaded 1551 spikes.                                                            \n",
      "Fitting dimensionality reduction using all spikes...                           \n",
      "...projecting...                                                               \n",
      "...done                                                                        \n",
      "Clustering...                                                                  \n",
      "Clustering 1551 spikes...                                                      \n",
      "number of seeds: 36                                                            \n",
      "seeds/job: 2                                                                   \n",
      "using 24 cpus                                                                  \n",
      "Number of estimated units:                                                     \n",
      "5                                                                              \n",
      "Saving to                                                                      \n",
      "/disk/scratch/mhennig/spikeinterface/spikeoptimizer-develop/optimization_59/HS2_sorted.hdf5\n",
      "Warning: sampling frequency information not found. Setting delta_frames to 10. \n",
      " 74%|███████▍  | 59/80 [26:49<08:40, 24.79s/it, best loss: -0.7743108569525026]"
     ]
    },
    {
     "name": "stderr",
     "output_type": "stream",
     "text": [
      "[Parallel(n_jobs=24)]: Using backend LokyBackend with 24 concurrent workers.\n",
      "\n",
      "[Parallel(n_jobs=24)]: Done   3 out of  24 | elapsed:    0.0s remaining:    0.3s\n",
      "\n",
      "[Parallel(n_jobs=24)]: Done  16 out of  24 | elapsed:    0.1s remaining:    0.0s\n",
      "\n",
      "[Parallel(n_jobs=24)]: Done  24 out of  24 | elapsed:    0.1s finished\n",
      "\n"
     ]
    },
    {
     "name": "stdout",
     "output_type": "stream",
     "text": [
      "score:                                                                         \n",
      "-0.0                                                                           \n",
      "chosen values:                                                                 \n",
      "{'ahpthr': -6.0, 'clustering_alpha': 10.405730453639222, 'clustering_bandwidth': 11.29066420352589, 'detection_threshold': 15.0, 'maa': 1.0, 'probe_event_length': 0.2538363819642247, 'probe_inner_radius': 92.0, 'probe_neighbor_radius': 79.0}\n",
      "Clustering spikes with parameters: {'ahpthr': -6.0, 'clustering_alpha': 10.405730453639222, 'clustering_bandwidth': 11.29066420352589, 'detection_threshold': 15.0, 'maa': 1.0, 'probe_event_length': 0.2538363819642247, 'probe_inner_radius': 92.0, 'probe_neighbor_radius': 79.0}\n",
      " 75%|███████▌  | 60/80 [27:13<09:46, 29.32s/it, best loss: -0.7743108569525026]"
     ]
    },
    {
     "name": "stderr",
     "output_type": "stream",
     "text": [
      "/disk/scratch/mhennig/miniconda3/envs/spikesorting/lib/python3.7/site-packages/spiketoolkit/comparison/groundtruthcomparison.py:333: RuntimeWarning: invalid value encountered in long_scalars\n",
      "  perf['precision'] = tp / (tp + fp)\n",
      "\n",
      "/disk/scratch/mhennig/miniconda3/envs/spikesorting/lib/python3.7/site-packages/spiketoolkit/comparison/groundtruthcomparison.py:334: RuntimeWarning: invalid value encountered in long_scalars\n",
      "  perf['false_discovery_rate'] = fp / (tp + fp)\n",
      "\n"
     ]
    },
    {
     "name": "stdout",
     "output_type": "stream",
     "text": [
      "# Generating new position and neighbor files from data file                    \n",
      "# Not Masking any Channels                                                     \n",
      "# Sampling rate: 32000                                                         \n",
      "# Localization On                                                              \n",
      "# Number of recorded channels: 30                                              \n",
      "# Analysing frames: 9600000; Seconds: 300.0                                    \n",
      "# Frames before spike in cutout: 6                                             \n",
      "# Frames after spike in cutout: 32                                             \n",
      "# tcuts: 51 77                                                                 \n",
      "# tInc: 1000000                                                                \n",
      "# Analysing frames from -51 to 1000077  (0.0%)                                 \n",
      "# Analysing frames from 999949 to 2000077  (10.4%)                             \n",
      "# Analysing frames from 1999949 to 3000077  (20.8%)                            \n",
      "# Analysing frames from 2999949 to 4000077  (31.2%)                            \n",
      "# Analysing frames from 3999949 to 5000077  (41.7%)                            \n",
      "# Analysing frames from 4999949 to 6000077  (52.1%)                            \n",
      "# Analysing frames from 5999949 to 7000077  (62.5%)                            \n",
      "# Analysing frames from 6999949 to 8000077  (72.9%)                            \n",
      "# Analysing frames from 7999949 to 9000077  (83.3%)                            \n",
      "# Analysing frames from 8999949 to 9600000  (93.8%)                            \n",
      "# Detection completed, time taken: 0:00:14.592638                              \n",
      "# Time per frame: 0:00:00.001520                                               \n",
      "# Time per sample: 0:00:00.000051                                              \n",
      "Loaded 19101 spikes.                                                           \n",
      "Fitting dimensionality reduction using all spikes...                           \n",
      "...projecting...                                                               \n",
      "...done                                                                        \n",
      "Clustering...                                                                  \n",
      "Clustering 19101 spikes...                                                     \n",
      "number of seeds: 214                                                           \n",
      "seeds/job: 9                                                                   \n",
      "using 24 cpus                                                                  \n",
      " 75%|███████▌  | 60/80 [27:29<09:46, 29.32s/it, best loss: -0.7743108569525026]"
     ]
    },
    {
     "name": "stderr",
     "output_type": "stream",
     "text": [
      "[Parallel(n_jobs=24)]: Using backend LokyBackend with 24 concurrent workers.\n",
      "\n",
      "[Parallel(n_jobs=24)]: Done   3 out of  24 | elapsed:    3.5s remaining:   24.2s\n",
      "\n",
      "[Parallel(n_jobs=24)]: Done  16 out of  24 | elapsed:    3.5s remaining:    1.8s\n",
      "\n"
     ]
    },
    {
     "name": "stdout",
     "output_type": "stream",
     "text": [
      "Number of estimated units:                                                     \n",
      "13                                                                             \n",
      "Saving to                                                                      \n",
      "/disk/scratch/mhennig/spikeinterface/spikeoptimizer-develop/optimization_60/HS2_sorted.hdf5\n",
      " 75%|███████▌  | 60/80 [27:33<09:46, 29.32s/it, best loss: -0.7743108569525026]"
     ]
    },
    {
     "name": "stderr",
     "output_type": "stream",
     "text": [
      "[Parallel(n_jobs=24)]: Done  24 out of  24 | elapsed:    3.7s finished\n",
      "\n"
     ]
    },
    {
     "name": "stdout",
     "output_type": "stream",
     "text": [
      "Warning: sampling frequency information not found. Setting delta_frames to 10. \n",
      "score:                                                                         \n",
      "-0.25843368349133145                                                           \n",
      "chosen values:                                                                 \n",
      "{'ahpthr': 29.0, 'clustering_alpha': 14.170143128058672, 'clustering_bandwidth': 14.82918342225333, 'detection_threshold': 7.0, 'maa': 9.0, 'probe_event_length': 0.29140437979907197, 'probe_inner_radius': 67.0, 'probe_neighbor_radius': 74.0}\n",
      "Clustering spikes with parameters: {'ahpthr': 29.0, 'clustering_alpha': 14.170143128058672, 'clustering_bandwidth': 14.82918342225333, 'detection_threshold': 7.0, 'maa': 9.0, 'probe_event_length': 0.29140437979907197, 'probe_inner_radius': 67.0, 'probe_neighbor_radius': 74.0}\n",
      "# Generating new position and neighbor files from data file                    \n",
      "# Not Masking any Channels                                                     \n",
      "# Sampling rate: 32000                                                         \n",
      "# Localization On                                                              \n",
      "# Number of recorded channels: 30                                              \n",
      "# Analysing frames: 9600000; Seconds: 300.0                                    \n",
      "# Frames before spike in cutout: 6                                             \n",
      "# Frames after spike in cutout: 32                                             \n",
      "# tcuts: 51 77                                                                 \n",
      "# tInc: 1000000                                                                \n",
      "# Analysing frames from -51 to 1000077  (0.0%)                                 \n",
      "# Analysing frames from 999949 to 2000077  (10.4%)                             \n",
      "# Analysing frames from 1999949 to 3000077  (20.8%)                            \n",
      "# Analysing frames from 2999949 to 4000077  (31.2%)                            \n",
      "# Analysing frames from 3999949 to 5000077  (41.7%)                            \n",
      "# Analysing frames from 4999949 to 6000077  (52.1%)                            \n",
      "# Analysing frames from 5999949 to 7000077  (62.5%)                            \n",
      "# Analysing frames from 6999949 to 8000077  (72.9%)                            \n",
      "# Analysing frames from 7999949 to 9000077  (83.3%)                            \n",
      "# Analysing frames from 8999949 to 9600000  (93.8%)                            \n",
      "# Detection completed, time taken: 0:00:15.938091                              \n",
      "# Time per frame: 0:00:00.001660                                               \n",
      "# Time per sample: 0:00:00.000055                                              \n",
      "Loaded 43476 spikes.                                                           \n",
      "Fitting dimensionality reduction using all spikes...                           \n",
      "...projecting...                                                               \n",
      "...done                                                                        \n",
      "Clustering...                                                                  \n",
      "Clustering 43476 spikes...                                                     \n",
      "number of seeds: 349                                                           \n",
      "seeds/job: 15                                                                  \n",
      "using 24 cpus                                                                  \n",
      " 76%|███████▋  | 61/80 [27:56<08:56, 28.22s/it, best loss: -0.7743108569525026]"
     ]
    },
    {
     "name": "stderr",
     "output_type": "stream",
     "text": [
      "[Parallel(n_jobs=24)]: Using backend LokyBackend with 24 concurrent workers.\n",
      "\n",
      "[Parallel(n_jobs=24)]: Done   3 out of  24 | elapsed:    3.5s remaining:   24.7s\n",
      "\n",
      "[Parallel(n_jobs=24)]: Done  16 out of  24 | elapsed:    3.7s remaining:    1.8s\n",
      "\n"
     ]
    },
    {
     "name": "stdout",
     "output_type": "stream",
     "text": [
      "Number of estimated units:                                                     \n",
      "15                                                                             \n",
      "Saving to                                                                      \n",
      "/disk/scratch/mhennig/spikeinterface/spikeoptimizer-develop/optimization_61/HS2_sorted.hdf5\n",
      " 76%|███████▋  | 61/80 [28:00<08:56, 28.22s/it, best loss: -0.7743108569525026]"
     ]
    },
    {
     "name": "stderr",
     "output_type": "stream",
     "text": [
      "[Parallel(n_jobs=24)]: Done  24 out of  24 | elapsed:    3.8s finished\n",
      "\n"
     ]
    },
    {
     "name": "stdout",
     "output_type": "stream",
     "text": [
      "Warning: sampling frequency information not found. Setting delta_frames to 10. \n",
      "score:                                                                         \n",
      "-0.48905091807567463                                                           \n",
      "chosen values:                                                                 \n",
      "{'ahpthr': 2.0, 'clustering_alpha': 11.641875165448504, 'clustering_bandwidth': 5.816907404308449, 'detection_threshold': 22.0, 'maa': 7.0, 'probe_event_length': 0.11275874618793957, 'probe_inner_radius': 95.0, 'probe_neighbor_radius': 107.0}\n",
      "Clustering spikes with parameters: {'ahpthr': 2.0, 'clustering_alpha': 11.641875165448504, 'clustering_bandwidth': 5.816907404308449, 'detection_threshold': 22.0, 'maa': 7.0, 'probe_event_length': 0.11275874618793957, 'probe_inner_radius': 95.0, 'probe_neighbor_radius': 107.0}\n",
      "# Generating new position and neighbor files from data file                    \n",
      "# Not Masking any Channels                                                     \n",
      "# Sampling rate: 32000                                                         \n",
      "# Localization On                                                              \n",
      "# Number of recorded channels: 30                                              \n",
      "# Analysing frames: 9600000; Seconds: 300.0                                    \n",
      "# Frames before spike in cutout: 6                                             \n",
      "# Frames after spike in cutout: 32                                             \n",
      "# tcuts: 51 77                                                                 \n",
      "# tInc: 1000000                                                                \n",
      "# Analysing frames from -51 to 1000077  (0.0%)                                 \n",
      "# Analysing frames from 999949 to 2000077  (10.4%)                             \n",
      "# Analysing frames from 1999949 to 3000077  (20.8%)                            \n",
      "# Analysing frames from 2999949 to 4000077  (31.2%)                            \n",
      "# Analysing frames from 3999949 to 5000077  (41.7%)                            \n",
      "# Analysing frames from 4999949 to 6000077  (52.1%)                            \n",
      "# Analysing frames from 5999949 to 7000077  (62.5%)                            \n",
      "# Analysing frames from 6999949 to 8000077  (72.9%)                            \n",
      "# Analysing frames from 7999949 to 9000077  (83.3%)                            \n",
      "# Analysing frames from 8999949 to 9600000  (93.8%)                            \n",
      "# Detection completed, time taken: 0:00:15.746806                              \n",
      "# Time per frame: 0:00:00.001640                                               \n",
      "# Time per sample: 0:00:00.000055                                              \n",
      "Loaded 22699 spikes.                                                           \n",
      "Fitting dimensionality reduction using all spikes...                           \n",
      "...projecting...                                                               \n",
      "...done                                                                        \n",
      "Clustering...                                                                  \n",
      "Clustering 22699 spikes...                                                     \n",
      "number of seeds: 439                                                           \n",
      "seeds/job: 19                                                                  \n",
      "using 24 cpus                                                                  \n",
      " 78%|███████▊  | 62/80 [28:24<08:26, 28.14s/it, best loss: -0.7743108569525026]"
     ]
    },
    {
     "name": "stderr",
     "output_type": "stream",
     "text": [
      "[Parallel(n_jobs=24)]: Using backend LokyBackend with 24 concurrent workers.\n",
      "\n",
      "[Parallel(n_jobs=24)]: Done   3 out of  24 | elapsed:    3.9s remaining:   27.1s\n",
      "\n",
      "[Parallel(n_jobs=24)]: Done  16 out of  24 | elapsed:    4.1s remaining:    2.0s\n",
      "\n"
     ]
    },
    {
     "name": "stdout",
     "output_type": "stream",
     "text": [
      "Number of estimated units:                                                     \n",
      "16                                                                             \n",
      "Saving to                                                                      \n",
      "/disk/scratch/mhennig/spikeinterface/spikeoptimizer-develop/optimization_62/HS2_sorted.hdf5\n",
      "Warning: sampling frequency information not found. Setting delta_frames to 10. \n",
      " 78%|███████▊  | 62/80 [28:28<08:26, 28.14s/it, best loss: -0.7743108569525026]"
     ]
    },
    {
     "name": "stderr",
     "output_type": "stream",
     "text": [
      "[Parallel(n_jobs=24)]: Done  24 out of  24 | elapsed:    4.1s finished\n",
      "\n"
     ]
    },
    {
     "name": "stdout",
     "output_type": "stream",
     "text": [
      "score:                                                                         \n",
      "-0.5150979994788801                                                            \n",
      "chosen values:                                                                 \n",
      "{'ahpthr': 11.0, 'clustering_alpha': 6.073203135001972, 'clustering_bandwidth': 3.3516941789283545, 'detection_threshold': 11.0, 'maa': 7.0, 'probe_event_length': 0.2219729035869133, 'probe_inner_radius': 61.0, 'probe_neighbor_radius': 91.0}\n",
      "Clustering spikes with parameters: {'ahpthr': 11.0, 'clustering_alpha': 6.073203135001972, 'clustering_bandwidth': 3.3516941789283545, 'detection_threshold': 11.0, 'maa': 7.0, 'probe_event_length': 0.2219729035869133, 'probe_inner_radius': 61.0, 'probe_neighbor_radius': 91.0}\n",
      "# Generating new position and neighbor files from data file                    \n",
      "# Not Masking any Channels                                                     \n",
      "# Sampling rate: 32000                                                         \n",
      "# Localization On                                                              \n",
      "# Number of recorded channels: 30                                              \n",
      "# Analysing frames: 9600000; Seconds: 300.0                                    \n",
      "# Frames before spike in cutout: 6                                             \n",
      "# Frames after spike in cutout: 32                                             \n",
      "# tcuts: 51 77                                                                 \n",
      "# tInc: 1000000                                                                \n",
      "# Analysing frames from -51 to 1000077  (0.0%)                                 \n",
      "# Analysing frames from 999949 to 2000077  (10.4%)                             \n",
      "# Analysing frames from 1999949 to 3000077  (20.8%)                            \n",
      "# Analysing frames from 2999949 to 4000077  (31.2%)                            \n",
      "# Analysing frames from 3999949 to 5000077  (41.7%)                            \n",
      "# Analysing frames from 4999949 to 6000077  (52.1%)                            \n",
      "# Analysing frames from 5999949 to 7000077  (62.5%)                            \n",
      "# Analysing frames from 6999949 to 8000077  (72.9%)                            \n",
      "# Analysing frames from 7999949 to 9000077  (83.3%)                            \n",
      "# Analysing frames from 8999949 to 9600000  (93.8%)                            \n",
      "# Detection completed, time taken: 0:00:16.155872                              \n",
      "# Time per frame: 0:00:00.001683                                               \n",
      "# Time per sample: 0:00:00.000056                                              \n",
      "Loaded 38490 spikes.                                                           \n",
      "Fitting dimensionality reduction using all spikes...                           \n",
      "...projecting...                                                               \n",
      "...done                                                                        \n",
      "Clustering...                                                                  \n",
      "Clustering 38490 spikes...                                                     \n",
      "number of seeds: 859                                                           \n",
      "seeds/job: 36                                                                  \n",
      "using 24 cpus                                                                  \n",
      " 79%|███████▉  | 63/80 [28:52<07:55, 27.99s/it, best loss: -0.7743108569525026]"
     ]
    },
    {
     "name": "stderr",
     "output_type": "stream",
     "text": [
      "[Parallel(n_jobs=24)]: Using backend LokyBackend with 24 concurrent workers.\n",
      "\n",
      "[Parallel(n_jobs=24)]: Done   3 out of  24 | elapsed:    4.2s remaining:   29.5s\n",
      "\n",
      "[Parallel(n_jobs=24)]: Done  16 out of  24 | elapsed:    4.3s remaining:    2.2s\n",
      "\n"
     ]
    },
    {
     "name": "stdout",
     "output_type": "stream",
     "text": [
      "Number of estimated units:                                                     \n",
      "34                                                                             \n",
      "Saving to                                                                      \n",
      "/disk/scratch/mhennig/spikeinterface/spikeoptimizer-develop/optimization_63/HS2_sorted.hdf5\n",
      " 79%|███████▉  | 63/80 [28:57<07:55, 27.99s/it, best loss: -0.7743108569525026]"
     ]
    },
    {
     "name": "stderr",
     "output_type": "stream",
     "text": [
      "[Parallel(n_jobs=24)]: Done  24 out of  24 | elapsed:    4.4s finished\n",
      "\n"
     ]
    },
    {
     "name": "stdout",
     "output_type": "stream",
     "text": [
      "Warning: sampling frequency information not found. Setting delta_frames to 10. \n",
      "score:                                                                         \n",
      "-0.7841195938744601                                                            \n",
      "chosen values:                                                                 \n",
      "{'ahpthr': 18.0, 'clustering_alpha': 6.0379719015421625, 'clustering_bandwidth': 6.387284308067557, 'detection_threshold': 44.0, 'maa': 7.0, 'probe_event_length': 0.24809424457529367, 'probe_inner_radius': 88.0, 'probe_neighbor_radius': 84.0}\n",
      "Clustering spikes with parameters: {'ahpthr': 18.0, 'clustering_alpha': 6.0379719015421625, 'clustering_bandwidth': 6.387284308067557, 'detection_threshold': 44.0, 'maa': 7.0, 'probe_event_length': 0.24809424457529367, 'probe_inner_radius': 88.0, 'probe_neighbor_radius': 84.0}\n",
      "# Generating new position and neighbor files from data file                    \n",
      "# Not Masking any Channels                                                     \n",
      "# Sampling rate: 32000                                                         \n",
      "# Localization On                                                              \n",
      "# Number of recorded channels: 30                                              \n",
      "# Analysing frames: 9600000; Seconds: 300.0                                    \n",
      "# Frames before spike in cutout: 6                                             \n",
      "# Frames after spike in cutout: 32                                             \n",
      "# tcuts: 51 77                                                                 \n",
      "# tInc: 1000000                                                                \n",
      "# Analysing frames from -51 to 1000077  (0.0%)                                 \n",
      "# Analysing frames from 999949 to 2000077  (10.4%)                             \n",
      "# Analysing frames from 1999949 to 3000077  (20.8%)                            \n",
      "# Analysing frames from 2999949 to 4000077  (31.2%)                            \n",
      "# Analysing frames from 3999949 to 5000077  (41.7%)                            \n",
      "# Analysing frames from 4999949 to 6000077  (52.1%)                            \n",
      "# Analysing frames from 5999949 to 7000077  (62.5%)                            \n",
      "# Analysing frames from 6999949 to 8000077  (72.9%)                            \n",
      "# Analysing frames from 7999949 to 9000077  (83.3%)                            \n",
      "# Analysing frames from 8999949 to 9600000  (93.8%)                            \n",
      "# Detection completed, time taken: 0:00:15.406578                              \n",
      "# Time per frame: 0:00:00.001605                                               \n",
      "# Time per sample: 0:00:00.000053                                              \n",
      "Loaded 5652 spikes.                                                            \n",
      "Fitting dimensionality reduction using all spikes...                           \n",
      "...projecting...                                                               \n",
      "...done                                                                        \n",
      "Clustering...                                                                  \n",
      "Clustering 5652 spikes...                                                      \n",
      "number of seeds: 66                                                            \n",
      "seeds/job: 3                                                                   \n",
      "using 24 cpus                                                                  \n",
      " 80%|████████  | 64/80 [29:20<07:34, 28.38s/it, best loss: -0.7841195938744601]"
     ]
    },
    {
     "name": "stderr",
     "output_type": "stream",
     "text": [
      "[Parallel(n_jobs=24)]: Using backend LokyBackend with 24 concurrent workers.\n",
      "\n",
      "[Parallel(n_jobs=24)]: Done   3 out of  24 | elapsed:    3.3s remaining:   23.1s\n",
      "\n",
      "[Parallel(n_jobs=24)]: Done  16 out of  24 | elapsed:    3.4s remaining:    1.7s\n",
      "\n"
     ]
    },
    {
     "name": "stdout",
     "output_type": "stream",
     "text": [
      "Number of estimated units:                                                     \n",
      "6                                                                              \n",
      "Saving to                                                                      \n",
      "/disk/scratch/mhennig/spikeinterface/spikeoptimizer-develop/optimization_64/HS2_sorted.hdf5\n",
      "Warning: sampling frequency information not found. Setting delta_frames to 10. \n",
      " 80%|████████  | 64/80 [29:24<07:34, 28.38s/it, best loss: -0.7841195938744601]"
     ]
    },
    {
     "name": "stderr",
     "output_type": "stream",
     "text": [
      "[Parallel(n_jobs=24)]: Done  24 out of  24 | elapsed:    3.5s finished\n",
      "\n"
     ]
    },
    {
     "name": "stdout",
     "output_type": "stream",
     "text": [
      "score:                                                                         \n",
      "-0.13393801965230537                                                           \n",
      "chosen values:                                                                 \n",
      "{'ahpthr': 10.0, 'clustering_alpha': 5.654461981168046, 'clustering_bandwidth': 3.281144413484734, 'detection_threshold': 11.0, 'maa': 8.0, 'probe_event_length': 0.21259388215423003, 'probe_inner_radius': 61.0, 'probe_neighbor_radius': 94.0}\n",
      "Clustering spikes with parameters: {'ahpthr': 10.0, 'clustering_alpha': 5.654461981168046, 'clustering_bandwidth': 3.281144413484734, 'detection_threshold': 11.0, 'maa': 8.0, 'probe_event_length': 0.21259388215423003, 'probe_inner_radius': 61.0, 'probe_neighbor_radius': 94.0}\n",
      "# Generating new position and neighbor files from data file                    \n",
      "# Not Masking any Channels                                                     \n",
      "# Sampling rate: 32000                                                         \n",
      "# Localization On                                                              \n",
      "# Number of recorded channels: 30                                              \n",
      "# Analysing frames: 9600000; Seconds: 300.0                                    \n",
      "# Frames before spike in cutout: 6                                             \n",
      "# Frames after spike in cutout: 32                                             \n",
      "# tcuts: 51 77                                                                 \n",
      "# tInc: 1000000                                                                \n",
      "# Analysing frames from -51 to 1000077  (0.0%)                                 \n",
      "# Analysing frames from 999949 to 2000077  (10.4%)                             \n",
      "# Analysing frames from 1999949 to 3000077  (20.8%)                            \n",
      "# Analysing frames from 2999949 to 4000077  (31.2%)                            \n",
      "# Analysing frames from 3999949 to 5000077  (41.7%)                            \n",
      "# Analysing frames from 4999949 to 6000077  (52.1%)                            \n",
      "# Analysing frames from 5999949 to 7000077  (62.5%)                            \n",
      "# Analysing frames from 6999949 to 8000077  (72.9%)                            \n",
      "# Analysing frames from 7999949 to 9000077  (83.3%)                            \n",
      "# Analysing frames from 8999949 to 9600000  (93.8%)                            \n",
      "# Detection completed, time taken: 0:00:16.777592                              \n",
      "# Time per frame: 0:00:00.001748                                               \n",
      "# Time per sample: 0:00:00.000058                                              \n",
      "Loaded 38080 spikes.                                                           \n",
      "Fitting dimensionality reduction using all spikes...                           \n",
      "...projecting...                                                               \n",
      "...done                                                                        \n",
      "Clustering...                                                                  \n",
      "Clustering 38080 spikes...                                                     \n",
      "number of seeds: 847                                                           \n",
      "seeds/job: 36                                                                  \n",
      "using 24 cpus                                                                  \n",
      " 81%|████████▏ | 65/80 [29:48<06:55, 27.73s/it, best loss: -0.7841195938744601]"
     ]
    },
    {
     "name": "stderr",
     "output_type": "stream",
     "text": [
      "[Parallel(n_jobs=24)]: Using backend LokyBackend with 24 concurrent workers.\n",
      "\n",
      "[Parallel(n_jobs=24)]: Done   3 out of  24 | elapsed:    4.3s remaining:   29.9s\n",
      "\n",
      "[Parallel(n_jobs=24)]: Done  16 out of  24 | elapsed:    4.4s remaining:    2.2s\n",
      "\n"
     ]
    },
    {
     "name": "stdout",
     "output_type": "stream",
     "text": [
      "Number of estimated units:                                                     \n",
      "37                                                                             \n",
      "Saving to                                                                      \n",
      "/disk/scratch/mhennig/spikeinterface/spikeoptimizer-develop/optimization_65/HS2_sorted.hdf5\n",
      " 81%|████████▏ | 65/80 [29:53<06:55, 27.73s/it, best loss: -0.7841195938744601]"
     ]
    },
    {
     "name": "stderr",
     "output_type": "stream",
     "text": [
      "[Parallel(n_jobs=24)]: Done  24 out of  24 | elapsed:    4.6s finished\n",
      "\n"
     ]
    },
    {
     "name": "stdout",
     "output_type": "stream",
     "text": [
      "Warning: sampling frequency information not found. Setting delta_frames to 10. \n",
      "score:                                                                         \n",
      "-0.7858588129496403                                                            \n",
      "chosen values:                                                                 \n",
      "{'ahpthr': 11.0, 'clustering_alpha': 4.425744139737493, 'clustering_bandwidth': 4.389042043080675, 'detection_threshold': 11.0, 'maa': 8.0, 'probe_event_length': 0.2243925527792866, 'probe_inner_radius': 61.0, 'probe_neighbor_radius': 87.0}\n",
      "Clustering spikes with parameters: {'ahpthr': 11.0, 'clustering_alpha': 4.425744139737493, 'clustering_bandwidth': 4.389042043080675, 'detection_threshold': 11.0, 'maa': 8.0, 'probe_event_length': 0.2243925527792866, 'probe_inner_radius': 61.0, 'probe_neighbor_radius': 87.0}\n",
      "# Generating new position and neighbor files from data file                    \n",
      "# Not Masking any Channels                                                     \n",
      "# Sampling rate: 32000                                                         \n",
      "# Localization On                                                              \n",
      "# Number of recorded channels: 30                                              \n",
      "# Analysing frames: 9600000; Seconds: 300.0                                    \n",
      "# Frames before spike in cutout: 6                                             \n",
      "# Frames after spike in cutout: 32                                             \n",
      "# tcuts: 51 77                                                                 \n",
      "# tInc: 1000000                                                                \n",
      "# Analysing frames from -51 to 1000077  (0.0%)                                 \n",
      "# Analysing frames from 999949 to 2000077  (10.4%)                             \n",
      "# Analysing frames from 1999949 to 3000077  (20.8%)                            \n",
      "# Analysing frames from 2999949 to 4000077  (31.2%)                            \n",
      "# Analysing frames from 3999949 to 5000077  (41.7%)                            \n",
      "# Analysing frames from 4999949 to 6000077  (52.1%)                            \n",
      "# Analysing frames from 5999949 to 7000077  (62.5%)                            \n",
      "# Analysing frames from 6999949 to 8000077  (72.9%)                            \n",
      "# Analysing frames from 7999949 to 9000077  (83.3%)                            \n",
      "# Analysing frames from 8999949 to 9600000  (93.8%)                            \n",
      "# Detection completed, time taken: 0:00:15.705581                              \n",
      "# Time per frame: 0:00:00.001636                                               \n",
      "# Time per sample: 0:00:00.000055                                              \n",
      "Loaded 38009 spikes.                                                           \n",
      "Fitting dimensionality reduction using all spikes...                           \n",
      "...projecting...                                                               \n",
      "...done                                                                        \n",
      "Clustering...                                                                  \n",
      "Clustering 38009 spikes...                                                     \n",
      "number of seeds: 594                                                           \n",
      "seeds/job: 25                                                                  \n",
      "using 24 cpus                                                                  \n",
      " 82%|████████▎ | 66/80 [30:17<06:35, 28.28s/it, best loss: -0.7858588129496403]"
     ]
    },
    {
     "name": "stderr",
     "output_type": "stream",
     "text": [
      "[Parallel(n_jobs=24)]: Using backend LokyBackend with 24 concurrent workers.\n",
      "\n",
      "[Parallel(n_jobs=24)]: Done   3 out of  24 | elapsed:    3.7s remaining:   26.2s\n",
      "\n",
      "[Parallel(n_jobs=24)]: Done  16 out of  24 | elapsed:    3.9s remaining:    1.9s\n",
      "\n"
     ]
    },
    {
     "name": "stdout",
     "output_type": "stream",
     "text": [
      "Number of estimated units:                                                     \n",
      "29                                                                             \n",
      "Saving to                                                                      \n",
      "/disk/scratch/mhennig/spikeinterface/spikeoptimizer-develop/optimization_66/HS2_sorted.hdf5\n",
      "Warning: sampling frequency information not found. Setting delta_frames to 10. \n",
      " 82%|████████▎ | 66/80 [30:21<06:35, 28.28s/it, best loss: -0.7858588129496403]"
     ]
    },
    {
     "name": "stderr",
     "output_type": "stream",
     "text": [
      "[Parallel(n_jobs=24)]: Done  24 out of  24 | elapsed:    4.0s finished\n",
      "\n"
     ]
    },
    {
     "name": "stdout",
     "output_type": "stream",
     "text": [
      "score:                                                                         \n",
      "-0.78068163198427                                                              \n",
      "chosen values:                                                                 \n",
      "{'ahpthr': 12.0, 'clustering_alpha': 4.466913605100725, 'clustering_bandwidth': 4.417712390331785, 'detection_threshold': 11.0, 'maa': 6.0, 'probe_event_length': 0.28074193853716845, 'probe_inner_radius': 64.0, 'probe_neighbor_radius': 87.0}\n",
      "Clustering spikes with parameters: {'ahpthr': 12.0, 'clustering_alpha': 4.466913605100725, 'clustering_bandwidth': 4.417712390331785, 'detection_threshold': 11.0, 'maa': 6.0, 'probe_event_length': 0.28074193853716845, 'probe_inner_radius': 64.0, 'probe_neighbor_radius': 87.0}\n",
      "# Generating new position and neighbor files from data file                    \n",
      "# Not Masking any Channels                                                     \n",
      "# Sampling rate: 32000                                                         \n",
      "# Localization On                                                              \n",
      "# Number of recorded channels: 30                                              \n",
      "# Analysing frames: 9600000; Seconds: 300.0                                    \n",
      "# Frames before spike in cutout: 6                                             \n",
      "# Frames after spike in cutout: 32                                             \n",
      "# tcuts: 51 77                                                                 \n",
      "# tInc: 1000000                                                                \n",
      "# Analysing frames from -51 to 1000077  (0.0%)                                 \n",
      "# Analysing frames from 999949 to 2000077  (10.4%)                             \n",
      "# Analysing frames from 1999949 to 3000077  (20.8%)                            \n",
      "# Analysing frames from 2999949 to 4000077  (31.2%)                            \n",
      "# Analysing frames from 3999949 to 5000077  (41.7%)                            \n",
      "# Analysing frames from 4999949 to 6000077  (52.1%)                            \n",
      "# Analysing frames from 5999949 to 7000077  (62.5%)                            \n",
      "# Analysing frames from 6999949 to 8000077  (72.9%)                            \n",
      "# Analysing frames from 7999949 to 9000077  (83.3%)                            \n",
      "# Analysing frames from 8999949 to 9600000  (93.8%)                            \n",
      "# Detection completed, time taken: 0:00:17.577380                              \n",
      "# Time per frame: 0:00:00.001831                                               \n",
      "# Time per sample: 0:00:00.000061                                              \n",
      "Loaded 39334 spikes.                                                           \n",
      "Fitting dimensionality reduction using all spikes...                           \n",
      "...projecting...                                                               \n",
      "...done                                                                        \n",
      "Clustering...                                                                  \n",
      "Clustering 39334 spikes...                                                     \n",
      "number of seeds: 651                                                           \n",
      "seeds/job: 28                                                                  \n",
      "using 24 cpus                                                                  \n",
      " 84%|████████▍ | 67/80 [30:47<06:08, 28.32s/it, best loss: -0.7858588129496403]"
     ]
    },
    {
     "name": "stderr",
     "output_type": "stream",
     "text": [
      "[Parallel(n_jobs=24)]: Using backend LokyBackend with 24 concurrent workers.\n",
      "\n",
      "[Parallel(n_jobs=24)]: Done   3 out of  24 | elapsed:    3.9s remaining:   27.4s\n",
      "\n",
      "[Parallel(n_jobs=24)]: Done  16 out of  24 | elapsed:    4.1s remaining:    2.1s\n",
      "\n",
      "[Parallel(n_jobs=24)]: Done  24 out of  24 | elapsed:    4.3s finished\n",
      "\n"
     ]
    },
    {
     "name": "stdout",
     "output_type": "stream",
     "text": [
      "Number of estimated units:                                                     \n",
      "35                                                                             \n",
      "Saving to                                                                      \n",
      "/disk/scratch/mhennig/spikeinterface/spikeoptimizer-develop/optimization_67/HS2_sorted.hdf5\n",
      "Warning: sampling frequency information not found. Setting delta_frames to 10. \n",
      "score:                                                                         \n",
      "-0.7765914092428071                                                            \n",
      "chosen values:                                                                 \n",
      "{'ahpthr': 7.0, 'clustering_alpha': 5.274486241885606, 'clustering_bandwidth': 3.474044991676847, 'detection_threshold': 12.0, 'maa': 5.0, 'probe_event_length': 0.26279317830951826, 'probe_inner_radius': 61.0, 'probe_neighbor_radius': 91.0}\n",
      "Clustering spikes with parameters: {'ahpthr': 7.0, 'clustering_alpha': 5.274486241885606, 'clustering_bandwidth': 3.474044991676847, 'detection_threshold': 12.0, 'maa': 5.0, 'probe_event_length': 0.26279317830951826, 'probe_inner_radius': 61.0, 'probe_neighbor_radius': 91.0}\n",
      "# Generating new position and neighbor files from data file                    \n",
      "# Not Masking any Channels                                                     \n",
      "# Sampling rate: 32000                                                         \n",
      "# Localization On                                                              \n",
      "# Number of recorded channels: 30                                              \n",
      "# Analysing frames: 9600000; Seconds: 300.0                                    \n",
      "# Frames before spike in cutout: 6                                             \n",
      "# Frames after spike in cutout: 32                                             \n",
      "# tcuts: 51 77                                                                 \n",
      "# tInc: 1000000                                                                \n",
      "# Analysing frames from -51 to 1000077  (0.0%)                                 \n",
      "# Analysing frames from 999949 to 2000077  (10.4%)                             \n",
      "# Analysing frames from 1999949 to 3000077  (20.8%)                            \n",
      "# Analysing frames from 2999949 to 4000077  (31.2%)                            \n",
      "# Analysing frames from 3999949 to 5000077  (41.7%)                            \n",
      "# Analysing frames from 4999949 to 6000077  (52.1%)                            \n",
      "# Analysing frames from 5999949 to 7000077  (62.5%)                            \n",
      "# Analysing frames from 6999949 to 8000077  (72.9%)                            \n",
      "# Analysing frames from 7999949 to 9000077  (83.3%)                            \n",
      "# Analysing frames from 8999949 to 9600000  (93.8%)                            \n",
      "# Detection completed, time taken: 0:00:15.977582                              \n",
      "# Time per frame: 0:00:00.001664                                               \n",
      "# Time per sample: 0:00:00.000055                                              \n",
      "Loaded 38053 spikes.                                                           \n",
      "Fitting dimensionality reduction using all spikes...                           \n",
      "...projecting...                                                               \n",
      "...done                                                                        \n",
      "Clustering...                                                                  \n",
      "Clustering 38053 spikes...                                                     \n",
      "number of seeds: 794                                                           \n",
      "seeds/job: 34                                                                  \n",
      "using 24 cpus                                                                  \n",
      " 85%|████████▌ | 68/80 [31:15<05:47, 28.95s/it, best loss: -0.7858588129496403]"
     ]
    },
    {
     "name": "stderr",
     "output_type": "stream",
     "text": [
      "[Parallel(n_jobs=24)]: Using backend LokyBackend with 24 concurrent workers.\n",
      "\n",
      "[Parallel(n_jobs=24)]: Done   3 out of  24 | elapsed:    4.2s remaining:   29.1s\n",
      "\n",
      "[Parallel(n_jobs=24)]: Done  16 out of  24 | elapsed:    4.3s remaining:    2.1s\n",
      "\n"
     ]
    },
    {
     "name": "stdout",
     "output_type": "stream",
     "text": [
      "Number of estimated units:                                                     \n",
      "29                                                                             \n",
      "Saving to                                                                      \n",
      "/disk/scratch/mhennig/spikeinterface/spikeoptimizer-develop/optimization_68/HS2_sorted.hdf5\n",
      "Warning: sampling frequency information not found. Setting delta_frames to 10. \n",
      " 85%|████████▌ | 68/80 [31:21<05:47, 28.95s/it, best loss: -0.7858588129496403]"
     ]
    },
    {
     "name": "stderr",
     "output_type": "stream",
     "text": [
      "[Parallel(n_jobs=24)]: Done  24 out of  24 | elapsed:    4.4s finished\n",
      "\n"
     ]
    },
    {
     "name": "stdout",
     "output_type": "stream",
     "text": [
      "score:                                                                         \n",
      "-0.7815466219988833                                                            \n",
      "chosen values:                                                                 \n",
      "{'ahpthr': -2.0, 'clustering_alpha': 5.310971680178178, 'clustering_bandwidth': 3.5435861762747045, 'detection_threshold': 12.0, 'maa': 5.0, 'probe_event_length': 0.2818050605190332, 'probe_inner_radius': 67.0, 'probe_neighbor_radius': 90.0}\n",
      "Clustering spikes with parameters: {'ahpthr': -2.0, 'clustering_alpha': 5.310971680178178, 'clustering_bandwidth': 3.5435861762747045, 'detection_threshold': 12.0, 'maa': 5.0, 'probe_event_length': 0.2818050605190332, 'probe_inner_radius': 67.0, 'probe_neighbor_radius': 90.0}\n",
      "# Generating new position and neighbor files from data file                    \n",
      "# Not Masking any Channels                                                     \n",
      "# Sampling rate: 32000                                                         \n",
      "# Localization On                                                              \n",
      "# Number of recorded channels: 30                                              \n",
      "# Analysing frames: 9600000; Seconds: 300.0                                    \n",
      "# Frames before spike in cutout: 6                                             \n",
      "# Frames after spike in cutout: 32                                             \n",
      "# tcuts: 51 77                                                                 \n",
      "# tInc: 1000000                                                                \n",
      "# Analysing frames from -51 to 1000077  (0.0%)                                 \n",
      "# Analysing frames from 999949 to 2000077  (10.4%)                             \n",
      "# Analysing frames from 1999949 to 3000077  (20.8%)                            \n",
      "# Analysing frames from 2999949 to 4000077  (31.2%)                            \n",
      "# Analysing frames from 3999949 to 5000077  (41.7%)                            \n",
      "# Analysing frames from 4999949 to 6000077  (52.1%)                            \n",
      "# Analysing frames from 5999949 to 7000077  (62.5%)                            \n",
      "# Analysing frames from 6999949 to 8000077  (72.9%)                            \n",
      "# Analysing frames from 7999949 to 9000077  (83.3%)                            \n",
      "# Analysing frames from 8999949 to 9600000  (93.8%)                            \n",
      "# Detection completed, time taken: 0:00:15.831396                              \n",
      "# Time per frame: 0:00:00.001649                                               \n",
      "# Time per sample: 0:00:00.000055                                              \n",
      "Loaded 37970 spikes.                                                           \n",
      "Fitting dimensionality reduction using all spikes...                           \n",
      "...projecting...                                                               \n",
      "...done                                                                        \n",
      "Clustering...                                                                  \n",
      "Clustering 37970 spikes...                                                     \n",
      "number of seeds: 771                                                           \n",
      "seeds/job: 33                                                                  \n",
      "using 24 cpus                                                                  \n",
      " 86%|████████▋ | 69/80 [31:44<05:16, 28.79s/it, best loss: -0.7858588129496403]"
     ]
    },
    {
     "name": "stderr",
     "output_type": "stream",
     "text": [
      "[Parallel(n_jobs=24)]: Using backend LokyBackend with 24 concurrent workers.\n",
      "\n",
      "[Parallel(n_jobs=24)]: Done   3 out of  24 | elapsed:    4.2s remaining:   29.3s\n",
      "\n",
      "[Parallel(n_jobs=24)]: Done  16 out of  24 | elapsed:    4.3s remaining:    2.2s\n",
      "\n"
     ]
    },
    {
     "name": "stdout",
     "output_type": "stream",
     "text": [
      "Number of estimated units:                                                     \n",
      "32                                                                             \n",
      "Saving to                                                                      \n",
      "/disk/scratch/mhennig/spikeinterface/spikeoptimizer-develop/optimization_69/HS2_sorted.hdf5\n",
      "                                                                               "
     ]
    },
    {
     "name": "stderr",
     "output_type": "stream",
     "text": [
      "[Parallel(n_jobs=24)]: Done  24 out of  24 | elapsed:    4.4s finished\n",
      "\n"
     ]
    },
    {
     "name": "stdout",
     "output_type": "stream",
     "text": [
      "Warning: sampling frequency information not found. Setting delta_frames to 10.\n",
      "score:                                                                         \n",
      "-0.7778238972826388                                                            \n",
      "chosen values:                                                                 \n",
      "{'ahpthr': 7.0, 'clustering_alpha': 5.87809994992489, 'clustering_bandwidth': 5.18496261168206, 'detection_threshold': 12.0, 'maa': 4.0, 'probe_event_length': 0.26305021726450784, 'probe_inner_radius': 66.0, 'probe_neighbor_radius': 94.0}\n",
      "Clustering spikes with parameters: {'ahpthr': 7.0, 'clustering_alpha': 5.87809994992489, 'clustering_bandwidth': 5.18496261168206, 'detection_threshold': 12.0, 'maa': 4.0, 'probe_event_length': 0.26305021726450784, 'probe_inner_radius': 66.0, 'probe_neighbor_radius': 94.0}\n",
      "# Generating new position and neighbor files from data file                    \n",
      "# Not Masking any Channels                                                     \n",
      "# Sampling rate: 32000                                                         \n",
      "# Localization On                                                              \n",
      "# Number of recorded channels: 30                                              \n",
      "# Analysing frames: 9600000; Seconds: 300.0                                    \n",
      "# Frames before spike in cutout: 6                                             \n",
      "# Frames after spike in cutout: 32                                             \n",
      "# tcuts: 51 77                                                                 \n",
      "# tInc: 1000000                                                                \n",
      "# Analysing frames from -51 to 1000077  (0.0%)                                 \n",
      "# Analysing frames from 999949 to 2000077  (10.4%)                             \n",
      "# Analysing frames from 1999949 to 3000077  (20.8%)                            \n",
      "# Analysing frames from 2999949 to 4000077  (31.2%)                            \n",
      "# Analysing frames from 3999949 to 5000077  (41.7%)                            \n",
      "# Analysing frames from 4999949 to 6000077  (52.1%)                            \n",
      "# Analysing frames from 5999949 to 7000077  (62.5%)                            \n",
      "# Analysing frames from 6999949 to 8000077  (72.9%)                            \n",
      "# Analysing frames from 7999949 to 9000077  (83.3%)                            \n",
      "# Analysing frames from 8999949 to 9600000  (93.8%)                            \n",
      "# Detection completed, time taken: 0:00:15.334030                              \n",
      "# Time per frame: 0:00:00.001597                                               \n",
      "# Time per sample: 0:00:00.000053                                              \n",
      "Loaded 38317 spikes.                                                           \n",
      "Fitting dimensionality reduction using all spikes...                           \n",
      "...projecting...                                                               \n",
      "...done                                                                        \n",
      "Clustering...                                                                  \n",
      "Clustering 38317 spikes...                                                     \n",
      "number of seeds: 598                                                           \n",
      "seeds/job: 25                                                                  \n",
      "using 24 cpus                                                                  \n",
      " 88%|████████▊ | 70/80 [32:12<04:48, 28.82s/it, best loss: -0.7858588129496403]"
     ]
    },
    {
     "name": "stderr",
     "output_type": "stream",
     "text": [
      "[Parallel(n_jobs=24)]: Using backend LokyBackend with 24 concurrent workers.\n",
      "\n",
      "[Parallel(n_jobs=24)]: Done   3 out of  24 | elapsed:    3.7s remaining:   26.0s\n",
      "\n",
      "[Parallel(n_jobs=24)]: Done  16 out of  24 | elapsed:    3.9s remaining:    1.9s\n",
      "\n"
     ]
    },
    {
     "name": "stdout",
     "output_type": "stream",
     "text": [
      "Number of estimated units:                                                     \n",
      "28                                                                             \n",
      "Saving to                                                                      \n",
      "/disk/scratch/mhennig/spikeinterface/spikeoptimizer-develop/optimization_70/HS2_sorted.hdf5\n",
      "Warning: sampling frequency information not found. Setting delta_frames to 10. \n",
      " 88%|████████▊ | 70/80 [32:17<04:48, 28.82s/it, best loss: -0.7858588129496403]"
     ]
    },
    {
     "name": "stderr",
     "output_type": "stream",
     "text": [
      "[Parallel(n_jobs=24)]: Done  24 out of  24 | elapsed:    4.0s finished\n",
      "\n"
     ]
    },
    {
     "name": "stdout",
     "output_type": "stream",
     "text": [
      "score:                                                                         \n",
      "-0.7761931034482759                                                            \n",
      "chosen values:                                                                 \n",
      "{'ahpthr': 9.0, 'clustering_alpha': 6.908347999893259, 'clustering_bandwidth': 5.657989593884995, 'detection_threshold': 9.0, 'maa': 4.0, 'probe_event_length': 0.27026604347833305, 'probe_inner_radius': 70.0, 'probe_neighbor_radius': 82.0}\n",
      "Clustering spikes with parameters: {'ahpthr': 9.0, 'clustering_alpha': 6.908347999893259, 'clustering_bandwidth': 5.657989593884995, 'detection_threshold': 9.0, 'maa': 4.0, 'probe_event_length': 0.27026604347833305, 'probe_inner_radius': 70.0, 'probe_neighbor_radius': 82.0}\n",
      "# Generating new position and neighbor files from data file                    \n",
      "# Not Masking any Channels                                                     \n",
      "# Sampling rate: 32000                                                         \n",
      "# Localization On                                                              \n",
      "# Number of recorded channels: 30                                              \n",
      "# Analysing frames: 9600000; Seconds: 300.0                                    \n",
      "# Frames before spike in cutout: 6                                             \n",
      "# Frames after spike in cutout: 32                                             \n",
      "# tcuts: 51 77                                                                 \n",
      "# tInc: 1000000                                                                \n",
      "# Analysing frames from -51 to 1000077  (0.0%)                                 \n",
      "# Analysing frames from 999949 to 2000077  (10.4%)                             \n",
      "# Analysing frames from 1999949 to 3000077  (20.8%)                            \n",
      "# Analysing frames from 2999949 to 4000077  (31.2%)                            \n",
      "# Analysing frames from 3999949 to 5000077  (41.7%)                            \n",
      "# Analysing frames from 4999949 to 6000077  (52.1%)                            \n",
      "# Analysing frames from 5999949 to 7000077  (62.5%)                            \n",
      "# Analysing frames from 6999949 to 8000077  (72.9%)                            \n",
      "# Analysing frames from 7999949 to 9000077  (83.3%)                            \n",
      "# Analysing frames from 8999949 to 9600000  (93.8%)                            \n",
      "# Detection completed, time taken: 0:00:15.809222                              \n",
      "# Time per frame: 0:00:00.001647                                               \n",
      "# Time per sample: 0:00:00.000055                                              \n",
      "Loaded 49553 spikes.                                                           \n",
      "Fitting dimensionality reduction using all spikes...                           \n",
      "...projecting...                                                               \n",
      "...done                                                                        \n",
      "Clustering...                                                                  \n",
      "Clustering 49553 spikes...                                                     \n",
      "number of seeds: 860                                                           \n",
      "seeds/job: 36                                                                  \n",
      "using 24 cpus                                                                  \n",
      " 89%|████████▉ | 71/80 [32:41<04:16, 28.54s/it, best loss: -0.7858588129496403]"
     ]
    },
    {
     "name": "stderr",
     "output_type": "stream",
     "text": [
      "[Parallel(n_jobs=24)]: Using backend LokyBackend with 24 concurrent workers.\n",
      "\n",
      "[Parallel(n_jobs=24)]: Done   3 out of  24 | elapsed:    4.2s remaining:   29.7s\n",
      "\n",
      "[Parallel(n_jobs=24)]: Done  16 out of  24 | elapsed:    4.4s remaining:    2.2s\n",
      "\n"
     ]
    },
    {
     "name": "stdout",
     "output_type": "stream",
     "text": [
      "Number of estimated units:                                                     \n",
      "49                                                                             \n",
      "Saving to                                                                      \n",
      "/disk/scratch/mhennig/spikeinterface/spikeoptimizer-develop/optimization_71/HS2_sorted.hdf5\n",
      " 89%|████████▉ | 71/80 [32:46<04:16, 28.54s/it, best loss: -0.7858588129496403]"
     ]
    },
    {
     "name": "stderr",
     "output_type": "stream",
     "text": [
      "[Parallel(n_jobs=24)]: Done  24 out of  24 | elapsed:    4.5s finished\n",
      "\n"
     ]
    },
    {
     "name": "stdout",
     "output_type": "stream",
     "text": [
      "Warning: sampling frequency information not found. Setting delta_frames to 10. \n",
      "score:                                                                         \n",
      "-0.7488952776446787                                                            \n",
      "chosen values:                                                                 \n",
      "{'ahpthr': 2.0, 'clustering_alpha': 5.101803567964879, 'clustering_bandwidth': 3.2862485171192595, 'detection_threshold': 13.0, 'maa': 5.0, 'probe_event_length': 0.21069456376557363, 'probe_inner_radius': 64.0, 'probe_neighbor_radius': 79.0}\n",
      "Clustering spikes with parameters: {'ahpthr': 2.0, 'clustering_alpha': 5.101803567964879, 'clustering_bandwidth': 3.2862485171192595, 'detection_threshold': 13.0, 'maa': 5.0, 'probe_event_length': 0.21069456376557363, 'probe_inner_radius': 64.0, 'probe_neighbor_radius': 79.0}\n",
      "# Generating new position and neighbor files from data file                    \n",
      "# Not Masking any Channels                                                     \n",
      "# Sampling rate: 32000                                                         \n",
      "# Localization On                                                              \n",
      "# Number of recorded channels: 30                                              \n",
      "# Analysing frames: 9600000; Seconds: 300.0                                    \n",
      "# Frames before spike in cutout: 6                                             \n",
      "# Frames after spike in cutout: 32                                             \n",
      "# tcuts: 51 77                                                                 \n",
      "# tInc: 1000000                                                                \n",
      "# Analysing frames from -51 to 1000077  (0.0%)                                 \n",
      "# Analysing frames from 999949 to 2000077  (10.4%)                             \n",
      "# Analysing frames from 1999949 to 3000077  (20.8%)                            \n",
      "# Analysing frames from 2999949 to 4000077  (31.2%)                            \n",
      "# Analysing frames from 3999949 to 5000077  (41.7%)                            \n",
      "# Analysing frames from 4999949 to 6000077  (52.1%)                            \n",
      "# Analysing frames from 5999949 to 7000077  (62.5%)                            \n",
      "# Analysing frames from 6999949 to 8000077  (72.9%)                            \n",
      "# Analysing frames from 7999949 to 9000077  (83.3%)                            \n",
      "# Analysing frames from 8999949 to 9600000  (93.8%)                            \n",
      "# Detection completed, time taken: 0:00:15.206186                              \n",
      "# Time per frame: 0:00:00.001584                                               \n",
      "# Time per sample: 0:00:00.000053                                              \n",
      "Loaded 36806 spikes.                                                           \n",
      "Fitting dimensionality reduction using all spikes...                           \n",
      "...projecting...                                                               \n",
      "...done                                                                        \n",
      "Clustering...                                                                  \n",
      "Clustering 36806 spikes...                                                     \n",
      "number of seeds: 767                                                           \n",
      "seeds/job: 32                                                                  \n",
      "using 24 cpus                                                                  \n",
      " 90%|█████████ | 72/80 [33:09<03:49, 28.71s/it, best loss: -0.7858588129496403]"
     ]
    },
    {
     "name": "stderr",
     "output_type": "stream",
     "text": [
      "[Parallel(n_jobs=24)]: Using backend LokyBackend with 24 concurrent workers.\n",
      "\n",
      "[Parallel(n_jobs=24)]: Done   3 out of  24 | elapsed:    4.1s remaining:   28.8s\n",
      "\n",
      "[Parallel(n_jobs=24)]: Done  16 out of  24 | elapsed:    4.3s remaining:    2.1s\n",
      "\n"
     ]
    },
    {
     "name": "stdout",
     "output_type": "stream",
     "text": [
      "Number of estimated units:                                                     \n",
      "30                                                                             \n",
      "Saving to                                                                      \n",
      "/disk/scratch/mhennig/spikeinterface/spikeoptimizer-develop/optimization_72/HS2_sorted.hdf5\n",
      "Warning: sampling frequency information not found. Setting delta_frames to 10. \n",
      " 90%|█████████ | 72/80 [33:14<03:49, 28.71s/it, best loss: -0.7858588129496403]"
     ]
    },
    {
     "name": "stderr",
     "output_type": "stream",
     "text": [
      "[Parallel(n_jobs=24)]: Done  24 out of  24 | elapsed:    4.4s finished\n",
      "\n"
     ]
    },
    {
     "name": "stdout",
     "output_type": "stream",
     "text": [
      "score:                                                                         \n",
      "-0.7875291932806213                                                            \n",
      "chosen values:                                                                 \n",
      "{'ahpthr': 1.0, 'clustering_alpha': 6.331019758532885, 'clustering_bandwidth': 3.930686895050423, 'detection_threshold': 13.0, 'maa': 3.0, 'probe_event_length': 0.21309404784593308, 'probe_inner_radius': 66.0, 'probe_neighbor_radius': 77.0}\n",
      "Clustering spikes with parameters: {'ahpthr': 1.0, 'clustering_alpha': 6.331019758532885, 'clustering_bandwidth': 3.930686895050423, 'detection_threshold': 13.0, 'maa': 3.0, 'probe_event_length': 0.21309404784593308, 'probe_inner_radius': 66.0, 'probe_neighbor_radius': 77.0}\n",
      "# Generating new position and neighbor files from data file                    \n",
      "# Not Masking any Channels                                                     \n",
      "# Sampling rate: 32000                                                         \n",
      "# Localization On                                                              \n",
      "# Number of recorded channels: 30                                              \n",
      "# Analysing frames: 9600000; Seconds: 300.0                                    \n",
      "# Frames before spike in cutout: 6                                             \n",
      "# Frames after spike in cutout: 32                                             \n",
      "# tcuts: 51 77                                                                 \n",
      "# tInc: 1000000                                                                \n",
      "# Analysing frames from -51 to 1000077  (0.0%)                                 \n",
      "# Analysing frames from 999949 to 2000077  (10.4%)                             \n",
      "# Analysing frames from 1999949 to 3000077  (20.8%)                            \n",
      "# Analysing frames from 2999949 to 4000077  (31.2%)                            \n",
      "# Analysing frames from 3999949 to 5000077  (41.7%)                            \n",
      "# Analysing frames from 4999949 to 6000077  (52.1%)                            \n",
      "# Analysing frames from 5999949 to 7000077  (62.5%)                            \n",
      "# Analysing frames from 6999949 to 8000077  (72.9%)                            \n",
      "# Analysing frames from 7999949 to 9000077  (83.3%)                            \n",
      "# Analysing frames from 8999949 to 9600000  (93.8%)                            \n",
      "# Detection completed, time taken: 0:00:15.204351                              \n",
      "# Time per frame: 0:00:00.001584                                               \n",
      "# Time per sample: 0:00:00.000053                                              \n",
      "Loaded 36933 spikes.                                                           \n",
      "Fitting dimensionality reduction using all spikes...                           \n",
      "...projecting...                                                               \n",
      "...done                                                                        \n",
      "Clustering...                                                                  \n",
      "Clustering 36933 spikes...                                                     \n",
      "number of seeds: 697                                                           \n",
      "seeds/job: 30                                                                  \n",
      "using 24 cpus                                                                  \n",
      " 91%|█████████▏| 73/80 [33:37<03:19, 28.53s/it, best loss: -0.7875291932806213]"
     ]
    },
    {
     "name": "stderr",
     "output_type": "stream",
     "text": [
      "[Parallel(n_jobs=24)]: Using backend LokyBackend with 24 concurrent workers.\n",
      "\n",
      "[Parallel(n_jobs=24)]: Done   3 out of  24 | elapsed:    4.0s remaining:   28.1s\n",
      "\n",
      "[Parallel(n_jobs=24)]: Done  16 out of  24 | elapsed:    4.2s remaining:    2.1s\n",
      "\n"
     ]
    },
    {
     "name": "stdout",
     "output_type": "stream",
     "text": [
      "Number of estimated units:                                                     \n",
      "29                                                                             \n",
      "Saving to                                                                      \n",
      "/disk/scratch/mhennig/spikeinterface/spikeoptimizer-develop/optimization_73/HS2_sorted.hdf5\n",
      "Warning: sampling frequency information not found. Setting delta_frames to 10. \n",
      " 91%|█████████▏| 73/80 [33:42<03:19, 28.53s/it, best loss: -0.7875291932806213]"
     ]
    },
    {
     "name": "stderr",
     "output_type": "stream",
     "text": [
      "[Parallel(n_jobs=24)]: Done  24 out of  24 | elapsed:    4.3s finished\n",
      "\n"
     ]
    },
    {
     "name": "stdout",
     "output_type": "stream",
     "text": [
      "score:                                                                         \n",
      "-0.779721823600839                                                             \n",
      "chosen values:                                                                 \n",
      "{'ahpthr': -5.0, 'clustering_alpha': 8.563317017448393, 'clustering_bandwidth': 3.1267797936282244, 'detection_threshold': 9.0, 'maa': 6.0, 'probe_event_length': 0.23375553185648143, 'probe_inner_radius': 64.0, 'probe_neighbor_radius': 74.0}\n",
      "Clustering spikes with parameters: {'ahpthr': -5.0, 'clustering_alpha': 8.563317017448393, 'clustering_bandwidth': 3.1267797936282244, 'detection_threshold': 9.0, 'maa': 6.0, 'probe_event_length': 0.23375553185648143, 'probe_inner_radius': 64.0, 'probe_neighbor_radius': 74.0}\n",
      "# Generating new position and neighbor files from data file                    \n",
      "# Not Masking any Channels                                                     \n",
      "# Sampling rate: 32000                                                         \n",
      "# Localization On                                                              \n",
      "# Number of recorded channels: 30                                              \n",
      "# Analysing frames: 9600000; Seconds: 300.0                                    \n",
      "# Frames before spike in cutout: 6                                             \n",
      "# Frames after spike in cutout: 32                                             \n",
      "# tcuts: 51 77                                                                 \n",
      "# tInc: 1000000                                                                \n",
      "# Analysing frames from -51 to 1000077  (0.0%)                                 \n",
      "# Analysing frames from 999949 to 2000077  (10.4%)                             \n",
      "# Analysing frames from 1999949 to 3000077  (20.8%)                            \n",
      "# Analysing frames from 2999949 to 4000077  (31.2%)                            \n",
      "# Analysing frames from 3999949 to 5000077  (41.7%)                            \n",
      "# Analysing frames from 4999949 to 6000077  (52.1%)                            \n",
      "# Analysing frames from 5999949 to 7000077  (62.5%)                            \n",
      "# Analysing frames from 6999949 to 8000077  (72.9%)                            \n",
      "# Analysing frames from 7999949 to 9000077  (83.3%)                            \n",
      "# Analysing frames from 8999949 to 9600000  (93.8%)                            \n",
      "# Detection completed, time taken: 0:00:15.175653                              \n",
      "# Time per frame: 0:00:00.001581                                               \n",
      "# Time per sample: 0:00:00.000053                                              \n",
      "Loaded 31408 spikes.                                                           \n",
      "Fitting dimensionality reduction using all spikes...                           \n",
      "...projecting...                                                               \n",
      "...done                                                                        \n",
      "Clustering...                                                                  \n",
      "Clustering 31408 spikes...                                                     \n",
      "number of seeds: 828                                                           \n",
      "seeds/job: 35                                                                  \n",
      "using 24 cpus                                                                  \n",
      " 92%|█████████▎| 74/80 [34:05<02:50, 28.39s/it, best loss: -0.7875291932806213]"
     ]
    },
    {
     "name": "stderr",
     "output_type": "stream",
     "text": [
      "[Parallel(n_jobs=24)]: Using backend LokyBackend with 24 concurrent workers.\n",
      "\n",
      "[Parallel(n_jobs=24)]: Done   3 out of  24 | elapsed:    4.3s remaining:   30.1s\n",
      "\n",
      "[Parallel(n_jobs=24)]: Done  16 out of  24 | elapsed:    4.4s remaining:    2.2s\n",
      "\n"
     ]
    },
    {
     "name": "stdout",
     "output_type": "stream",
     "text": [
      "Number of estimated units:                                                     \n",
      "35                                                                             \n",
      "Saving to                                                                      \n",
      "/disk/scratch/mhennig/spikeinterface/spikeoptimizer-develop/optimization_74/HS2_sorted.hdf5\n",
      "Warning: sampling frequency information not found. Setting delta_frames to 10. \n",
      " 92%|█████████▎| 74/80 [34:10<02:50, 28.39s/it, best loss: -0.7875291932806213]"
     ]
    },
    {
     "name": "stderr",
     "output_type": "stream",
     "text": [
      "[Parallel(n_jobs=24)]: Done  24 out of  24 | elapsed:    4.5s finished\n",
      "\n"
     ]
    },
    {
     "name": "stdout",
     "output_type": "stream",
     "text": [
      "score:                                                                         \n",
      "-0.443910437634287                                                             \n",
      "chosen values:                                                                 \n",
      "{'ahpthr': 3.0, 'clustering_alpha': 7.4314485255537805, 'clustering_bandwidth': 5.264557994602223, 'detection_threshold': 10.0, 'maa': 7.0, 'probe_event_length': 0.20883010442564595, 'probe_inner_radius': 72.0, 'probe_neighbor_radius': 79.0}\n",
      "Clustering spikes with parameters: {'ahpthr': 3.0, 'clustering_alpha': 7.4314485255537805, 'clustering_bandwidth': 5.264557994602223, 'detection_threshold': 10.0, 'maa': 7.0, 'probe_event_length': 0.20883010442564595, 'probe_inner_radius': 72.0, 'probe_neighbor_radius': 79.0}\n",
      "# Generating new position and neighbor files from data file                    \n",
      "# Not Masking any Channels                                                     \n",
      "# Sampling rate: 32000                                                         \n",
      "# Localization On                                                              \n",
      "# Number of recorded channels: 30                                              \n",
      "# Analysing frames: 9600000; Seconds: 300.0                                    \n",
      "# Frames before spike in cutout: 6                                             \n",
      "# Frames after spike in cutout: 32                                             \n",
      "# tcuts: 51 77                                                                 \n",
      "# tInc: 1000000                                                                \n",
      "# Analysing frames from -51 to 1000077  (0.0%)                                 \n",
      "# Analysing frames from 999949 to 2000077  (10.4%)                             \n",
      "# Analysing frames from 1999949 to 3000077  (20.8%)                            \n",
      "# Analysing frames from 2999949 to 4000077  (31.2%)                            \n",
      "# Analysing frames from 3999949 to 5000077  (41.7%)                            \n",
      "# Analysing frames from 4999949 to 6000077  (52.1%)                            \n",
      "# Analysing frames from 5999949 to 7000077  (62.5%)                            \n",
      "# Analysing frames from 6999949 to 8000077  (72.9%)                            \n",
      "# Analysing frames from 7999949 to 9000077  (83.3%)                            \n",
      "# Analysing frames from 8999949 to 9600000  (93.8%)                            \n",
      "# Detection completed, time taken: 0:00:15.325224                              \n",
      "# Time per frame: 0:00:00.001596                                               \n",
      "# Time per sample: 0:00:00.000053                                              \n",
      "Loaded 40878 spikes.                                                           \n",
      "Fitting dimensionality reduction using all spikes...                           \n",
      "...projecting...                                                               \n",
      "...done                                                                        \n",
      "Clustering...                                                                  \n",
      "Clustering 40878 spikes...                                                     \n",
      "number of seeds: 723                                                           \n",
      "seeds/job: 31                                                                  \n",
      "using 24 cpus                                                                  \n",
      " 94%|█████████▍| 75/80 [34:33<02:20, 28.14s/it, best loss: -0.7875291932806213]"
     ]
    },
    {
     "name": "stderr",
     "output_type": "stream",
     "text": [
      "[Parallel(n_jobs=24)]: Using backend LokyBackend with 24 concurrent workers.\n",
      "\n",
      "[Parallel(n_jobs=24)]: Done   3 out of  24 | elapsed:    4.0s remaining:   28.1s\n",
      "\n",
      "[Parallel(n_jobs=24)]: Done  16 out of  24 | elapsed:    4.1s remaining:    2.1s\n",
      "\n"
     ]
    },
    {
     "name": "stdout",
     "output_type": "stream",
     "text": [
      "Number of estimated units:                                                     \n",
      "30                                                                             \n",
      "Saving to                                                                      \n",
      "/disk/scratch/mhennig/spikeinterface/spikeoptimizer-develop/optimization_75/HS2_sorted.hdf5\n",
      "Warning: sampling frequency information not found. Setting delta_frames to 10. \n",
      " 94%|█████████▍| 75/80 [34:38<02:20, 28.14s/it, best loss: -0.7875291932806213]"
     ]
    },
    {
     "name": "stderr",
     "output_type": "stream",
     "text": [
      "[Parallel(n_jobs=24)]: Done  24 out of  24 | elapsed:    4.2s finished\n",
      "\n"
     ]
    },
    {
     "name": "stdout",
     "output_type": "stream",
     "text": [
      "score:                                                                         \n",
      "-0.7687050847457627                                                            \n",
      "chosen values:                                                                 \n",
      "{'ahpthr': -11.0, 'clustering_alpha': 3.4074935254205316, 'clustering_bandwidth': 6.7885358524380965, 'detection_threshold': 1.0, 'maa': 5.0, 'probe_event_length': 0.19833737450139755, 'probe_inner_radius': 68.0, 'probe_neighbor_radius': 85.0}\n",
      "Clustering spikes with parameters: {'ahpthr': -11.0, 'clustering_alpha': 3.4074935254205316, 'clustering_bandwidth': 6.7885358524380965, 'detection_threshold': 1.0, 'maa': 5.0, 'probe_event_length': 0.19833737450139755, 'probe_inner_radius': 68.0, 'probe_neighbor_radius': 85.0}\n",
      "# Generating new position and neighbor files from data file                    \n",
      "# Not Masking any Channels                                                     \n",
      "# Sampling rate: 32000                                                         \n",
      "# Localization On                                                              \n",
      "# Number of recorded channels: 30                                              \n",
      "# Analysing frames: 9600000; Seconds: 300.0                                    \n",
      "# Frames before spike in cutout: 6                                             \n",
      "# Frames after spike in cutout: 32                                             \n",
      "# tcuts: 51 77                                                                 \n",
      "# tInc: 1000000                                                                \n",
      "# Analysing frames from -51 to 1000077  (0.0%)                                 \n",
      "# Analysing frames from 999949 to 2000077  (10.4%)                             \n",
      "# Analysing frames from 1999949 to 3000077  (20.8%)                            \n",
      "# Analysing frames from 2999949 to 4000077  (31.2%)                            \n",
      "# Analysing frames from 3999949 to 5000077  (41.7%)                            \n",
      "# Analysing frames from 4999949 to 6000077  (52.1%)                            \n",
      "# Analysing frames from 5999949 to 7000077  (62.5%)                            \n",
      "# Analysing frames from 6999949 to 8000077  (72.9%)                            \n",
      "# Analysing frames from 7999949 to 9000077  (83.3%)                            \n",
      "# Analysing frames from 8999949 to 9600000  (93.8%)                            \n",
      "# Detection completed, time taken: 0:00:16.567373                              \n",
      "# Time per frame: 0:00:00.001726                                               \n",
      "# Time per sample: 0:00:00.000058                                              \n",
      "Loaded 3270 spikes.                                                            \n",
      "Fitting dimensionality reduction using all spikes...                           \n",
      "...projecting...                                                               \n",
      "...done                                                                        \n",
      "Clustering...                                                                  \n",
      "Clustering 3270 spikes...                                                      \n",
      "number of seeds: 57                                                            \n",
      "seeds/job: 3                                                                   \n",
      "using 24 cpus                                                                  \n",
      " 95%|█████████▌| 76/80 [35:01<01:52, 28.03s/it, best loss: -0.7875291932806213]"
     ]
    },
    {
     "name": "stderr",
     "output_type": "stream",
     "text": [
      "[Parallel(n_jobs=24)]: Using backend LokyBackend with 24 concurrent workers.\n",
      "\n",
      "[Parallel(n_jobs=24)]: Done   3 out of  24 | elapsed:    3.4s remaining:   23.9s\n",
      "\n",
      "[Parallel(n_jobs=24)]: Done  16 out of  24 | elapsed:    3.5s remaining:    1.8s\n",
      "\n"
     ]
    },
    {
     "name": "stdout",
     "output_type": "stream",
     "text": [
      "Number of estimated units:                                                     \n",
      "12                                                                             \n",
      "Saving to                                                                      \n",
      "/disk/scratch/mhennig/spikeinterface/spikeoptimizer-develop/optimization_76/HS2_sorted.hdf5\n",
      "Warning: sampling frequency information not found. Setting delta_frames to 10. \n",
      " 95%|█████████▌| 76/80 [35:06<01:52, 28.03s/it, best loss: -0.7875291932806213]"
     ]
    },
    {
     "name": "stderr",
     "output_type": "stream",
     "text": [
      "[Parallel(n_jobs=24)]: Done  24 out of  24 | elapsed:    3.7s finished\n",
      "\n"
     ]
    },
    {
     "name": "stdout",
     "output_type": "stream",
     "text": [
      "score:                                                                         \n",
      "-0.04455445544554455                                                           \n",
      "chosen values:                                                                 \n",
      "{'ahpthr': 5.0, 'clustering_alpha': 5.727589224190277, 'clustering_bandwidth': 6.042145414378492, 'detection_threshold': 14.0, 'maa': 6.0, 'probe_event_length': 0.22160136192388127, 'probe_inner_radius': 63.0, 'probe_neighbor_radius': 88.0}\n",
      "Clustering spikes with parameters: {'ahpthr': 5.0, 'clustering_alpha': 5.727589224190277, 'clustering_bandwidth': 6.042145414378492, 'detection_threshold': 14.0, 'maa': 6.0, 'probe_event_length': 0.22160136192388127, 'probe_inner_radius': 63.0, 'probe_neighbor_radius': 88.0}\n",
      "# Generating new position and neighbor files from data file                    \n",
      "# Not Masking any Channels                                                     \n",
      "# Sampling rate: 32000                                                         \n",
      "# Localization On                                                              \n",
      "# Number of recorded channels: 30                                              \n",
      "# Analysing frames: 9600000; Seconds: 300.0                                    \n",
      "# Frames before spike in cutout: 6                                             \n",
      "# Frames after spike in cutout: 32                                             \n",
      "# tcuts: 51 77                                                                 \n",
      "# tInc: 1000000                                                                \n",
      "# Analysing frames from -51 to 1000077  (0.0%)                                 \n",
      "# Analysing frames from 999949 to 2000077  (10.4%)                             \n",
      "# Analysing frames from 1999949 to 3000077  (20.8%)                            \n",
      "# Analysing frames from 2999949 to 4000077  (31.2%)                            \n",
      "# Analysing frames from 3999949 to 5000077  (41.7%)                            \n",
      "# Analysing frames from 4999949 to 6000077  (52.1%)                            \n",
      "# Analysing frames from 5999949 to 7000077  (62.5%)                            \n",
      "# Analysing frames from 6999949 to 8000077  (72.9%)                            \n",
      "# Analysing frames from 7999949 to 9000077  (83.3%)                            \n",
      "# Analysing frames from 8999949 to 9600000  (93.8%)                            \n",
      "# Detection completed, time taken: 0:00:15.484257                              \n",
      "# Time per frame: 0:00:00.001613                                               \n",
      "# Time per sample: 0:00:00.000054                                              \n",
      "Loaded 35131 spikes.                                                           \n",
      "Fitting dimensionality reduction using all spikes...                           \n",
      "...projecting...                                                               \n",
      "...done                                                                        \n",
      "Clustering...                                                                  \n",
      "Clustering 35131 spikes...                                                     \n",
      "number of seeds: 408                                                           \n",
      "seeds/job: 18                                                                  \n",
      "using 24 cpus                                                                  \n",
      " 96%|█████████▋| 77/80 [35:28<01:23, 27.80s/it, best loss: -0.7875291932806213]"
     ]
    },
    {
     "name": "stderr",
     "output_type": "stream",
     "text": [
      "[Parallel(n_jobs=24)]: Using backend LokyBackend with 24 concurrent workers.\n",
      "\n",
      "[Parallel(n_jobs=24)]: Done   3 out of  24 | elapsed:    3.5s remaining:   24.8s\n",
      "\n",
      "[Parallel(n_jobs=24)]: Done  16 out of  24 | elapsed:    3.6s remaining:    1.8s\n",
      "\n"
     ]
    },
    {
     "name": "stdout",
     "output_type": "stream",
     "text": [
      "Number of estimated units:                                                     \n",
      "24                                                                             \n",
      "Saving to                                                                      \n",
      "/disk/scratch/mhennig/spikeinterface/spikeoptimizer-develop/optimization_77/HS2_sorted.hdf5\n",
      "Warning: sampling frequency information not found. Setting delta_frames to 10. \n",
      " 96%|█████████▋| 77/80 [35:32<01:23, 27.80s/it, best loss: -0.7875291932806213]"
     ]
    },
    {
     "name": "stderr",
     "output_type": "stream",
     "text": [
      "[Parallel(n_jobs=24)]: Done  24 out of  24 | elapsed:    3.8s finished\n",
      "\n"
     ]
    },
    {
     "name": "stdout",
     "output_type": "stream",
     "text": [
      "score:                                                                         \n",
      "-0.7806112517033288                                                            \n",
      "chosen values:                                                                 \n",
      "{'ahpthr': -1.0, 'clustering_alpha': 8.115257823719677, 'clustering_bandwidth': 7.21546898089874, 'detection_threshold': 11.0, 'maa': 5.0, 'probe_event_length': 0.23205919590301016, 'probe_inner_radius': 70.0, 'probe_neighbor_radius': 72.0}\n",
      "Clustering spikes with parameters: {'ahpthr': -1.0, 'clustering_alpha': 8.115257823719677, 'clustering_bandwidth': 7.21546898089874, 'detection_threshold': 11.0, 'maa': 5.0, 'probe_event_length': 0.23205919590301016, 'probe_inner_radius': 70.0, 'probe_neighbor_radius': 72.0}\n",
      "# Generating new position and neighbor files from data file                    \n",
      "# Not Masking any Channels                                                     \n",
      "# Sampling rate: 32000                                                         \n",
      "# Localization On                                                              \n",
      "# Number of recorded channels: 30                                              \n",
      "# Analysing frames: 9600000; Seconds: 300.0                                    \n",
      "# Frames before spike in cutout: 6                                             \n",
      "# Frames after spike in cutout: 32                                             \n",
      "# tcuts: 51 77                                                                 \n",
      "# tInc: 1000000                                                                \n",
      "# Analysing frames from -51 to 1000077  (0.0%)                                 \n",
      "# Analysing frames from 999949 to 2000077  (10.4%)                             \n",
      "# Analysing frames from 1999949 to 3000077  (20.8%)                            \n",
      "# Analysing frames from 2999949 to 4000077  (31.2%)                            \n",
      "# Analysing frames from 3999949 to 5000077  (41.7%)                            \n",
      "# Analysing frames from 4999949 to 6000077  (52.1%)                            \n",
      "# Analysing frames from 5999949 to 7000077  (62.5%)                            \n",
      "# Analysing frames from 6999949 to 8000077  (72.9%)                            \n",
      "# Analysing frames from 7999949 to 9000077  (83.3%)                            \n",
      "# Analysing frames from 8999949 to 9600000  (93.8%)                            \n",
      "# Detection completed, time taken: 0:00:16.263740                              \n",
      "# Time per frame: 0:00:00.001694                                               \n",
      "# Time per sample: 0:00:00.000056                                              \n",
      "Loaded 40411 spikes.                                                           \n",
      "Fitting dimensionality reduction using all spikes...                           \n",
      "...projecting...                                                               \n",
      "...done                                                                        \n",
      "Clustering...                                                                  \n",
      "Clustering 40411 spikes...                                                     \n",
      "number of seeds: 538                                                           \n",
      "seeds/job: 23                                                                  \n",
      "using 24 cpus                                                                  \n",
      " 98%|█████████▊| 78/80 [35:56<00:55, 27.64s/it, best loss: -0.7875291932806213]"
     ]
    },
    {
     "name": "stderr",
     "output_type": "stream",
     "text": [
      "[Parallel(n_jobs=24)]: Using backend LokyBackend with 24 concurrent workers.\n",
      "\n",
      "[Parallel(n_jobs=24)]: Done   3 out of  24 | elapsed:    3.8s remaining:   26.3s\n",
      "\n",
      "[Parallel(n_jobs=24)]: Done  16 out of  24 | elapsed:    3.9s remaining:    1.9s\n",
      "\n",
      "[Parallel(n_jobs=24)]: Done  24 out of  24 | elapsed:    4.0s finished\n",
      "\n"
     ]
    },
    {
     "name": "stdout",
     "output_type": "stream",
     "text": [
      "Number of estimated units:                                                     \n",
      "27                                                                             \n",
      "Saving to                                                                      \n",
      "/disk/scratch/mhennig/spikeinterface/spikeoptimizer-develop/optimization_78/HS2_sorted.hdf5\n",
      "Warning: sampling frequency information not found. Setting delta_frames to 10. \n",
      "score:                                                                         \n",
      "-0.7601850108909027                                                            \n",
      "chosen values:                                                                 \n",
      "{'ahpthr': 15.0, 'clustering_alpha': 6.608298333796092, 'clustering_bandwidth': 3.014958090185787, 'detection_threshold': 13.0, 'maa': 9.0, 'probe_event_length': 0.21236316910737668, 'probe_inner_radius': 75.0, 'probe_neighbor_radius': 76.0}\n",
      "Clustering spikes with parameters: {'ahpthr': 15.0, 'clustering_alpha': 6.608298333796092, 'clustering_bandwidth': 3.014958090185787, 'detection_threshold': 13.0, 'maa': 9.0, 'probe_event_length': 0.21236316910737668, 'probe_inner_radius': 75.0, 'probe_neighbor_radius': 76.0}\n",
      "# Generating new position and neighbor files from data file                    \n",
      "# Not Masking any Channels                                                     \n",
      "# Sampling rate: 32000                                                         \n",
      "# Localization On                                                              \n",
      "# Number of recorded channels: 30                                              \n",
      "# Analysing frames: 9600000; Seconds: 300.0                                    \n",
      "# Frames before spike in cutout: 6                                             \n",
      "# Frames after spike in cutout: 32                                             \n",
      "# tcuts: 51 77                                                                 \n",
      "# tInc: 1000000                                                                \n",
      "# Analysing frames from -51 to 1000077  (0.0%)                                 \n",
      "# Analysing frames from 999949 to 2000077  (10.4%)                             \n",
      "# Analysing frames from 1999949 to 3000077  (20.8%)                            \n",
      "# Analysing frames from 2999949 to 4000077  (31.2%)                            \n",
      "# Analysing frames from 3999949 to 5000077  (41.7%)                            \n",
      "# Analysing frames from 4999949 to 6000077  (52.1%)                            \n",
      "# Analysing frames from 5999949 to 7000077  (62.5%)                            \n",
      "# Analysing frames from 6999949 to 8000077  (72.9%)                            \n",
      "# Analysing frames from 7999949 to 9000077  (83.3%)                            \n",
      "# Analysing frames from 8999949 to 9600000  (93.8%)                            \n",
      "# Detection completed, time taken: 0:00:15.331954                              \n",
      "# Time per frame: 0:00:00.001597                                               \n",
      "# Time per sample: 0:00:00.000053                                              \n",
      "Loaded 35350 spikes.                                                           \n",
      "Fitting dimensionality reduction using all spikes...                           \n",
      "...projecting...                                                               \n",
      "...done                                                                        \n",
      "Clustering...                                                                  \n",
      "Clustering 35350 spikes...                                                     \n",
      "number of seeds: 922                                                           \n",
      "seeds/job: 39                                                                  \n",
      "using 24 cpus                                                                  \n",
      " 99%|█████████▉| 79/80 [36:27<00:28, 28.89s/it, best loss: -0.7875291932806213]"
     ]
    },
    {
     "name": "stderr",
     "output_type": "stream",
     "text": [
      "[Parallel(n_jobs=24)]: Using backend LokyBackend with 24 concurrent workers.\n",
      "\n",
      "[Parallel(n_jobs=24)]: Done   3 out of  24 | elapsed:    4.5s remaining:   31.3s\n",
      "\n",
      "[Parallel(n_jobs=24)]: Done  16 out of  24 | elapsed:    4.7s remaining:    2.3s\n",
      "\n"
     ]
    },
    {
     "name": "stdout",
     "output_type": "stream",
     "text": [
      "Number of estimated units:                                                     \n",
      "26                                                                             \n",
      "Saving to                                                                      \n",
      "/disk/scratch/mhennig/spikeinterface/spikeoptimizer-develop/optimization_79/HS2_sorted.hdf5\n",
      "Warning: sampling frequency information not found. Setting delta_frames to 10. \n",
      " 99%|█████████▉| 79/80 [36:33<00:28, 28.89s/it, best loss: -0.7875291932806213]"
     ]
    },
    {
     "name": "stderr",
     "output_type": "stream",
     "text": [
      "[Parallel(n_jobs=24)]: Done  24 out of  24 | elapsed:    4.8s finished\n",
      "\n"
     ]
    },
    {
     "name": "stdout",
     "output_type": "stream",
     "text": [
      "score:                                                                         \n",
      "-0.7540609780130064                                                            \n",
      "100%|██████████| 80/80 [36:39<00:00, 29.05s/it, best loss: -0.7875291932806213]\n",
      "--- 2199.9666333198547 seconds ---\n"
     ]
    }
   ],
   "source": [
    "test.run()\n"
   ]
  },
  {
   "cell_type": "code",
   "execution_count": null,
   "metadata": {},
   "outputs": [],
   "source": []
  },
  {
   "cell_type": "code",
   "execution_count": 6,
   "metadata": {},
   "outputs": [],
   "source": [
    "r = test.load_results(test.outfile)"
   ]
  },
  {
   "cell_type": "code",
   "execution_count": 7,
   "metadata": {},
   "outputs": [
    {
     "data": {
      "text/plain": [
       "{'ahpthr': [2.0],\n",
       " 'clustering_alpha': [5.101803567964879],\n",
       " 'clustering_bandwidth': [3.2862485171192595],\n",
       " 'detection_threshold': [13.0],\n",
       " 'maa': [5.0],\n",
       " 'probe_event_length': [0.21069456376557363],\n",
       " 'probe_inner_radius': [64.0],\n",
       " 'probe_neighbor_radius': [79.0]}"
      ]
     },
     "execution_count": 7,
     "metadata": {},
     "output_type": "execute_result"
    }
   ],
   "source": [
    "r['optimal_params']"
   ]
  },
  {
   "cell_type": "code",
   "execution_count": 8,
   "metadata": {},
   "outputs": [
    {
     "data": {
      "image/png": "[encoded data removed]",
      "text/plain": [
       "<Figure size 1080x252 with 1 Axes>"
      ]
     },
     "metadata": {
      "needs_background": "light"
     },
     "output_type": "display_data"
    }
   ],
   "source": [
    "test.plot_convergence()"
   ]
  },
  {
   "cell_type": "code",
   "execution_count": 9,
   "metadata": {},
   "outputs": [
    {
     "name": "stdout",
     "output_type": "stream",
     "text": [
      "# Generating new position and neighbor files from data file\n",
      "# Not Masking any Channels\n",
      "# Sampling rate: 32000\n",
      "# Localization On\n",
      "# Number of recorded channels: 30\n",
      "# Analysing frames: 9600000; Seconds: 300.0\n",
      "# Frames before spike in cutout: 6\n",
      "# Frames after spike in cutout: 32\n",
      "# tcuts: 51 77\n",
      "# tInc: 1000000\n",
      "# Analysing frames from -51 to 1000077  (0.0%)\n",
      "# Analysing frames from 999949 to 2000077  (10.4%)\n",
      "# Analysing frames from 1999949 to 3000077  (20.8%)\n",
      "# Analysing frames from 2999949 to 4000077  (31.2%)\n",
      "# Analysing frames from 3999949 to 5000077  (41.7%)\n",
      "# Analysing frames from 4999949 to 6000077  (52.1%)\n",
      "# Analysing frames from 5999949 to 7000077  (62.5%)\n",
      "# Analysing frames from 6999949 to 8000077  (72.9%)\n",
      "# Analysing frames from 7999949 to 9000077  (83.3%)\n",
      "# Analysing frames from 8999949 to 9600000  (93.8%)\n",
      "# Detection completed, time taken: 0:00:15.141018\n",
      "# Time per frame: 0:00:00.001577\n",
      "# Time per sample: 0:00:00.000053\n",
      "Loaded 36806 spikes.\n",
      "Fitting dimensionality reduction using all spikes...\n",
      "...projecting...\n",
      "...done\n",
      "Clustering...\n",
      "Clustering 36806 spikes...\n",
      "number of seeds: 767\n",
      "seeds/job: 32\n",
      "using 24 cpus\n"
     ]
    },
    {
     "name": "stderr",
     "output_type": "stream",
     "text": [
      "[Parallel(n_jobs=24)]: Using backend LokyBackend with 24 concurrent workers.\n",
      "[Parallel(n_jobs=24)]: Done   3 out of  24 | elapsed:    4.1s remaining:   28.7s\n",
      "[Parallel(n_jobs=24)]: Done  16 out of  24 | elapsed:    4.3s remaining:    2.1s\n"
     ]
    },
    {
     "name": "stdout",
     "output_type": "stream",
     "text": [
      "Number of estimated units: 30\n",
      "Saving to /disk/scratch/mhennig/spikeinterface/spikeoptimizer-develop/final_sorted/HS2_sorted.hdf5\n"
     ]
    },
    {
     "name": "stderr",
     "output_type": "stream",
     "text": [
      "[Parallel(n_jobs=24)]: Done  24 out of  24 | elapsed:    4.4s finished\n"
     ]
    },
    {
     "data": {
      "text/plain": [
       "20.76827278599376"
      ]
     },
     "execution_count": 9,
     "metadata": {},
     "output_type": "execute_result"
    }
   ],
   "source": [
    "import spiketoolkit as st\n",
    "\n",
    "output_folder = 'final_sorted'\n",
    "\n",
    "sorter = 'herdingspikes'\n",
    "\n",
    "\n",
    "final_parameters = {}\n",
    "for i, key in enumerate(r['optimal_params']):\n",
    "    if type(r['optimal_params']) is dict:\n",
    "        final_parameters[key] = r['optimal_params'][key][0]\n",
    "    else:\n",
    "        final_parameters[key] = r['optimal_params'][i]\n",
    "\n",
    "\n",
    "SorterClass = st.sorters.sorter_dict[sorter]\n",
    "my_sorter = SorterClass(recording=recording, output_folder = output_folder)\n",
    "my_sorter.set_params(**final_parameters)\n",
    "my_sorter.run()\n"
   ]
  },
  {
   "cell_type": "code",
   "execution_count": 10,
   "metadata": {},
   "outputs": [],
   "source": [
    "sorting_extractor = my_sorter.get_result()\n"
   ]
  },
  {
   "cell_type": "code",
   "execution_count": 11,
   "metadata": {},
   "outputs": [
    {
     "data": {
      "text/plain": [
       "32000.0"
      ]
     },
     "execution_count": 11,
     "metadata": {},
     "output_type": "execute_result"
    }
   ],
   "source": [
    "sorting_extractor.get_sampling_frequency()"
   ]
  },
  {
   "cell_type": "code",
   "execution_count": 12,
   "metadata": {},
   "outputs": [
    {
     "name": "stdout",
     "output_type": "stream",
     "text": [
      "Warning: sampling frequency information not found. Setting delta_frames to 10.\n"
     ]
    }
   ],
   "source": [
    "sc = st.comparison.compare_sorter_to_ground_truth(sorting_true, sorting_extractor, exhaustive_gt=True)\n",
    "# why the warning below?"
   ]
  },
  {
   "cell_type": "code",
   "execution_count": 13,
   "metadata": {},
   "outputs": [
    {
     "data": {
      "text/plain": [
       "{'accuracy': 0.7875070343275183,\n",
       " 'recall': 0.8477102011146112,\n",
       " 'precision': 0.9172784478238071,\n",
       " 'false_discovery_rate': 0.08272155217619297,\n",
       " 'miss_rate': 0.1522897988853889,\n",
       " 'misclassification_rate': 0.0}"
      ]
     },
     "execution_count": 13,
     "metadata": {},
     "output_type": "execute_result"
    }
   ],
   "source": [
    "# sc\n",
    "results = sc.get_performance(method='pooled_with_sum', output='dict')  \n",
    "results"
   ]
  },
  {
   "cell_type": "code",
   "execution_count": 14,
   "metadata": {
    "scrolled": false
   },
   "outputs": [
    {
     "data": {
      "text/html": [
       "<div>\n",
       "<style scoped>\n",
       "    .dataframe tbody tr th:only-of-type {\n",
       "        vertical-align: middle;\n",
       "    }\n",
       "\n",
       "    .dataframe tbody tr th {\n",
       "        vertical-align: top;\n",
       "    }\n",
       "\n",
       "    .dataframe thead th {\n",
       "        text-align: right;\n",
       "    }\n",
       "</style>\n",
       "<table border=\"1\" class=\"dataframe\">\n",
       "  <thead>\n",
       "    <tr style=\"text-align: right;\">\n",
       "      <th></th>\n",
       "      <th>accuracy</th>\n",
       "      <th>recall</th>\n",
       "      <th>precision</th>\n",
       "      <th>false_discovery_rate</th>\n",
       "      <th>miss_rate</th>\n",
       "      <th>misclassification_rate</th>\n",
       "    </tr>\n",
       "    <tr>\n",
       "      <th>gt_unit_id</th>\n",
       "      <th></th>\n",
       "      <th></th>\n",
       "      <th></th>\n",
       "      <th></th>\n",
       "      <th></th>\n",
       "      <th></th>\n",
       "    </tr>\n",
       "  </thead>\n",
       "  <tbody>\n",
       "    <tr>\n",
       "      <th>1</th>\n",
       "      <td>0.893715</td>\n",
       "      <td>0.937924</td>\n",
       "      <td>0.949902</td>\n",
       "      <td>0.050098</td>\n",
       "      <td>0.062076</td>\n",
       "      <td>0.0</td>\n",
       "    </tr>\n",
       "    <tr>\n",
       "      <th>2</th>\n",
       "      <td>0.779783</td>\n",
       "      <td>0.891089</td>\n",
       "      <td>0.861931</td>\n",
       "      <td>0.138069</td>\n",
       "      <td>0.108911</td>\n",
       "      <td>0.0</td>\n",
       "    </tr>\n",
       "    <tr>\n",
       "      <th>3</th>\n",
       "      <td>0.906640</td>\n",
       "      <td>0.943874</td>\n",
       "      <td>0.958304</td>\n",
       "      <td>0.041696</td>\n",
       "      <td>0.056126</td>\n",
       "      <td>0.0</td>\n",
       "    </tr>\n",
       "    <tr>\n",
       "      <th>4</th>\n",
       "      <td>0.000000</td>\n",
       "      <td>0.000000</td>\n",
       "      <td>NaN</td>\n",
       "      <td>NaN</td>\n",
       "      <td>1.000000</td>\n",
       "      <td>0.0</td>\n",
       "    </tr>\n",
       "    <tr>\n",
       "      <th>5</th>\n",
       "      <td>0.762115</td>\n",
       "      <td>0.864794</td>\n",
       "      <td>0.865206</td>\n",
       "      <td>0.134794</td>\n",
       "      <td>0.135206</td>\n",
       "      <td>0.0</td>\n",
       "    </tr>\n",
       "    <tr>\n",
       "      <th>6</th>\n",
       "      <td>0.785366</td>\n",
       "      <td>0.884615</td>\n",
       "      <td>0.875000</td>\n",
       "      <td>0.125000</td>\n",
       "      <td>0.115385</td>\n",
       "      <td>0.0</td>\n",
       "    </tr>\n",
       "    <tr>\n",
       "      <th>7</th>\n",
       "      <td>0.978610</td>\n",
       "      <td>0.982814</td>\n",
       "      <td>0.995647</td>\n",
       "      <td>0.004353</td>\n",
       "      <td>0.017186</td>\n",
       "      <td>0.0</td>\n",
       "    </tr>\n",
       "    <tr>\n",
       "      <th>8</th>\n",
       "      <td>0.791592</td>\n",
       "      <td>0.850579</td>\n",
       "      <td>0.919449</td>\n",
       "      <td>0.080551</td>\n",
       "      <td>0.149421</td>\n",
       "      <td>0.0</td>\n",
       "    </tr>\n",
       "    <tr>\n",
       "      <th>9</th>\n",
       "      <td>0.778514</td>\n",
       "      <td>0.834229</td>\n",
       "      <td>0.920991</td>\n",
       "      <td>0.079009</td>\n",
       "      <td>0.165771</td>\n",
       "      <td>0.0</td>\n",
       "    </tr>\n",
       "    <tr>\n",
       "      <th>10</th>\n",
       "      <td>0.714758</td>\n",
       "      <td>0.832051</td>\n",
       "      <td>0.835264</td>\n",
       "      <td>0.164736</td>\n",
       "      <td>0.167949</td>\n",
       "      <td>0.0</td>\n",
       "    </tr>\n",
       "    <tr>\n",
       "      <th>11</th>\n",
       "      <td>0.912598</td>\n",
       "      <td>0.971759</td>\n",
       "      <td>0.937461</td>\n",
       "      <td>0.062539</td>\n",
       "      <td>0.028241</td>\n",
       "      <td>0.0</td>\n",
       "    </tr>\n",
       "    <tr>\n",
       "      <th>12</th>\n",
       "      <td>0.751943</td>\n",
       "      <td>0.902098</td>\n",
       "      <td>0.818759</td>\n",
       "      <td>0.181241</td>\n",
       "      <td>0.097902</td>\n",
       "      <td>0.0</td>\n",
       "    </tr>\n",
       "    <tr>\n",
       "      <th>13</th>\n",
       "      <td>0.000000</td>\n",
       "      <td>0.000000</td>\n",
       "      <td>NaN</td>\n",
       "      <td>NaN</td>\n",
       "      <td>1.000000</td>\n",
       "      <td>0.0</td>\n",
       "    </tr>\n",
       "    <tr>\n",
       "      <th>14</th>\n",
       "      <td>0.832592</td>\n",
       "      <td>0.860510</td>\n",
       "      <td>0.962495</td>\n",
       "      <td>0.037505</td>\n",
       "      <td>0.139490</td>\n",
       "      <td>0.0</td>\n",
       "    </tr>\n",
       "    <tr>\n",
       "      <th>15</th>\n",
       "      <td>0.988789</td>\n",
       "      <td>1.000000</td>\n",
       "      <td>0.988789</td>\n",
       "      <td>0.011211</td>\n",
       "      <td>0.000000</td>\n",
       "      <td>0.0</td>\n",
       "    </tr>\n",
       "    <tr>\n",
       "      <th>16</th>\n",
       "      <td>0.909091</td>\n",
       "      <td>0.968543</td>\n",
       "      <td>0.936749</td>\n",
       "      <td>0.063251</td>\n",
       "      <td>0.031457</td>\n",
       "      <td>0.0</td>\n",
       "    </tr>\n",
       "  </tbody>\n",
       "</table>\n",
       "</div>"
      ],
      "text/plain": [
       "            accuracy    recall  precision  false_discovery_rate  miss_rate  \\\n",
       "gt_unit_id                                                                   \n",
       "1           0.893715  0.937924   0.949902              0.050098   0.062076   \n",
       "2           0.779783  0.891089   0.861931              0.138069   0.108911   \n",
       "3           0.906640  0.943874   0.958304              0.041696   0.056126   \n",
       "4           0.000000  0.000000        NaN                   NaN   1.000000   \n",
       "5           0.762115  0.864794   0.865206              0.134794   0.135206   \n",
       "6           0.785366  0.884615   0.875000              0.125000   0.115385   \n",
       "7           0.978610  0.982814   0.995647              0.004353   0.017186   \n",
       "8           0.791592  0.850579   0.919449              0.080551   0.149421   \n",
       "9           0.778514  0.834229   0.920991              0.079009   0.165771   \n",
       "10          0.714758  0.832051   0.835264              0.164736   0.167949   \n",
       "11          0.912598  0.971759   0.937461              0.062539   0.028241   \n",
       "12          0.751943  0.902098   0.818759              0.181241   0.097902   \n",
       "13          0.000000  0.000000        NaN                   NaN   1.000000   \n",
       "14          0.832592  0.860510   0.962495              0.037505   0.139490   \n",
       "15          0.988789  1.000000   0.988789              0.011211   0.000000   \n",
       "16          0.909091  0.968543   0.936749              0.063251   0.031457   \n",
       "\n",
       "            misclassification_rate  \n",
       "gt_unit_id                          \n",
       "1                              0.0  \n",
       "2                              0.0  \n",
       "3                              0.0  \n",
       "4                              0.0  \n",
       "5                              0.0  \n",
       "6                              0.0  \n",
       "7                              0.0  \n",
       "8                              0.0  \n",
       "9                              0.0  \n",
       "10                             0.0  \n",
       "11                             0.0  \n",
       "12                             0.0  \n",
       "13                             0.0  \n",
       "14                             0.0  \n",
       "15                             0.0  \n",
       "16                             0.0  "
      ]
     },
     "execution_count": 14,
     "metadata": {},
     "output_type": "execute_result"
    }
   ],
   "source": [
    "sc.get_performance(method='by_unit', output='dict')  \n"
   ]
  },
  {
   "cell_type": "code",
   "execution_count": 15,
   "metadata": {},
   "outputs": [],
   "source": [
    "snr = st.validation.compute_unit_SNR(recording, sorting_true)"
   ]
  },
  {
   "cell_type": "code",
   "execution_count": 17,
   "metadata": {},
   "outputs": [
    {
     "data": {
      "text/plain": [
       "<matplotlib.collections.PathCollection at 0x7f31a70b9b70>"
      ]
     },
     "execution_count": 17,
     "metadata": {},
     "output_type": "execute_result"
    },
    {
     "data": {
      "image/png": "[encoded data removed]",
      "text/plain": [
       "<Figure size 432x288 with 1 Axes>"
      ]
     },
     "metadata": {
      "needs_background": "light"
     },
     "output_type": "display_data"
    }
   ],
   "source": [
    "plt.scatter(snr, sc.get_performance(method='by_unit', output='dict')['accuracy'])"
   ]
  },
  {
   "cell_type": "code",
   "execution_count": null,
   "metadata": {},
   "outputs": [],
   "source": []
  }
 ],
 "metadata": {
  "kernelspec": {
   "display_name": "Python [conda env:spikesorting]",
   "language": "python",
   "name": "conda-env-spikesorting-py"
  },
  "language_info": {
   "codemirror_mode": {
    "name": "ipython",
    "version": 3
   },
   "file_extension": ".py",
   "mimetype": "text/x-python",
   "name": "python",
   "nbconvert_exporter": "python",
   "pygments_lexer": "ipython3",
   "version": "3.7.2"
  }
 },
 "nbformat": 4,
 "nbformat_minor": 2
}
