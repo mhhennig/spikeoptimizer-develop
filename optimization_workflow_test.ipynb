{
 "cells": [
  {
   "cell_type": "code",
   "execution_count": 36,
   "metadata": {
    "scrolled": true
   },
   "outputs": [
    {
     "name": "stdout",
     "output_type": "stream",
     "text": [
      "The autoreload extension is already loaded. To reload it, use:\n",
      "  %reload_ext autoreload\n"
     ]
    }
   ],
   "source": [
    "%load_ext autoreload\n",
    "%autoreload 2\n",
    "%matplotlib inline\n",
    "\n",
    "import bayesianoptimization as b\n",
    "import tpeoptimization as t\n",
    "from hyperopt import hp\n",
    "\n",
    "import matplotlib.pyplot as plt\n",
    "\n",
    "import os\n",
    "os.environ['KBUCKET_CACHE_DIR'] = '/disk/scratch/mhennig/sha1-cache-mhennig'\n",
    "\n",
    "from spikeforest import SFMdaRecordingExtractor, SFMdaSortingExtractor\n",
    "from mountaintools import client as mt\n",
    "\n",
    "# import a spike sorter from the spikesorters module of spikeforest\n",
    "from spikesorters import Mountainsort4Sorter, HerdingspikesSorter\n",
    "import shutil\n",
    "\n",
    "# Configure to download from the public spikeforest kachery node\n",
    "mt.configDownloadFrom('spikeforest.public')\n",
    "\n",
    "import numpy as np\n"
   ]
  },
  {
   "cell_type": "code",
   "execution_count": 37,
   "metadata": {},
   "outputs": [
    {
     "name": "stdout",
     "output_type": "stream",
     "text": [
      "Load recording...\n"
     ]
    },
    {
     "data": {
      "text/plain": [
       "(-12.109856630824373,\n",
       " 12.109856630824371,\n",
       " -15.415176600441502,\n",
       " 323.4151766004415)"
      ]
     },
     "execution_count": 37,
     "metadata": {},
     "output_type": "execute_result"
    },
    {
     "data": {
      "image/png": "[encoded data removed]",
      "text/plain": [
       "<Figure size 432x288 with 1 Axes>"
      ]
     },
     "metadata": {
      "needs_background": "light"
     },
     "output_type": "display_data"
    }
   ],
   "source": [
    "# SYNTH_VISAPY\n",
    "# mea_c30 set 1\n",
    "recdir = 'sha1dir://ed0fe4de4ef2c54b7c9de420c87f9df200721b24.synth_visapy/mea_c30/set1'\n",
    "\n",
    "#synth_bionet_static static_8x_A_2A\n",
    "# recdir = 'sha1dir://abc900f5cd62436e7c89d914c9f36dcd7fcca0e7.synth_bionet/bionet_static/static_8x_A_2A'\n",
    "\n",
    "# synth_magland_noise10_K10_C4\n",
    "# tetrode\n",
    "# recdir = 'sha1dir://fb52d510d2543634e247e0d2d1d4390be9ed9e20.synth_magland/datasets_noise10_K10_C4/001_synth'\n",
    "\n",
    "print('Load recording...')\n",
    "recording = SFMdaRecordingExtractor(dataset_directory=recdir, download=True)\n",
    "sorting_true = SFMdaSortingExtractor(firings_file=recdir + '/firings_true.mda')\n",
    "\n",
    "cl=np.array(recording.get_channel_locations(recording.get_channel_ids()))\n",
    "plt.figure()\n",
    "plt.scatter(cl[:,0], cl[:,1])\n",
    "plt.axis('equal')\n"
   ]
  },
  {
   "cell_type": "code",
   "execution_count": 3,
   "metadata": {},
   "outputs": [],
   "source": [
    "\n",
    "\n",
    "sorter = 'herdingspikes'\n",
    "\n",
    "space = {'clustering_bandwidth': hp.uniform('clustering_bandwidth', 3, 15),\n",
    "    'clustering_alpha': hp.uniform('clustering_alpha', 3, 10),\n",
    "    'detection_threshold': hp.qnormal('detection_threshold', 18, 7, 1),\n",
    "    'ahpthr': hp.quniform('ahpthr', -30, 30, 1),\n",
    "    'probe_inner_radius':hp.quniform('probe_inner_radius',60,90,1),\n",
    "         'probe_neighbor_radius':hp.quniform('probe_neighbor_radius',70,100,1),\n",
    "         'probe_event_length':hp.uniform('probe_event_length',0.15,0.30),\n",
    "    'maa': hp.quniform('maa',0,10,1)\n",
    "#     'pca_ncomponents': hp.quniform('pca_ncomponents', 1, 5, 1),\n",
    "#          'filter':hp.choice('filter',['True','False']),\n",
    "#          'pre_scale_value': hp.uniform('pre_scale_value',20,25)\n",
    "        }\n",
    "\n",
    "params = {     'clustering_bandwidth': (5., 22.),\n",
    "                'clustering_alpha': (1., 12.),\n",
    "               'detection_threshold': (10, 30),\n",
    "\n",
    "              'probe_inner_radius': (60,90),\n",
    "             'probe_neighbor_radius': (75,100),\n",
    "              'probe_event_length': (0.15,0.30),\n",
    "             'ahpthr': (-30, 30),\n",
    "             'maa': (0,10)\n",
    "#               'pca_ncomponents': (1, 4),\n",
    "#            'pre_scale_value':(20.,21.),\n",
    "#           'filter':(['True','False'])\n",
    "                       } \n"
   ]
  },
  {
   "cell_type": "code",
   "execution_count": 4,
   "metadata": {},
   "outputs": [],
   "source": [
    "# test = b.BayesianOptimization(sorter=sorter, recording=recording, gt_sorting=sorting_true, params_to_opt=params, \n",
    "#                               run_schedule=[20, 20],\n",
    "#                               metric ='accuracy', recdir = recdir, outfile = 'res')\n",
    "\n",
    "test = t.TPEOptimization(sorter=sorter, recording=recording, gt_sorting=sorting_true, params_to_opt=params, \n",
    "                              space=space, run_schedule=[30, 30],\n",
    "                              metric ='accuracy', recdir = recdir, outfile = 'res')\n",
    "\n"
   ]
  },
  {
   "cell_type": "code",
   "execution_count": 5,
   "metadata": {
    "scrolled": true
   },
   "outputs": [
    {
     "name": "stdout",
     "output_type": "stream",
     "text": [
      "chosen values:                                      \n",
      "{'ahpthr': -18.0, 'clustering_alpha': 4.210081220278397, 'clustering_bandwidth': 12.789785533183142, 'detection_threshold': 13.0, 'maa': 9.0, 'probe_event_length': 0.27867572496307835, 'probe_inner_radius': 68.0, 'probe_neighbor_radius': 99.0}\n",
      "Clustering spikes with parameters: {'ahpthr': -18.0, 'clustering_alpha': 4.210081220278397, 'clustering_bandwidth': 12.789785533183142, 'detection_threshold': 13.0, 'maa': 9.0, 'probe_event_length': 0.27867572496307835, 'probe_inner_radius': 68.0, 'probe_neighbor_radius': 99.0}\n",
      "# Generating new position and neighbor files from data file\n",
      "# Not Masking any Channels                          \n",
      "# Sampling rate: 32000                              \n",
      "# Localization On                                   \n",
      "# Number of recorded channels: 30                   \n",
      "# Analysing frames: 9600000; Seconds: 300.0         \n",
      "# Frames before spike in cutout: 6                  \n",
      "# Frames after spike in cutout: 32                  \n",
      "# tcuts: 51 77                                      \n",
      "# tInc: 1000000                                     \n",
      "# Analysing frames from -51 to 1000077  (0.0%)      \n",
      "# Analysing frames from 999949 to 2000077  (10.4%)  \n",
      "# Analysing frames from 1999949 to 3000077  (20.8%) \n",
      "# Analysing frames from 2999949 to 4000077  (31.2%) \n",
      "# Analysing frames from 3999949 to 5000077  (41.7%) \n",
      "# Analysing frames from 4999949 to 6000077  (52.1%) \n",
      "# Analysing frames from 5999949 to 7000077  (62.5%) \n",
      "# Analysing frames from 6999949 to 8000077  (72.9%) \n",
      "# Analysing frames from 7999949 to 9000077  (83.3%) \n",
      "# Analysing frames from 8999949 to 9600000  (93.8%) \n",
      "# Detection completed, time taken: 0:00:14.494602   \n",
      "# Time per frame: 0:00:00.001510                    \n",
      "# Time per sample: 0:00:00.000050                   \n",
      "Loaded 33 spikes.                                   \n",
      "Fitting dimensionality reduction using all spikes...\n",
      "...projecting...                                    \n",
      "...done                                             \n",
      "Clustering...                                       \n",
      "Clustering 33 spikes...                             \n",
      "number of seeds: 1                                  \n",
      "seeds/job: 1                                        \n",
      "using 24 cpus                                       \n",
      "  0%|          | 0/30 [00:15<?, ?it/s, best loss: ?]"
     ]
    },
    {
     "name": "stderr",
     "output_type": "stream",
     "text": [
      "[Parallel(n_jobs=24)]: Using backend LokyBackend with 24 concurrent workers.\n",
      "\n"
     ]
    },
    {
     "name": "stdout",
     "output_type": "stream",
     "text": [
      "Number of estimated units:                          \n",
      "1                                                   \n",
      "Saving to                                           \n",
      "/disk/scratch/mhennig/spikeinterface/spikeoptimizer-develop/optimization_0/HS2_sorted.hdf5\n",
      "Warning: sampling frequency information not found. Setting delta_frames to 10.\n",
      "  0%|          | 0/30 [00:17<?, ?it/s, best loss: ?]"
     ]
    },
    {
     "name": "stderr",
     "output_type": "stream",
     "text": [
      "[Parallel(n_jobs=24)]: Done   3 out of  24 | elapsed:    2.2s remaining:   15.3s\n",
      "\n",
      "[Parallel(n_jobs=24)]: Done  16 out of  24 | elapsed:    2.2s remaining:    1.1s\n",
      "\n",
      "[Parallel(n_jobs=24)]: Done  24 out of  24 | elapsed:    2.3s finished\n",
      "\n"
     ]
    },
    {
     "name": "stdout",
     "output_type": "stream",
     "text": [
      "score:                                              \n",
      "-0.0                                                \n",
      "chosen values:                                                 \n",
      "{'ahpthr': 7.0, 'clustering_alpha': 7.865268981793483, 'clustering_bandwidth': 9.049165596643554, 'detection_threshold': 10.0, 'maa': 4.0, 'probe_event_length': 0.1625437242960169, 'probe_inner_radius': 73.0, 'probe_neighbor_radius': 86.0}\n",
      "Clustering spikes with parameters: {'ahpthr': 7.0, 'clustering_alpha': 7.865268981793483, 'clustering_bandwidth': 9.049165596643554, 'detection_threshold': 10.0, 'maa': 4.0, 'probe_event_length': 0.1625437242960169, 'probe_inner_radius': 73.0, 'probe_neighbor_radius': 86.0}\n",
      "  3%|▎         | 1/30 [00:21<10:28, 21.68s/it, best loss: -0.0]"
     ]
    },
    {
     "name": "stderr",
     "output_type": "stream",
     "text": [
      "/disk/scratch/mhennig/miniconda3/envs/spikesorting/lib/python3.7/site-packages/spiketoolkit/comparison/groundtruthcomparison.py:333: RuntimeWarning: invalid value encountered in long_scalars\n",
      "  perf['precision'] = tp / (tp + fp)\n",
      "\n",
      "/disk/scratch/mhennig/miniconda3/envs/spikesorting/lib/python3.7/site-packages/spiketoolkit/comparison/groundtruthcomparison.py:334: RuntimeWarning: invalid value encountered in long_scalars\n",
      "  perf['false_discovery_rate'] = fp / (tp + fp)\n",
      "\n"
     ]
    },
    {
     "name": "stdout",
     "output_type": "stream",
     "text": [
      "# Generating new position and neighbor files from data file    \n",
      "# Not Masking any Channels                                     \n",
      "# Sampling rate: 32000                                         \n",
      "# Localization On                                              \n",
      "# Number of recorded channels: 30                              \n",
      "# Analysing frames: 9600000; Seconds: 300.0                    \n",
      "# Frames before spike in cutout: 6                             \n",
      "# Frames after spike in cutout: 32                             \n",
      "# tcuts: 51 77                                                 \n",
      "# tInc: 1000000                                                \n",
      "# Analysing frames from -51 to 1000077  (0.0%)                 \n",
      "# Analysing frames from 999949 to 2000077  (10.4%)             \n",
      "# Analysing frames from 1999949 to 3000077  (20.8%)            \n",
      "# Analysing frames from 2999949 to 4000077  (31.2%)            \n",
      "# Analysing frames from 3999949 to 5000077  (41.7%)            \n",
      "# Analysing frames from 4999949 to 6000077  (52.1%)            \n",
      "# Analysing frames from 5999949 to 7000077  (62.5%)            \n",
      "# Analysing frames from 6999949 to 8000077  (72.9%)            \n",
      "# Analysing frames from 7999949 to 9000077  (83.3%)            \n",
      "# Analysing frames from 8999949 to 9600000  (93.8%)            \n",
      "# Detection completed, time taken: 0:00:15.566002              \n",
      "# Time per frame: 0:00:00.001621                               \n",
      "# Time per sample: 0:00:00.000054                              \n",
      "Loaded 45404 spikes.                                           \n",
      "Fitting dimensionality reduction using all spikes...           \n",
      "...projecting...                                               \n",
      "...done                                                        \n",
      "Clustering...                                                  \n",
      "Clustering 45404 spikes...                                     \n",
      "number of seeds: 480                                           \n",
      "seeds/job: 21                                                  \n",
      "using 24 cpus                                                  \n",
      "  3%|▎         | 1/30 [00:38<10:28, 21.68s/it, best loss: -0.0]"
     ]
    },
    {
     "name": "stderr",
     "output_type": "stream",
     "text": [
      "[Parallel(n_jobs=24)]: Using backend LokyBackend with 24 concurrent workers.\n",
      "\n",
      "[Parallel(n_jobs=24)]: Done   3 out of  24 | elapsed:    2.4s remaining:   17.0s\n",
      "\n",
      "[Parallel(n_jobs=24)]: Done  16 out of  24 | elapsed:    2.6s remaining:    1.3s\n",
      "\n"
     ]
    },
    {
     "name": "stdout",
     "output_type": "stream",
     "text": [
      "Number of estimated units:                                     \n",
      "19                                                             \n",
      "Saving to                                                      \n",
      "/disk/scratch/mhennig/spikeinterface/spikeoptimizer-develop/optimization_1/HS2_sorted.hdf5\n",
      "Warning: sampling frequency information not found. Setting delta_frames to 10.\n",
      "  3%|▎         | 1/30 [00:42<10:28, 21.68s/it, best loss: -0.0]"
     ]
    },
    {
     "name": "stderr",
     "output_type": "stream",
     "text": [
      "[Parallel(n_jobs=24)]: Done  24 out of  24 | elapsed:    2.7s finished\n",
      "\n"
     ]
    },
    {
     "name": "stdout",
     "output_type": "stream",
     "text": [
      "score:                                                         \n",
      "-0.5556911809581935                                            \n",
      "chosen values:                                                                \n",
      "{'ahpthr': -28.0, 'clustering_alpha': 6.712539281745661, 'clustering_bandwidth': 10.149873963552881, 'detection_threshold': 18.0, 'maa': 8.0, 'probe_event_length': 0.27434794063531565, 'probe_inner_radius': 74.0, 'probe_neighbor_radius': 83.0}\n",
      "Clustering spikes with parameters: {'ahpthr': -28.0, 'clustering_alpha': 6.712539281745661, 'clustering_bandwidth': 10.149873963552881, 'detection_threshold': 18.0, 'maa': 8.0, 'probe_event_length': 0.27434794063531565, 'probe_inner_radius': 74.0, 'probe_neighbor_radius': 83.0}\n",
      "# Generating new position and neighbor files from data file                   \n",
      "# Not Masking any Channels                                                    \n",
      "# Sampling rate: 32000                                                        \n",
      "# Localization On                                                             \n",
      "# Number of recorded channels: 30                                             \n",
      "# Analysing frames: 9600000; Seconds: 300.0                                   \n",
      "# Frames before spike in cutout: 6                                            \n",
      "# Frames after spike in cutout: 32                                            \n",
      "# tcuts: 51 77                                                                \n",
      "# tInc: 1000000                                                               \n",
      "# Analysing frames from -51 to 1000077  (0.0%)                                \n",
      "# Analysing frames from 999949 to 2000077  (10.4%)                            \n",
      "# Analysing frames from 1999949 to 3000077  (20.8%)                           \n",
      "# Analysing frames from 2999949 to 4000077  (31.2%)                           \n",
      "# Analysing frames from 3999949 to 5000077  (41.7%)                           \n",
      "# Analysing frames from 4999949 to 6000077  (52.1%)                           \n",
      "# Analysing frames from 5999949 to 7000077  (62.5%)                           \n",
      "# Analysing frames from 6999949 to 8000077  (72.9%)                           \n",
      "# Analysing frames from 7999949 to 9000077  (83.3%)                           \n",
      "# Analysing frames from 8999949 to 9600000  (93.8%)                           \n",
      "# Detection completed, time taken: 0:00:14.346094                             \n",
      "# Time per frame: 0:00:00.001494                                              \n",
      "# Time per sample: 0:00:00.000050                                             \n",
      "Loaded 0 spikes.                                                              \n",
      "Saving to                                                                     \n",
      "/disk/scratch/mhennig/spikeinterface/spikeoptimizer-develop/optimization_2/HS2_sorted.hdf5\n",
      "sorter found no units                                                         \n",
      "score:                                                                        \n",
      "0                                                                             \n",
      "chosen values:                                                                \n",
      "{'ahpthr': -5.0, 'clustering_alpha': 7.803221471647456, 'clustering_bandwidth': 7.050965795755655, 'detection_threshold': 22.0, 'maa': 5.0, 'probe_event_length': 0.27736468557795735, 'probe_inner_radius': 88.0, 'probe_neighbor_radius': 77.0}\n",
      "Clustering spikes with parameters: {'ahpthr': -5.0, 'clustering_alpha': 7.803221471647456, 'clustering_bandwidth': 7.050965795755655, 'detection_threshold': 22.0, 'maa': 5.0, 'probe_event_length': 0.27736468557795735, 'probe_inner_radius': 88.0, 'probe_neighbor_radius': 77.0}\n",
      " 10%|█         | 3/30 [01:22<11:09, 24.80s/it, best loss: -0.5556911809581935]"
     ]
    },
    {
     "name": "stderr",
     "output_type": "stream",
     "text": [
      "/disk/scratch/mhennig/miniconda3/envs/spikesorting/lib/python3.7/site-packages/herdingspikes/hs2.py:164: UserWarning: Loading an empty file /disk/scratch/mhennig/spikeinterface/spikeoptimizer-develop/optimization_2/HS2_detected.bin . This usually happens when no spikes weredetected due to the detection parameters being set too strictly\n",
      "  \"strictly\".format(file_name)\n",
      "\n"
     ]
    },
    {
     "name": "stdout",
     "output_type": "stream",
     "text": [
      "# Generating new position and neighbor files from data file                   \n",
      "# Not Masking any Channels                                                    \n",
      "# Sampling rate: 32000                                                        \n",
      "# Localization On                                                             \n",
      "# Number of recorded channels: 30                                             \n",
      "# Analysing frames: 9600000; Seconds: 300.0                                   \n",
      "# Frames before spike in cutout: 6                                            \n",
      "# Frames after spike in cutout: 32                                            \n",
      "# tcuts: 51 77                                                                \n",
      "# tInc: 1000000                                                               \n",
      "# Analysing frames from -51 to 1000077  (0.0%)                                \n",
      "# Analysing frames from 999949 to 2000077  (10.4%)                            \n",
      "# Analysing frames from 1999949 to 3000077  (20.8%)                           \n",
      "# Analysing frames from 2999949 to 4000077  (31.2%)                           \n",
      "# Analysing frames from 3999949 to 5000077  (41.7%)                           \n",
      "# Analysing frames from 4999949 to 6000077  (52.1%)                           \n",
      "# Analysing frames from 5999949 to 7000077  (62.5%)                           \n",
      "# Analysing frames from 6999949 to 8000077  (72.9%)                           \n",
      "# Analysing frames from 7999949 to 9000077  (83.3%)                           \n",
      "# Analysing frames from 8999949 to 9600000  (93.8%)                           \n",
      "# Detection completed, time taken: 0:00:15.378202                             \n",
      "# Time per frame: 0:00:00.001602                                              \n",
      "# Time per sample: 0:00:00.000053                                             \n",
      "Loaded 18535 spikes.                                                          \n",
      "Fitting dimensionality reduction using all spikes...                          \n",
      "...projecting...                                                              \n",
      "...done                                                                       \n",
      "Clustering...                                                                 \n",
      "Clustering 18535 spikes...                                                    \n",
      "number of seeds: 219                                                          \n",
      "seeds/job: 10                                                                 \n",
      "using 24 cpus                                                                 \n",
      " 10%|█         | 3/30 [01:39<11:09, 24.80s/it, best loss: -0.5556911809581935]"
     ]
    },
    {
     "name": "stderr",
     "output_type": "stream",
     "text": [
      "[Parallel(n_jobs=24)]: Using backend LokyBackend with 24 concurrent workers.\n",
      "\n"
     ]
    },
    {
     "name": "stdout",
     "output_type": "stream",
     "text": [
      "Number of estimated units:                                                    \n",
      "13                                                                            \n",
      " 10%|█         | 3/30 [01:42<11:09, 24.80s/it, best loss: -0.5556911809581935]"
     ]
    },
    {
     "name": "stderr",
     "output_type": "stream",
     "text": [
      "[Parallel(n_jobs=24)]: Done   3 out of  24 | elapsed:    2.4s remaining:   16.9s\n",
      "\n",
      "[Parallel(n_jobs=24)]: Done  16 out of  24 | elapsed:    2.5s remaining:    1.2s\n",
      "\n",
      "[Parallel(n_jobs=24)]: Done  24 out of  24 | elapsed:    2.6s finished\n",
      "\n"
     ]
    },
    {
     "name": "stdout",
     "output_type": "stream",
     "text": [
      "Saving to                                                                     \n",
      "/disk/scratch/mhennig/spikeinterface/spikeoptimizer-develop/optimization_3/HS2_sorted.hdf5\n",
      "Warning: sampling frequency information not found. Setting delta_frames to 10.\n",
      "score:                                                                        \n",
      "-0.36250853630776236                                                          \n",
      "chosen values:                                                                \n",
      "{'ahpthr': 11.0, 'clustering_alpha': 3.9241946799498066, 'clustering_bandwidth': 12.591626909218988, 'detection_threshold': 13.0, 'maa': 4.0, 'probe_event_length': 0.29452956565275784, 'probe_inner_radius': 67.0, 'probe_neighbor_radius': 91.0}\n",
      "Clustering spikes with parameters: {'ahpthr': 11.0, 'clustering_alpha': 3.9241946799498066, 'clustering_bandwidth': 12.591626909218988, 'detection_threshold': 13.0, 'maa': 4.0, 'probe_event_length': 0.29452956565275784, 'probe_inner_radius': 67.0, 'probe_neighbor_radius': 91.0}\n",
      "# Generating new position and neighbor files from data file                   \n",
      "# Not Masking any Channels                                                    \n",
      "# Sampling rate: 32000                                                        \n",
      "# Localization On                                                             \n",
      "# Number of recorded channels: 30                                             \n",
      "# Analysing frames: 9600000; Seconds: 300.0                                   \n",
      "# Frames before spike in cutout: 6                                            \n",
      "# Frames after spike in cutout: 32                                            \n",
      "# tcuts: 51 77                                                                \n",
      "# tInc: 1000000                                                               \n",
      "# Analysing frames from -51 to 1000077  (0.0%)                                \n",
      "# Analysing frames from 999949 to 2000077  (10.4%)                            \n",
      "# Analysing frames from 1999949 to 3000077  (20.8%)                           \n",
      "# Analysing frames from 2999949 to 4000077  (31.2%)                           \n",
      "# Analysing frames from 3999949 to 5000077  (41.7%)                           \n",
      "# Analysing frames from 4999949 to 6000077  (52.1%)                           \n",
      "# Analysing frames from 5999949 to 7000077  (62.5%)                           \n",
      "# Analysing frames from 6999949 to 8000077  (72.9%)                           \n",
      "# Analysing frames from 7999949 to 9000077  (83.3%)                           \n",
      "# Analysing frames from 8999949 to 9600000  (93.8%)                           \n",
      "# Detection completed, time taken: 0:00:16.018904                             \n",
      "# Time per frame: 0:00:00.001669                                              \n",
      "# Time per sample: 0:00:00.000056                                             \n",
      "Loaded 36316 spikes.                                                          \n",
      "Fitting dimensionality reduction using all spikes...                          \n",
      "...projecting...                                                              \n",
      "...done                                                                       \n",
      "Clustering...                                                                 \n",
      "Clustering 36316 spikes...                                                    \n",
      "number of seeds: 118                                                          \n",
      "seeds/job: 5                                                                  \n",
      "using 24 cpus                                                                 \n",
      " 13%|█▎        | 4/30 [02:04<10:43, 24.75s/it, best loss: -0.5556911809581935]"
     ]
    },
    {
     "name": "stderr",
     "output_type": "stream",
     "text": [
      "[Parallel(n_jobs=24)]: Using backend LokyBackend with 24 concurrent workers.\n",
      "\n",
      "[Parallel(n_jobs=24)]: Done   3 out of  24 | elapsed:    2.7s remaining:   18.7s\n",
      "\n",
      "[Parallel(n_jobs=24)]: Done  16 out of  24 | elapsed:    2.7s remaining:    1.4s\n",
      "\n",
      "[Parallel(n_jobs=24)]: Done  24 out of  24 | elapsed:    2.9s finished\n",
      "\n"
     ]
    },
    {
     "name": "stdout",
     "output_type": "stream",
     "text": [
      "Number of estimated units:                                                    \n",
      "10                                                                            \n",
      "Saving to                                                                     \n",
      "/disk/scratch/mhennig/spikeinterface/spikeoptimizer-develop/optimization_4/HS2_sorted.hdf5\n",
      "Warning: sampling frequency information not found. Setting delta_frames to 10.\n",
      "score:                                                                        \n",
      "-0.43866643837291786                                                          \n",
      "chosen values:                                                                \n",
      "{'ahpthr': 6.0, 'clustering_alpha': 8.491844265665234, 'clustering_bandwidth': 13.825559149804892, 'detection_threshold': 25.0, 'maa': 0.0, 'probe_event_length': 0.2835186431588387, 'probe_inner_radius': 83.0, 'probe_neighbor_radius': 95.0}\n",
      "Clustering spikes with parameters: {'ahpthr': 6.0, 'clustering_alpha': 8.491844265665234, 'clustering_bandwidth': 13.825559149804892, 'detection_threshold': 25.0, 'maa': 0.0, 'probe_event_length': 0.2835186431588387, 'probe_inner_radius': 83.0, 'probe_neighbor_radius': 95.0}\n",
      "# Generating new position and neighbor files from data file                   \n",
      "# Not Masking any Channels                                                    \n",
      "# Sampling rate: 32000                                                        \n",
      "# Localization On                                                             \n",
      "# Number of recorded channels: 30                                             \n",
      "# Analysing frames: 9600000; Seconds: 300.0                                   \n",
      "# Frames before spike in cutout: 6                                            \n",
      "# Frames after spike in cutout: 32                                            \n",
      "# tcuts: 51 77                                                                \n",
      "# tInc: 1000000                                                               \n",
      "# Analysing frames from -51 to 1000077  (0.0%)                                \n",
      "# Analysing frames from 999949 to 2000077  (10.4%)                            \n",
      "# Analysing frames from 1999949 to 3000077  (20.8%)                           \n",
      "# Analysing frames from 2999949 to 4000077  (31.2%)                           \n",
      "# Analysing frames from 3999949 to 5000077  (41.7%)                           \n",
      "# Analysing frames from 4999949 to 6000077  (52.1%)                           \n",
      "# Analysing frames from 5999949 to 7000077  (62.5%)                           \n",
      "# Analysing frames from 6999949 to 8000077  (72.9%)                           \n",
      "# Analysing frames from 7999949 to 9000077  (83.3%)                           \n",
      "# Analysing frames from 8999949 to 9600000  (93.8%)                           \n",
      "# Detection completed, time taken: 0:00:15.214565                             \n",
      "# Time per frame: 0:00:00.001585                                              \n",
      "# Time per sample: 0:00:00.000053                                             \n",
      "Loaded 16889 spikes.                                                          \n",
      "Fitting dimensionality reduction using all spikes...                          \n",
      "...projecting...                                                              \n",
      "...done                                                                       \n",
      "Clustering...                                                                 \n",
      "Clustering 16889 spikes...                                                    \n",
      "number of seeds: 112                                                          \n",
      "seeds/job: 5                                                                  \n",
      "using 24 cpus                                                                 \n",
      " 17%|█▋        | 5/30 [02:32<10:44, 25.78s/it, best loss: -0.5556911809581935]"
     ]
    },
    {
     "name": "stderr",
     "output_type": "stream",
     "text": [
      "[Parallel(n_jobs=24)]: Using backend LokyBackend with 24 concurrent workers.\n",
      "\n",
      "[Parallel(n_jobs=24)]: Done   3 out of  24 | elapsed:    2.9s remaining:   20.5s\n",
      "\n",
      "[Parallel(n_jobs=24)]: Done  16 out of  24 | elapsed:    3.0s remaining:    1.5s\n",
      "\n"
     ]
    },
    {
     "name": "stdout",
     "output_type": "stream",
     "text": [
      "Number of estimated units:                                                    \n",
      "11                                                                            \n",
      "Saving to                                                                     \n",
      "/disk/scratch/mhennig/spikeinterface/spikeoptimizer-develop/optimization_5/HS2_sorted.hdf5\n",
      "Warning: sampling frequency information not found. Setting delta_frames to 10.\n",
      " 17%|█▋        | 5/30 [02:36<10:44, 25.78s/it, best loss: -0.5556911809581935]"
     ]
    },
    {
     "name": "stderr",
     "output_type": "stream",
     "text": [
      "[Parallel(n_jobs=24)]: Done  24 out of  24 | elapsed:    3.1s finished\n",
      "\n"
     ]
    },
    {
     "name": "stdout",
     "output_type": "stream",
     "text": [
      "score:                                                                        \n",
      "-0.32713093838699503                                                          \n",
      "chosen values:                                                                \n",
      "{'ahpthr': 17.0, 'clustering_alpha': 9.146879614142524, 'clustering_bandwidth': 6.833699790317603, 'detection_threshold': 10.0, 'maa': 6.0, 'probe_event_length': 0.21982206729811388, 'probe_inner_radius': 89.0, 'probe_neighbor_radius': 83.0}\n",
      "Clustering spikes with parameters: {'ahpthr': 17.0, 'clustering_alpha': 9.146879614142524, 'clustering_bandwidth': 6.833699790317603, 'detection_threshold': 10.0, 'maa': 6.0, 'probe_event_length': 0.21982206729811388, 'probe_inner_radius': 89.0, 'probe_neighbor_radius': 83.0}\n",
      "# Generating new position and neighbor files from data file                   \n",
      "# Not Masking any Channels                                                    \n",
      "# Sampling rate: 32000                                                        \n",
      "# Localization On                                                             \n",
      "# Number of recorded channels: 30                                             \n",
      "# Analysing frames: 9600000; Seconds: 300.0                                   \n",
      "# Frames before spike in cutout: 6                                            \n",
      "# Frames after spike in cutout: 32                                            \n",
      "# tcuts: 51 77                                                                \n",
      "# tInc: 1000000                                                               \n",
      "# Analysing frames from -51 to 1000077  (0.0%)                                \n",
      "# Analysing frames from 999949 to 2000077  (10.4%)                            \n",
      "# Analysing frames from 1999949 to 3000077  (20.8%)                           \n",
      "# Analysing frames from 2999949 to 4000077  (31.2%)                           \n",
      "# Analysing frames from 3999949 to 5000077  (41.7%)                           \n",
      "# Analysing frames from 4999949 to 6000077  (52.1%)                           \n",
      "# Analysing frames from 5999949 to 7000077  (62.5%)                           \n",
      "# Analysing frames from 6999949 to 8000077  (72.9%)                           \n",
      "# Analysing frames from 7999949 to 9000077  (83.3%)                           \n",
      "# Analysing frames from 8999949 to 9600000  (93.8%)                           \n",
      "# Detection completed, time taken: 0:00:16.089635                             \n",
      "# Time per frame: 0:00:00.001676                                              \n",
      "# Time per sample: 0:00:00.000056                                             \n",
      "Loaded 41665 spikes.                                                          \n",
      "Fitting dimensionality reduction using all spikes...                          \n",
      "...projecting...                                                              \n",
      "...done                                                                       \n",
      "Clustering...                                                                 \n",
      "Clustering 41665 spikes...                                                    \n",
      "number of seeds: 648                                                          \n",
      "seeds/job: 28                                                                 \n",
      "using 24 cpus                                                                 \n",
      " 20%|██        | 6/30 [02:58<10:15, 25.65s/it, best loss: -0.5556911809581935]"
     ]
    },
    {
     "name": "stderr",
     "output_type": "stream",
     "text": [
      "[Parallel(n_jobs=24)]: Using backend LokyBackend with 24 concurrent workers.\n",
      "\n",
      "[Parallel(n_jobs=24)]: Done   3 out of  24 | elapsed:    3.5s remaining:   24.6s\n",
      "\n",
      "[Parallel(n_jobs=24)]: Done  16 out of  24 | elapsed:    3.6s remaining:    1.8s\n",
      "\n"
     ]
    },
    {
     "name": "stdout",
     "output_type": "stream",
     "text": [
      "Number of estimated units:                                                    \n",
      "29                                                                            \n",
      "Saving to                                                                     \n",
      "/disk/scratch/mhennig/spikeinterface/spikeoptimizer-develop/optimization_6/HS2_sorted.hdf5\n",
      " 20%|██        | 6/30 [03:03<10:15, 25.65s/it, best loss: -0.5556911809581935]"
     ]
    },
    {
     "name": "stderr",
     "output_type": "stream",
     "text": [
      "[Parallel(n_jobs=24)]: Done  24 out of  24 | elapsed:    3.8s finished\n",
      "\n"
     ]
    },
    {
     "name": "stdout",
     "output_type": "stream",
     "text": [
      "Warning: sampling frequency information not found. Setting delta_frames to 10.\n",
      "score:                                                                        \n",
      "-0.7651160904938238                                                           \n",
      "chosen values:                                                                \n",
      "{'ahpthr': 8.0, 'clustering_alpha': 9.14491976577961, 'clustering_bandwidth': 14.086911439075726, 'detection_threshold': 8.0, 'maa': 6.0, 'probe_event_length': 0.19826038706210444, 'probe_inner_radius': 68.0, 'probe_neighbor_radius': 95.0}\n",
      "Clustering spikes with parameters: {'ahpthr': 8.0, 'clustering_alpha': 9.14491976577961, 'clustering_bandwidth': 14.086911439075726, 'detection_threshold': 8.0, 'maa': 6.0, 'probe_event_length': 0.19826038706210444, 'probe_inner_radius': 68.0, 'probe_neighbor_radius': 95.0}\n",
      "# Generating new position and neighbor files from data file                   \n",
      "# Not Masking any Channels                                                    \n",
      "# Sampling rate: 32000                                                        \n",
      "# Localization On                                                             \n",
      "# Number of recorded channels: 30                                             \n",
      "# Analysing frames: 9600000; Seconds: 300.0                                   \n",
      "# Frames before spike in cutout: 6                                            \n",
      "# Frames after spike in cutout: 32                                            \n",
      "# tcuts: 51 77                                                                \n",
      "# tInc: 1000000                                                               \n",
      "# Analysing frames from -51 to 1000077  (0.0%)                                \n",
      "# Analysing frames from 999949 to 2000077  (10.4%)                            \n",
      "# Analysing frames from 1999949 to 3000077  (20.8%)                           \n",
      "# Analysing frames from 2999949 to 4000077  (31.2%)                           \n",
      "# Analysing frames from 3999949 to 5000077  (41.7%)                           \n",
      "# Analysing frames from 4999949 to 6000077  (52.1%)                           \n",
      "# Analysing frames from 5999949 to 7000077  (62.5%)                           \n",
      "# Analysing frames from 6999949 to 8000077  (72.9%)                           \n",
      "# Analysing frames from 7999949 to 9000077  (83.3%)                           \n",
      "# Analysing frames from 8999949 to 9600000  (93.8%)                           \n",
      "# Detection completed, time taken: 0:00:16.081205                             \n",
      "# Time per frame: 0:00:00.001675                                              \n",
      "# Time per sample: 0:00:00.000056                                             \n",
      "Loaded 49788 spikes.                                                          \n",
      "Fitting dimensionality reduction using all spikes...                          \n",
      "...projecting...                                                              \n",
      "...done                                                                       \n",
      "Clustering...                                                                 \n",
      "Clustering 49788 spikes...                                                    \n",
      "number of seeds: 334                                                          \n",
      "seeds/job: 14                                                                 \n",
      "using 24 cpus                                                                 \n",
      " 23%|██▎       | 7/30 [03:28<10:17, 26.87s/it, best loss: -0.7651160904938238]"
     ]
    },
    {
     "name": "stderr",
     "output_type": "stream",
     "text": [
      "[Parallel(n_jobs=24)]: Using backend LokyBackend with 24 concurrent workers.\n",
      "\n",
      "[Parallel(n_jobs=24)]: Done   3 out of  24 | elapsed:    3.3s remaining:   23.0s\n",
      "\n",
      "[Parallel(n_jobs=24)]: Done  16 out of  24 | elapsed:    3.4s remaining:    1.7s\n",
      "\n"
     ]
    },
    {
     "name": "stdout",
     "output_type": "stream",
     "text": [
      "Number of estimated units:                                                    \n",
      "14                                                                            \n",
      "Saving to                                                                     \n",
      "/disk/scratch/mhennig/spikeinterface/spikeoptimizer-develop/optimization_7/HS2_sorted.hdf5\n",
      " 23%|██▎       | 7/30 [03:32<10:17, 26.87s/it, best loss: -0.7651160904938238]"
     ]
    },
    {
     "name": "stderr",
     "output_type": "stream",
     "text": [
      "[Parallel(n_jobs=24)]: Done  24 out of  24 | elapsed:    3.5s finished\n",
      "\n"
     ]
    },
    {
     "name": "stdout",
     "output_type": "stream",
     "text": [
      "Warning: sampling frequency information not found. Setting delta_frames to 10.\n",
      "score:                                                                        \n",
      "-0.40608948112856397                                                          \n",
      "chosen values:                                                                \n",
      "{'ahpthr': -17.0, 'clustering_alpha': 8.250778247546556, 'clustering_bandwidth': 13.239305922329981, 'detection_threshold': 21.0, 'maa': 9.0, 'probe_event_length': 0.17887045117607805, 'probe_inner_radius': 81.0, 'probe_neighbor_radius': 92.0}\n",
      "Clustering spikes with parameters: {'ahpthr': -17.0, 'clustering_alpha': 8.250778247546556, 'clustering_bandwidth': 13.239305922329981, 'detection_threshold': 21.0, 'maa': 9.0, 'probe_event_length': 0.17887045117607805, 'probe_inner_radius': 81.0, 'probe_neighbor_radius': 92.0}\n",
      "# Generating new position and neighbor files from data file                   \n",
      "# Not Masking any Channels                                                    \n",
      "# Sampling rate: 32000                                                        \n",
      "# Localization On                                                             \n",
      "# Number of recorded channels: 30                                             \n",
      "# Analysing frames: 9600000; Seconds: 300.0                                   \n",
      "# Frames before spike in cutout: 6                                            \n",
      "# Frames after spike in cutout: 32                                            \n",
      "# tcuts: 51 77                                                                \n",
      "# tInc: 1000000                                                               \n",
      "# Analysing frames from -51 to 1000077  (0.0%)                                \n",
      "# Analysing frames from 999949 to 2000077  (10.4%)                            \n",
      "# Analysing frames from 1999949 to 3000077  (20.8%)                           \n",
      "# Analysing frames from 2999949 to 4000077  (31.2%)                           \n",
      "# Analysing frames from 3999949 to 5000077  (41.7%)                           \n",
      "# Analysing frames from 4999949 to 6000077  (52.1%)                           \n",
      "# Analysing frames from 5999949 to 7000077  (62.5%)                           \n",
      "# Analysing frames from 6999949 to 8000077  (72.9%)                           \n",
      "# Analysing frames from 7999949 to 9000077  (83.3%)                           \n",
      "# Analysing frames from 8999949 to 9600000  (93.8%)                           \n",
      "# Detection completed, time taken: 0:00:14.406311                             \n",
      "# Time per frame: 0:00:00.001501                                              \n",
      "# Time per sample: 0:00:00.000050                                             \n",
      "Loaded 46 spikes.                                                             \n",
      "Fitting dimensionality reduction using all spikes...                          \n",
      "...projecting...                                                              \n",
      "...done                                                                       \n",
      "Clustering...                                                                 \n",
      "Clustering 46 spikes...                                                       \n",
      "number of seeds: 1                                                            \n",
      "seeds/job: 1                                                                  \n",
      "using 24 cpus                                                                 \n",
      " 27%|██▋       | 8/30 [03:53<09:56, 27.13s/it, best loss: -0.7651160904938238]"
     ]
    },
    {
     "name": "stderr",
     "output_type": "stream",
     "text": [
      "[Parallel(n_jobs=24)]: Using backend LokyBackend with 24 concurrent workers.\n",
      "\n",
      "[Parallel(n_jobs=24)]: Done   3 out of  24 | elapsed:    3.1s remaining:   21.9s\n",
      "\n",
      "[Parallel(n_jobs=24)]: Done  16 out of  24 | elapsed:    3.2s remaining:    1.6s\n",
      "\n"
     ]
    },
    {
     "name": "stdout",
     "output_type": "stream",
     "text": [
      "Number of estimated units:                                                    \n",
      "1                                                                             \n",
      "Saving to                                                                     \n",
      "/disk/scratch/mhennig/spikeinterface/spikeoptimizer-develop/optimization_8/HS2_sorted.hdf5\n",
      "Warning: sampling frequency information not found. Setting delta_frames to 10.\n",
      " 27%|██▋       | 8/30 [03:57<09:56, 27.13s/it, best loss: -0.7651160904938238]"
     ]
    },
    {
     "name": "stderr",
     "output_type": "stream",
     "text": [
      "[Parallel(n_jobs=24)]: Done  24 out of  24 | elapsed:    3.4s finished\n",
      "\n"
     ]
    },
    {
     "name": "stdout",
     "output_type": "stream",
     "text": [
      "score:                                                                        \n",
      "-0.0                                                                          \n",
      "chosen values:                                                                \n",
      "{'ahpthr': 3.0, 'clustering_alpha': 3.202896968411672, 'clustering_bandwidth': 6.819185296409914, 'detection_threshold': 31.0, 'maa': 1.0, 'probe_event_length': 0.25100460731489027, 'probe_inner_radius': 75.0, 'probe_neighbor_radius': 75.0}\n",
      "Clustering spikes with parameters: {'ahpthr': 3.0, 'clustering_alpha': 3.202896968411672, 'clustering_bandwidth': 6.819185296409914, 'detection_threshold': 31.0, 'maa': 1.0, 'probe_event_length': 0.25100460731489027, 'probe_inner_radius': 75.0, 'probe_neighbor_radius': 75.0}\n",
      " 30%|███       | 9/30 [04:02<09:13, 26.35s/it, best loss: -0.7651160904938238]"
     ]
    },
    {
     "name": "stderr",
     "output_type": "stream",
     "text": [
      "/disk/scratch/mhennig/miniconda3/envs/spikesorting/lib/python3.7/site-packages/spiketoolkit/comparison/groundtruthcomparison.py:333: RuntimeWarning: invalid value encountered in long_scalars\n",
      "  perf['precision'] = tp / (tp + fp)\n",
      "\n",
      "/disk/scratch/mhennig/miniconda3/envs/spikesorting/lib/python3.7/site-packages/spiketoolkit/comparison/groundtruthcomparison.py:334: RuntimeWarning: invalid value encountered in long_scalars\n",
      "  perf['false_discovery_rate'] = fp / (tp + fp)\n",
      "\n"
     ]
    },
    {
     "name": "stdout",
     "output_type": "stream",
     "text": [
      "# Generating new position and neighbor files from data file                   \n",
      "# Not Masking any Channels                                                    \n",
      "# Sampling rate: 32000                                                        \n",
      "# Localization On                                                             \n",
      "# Number of recorded channels: 30                                             \n",
      "# Analysing frames: 9600000; Seconds: 300.0                                   \n",
      "# Frames before spike in cutout: 6                                            \n",
      "# Frames after spike in cutout: 32                                            \n",
      "# tcuts: 51 77                                                                \n",
      "# tInc: 1000000                                                               \n",
      "# Analysing frames from -51 to 1000077  (0.0%)                                \n",
      "# Analysing frames from 999949 to 2000077  (10.4%)                            \n",
      "# Analysing frames from 1999949 to 3000077  (20.8%)                           \n",
      "# Analysing frames from 2999949 to 4000077  (31.2%)                           \n",
      "# Analysing frames from 3999949 to 5000077  (41.7%)                           \n",
      "# Analysing frames from 4999949 to 6000077  (52.1%)                           \n",
      "# Analysing frames from 5999949 to 7000077  (62.5%)                           \n",
      "# Analysing frames from 6999949 to 8000077  (72.9%)                           \n",
      "# Analysing frames from 7999949 to 9000077  (83.3%)                           \n",
      "# Analysing frames from 8999949 to 9600000  (93.8%)                           \n",
      "# Detection completed, time taken: 0:00:15.619142                             \n",
      "# Time per frame: 0:00:00.001627                                              \n",
      "# Time per sample: 0:00:00.000054                                             \n",
      "Loaded 11376 spikes.                                                          \n",
      "Fitting dimensionality reduction using all spikes...                          \n",
      "...projecting...                                                              \n",
      "...done                                                                       \n",
      "Clustering...                                                                 \n",
      "Clustering 11376 spikes...                                                    \n",
      "number of seeds: 75                                                           \n",
      "seeds/job: 4                                                                  \n",
      "using 24 cpus                                                                 \n",
      " 30%|███       | 9/30 [04:19<09:13, 26.35s/it, best loss: -0.7651160904938238]"
     ]
    },
    {
     "name": "stderr",
     "output_type": "stream",
     "text": [
      "[Parallel(n_jobs=24)]: Using backend LokyBackend with 24 concurrent workers.\n",
      "\n",
      "[Parallel(n_jobs=24)]: Done   3 out of  24 | elapsed:    3.2s remaining:   22.6s\n",
      "\n",
      "[Parallel(n_jobs=24)]: Done  16 out of  24 | elapsed:    3.3s remaining:    1.6s\n",
      "\n"
     ]
    },
    {
     "name": "stdout",
     "output_type": "stream",
     "text": [
      "Number of estimated units:                                                    \n",
      "8                                                                             \n",
      "Saving to                                                                     \n",
      "/disk/scratch/mhennig/spikeinterface/spikeoptimizer-develop/optimization_9/HS2_sorted.hdf5\n",
      "Warning: sampling frequency information not found. Setting delta_frames to 10.\n",
      " 30%|███       | 9/30 [04:23<09:13, 26.35s/it, best loss: -0.7651160904938238]"
     ]
    },
    {
     "name": "stderr",
     "output_type": "stream",
     "text": [
      "[Parallel(n_jobs=24)]: Done  24 out of  24 | elapsed:    3.4s finished\n",
      "\n"
     ]
    },
    {
     "name": "stdout",
     "output_type": "stream",
     "text": [
      "score:                                                                        \n",
      "-0.2205560579980745                                                           \n",
      "chosen values:                                                                 \n",
      "{'ahpthr': -30.0, 'clustering_alpha': 7.338731108679575, 'clustering_bandwidth': 12.899579301426353, 'detection_threshold': 13.0, 'maa': 4.0, 'probe_event_length': 0.23956460970132054, 'probe_inner_radius': 82.0, 'probe_neighbor_radius': 99.0}\n",
      "Clustering spikes with parameters: {'ahpthr': -30.0, 'clustering_alpha': 7.338731108679575, 'clustering_bandwidth': 12.899579301426353, 'detection_threshold': 13.0, 'maa': 4.0, 'probe_event_length': 0.23956460970132054, 'probe_inner_radius': 82.0, 'probe_neighbor_radius': 99.0}\n",
      "# Generating new position and neighbor files from data file                    \n",
      "# Not Masking any Channels                                                     \n",
      "# Sampling rate: 32000                                                         \n",
      "# Localization On                                                              \n",
      "# Number of recorded channels: 30                                              \n",
      "# Analysing frames: 9600000; Seconds: 300.0                                    \n",
      "# Frames before spike in cutout: 6                                             \n",
      "# Frames after spike in cutout: 32                                             \n",
      "# tcuts: 51 77                                                                 \n",
      "# tInc: 1000000                                                                \n",
      "# Analysing frames from -51 to 1000077  (0.0%)                                 \n",
      "# Analysing frames from 999949 to 2000077  (10.4%)                             \n",
      "# Analysing frames from 1999949 to 3000077  (20.8%)                            \n",
      "# Analysing frames from 2999949 to 4000077  (31.2%)                            \n",
      "# Analysing frames from 3999949 to 5000077  (41.7%)                            \n",
      "# Analysing frames from 4999949 to 6000077  (52.1%)                            \n",
      "# Analysing frames from 5999949 to 7000077  (62.5%)                            \n",
      "# Analysing frames from 6999949 to 8000077  (72.9%)                            \n",
      "# Analysing frames from 7999949 to 9000077  (83.3%)                            \n",
      "# Analysing frames from 8999949 to 9600000  (93.8%)                            \n",
      "# Detection completed, time taken: 0:00:14.647824                              \n",
      "# Time per frame: 0:00:00.001526                                               \n",
      "# Time per sample: 0:00:00.000051                                              \n",
      "Loaded 0 spikes.                                                               \n",
      "Saving to                                                                      \n",
      "/disk/scratch/mhennig/spikeinterface/spikeoptimizer-develop/optimization_10/HS2_sorted.hdf5\n",
      "sorter found no units                                                          \n",
      "score:                                                                         \n",
      "0                                                                              \n",
      "chosen values:                                                                 \n",
      "{'ahpthr': 6.0, 'clustering_alpha': 5.005623046843977, 'clustering_bandwidth': 3.7229666701983257, 'detection_threshold': 15.0, 'maa': 7.0, 'probe_event_length': 0.18807358815554898, 'probe_inner_radius': 77.0, 'probe_neighbor_radius': 98.0}\n",
      "Clustering spikes with parameters: {'ahpthr': 6.0, 'clustering_alpha': 5.005623046843977, 'clustering_bandwidth': 3.7229666701983257, 'detection_threshold': 15.0, 'maa': 7.0, 'probe_event_length': 0.18807358815554898, 'probe_inner_radius': 77.0, 'probe_neighbor_radius': 98.0}\n",
      " 37%|███▋      | 11/30 [04:44<07:19, 23.13s/it, best loss: -0.7651160904938238]"
     ]
    },
    {
     "name": "stderr",
     "output_type": "stream",
     "text": [
      "/disk/scratch/mhennig/miniconda3/envs/spikesorting/lib/python3.7/site-packages/herdingspikes/hs2.py:164: UserWarning: Loading an empty file /disk/scratch/mhennig/spikeinterface/spikeoptimizer-develop/optimization_10/HS2_detected.bin . This usually happens when no spikes weredetected due to the detection parameters being set too strictly\n",
      "  \"strictly\".format(file_name)\n",
      "\n"
     ]
    },
    {
     "name": "stdout",
     "output_type": "stream",
     "text": [
      "# Generating new position and neighbor files from data file                    \n",
      "# Not Masking any Channels                                                     \n",
      "# Sampling rate: 32000                                                         \n",
      "# Localization On                                                              \n",
      "# Number of recorded channels: 30                                              \n",
      "# Analysing frames: 9600000; Seconds: 300.0                                    \n",
      "# Frames before spike in cutout: 6                                             \n",
      "# Frames after spike in cutout: 32                                             \n",
      "# tcuts: 51 77                                                                 \n",
      "# tInc: 1000000                                                                \n",
      "# Analysing frames from -51 to 1000077  (0.0%)                                 \n",
      "# Analysing frames from 999949 to 2000077  (10.4%)                             \n",
      "# Analysing frames from 1999949 to 3000077  (20.8%)                            \n",
      "# Analysing frames from 2999949 to 4000077  (31.2%)                            \n",
      "# Analysing frames from 3999949 to 5000077  (41.7%)                            \n",
      "# Analysing frames from 4999949 to 6000077  (52.1%)                            \n",
      "# Analysing frames from 5999949 to 7000077  (62.5%)                            \n",
      "# Analysing frames from 6999949 to 8000077  (72.9%)                            \n",
      "# Analysing frames from 7999949 to 9000077  (83.3%)                            \n",
      "# Analysing frames from 8999949 to 9600000  (93.8%)                            \n",
      "# Detection completed, time taken: 0:00:15.822689                              \n",
      "# Time per frame: 0:00:00.001648                                               \n",
      "# Time per sample: 0:00:00.000055                                              \n",
      "Loaded 33868 spikes.                                                           \n",
      "Fitting dimensionality reduction using all spikes...                           \n",
      "...projecting...                                                               \n",
      "...done                                                                        \n",
      "Clustering...                                                                  \n",
      "Clustering 33868 spikes...                                                     \n",
      "number of seeds: 587                                                           \n",
      "seeds/job: 25                                                                  \n",
      "using 24 cpus                                                                  \n",
      " 37%|███▋      | 11/30 [05:01<07:19, 23.13s/it, best loss: -0.7651160904938238]"
     ]
    },
    {
     "name": "stderr",
     "output_type": "stream",
     "text": [
      "[Parallel(n_jobs=24)]: Using backend LokyBackend with 24 concurrent workers.\n",
      "\n",
      "[Parallel(n_jobs=24)]: Done   3 out of  24 | elapsed:    3.9s remaining:   27.1s\n",
      "\n",
      "[Parallel(n_jobs=24)]: Done  16 out of  24 | elapsed:    4.0s remaining:    2.0s\n",
      "\n"
     ]
    },
    {
     "name": "stdout",
     "output_type": "stream",
     "text": [
      "Number of estimated units:                                                     \n",
      "22                                                                             \n",
      "Saving to                                                                      \n",
      "/disk/scratch/mhennig/spikeinterface/spikeoptimizer-develop/optimization_11/HS2_sorted.hdf5\n",
      "Warning: sampling frequency information not found. Setting delta_frames to 10. \n",
      " 37%|███▋      | 11/30 [05:06<07:19, 23.13s/it, best loss: -0.7651160904938238]"
     ]
    },
    {
     "name": "stderr",
     "output_type": "stream",
     "text": [
      "[Parallel(n_jobs=24)]: Done  24 out of  24 | elapsed:    4.1s finished\n",
      "\n"
     ]
    },
    {
     "name": "stdout",
     "output_type": "stream",
     "text": [
      "score:                                                                         \n",
      "-0.7594016263772863                                                            \n",
      "chosen values:                                                                 \n",
      "{'ahpthr': -16.0, 'clustering_alpha': 5.602312239308324, 'clustering_bandwidth': 13.655805369288757, 'detection_threshold': 26.0, 'maa': 2.0, 'probe_event_length': 0.2927287891018084, 'probe_inner_radius': 77.0, 'probe_neighbor_radius': 71.0}\n",
      "Clustering spikes with parameters: {'ahpthr': -16.0, 'clustering_alpha': 5.602312239308324, 'clustering_bandwidth': 13.655805369288757, 'detection_threshold': 26.0, 'maa': 2.0, 'probe_event_length': 0.2927287891018084, 'probe_inner_radius': 77.0, 'probe_neighbor_radius': 71.0}\n",
      "# Generating new position and neighbor files from data file                    \n",
      "# Not Masking any Channels                                                     \n",
      "# Sampling rate: 32000                                                         \n",
      "# Localization On                                                              \n",
      "# Number of recorded channels: 30                                              \n",
      "# Analysing frames: 9600000; Seconds: 300.0                                    \n",
      "# Frames before spike in cutout: 6                                             \n",
      "# Frames after spike in cutout: 32                                             \n",
      "# tcuts: 51 77                                                                 \n",
      "# tInc: 1000000                                                                \n",
      "# Analysing frames from -51 to 1000077  (0.0%)                                 \n",
      "# Analysing frames from 999949 to 2000077  (10.4%)                             \n",
      "# Analysing frames from 1999949 to 3000077  (20.8%)                            \n",
      "# Analysing frames from 2999949 to 4000077  (31.2%)                            \n",
      "# Analysing frames from 3999949 to 5000077  (41.7%)                            \n",
      "# Analysing frames from 4999949 to 6000077  (52.1%)                            \n",
      "# Analysing frames from 5999949 to 7000077  (62.5%)                            \n",
      "# Analysing frames from 6999949 to 8000077  (72.9%)                            \n",
      "# Analysing frames from 7999949 to 9000077  (83.3%)                            \n",
      "# Analysing frames from 8999949 to 9600000  (93.8%)                            \n",
      "# Detection completed, time taken: 0:00:14.204339                              \n",
      "# Time per frame: 0:00:00.001480                                               \n",
      "# Time per sample: 0:00:00.000049                                              \n",
      "Loaded 73 spikes.                                                              \n",
      "Fitting dimensionality reduction using all spikes...                           \n",
      "...projecting...                                                               \n",
      "...done                                                                        \n",
      "Clustering...                                                                  \n",
      "Clustering 73 spikes...                                                        \n",
      "number of seeds: 2                                                             \n",
      "seeds/job: 1                                                                   \n",
      "using 24 cpus                                                                  \n",
      " 40%|████      | 12/30 [05:29<07:32, 25.12s/it, best loss: -0.7651160904938238]"
     ]
    },
    {
     "name": "stderr",
     "output_type": "stream",
     "text": [
      "[Parallel(n_jobs=24)]: Using backend LokyBackend with 24 concurrent workers.\n",
      "\n",
      "[Parallel(n_jobs=24)]: Done   3 out of  24 | elapsed:    3.4s remaining:   24.1s\n",
      "\n",
      "[Parallel(n_jobs=24)]: Done  16 out of  24 | elapsed:    3.5s remaining:    1.8s\n",
      "\n"
     ]
    },
    {
     "name": "stdout",
     "output_type": "stream",
     "text": [
      "Number of estimated units:                                                     \n",
      "2                                                                              \n",
      "Saving to                                                                      \n",
      "/disk/scratch/mhennig/spikeinterface/spikeoptimizer-develop/optimization_12/HS2_sorted.hdf5\n",
      "Warning: sampling frequency information not found. Setting delta_frames to 10. \n",
      " 40%|████      | 12/30 [05:34<07:32, 25.12s/it, best loss: -0.7651160904938238]"
     ]
    },
    {
     "name": "stderr",
     "output_type": "stream",
     "text": [
      "[Parallel(n_jobs=24)]: Done  24 out of  24 | elapsed:    3.7s finished\n",
      "\n"
     ]
    },
    {
     "name": "stdout",
     "output_type": "stream",
     "text": [
      "score:                                                                         \n",
      "-0.0                                                                           \n",
      "chosen values:                                                                 \n",
      "{'ahpthr': -27.0, 'clustering_alpha': 6.208871434133243, 'clustering_bandwidth': 14.883427879345117, 'detection_threshold': 16.0, 'maa': 3.0, 'probe_event_length': 0.2505863880826282, 'probe_inner_radius': 72.0, 'probe_neighbor_radius': 96.0}\n",
      "Clustering spikes with parameters: {'ahpthr': -27.0, 'clustering_alpha': 6.208871434133243, 'clustering_bandwidth': 14.883427879345117, 'detection_threshold': 16.0, 'maa': 3.0, 'probe_event_length': 0.2505863880826282, 'probe_inner_radius': 72.0, 'probe_neighbor_radius': 96.0}\n",
      " 43%|████▎     | 13/30 [05:39<07:04, 24.96s/it, best loss: -0.7651160904938238]"
     ]
    },
    {
     "name": "stderr",
     "output_type": "stream",
     "text": [
      "/disk/scratch/mhennig/miniconda3/envs/spikesorting/lib/python3.7/site-packages/spiketoolkit/comparison/groundtruthcomparison.py:333: RuntimeWarning: invalid value encountered in long_scalars\n",
      "  perf['precision'] = tp / (tp + fp)\n",
      "\n",
      "/disk/scratch/mhennig/miniconda3/envs/spikesorting/lib/python3.7/site-packages/spiketoolkit/comparison/groundtruthcomparison.py:334: RuntimeWarning: invalid value encountered in long_scalars\n",
      "  perf['false_discovery_rate'] = fp / (tp + fp)\n",
      "\n"
     ]
    },
    {
     "name": "stdout",
     "output_type": "stream",
     "text": [
      "# Generating new position and neighbor files from data file                    \n",
      "# Not Masking any Channels                                                     \n",
      "# Sampling rate: 32000                                                         \n",
      "# Localization On                                                              \n",
      "# Number of recorded channels: 30                                              \n",
      "# Analysing frames: 9600000; Seconds: 300.0                                    \n",
      "# Frames before spike in cutout: 6                                             \n",
      "# Frames after spike in cutout: 32                                             \n",
      "# tcuts: 51 77                                                                 \n",
      "# tInc: 1000000                                                                \n",
      "# Analysing frames from -51 to 1000077  (0.0%)                                 \n",
      "# Analysing frames from 999949 to 2000077  (10.4%)                             \n",
      "# Analysing frames from 1999949 to 3000077  (20.8%)                            \n",
      "# Analysing frames from 2999949 to 4000077  (31.2%)                            \n",
      "# Analysing frames from 3999949 to 5000077  (41.7%)                            \n",
      "# Analysing frames from 4999949 to 6000077  (52.1%)                            \n",
      "# Analysing frames from 5999949 to 7000077  (62.5%)                            \n",
      "# Analysing frames from 6999949 to 8000077  (72.9%)                            \n",
      "# Analysing frames from 7999949 to 9000077  (83.3%)                            \n",
      "# Analysing frames from 8999949 to 9600000  (93.8%)                            \n",
      "# Detection completed, time taken: 0:00:14.419807                              \n",
      "# Time per frame: 0:00:00.001502                                               \n",
      "# Time per sample: 0:00:00.000050                                              \n",
      "Loaded 0 spikes.                                                               \n",
      "Saving to                                                                      \n",
      "/disk/scratch/mhennig/spikeinterface/spikeoptimizer-develop/optimization_13/HS2_sorted.hdf5\n",
      "sorter found no units                                                          \n",
      "score:                                                                         \n",
      "0                                                                              \n",
      "chosen values:                                                                 \n",
      "{'ahpthr': 15.0, 'clustering_alpha': 9.382182361396822, 'clustering_bandwidth': 9.198106615526248, 'detection_threshold': 15.0, 'maa': 8.0, 'probe_event_length': 0.2787244351894477, 'probe_inner_radius': 77.0, 'probe_neighbor_radius': 98.0}\n",
      "Clustering spikes with parameters: {'ahpthr': 15.0, 'clustering_alpha': 9.382182361396822, 'clustering_bandwidth': 9.198106615526248, 'detection_threshold': 15.0, 'maa': 8.0, 'probe_event_length': 0.2787244351894477, 'probe_inner_radius': 77.0, 'probe_neighbor_radius': 98.0}\n",
      " 47%|████▋     | 14/30 [05:54<05:54, 22.18s/it, best loss: -0.7651160904938238]"
     ]
    },
    {
     "name": "stderr",
     "output_type": "stream",
     "text": [
      "/disk/scratch/mhennig/miniconda3/envs/spikesorting/lib/python3.7/site-packages/herdingspikes/hs2.py:164: UserWarning: Loading an empty file /disk/scratch/mhennig/spikeinterface/spikeoptimizer-develop/optimization_13/HS2_detected.bin . This usually happens when no spikes weredetected due to the detection parameters being set too strictly\n",
      "  \"strictly\".format(file_name)\n",
      "\n"
     ]
    },
    {
     "name": "stdout",
     "output_type": "stream",
     "text": [
      "# Generating new position and neighbor files from data file                    \n",
      "# Not Masking any Channels                                                     \n",
      "# Sampling rate: 32000                                                         \n",
      "# Localization On                                                              \n",
      "# Number of recorded channels: 30                                              \n",
      "# Analysing frames: 9600000; Seconds: 300.0                                    \n",
      "# Frames before spike in cutout: 6                                             \n",
      "# Frames after spike in cutout: 32                                             \n",
      "# tcuts: 51 77                                                                 \n",
      "# tInc: 1000000                                                                \n",
      "# Analysing frames from -51 to 1000077  (0.0%)                                 \n",
      "# Analysing frames from 999949 to 2000077  (10.4%)                             \n",
      "# Analysing frames from 1999949 to 3000077  (20.8%)                            \n",
      "# Analysing frames from 2999949 to 4000077  (31.2%)                            \n",
      "# Analysing frames from 3999949 to 5000077  (41.7%)                            \n",
      "# Analysing frames from 4999949 to 6000077  (52.1%)                            \n",
      "# Analysing frames from 5999949 to 7000077  (62.5%)                            \n",
      "# Analysing frames from 6999949 to 8000077  (72.9%)                            \n",
      "# Analysing frames from 7999949 to 9000077  (83.3%)                            \n",
      "# Analysing frames from 8999949 to 9600000  (93.8%)                            \n",
      "# Detection completed, time taken: 0:00:15.603095                              \n",
      "# Time per frame: 0:00:00.001625                                               \n",
      "# Time per sample: 0:00:00.000054                                              \n",
      "Loaded 33457 spikes.                                                           \n",
      "Fitting dimensionality reduction using all spikes...                           \n",
      "...projecting...                                                               \n",
      "...done                                                                        \n",
      "Clustering...                                                                  \n",
      "Clustering 33457 spikes...                                                     \n",
      "number of seeds: 334                                                           \n",
      "seeds/job: 14                                                                  \n",
      "using 24 cpus                                                                  \n",
      " 47%|████▋     | 14/30 [06:11<05:54, 22.18s/it, best loss: -0.7651160904938238]"
     ]
    },
    {
     "name": "stderr",
     "output_type": "stream",
     "text": [
      "[Parallel(n_jobs=24)]: Using backend LokyBackend with 24 concurrent workers.\n",
      "\n",
      "[Parallel(n_jobs=24)]: Done   3 out of  24 | elapsed:    3.6s remaining:   25.5s\n",
      "\n",
      "[Parallel(n_jobs=24)]: Done  16 out of  24 | elapsed:    3.7s remaining:    1.9s\n",
      "\n"
     ]
    },
    {
     "name": "stdout",
     "output_type": "stream",
     "text": [
      "Number of estimated units:                                                     \n",
      "15                                                                             \n",
      "Saving to                                                                      \n",
      "/disk/scratch/mhennig/spikeinterface/spikeoptimizer-develop/optimization_14/HS2_sorted.hdf5\n",
      "Warning: sampling frequency information not found. Setting delta_frames to 10. \n",
      " 47%|████▋     | 14/30 [06:16<05:54, 22.18s/it, best loss: -0.7651160904938238]"
     ]
    },
    {
     "name": "stderr",
     "output_type": "stream",
     "text": [
      "[Parallel(n_jobs=24)]: Done  24 out of  24 | elapsed:    3.9s finished\n",
      "\n"
     ]
    },
    {
     "name": "stdout",
     "output_type": "stream",
     "text": [
      "score:                                                                         \n",
      "-0.6189351596735679                                                            \n",
      "chosen values:                                                                 \n",
      "{'ahpthr': 14.0, 'clustering_alpha': 6.015951036392231, 'clustering_bandwidth': 8.366928587183008, 'detection_threshold': 23.0, 'maa': 2.0, 'probe_event_length': 0.29144481738669553, 'probe_inner_radius': 60.0, 'probe_neighbor_radius': 89.0}\n",
      "Clustering spikes with parameters: {'ahpthr': 14.0, 'clustering_alpha': 6.015951036392231, 'clustering_bandwidth': 8.366928587183008, 'detection_threshold': 23.0, 'maa': 2.0, 'probe_event_length': 0.29144481738669553, 'probe_inner_radius': 60.0, 'probe_neighbor_radius': 89.0}\n",
      "# Generating new position and neighbor files from data file                    \n",
      "# Not Masking any Channels                                                     \n",
      "# Sampling rate: 32000                                                         \n",
      "# Localization On                                                              \n",
      "# Number of recorded channels: 30                                              \n",
      "# Analysing frames: 9600000; Seconds: 300.0                                    \n",
      "# Frames before spike in cutout: 6                                             \n",
      "# Frames after spike in cutout: 32                                             \n",
      "# tcuts: 51 77                                                                 \n",
      "# tInc: 1000000                                                                \n",
      "# Analysing frames from -51 to 1000077  (0.0%)                                 \n",
      "# Analysing frames from 999949 to 2000077  (10.4%)                             \n",
      "# Analysing frames from 1999949 to 3000077  (20.8%)                            \n",
      "# Analysing frames from 2999949 to 4000077  (31.2%)                            \n",
      "# Analysing frames from 3999949 to 5000077  (41.7%)                            \n",
      "# Analysing frames from 4999949 to 6000077  (52.1%)                            \n",
      "# Analysing frames from 5999949 to 7000077  (62.5%)                            \n",
      "# Analysing frames from 6999949 to 8000077  (72.9%)                            \n",
      "# Analysing frames from 7999949 to 9000077  (83.3%)                            \n",
      "# Analysing frames from 8999949 to 9600000  (93.8%)                            \n",
      "# Detection completed, time taken: 0:00:15.554253                              \n",
      "# Time per frame: 0:00:00.001620                                               \n",
      "# Time per sample: 0:00:00.000054                                              \n",
      "Loaded 20460 spikes.                                                           \n",
      "Fitting dimensionality reduction using all spikes...                           \n",
      "...projecting...                                                               \n",
      "...done                                                                        \n",
      "Clustering...                                                                  \n",
      "Clustering 20460 spikes...                                                     \n",
      "number of seeds: 180                                                           \n",
      "seeds/job: 8                                                                   \n",
      "using 24 cpus                                                                  \n",
      " 50%|█████     | 15/30 [06:39<05:58, 23.89s/it, best loss: -0.7651160904938238]"
     ]
    },
    {
     "name": "stderr",
     "output_type": "stream",
     "text": [
      "[Parallel(n_jobs=24)]: Using backend LokyBackend with 24 concurrent workers.\n",
      "\n",
      "[Parallel(n_jobs=24)]: Done   3 out of  24 | elapsed:    3.6s remaining:   25.1s\n",
      "\n",
      "[Parallel(n_jobs=24)]: Done  16 out of  24 | elapsed:    3.7s remaining:    1.8s\n",
      "\n"
     ]
    },
    {
     "name": "stdout",
     "output_type": "stream",
     "text": [
      "Number of estimated units:                                                     \n",
      "12                                                                             \n",
      "Saving to                                                                      \n",
      "/disk/scratch/mhennig/spikeinterface/spikeoptimizer-develop/optimization_15/HS2_sorted.hdf5\n",
      "Warning: sampling frequency information not found. Setting delta_frames to 10. \n",
      " 50%|█████     | 15/30 [06:44<05:58, 23.89s/it, best loss: -0.7651160904938238]"
     ]
    },
    {
     "name": "stderr",
     "output_type": "stream",
     "text": [
      "[Parallel(n_jobs=24)]: Done  24 out of  24 | elapsed:    3.8s finished\n",
      "\n"
     ]
    },
    {
     "name": "stdout",
     "output_type": "stream",
     "text": [
      "score:                                                                         \n",
      "-0.3514830327378408                                                            \n",
      "chosen values:                                                                 \n",
      "{'ahpthr': 27.0, 'clustering_alpha': 6.8536399338156615, 'clustering_bandwidth': 9.363855319641047, 'detection_threshold': 14.0, 'maa': 8.0, 'probe_event_length': 0.15130917621315235, 'probe_inner_radius': 73.0, 'probe_neighbor_radius': 81.0}\n",
      "Clustering spikes with parameters: {'ahpthr': 27.0, 'clustering_alpha': 6.8536399338156615, 'clustering_bandwidth': 9.363855319641047, 'detection_threshold': 14.0, 'maa': 8.0, 'probe_event_length': 0.15130917621315235, 'probe_inner_radius': 73.0, 'probe_neighbor_radius': 81.0}\n",
      "# Generating new position and neighbor files from data file                    \n",
      "# Not Masking any Channels                                                     \n",
      "# Sampling rate: 32000                                                         \n",
      "# Localization On                                                              \n",
      "# Number of recorded channels: 30                                              \n",
      "# Analysing frames: 9600000; Seconds: 300.0                                    \n",
      "# Frames before spike in cutout: 6                                             \n",
      "# Frames after spike in cutout: 32                                             \n",
      "# tcuts: 51 77                                                                 \n",
      "# tInc: 1000000                                                                \n",
      "# Analysing frames from -51 to 1000077  (0.0%)                                 \n",
      "# Analysing frames from 999949 to 2000077  (10.4%)                             \n",
      "# Analysing frames from 1999949 to 3000077  (20.8%)                            \n",
      "# Analysing frames from 2999949 to 4000077  (31.2%)                            \n",
      "# Analysing frames from 3999949 to 5000077  (41.7%)                            \n",
      "# Analysing frames from 4999949 to 6000077  (52.1%)                            \n",
      "# Analysing frames from 5999949 to 7000077  (62.5%)                            \n",
      "# Analysing frames from 6999949 to 8000077  (72.9%)                            \n",
      "# Analysing frames from 7999949 to 9000077  (83.3%)                            \n",
      "# Analysing frames from 8999949 to 9600000  (93.8%)                            \n",
      "# Detection completed, time taken: 0:00:16.485666                              \n",
      "# Time per frame: 0:00:00.001717                                               \n",
      "# Time per sample: 0:00:00.000057                                              \n",
      "Loaded 35251 spikes.                                                           \n",
      "Fitting dimensionality reduction using all spikes...                           \n",
      "...projecting...                                                               \n",
      "...done                                                                        \n",
      "Clustering...                                                                  \n",
      "Clustering 35251 spikes...                                                     \n",
      "number of seeds: 300                                                           \n",
      "seeds/job: 13                                                                  \n",
      "using 24 cpus                                                                  \n",
      " 53%|█████▎    | 16/30 [07:07<05:48, 24.87s/it, best loss: -0.7651160904938238]"
     ]
    },
    {
     "name": "stderr",
     "output_type": "stream",
     "text": [
      "[Parallel(n_jobs=24)]: Using backend LokyBackend with 24 concurrent workers.\n",
      "\n",
      "[Parallel(n_jobs=24)]: Done   3 out of  24 | elapsed:    3.8s remaining:   26.7s\n",
      "\n",
      "[Parallel(n_jobs=24)]: Done  16 out of  24 | elapsed:    4.0s remaining:    2.0s\n",
      "\n"
     ]
    },
    {
     "name": "stdout",
     "output_type": "stream",
     "text": [
      "Number of estimated units:                                                     \n",
      "15                                                                             \n",
      "Saving to                                                                      \n",
      "/disk/scratch/mhennig/spikeinterface/spikeoptimizer-develop/optimization_16/HS2_sorted.hdf5\n",
      "Warning: sampling frequency information not found. Setting delta_frames to 10. \n",
      " 53%|█████▎    | 16/30 [07:12<05:48, 24.87s/it, best loss: -0.7651160904938238]"
     ]
    },
    {
     "name": "stderr",
     "output_type": "stream",
     "text": [
      "[Parallel(n_jobs=24)]: Done  24 out of  24 | elapsed:    4.1s finished\n",
      "\n"
     ]
    },
    {
     "name": "stdout",
     "output_type": "stream",
     "text": [
      "score:                                                                         \n",
      "-0.5593542494631087                                                            \n",
      "chosen values:                                                                 \n",
      "{'ahpthr': 12.0, 'clustering_alpha': 9.593696763037475, 'clustering_bandwidth': 9.152317179897045, 'detection_threshold': 24.0, 'maa': 2.0, 'probe_event_length': 0.2799316956533868, 'probe_inner_radius': 76.0, 'probe_neighbor_radius': 79.0}\n",
      "Clustering spikes with parameters: {'ahpthr': 12.0, 'clustering_alpha': 9.593696763037475, 'clustering_bandwidth': 9.152317179897045, 'detection_threshold': 24.0, 'maa': 2.0, 'probe_event_length': 0.2799316956533868, 'probe_inner_radius': 76.0, 'probe_neighbor_radius': 79.0}\n",
      "# Generating new position and neighbor files from data file                    \n",
      "# Not Masking any Channels                                                     \n",
      "# Sampling rate: 32000                                                         \n",
      "# Localization On                                                              \n",
      "# Number of recorded channels: 30                                              \n",
      "# Analysing frames: 9600000; Seconds: 300.0                                    \n",
      "# Frames before spike in cutout: 6                                             \n",
      "# Frames after spike in cutout: 32                                             \n",
      "# tcuts: 51 77                                                                 \n",
      "# tInc: 1000000                                                                \n",
      "# Analysing frames from -51 to 1000077  (0.0%)                                 \n",
      "# Analysing frames from 999949 to 2000077  (10.4%)                             \n",
      "# Analysing frames from 1999949 to 3000077  (20.8%)                            \n",
      "# Analysing frames from 2999949 to 4000077  (31.2%)                            \n",
      "# Analysing frames from 3999949 to 5000077  (41.7%)                            \n",
      "# Analysing frames from 4999949 to 6000077  (52.1%)                            \n",
      "# Analysing frames from 5999949 to 7000077  (62.5%)                            \n",
      "# Analysing frames from 6999949 to 8000077  (72.9%)                            \n",
      "# Analysing frames from 7999949 to 9000077  (83.3%)                            \n",
      "# Analysing frames from 8999949 to 9600000  (93.8%)                            \n",
      "# Detection completed, time taken: 0:00:15.036711                              \n",
      "# Time per frame: 0:00:00.001566                                               \n",
      "# Time per sample: 0:00:00.000052                                              \n",
      "Loaded 18639 spikes.                                                           \n",
      "Fitting dimensionality reduction using all spikes...                           \n",
      "...projecting...                                                               \n",
      "...done                                                                        \n",
      "Clustering...                                                                  \n",
      "Clustering 18639 spikes...                                                     \n",
      "number of seeds: 195                                                           \n",
      "seeds/job: 9                                                                   \n",
      "using 24 cpus                                                                  \n",
      " 57%|█████▋    | 17/30 [07:40<06:01, 27.83s/it, best loss: -0.7651160904938238]"
     ]
    },
    {
     "name": "stderr",
     "output_type": "stream",
     "text": [
      "[Parallel(n_jobs=24)]: Using backend LokyBackend with 24 concurrent workers.\n",
      "\n",
      "[Parallel(n_jobs=24)]: Done   3 out of  24 | elapsed:    3.9s remaining:   27.5s\n",
      "\n",
      "[Parallel(n_jobs=24)]: Done  16 out of  24 | elapsed:    4.0s remaining:    2.0s\n",
      "\n"
     ]
    },
    {
     "name": "stdout",
     "output_type": "stream",
     "text": [
      "Number of estimated units:                                                     \n",
      "13                                                                             \n",
      "Saving to                                                                      \n",
      "/disk/scratch/mhennig/spikeinterface/spikeoptimizer-develop/optimization_17/HS2_sorted.hdf5\n",
      "Warning: sampling frequency information not found. Setting delta_frames to 10. \n",
      " 57%|█████▋    | 17/30 [07:45<06:01, 27.83s/it, best loss: -0.7651160904938238]"
     ]
    },
    {
     "name": "stderr",
     "output_type": "stream",
     "text": [
      "[Parallel(n_jobs=24)]: Done  24 out of  24 | elapsed:    4.2s finished\n",
      "\n"
     ]
    },
    {
     "name": "stdout",
     "output_type": "stream",
     "text": [
      "score:                                                                         \n",
      "-0.3750927670263173                                                            \n",
      "chosen values:                                                                 \n",
      "{'ahpthr': 8.0, 'clustering_alpha': 4.190315845234734, 'clustering_bandwidth': 6.441534267571948, 'detection_threshold': 22.0, 'maa': 9.0, 'probe_event_length': 0.1905680155228301, 'probe_inner_radius': 65.0, 'probe_neighbor_radius': 93.0}\n",
      "Clustering spikes with parameters: {'ahpthr': 8.0, 'clustering_alpha': 4.190315845234734, 'clustering_bandwidth': 6.441534267571948, 'detection_threshold': 22.0, 'maa': 9.0, 'probe_event_length': 0.1905680155228301, 'probe_inner_radius': 65.0, 'probe_neighbor_radius': 93.0}\n",
      "# Generating new position and neighbor files from data file                    \n",
      "# Not Masking any Channels                                                     \n",
      "# Sampling rate: 32000                                                         \n",
      "# Localization On                                                              \n",
      "# Number of recorded channels: 30                                              \n",
      "# Analysing frames: 9600000; Seconds: 300.0                                    \n",
      "# Frames before spike in cutout: 6                                             \n",
      "# Frames after spike in cutout: 32                                             \n",
      "# tcuts: 51 77                                                                 \n",
      "# tInc: 1000000                                                                \n",
      "# Analysing frames from -51 to 1000077  (0.0%)                                 \n",
      "# Analysing frames from 999949 to 2000077  (10.4%)                             \n",
      "# Analysing frames from 1999949 to 3000077  (20.8%)                            \n",
      "# Analysing frames from 2999949 to 4000077  (31.2%)                            \n",
      "# Analysing frames from 3999949 to 5000077  (41.7%)                            \n",
      "# Analysing frames from 4999949 to 6000077  (52.1%)                            \n",
      "# Analysing frames from 5999949 to 7000077  (62.5%)                            \n",
      "# Analysing frames from 6999949 to 8000077  (72.9%)                            \n",
      "# Analysing frames from 7999949 to 9000077  (83.3%)                            \n",
      "# Analysing frames from 8999949 to 9600000  (93.8%)                            \n",
      "# Detection completed, time taken: 0:00:15.154047                              \n",
      "# Time per frame: 0:00:00.001579                                               \n",
      "# Time per sample: 0:00:00.000053                                              \n",
      "Loaded 22492 spikes.                                                           \n",
      "Fitting dimensionality reduction using all spikes...                           \n",
      "...projecting...                                                               \n",
      "...done                                                                        \n",
      "Clustering...                                                                  \n",
      "Clustering 22492 spikes...                                                     \n",
      "number of seeds: 200                                                           \n",
      "seeds/job: 9                                                                   \n",
      "using 24 cpus                                                                  \n",
      " 60%|██████    | 18/30 [08:23<06:27, 32.26s/it, best loss: -0.7651160904938238]"
     ]
    },
    {
     "name": "stderr",
     "output_type": "stream",
     "text": [
      "[Parallel(n_jobs=24)]: Using backend LokyBackend with 24 concurrent workers.\n",
      "\n",
      "[Parallel(n_jobs=24)]: Done   3 out of  24 | elapsed:    4.0s remaining:   27.8s\n",
      "\n",
      "[Parallel(n_jobs=24)]: Done  16 out of  24 | elapsed:    4.1s remaining:    2.1s\n",
      "\n"
     ]
    },
    {
     "name": "stdout",
     "output_type": "stream",
     "text": [
      "Number of estimated units:                                                     \n",
      "13                                                                             \n",
      "Saving to                                                                      \n",
      "/disk/scratch/mhennig/spikeinterface/spikeoptimizer-develop/optimization_18/HS2_sorted.hdf5\n",
      "Warning: sampling frequency information not found. Setting delta_frames to 10. \n",
      " 60%|██████    | 18/30 [08:28<06:27, 32.26s/it, best loss: -0.7651160904938238]"
     ]
    },
    {
     "name": "stderr",
     "output_type": "stream",
     "text": [
      "[Parallel(n_jobs=24)]: Done  24 out of  24 | elapsed:    4.3s finished\n",
      "\n"
     ]
    },
    {
     "name": "stdout",
     "output_type": "stream",
     "text": [
      "score:                                                                         \n",
      "-0.43600032982436854                                                           \n",
      "chosen values:                                                                 \n",
      "{'ahpthr': 26.0, 'clustering_alpha': 8.17312893213931, 'clustering_bandwidth': 12.391261736316558, 'detection_threshold': -1.0, 'maa': 3.0, 'probe_event_length': 0.21478852913068497, 'probe_inner_radius': 81.0, 'probe_neighbor_radius': 88.0}\n",
      "Clustering spikes with parameters: {'ahpthr': 26.0, 'clustering_alpha': 8.17312893213931, 'clustering_bandwidth': 12.391261736316558, 'detection_threshold': -1.0, 'maa': 3.0, 'probe_event_length': 0.21478852913068497, 'probe_inner_radius': 81.0, 'probe_neighbor_radius': 88.0}\n",
      "# Generating new position and neighbor files from data file                    \n",
      "# Not Masking any Channels                                                     \n",
      "# Sampling rate: 32000                                                         \n",
      "# Localization On                                                              \n",
      "# Number of recorded channels: 30                                              \n",
      "# Analysing frames: 9600000; Seconds: 300.0                                    \n",
      "# Frames before spike in cutout: 6                                             \n",
      "# Frames after spike in cutout: 32                                             \n",
      "# tcuts: 51 77                                                                 \n",
      "# tInc: 1000000                                                                \n",
      "# Analysing frames from -51 to 1000077  (0.0%)                                 \n",
      "# Analysing frames from 999949 to 2000077  (10.4%)                             \n",
      "# Analysing frames from 1999949 to 3000077  (20.8%)                            \n",
      "# Analysing frames from 2999949 to 4000077  (31.2%)                            \n",
      "# Analysing frames from 3999949 to 5000077  (41.7%)                            \n",
      "# Analysing frames from 4999949 to 6000077  (52.1%)                            \n",
      "# Analysing frames from 5999949 to 7000077  (62.5%)                            \n",
      "# Analysing frames from 6999949 to 8000077  (72.9%)                            \n",
      "# Analysing frames from 7999949 to 9000077  (83.3%)                            \n",
      "# Analysing frames from 8999949 to 9600000  (93.8%)                            \n",
      "# Detection completed, time taken: 0:00:28.901307                              \n",
      "# Time per frame: 0:00:00.003011                                               \n",
      "# Time per sample: 0:00:00.000100                                              \n",
      "Loaded 928184 spikes.                                                          \n",
      "Fitting dimensionality reduction using all spikes...                           \n",
      "...projecting...                                                               \n",
      "...done                                                                        \n",
      "Clustering...                                                                  \n",
      "Clustering 928184 spikes...                                                    \n",
      "number of seeds: 1268                                                          \n",
      "seeds/job: 53                                                                  \n",
      "using 24 cpus                                                                  \n",
      " 63%|██████▎   | 19/30 [09:20<05:40, 30.96s/it, best loss: -0.7651160904938238]"
     ]
    },
    {
     "name": "stderr",
     "output_type": "stream",
     "text": [
      "[Parallel(n_jobs=24)]: Using backend LokyBackend with 24 concurrent workers.\n",
      "\n",
      "[Parallel(n_jobs=24)]: Done   3 out of  24 | elapsed:  1.7min remaining: 11.9min\n",
      "\n",
      "[Parallel(n_jobs=24)]: Done  16 out of  24 | elapsed:  2.4min remaining:  1.2min\n",
      "\n",
      "[Parallel(n_jobs=24)]: Done  24 out of  24 | elapsed:  2.7min finished\n",
      "\n"
     ]
    },
    {
     "name": "stdout",
     "output_type": "stream",
     "text": [
      "Number of estimated units:                                                     \n",
      "22                                                                             \n",
      "Saving to                                                                      \n",
      "/disk/scratch/mhennig/spikeinterface/spikeoptimizer-develop/optimization_19/HS2_sorted.hdf5\n",
      "Warning: sampling frequency information not found. Setting delta_frames to 10. \n",
      "score:                                                                         \n",
      "-0.4948877357036428                                                            \n",
      "chosen values:                                                                 \n",
      "{'ahpthr': 22.0, 'clustering_alpha': 5.10394312299543, 'clustering_bandwidth': 3.4461028703113046, 'detection_threshold': 6.0, 'maa': 6.0, 'probe_event_length': 0.21816000303078978, 'probe_inner_radius': 90.0, 'probe_neighbor_radius': 84.0}\n",
      "Clustering spikes with parameters: {'ahpthr': 22.0, 'clustering_alpha': 5.10394312299543, 'clustering_bandwidth': 3.4461028703113046, 'detection_threshold': 6.0, 'maa': 6.0, 'probe_event_length': 0.21816000303078978, 'probe_inner_radius': 90.0, 'probe_neighbor_radius': 84.0}\n",
      "# Generating new position and neighbor files from data file                    \n",
      "# Not Masking any Channels                                                     \n",
      "# Sampling rate: 32000                                                         \n",
      "# Localization On                                                              \n",
      "# Number of recorded channels: 30                                              \n",
      "# Analysing frames: 9600000; Seconds: 300.0                                    \n",
      "# Frames before spike in cutout: 6                                             \n",
      "# Frames after spike in cutout: 32                                             \n",
      "# tcuts: 51 77                                                                 \n",
      "# tInc: 1000000                                                                \n",
      "# Analysing frames from -51 to 1000077  (0.0%)                                 \n",
      "# Analysing frames from 999949 to 2000077  (10.4%)                             \n",
      "# Analysing frames from 1999949 to 3000077  (20.8%)                            \n",
      "# Analysing frames from 2999949 to 4000077  (31.2%)                            \n",
      "# Analysing frames from 3999949 to 5000077  (41.7%)                            \n",
      "# Analysing frames from 4999949 to 6000077  (52.1%)                            \n",
      "# Analysing frames from 5999949 to 7000077  (62.5%)                            \n",
      "# Analysing frames from 6999949 to 8000077  (72.9%)                            \n",
      "# Analysing frames from 7999949 to 9000077  (83.3%)                            \n",
      "# Analysing frames from 8999949 to 9600000  (93.8%)                            \n",
      "# Detection completed, time taken: 0:00:18.652187                              \n",
      "# Time per frame: 0:00:00.001943                                               \n",
      "# Time per sample: 0:00:00.000065                                              \n",
      "Loaded 65572 spikes.                                                           \n",
      "Fitting dimensionality reduction using all spikes...                           \n",
      "...projecting...                                                               \n",
      "...done                                                                        \n",
      "Clustering...                                                                  \n",
      "Clustering 65572 spikes...                                                     \n",
      "number of seeds: 1818                                                          \n",
      "seeds/job: 76                                                                  \n",
      "using 24 cpus                                                                  \n",
      " 67%|██████▋   | 20/30 [12:33<14:30, 87.02s/it, best loss: -0.7651160904938238]"
     ]
    },
    {
     "name": "stderr",
     "output_type": "stream",
     "text": [
      "[Parallel(n_jobs=24)]: Using backend LokyBackend with 24 concurrent workers.\n",
      "\n",
      "[Parallel(n_jobs=24)]: Done   3 out of  24 | elapsed:    6.9s remaining:   48.3s\n",
      "\n"
     ]
    },
    {
     "name": "stdout",
     "output_type": "stream",
     "text": [
      "Number of estimated units:                                                     \n",
      "153                                                                            \n",
      "Saving to                                                                      \n",
      "/disk/scratch/mhennig/spikeinterface/spikeoptimizer-develop/optimization_20/HS2_sorted.hdf5\n",
      " 67%|██████▋   | 20/30 [12:41<14:30, 87.02s/it, best loss: -0.7651160904938238]"
     ]
    },
    {
     "name": "stderr",
     "output_type": "stream",
     "text": [
      "[Parallel(n_jobs=24)]: Done  16 out of  24 | elapsed:    7.1s remaining:    3.6s\n",
      "\n",
      "[Parallel(n_jobs=24)]: Done  24 out of  24 | elapsed:    7.2s finished\n",
      "\n"
     ]
    },
    {
     "name": "stdout",
     "output_type": "stream",
     "text": [
      "Warning: sampling frequency information not found. Setting delta_frames to 10. \n",
      "score:                                                                         \n",
      "-0.7379562442031753                                                            \n",
      "chosen values:                                                                 \n",
      "{'ahpthr': -4.0, 'clustering_alpha': 4.988154862435269, 'clustering_bandwidth': 3.641221377089564, 'detection_threshold': 11.0, 'maa': 7.0, 'probe_event_length': 0.2016401309577031, 'probe_inner_radius': 86.0, 'probe_neighbor_radius': 73.0}\n",
      "Clustering spikes with parameters: {'ahpthr': -4.0, 'clustering_alpha': 4.988154862435269, 'clustering_bandwidth': 3.641221377089564, 'detection_threshold': 11.0, 'maa': 7.0, 'probe_event_length': 0.2016401309577031, 'probe_inner_radius': 86.0, 'probe_neighbor_radius': 73.0}\n",
      "# Generating new position and neighbor files from data file                    \n",
      "# Not Masking any Channels                                                     \n",
      "# Sampling rate: 32000                                                         \n",
      "# Localization On                                                              \n",
      "# Number of recorded channels: 30                                              \n",
      "# Analysing frames: 9600000; Seconds: 300.0                                    \n",
      "# Frames before spike in cutout: 6                                             \n",
      "# Frames after spike in cutout: 32                                             \n",
      "# tcuts: 51 77                                                                 \n",
      "# tInc: 1000000                                                                \n",
      "# Analysing frames from -51 to 1000077  (0.0%)                                 \n",
      "# Analysing frames from 999949 to 2000077  (10.4%)                             \n",
      "# Analysing frames from 1999949 to 3000077  (20.8%)                            \n",
      "# Analysing frames from 2999949 to 4000077  (31.2%)                            \n",
      "# Analysing frames from 3999949 to 5000077  (41.7%)                            \n",
      "# Analysing frames from 4999949 to 6000077  (52.1%)                            \n",
      "# Analysing frames from 5999949 to 7000077  (62.5%)                            \n",
      "# Analysing frames from 6999949 to 8000077  (72.9%)                            \n",
      "# Analysing frames from 7999949 to 9000077  (83.3%)                            \n",
      "# Analysing frames from 8999949 to 9600000  (93.8%)                            \n",
      "# Detection completed, time taken: 0:00:19.226196                              \n",
      "# Time per frame: 0:00:00.002003                                               \n",
      "# Time per sample: 0:00:00.000067                                              \n",
      "Loaded 35346 spikes.                                                           \n",
      "Fitting dimensionality reduction using all spikes...                           \n",
      "...projecting...                                                               \n",
      "...done                                                                        \n",
      "Clustering...                                                                  \n",
      "Clustering 35346 spikes...                                                     \n",
      "number of seeds: 682                                                           \n",
      "seeds/job: 29                                                                  \n",
      "using 24 cpus                                                                  \n",
      " 70%|███████   | 21/30 [13:09<10:45, 71.67s/it, best loss: -0.7651160904938238]"
     ]
    },
    {
     "name": "stderr",
     "output_type": "stream",
     "text": [
      "[Parallel(n_jobs=24)]: Using backend LokyBackend with 24 concurrent workers.\n",
      "\n",
      "[Parallel(n_jobs=24)]: Done   3 out of  24 | elapsed:    5.6s remaining:   39.0s\n",
      "\n",
      "[Parallel(n_jobs=24)]: Done  16 out of  24 | elapsed:    5.7s remaining:    2.8s\n",
      "\n",
      "[Parallel(n_jobs=24)]: Done  24 out of  24 | elapsed:    5.8s finished\n",
      "\n"
     ]
    },
    {
     "name": "stdout",
     "output_type": "stream",
     "text": [
      "Number of estimated units:                                                     \n",
      "29                                                                             \n",
      "Saving to                                                                      \n",
      "/disk/scratch/mhennig/spikeinterface/spikeoptimizer-develop/optimization_21/HS2_sorted.hdf5\n",
      "Warning: sampling frequency information not found. Setting delta_frames to 10. \n",
      "score:                                                                         \n",
      "-0.7454605480356553                                                            \n",
      "chosen values:                                                                 \n",
      "{'ahpthr': 20.0, 'clustering_alpha': 5.064462173631298, 'clustering_bandwidth': 4.846747004439102, 'detection_threshold': 4.0, 'maa': 6.0, 'probe_event_length': 0.17500915561318858, 'probe_inner_radius': 85.0, 'probe_neighbor_radius': 87.0}\n",
      "Clustering spikes with parameters: {'ahpthr': 20.0, 'clustering_alpha': 5.064462173631298, 'clustering_bandwidth': 4.846747004439102, 'detection_threshold': 4.0, 'maa': 6.0, 'probe_event_length': 0.17500915561318858, 'probe_inner_radius': 85.0, 'probe_neighbor_radius': 87.0}\n",
      "# Generating new position and neighbor files from data file                    \n",
      "# Not Masking any Channels                                                     \n",
      "# Sampling rate: 32000                                                         \n",
      "# Localization On                                                              \n",
      "# Number of recorded channels: 30                                              \n",
      "# Analysing frames: 9600000; Seconds: 300.0                                    \n",
      "# Frames before spike in cutout: 6                                             \n",
      "# Frames after spike in cutout: 32                                             \n",
      "# tcuts: 51 77                                                                 \n",
      "# tInc: 1000000                                                                \n",
      "# Analysing frames from -51 to 1000077  (0.0%)                                 \n",
      "# Analysing frames from 999949 to 2000077  (10.4%)                             \n",
      "# Analysing frames from 1999949 to 3000077  (20.8%)                            \n",
      "# Analysing frames from 2999949 to 4000077  (31.2%)                            \n",
      "# Analysing frames from 3999949 to 5000077  (41.7%)                            \n",
      "# Analysing frames from 4999949 to 6000077  (52.1%)                            \n",
      "# Analysing frames from 5999949 to 7000077  (62.5%)                            \n",
      "# Analysing frames from 6999949 to 8000077  (72.9%)                            \n",
      "# Analysing frames from 7999949 to 9000077  (83.3%)                            \n",
      "# Analysing frames from 8999949 to 9600000  (93.8%)                            \n",
      "# Detection completed, time taken: 0:00:22.792186                              \n",
      "# Time per frame: 0:00:00.002374                                               \n",
      "# Time per sample: 0:00:00.000079                                              \n",
      "Loaded 112439 spikes.                                                          \n",
      "Fitting dimensionality reduction using all spikes...                           \n",
      "...projecting...                                                               \n",
      "...done                                                                        \n",
      "Clustering...                                                                  \n",
      "Clustering 112439 spikes...                                                    \n",
      "number of seeds: 2269                                                          \n",
      "seeds/job: 95                                                                  \n",
      "using 24 cpus                                                                  \n",
      " 73%|███████▎  | 22/30 [14:22<09:24, 70.53s/it, best loss: -0.7651160904938238]"
     ]
    },
    {
     "name": "stderr",
     "output_type": "stream",
     "text": [
      "[Parallel(n_jobs=24)]: Using backend LokyBackend with 24 concurrent workers.\n",
      "\n",
      "[Parallel(n_jobs=24)]: Done   3 out of  24 | elapsed:   13.0s remaining:  1.5min\n",
      "\n",
      "[Parallel(n_jobs=24)]: Done  16 out of  24 | elapsed:   13.9s remaining:    6.9s\n",
      "\n"
     ]
    },
    {
     "name": "stdout",
     "output_type": "stream",
     "text": [
      "Number of estimated units:                                                     \n",
      "77                                                                             \n",
      "Saving to                                                                      \n",
      "/disk/scratch/mhennig/spikeinterface/spikeoptimizer-develop/optimization_22/HS2_sorted.hdf5\n",
      " 73%|███████▎  | 22/30 [14:37<09:24, 70.53s/it, best loss: -0.7651160904938238]"
     ]
    },
    {
     "name": "stderr",
     "output_type": "stream",
     "text": [
      "[Parallel(n_jobs=24)]: Done  24 out of  24 | elapsed:   14.3s finished\n",
      "\n"
     ]
    },
    {
     "name": "stdout",
     "output_type": "stream",
     "text": [
      "Warning: sampling frequency information not found. Setting delta_frames to 10. \n",
      "score:                                                                         \n",
      "-0.699233572056791                                                             \n",
      "chosen values:                                                                 \n",
      "{'ahpthr': -2.0, 'clustering_alpha': 3.718782109592741, 'clustering_bandwidth': 5.191084460943242, 'detection_threshold': 19.0, 'maa': 7.0, 'probe_event_length': 0.23370417905680235, 'probe_inner_radius': 79.0, 'probe_neighbor_radius': 81.0}\n",
      "Clustering spikes with parameters: {'ahpthr': -2.0, 'clustering_alpha': 3.718782109592741, 'clustering_bandwidth': 5.191084460943242, 'detection_threshold': 19.0, 'maa': 7.0, 'probe_event_length': 0.23370417905680235, 'probe_inner_radius': 79.0, 'probe_neighbor_radius': 81.0}\n",
      "# Generating new position and neighbor files from data file                    \n",
      "# Not Masking any Channels                                                     \n",
      "# Sampling rate: 32000                                                         \n",
      "# Localization On                                                              \n",
      "# Number of recorded channels: 30                                              \n",
      "# Analysing frames: 9600000; Seconds: 300.0                                    \n",
      "# Frames before spike in cutout: 6                                             \n",
      "# Frames after spike in cutout: 32                                             \n",
      "# tcuts: 51 77                                                                 \n",
      "# tInc: 1000000                                                                \n",
      "# Analysing frames from -51 to 1000077  (0.0%)                                 \n",
      "# Analysing frames from 999949 to 2000077  (10.4%)                             \n",
      "# Analysing frames from 1999949 to 3000077  (20.8%)                            \n",
      "# Analysing frames from 2999949 to 4000077  (31.2%)                            \n",
      "# Analysing frames from 3999949 to 5000077  (41.7%)                            \n",
      "# Analysing frames from 4999949 to 6000077  (52.1%)                            \n",
      "# Analysing frames from 5999949 to 7000077  (62.5%)                            \n",
      "# Analysing frames from 6999949 to 8000077  (72.9%)                            \n",
      "# Analysing frames from 7999949 to 9000077  (83.3%)                            \n",
      "# Analysing frames from 8999949 to 9600000  (93.8%)                            \n",
      "# Detection completed, time taken: 0:00:19.927426                              \n",
      "# Time per frame: 0:00:00.002076                                               \n",
      "# Time per sample: 0:00:00.000069                                              \n",
      "Loaded 28317 spikes.                                                           \n",
      "Fitting dimensionality reduction using all spikes...                           \n",
      "...projecting...                                                               \n",
      "...done                                                                        \n",
      "Clustering...                                                                  \n",
      "Clustering 28317 spikes...                                                     \n",
      "number of seeds: 302                                                           \n",
      "seeds/job: 13                                                                  \n",
      "using 24 cpus                                                                  \n",
      " 77%|███████▋  | 23/30 [15:07<07:28, 64.10s/it, best loss: -0.7651160904938238]"
     ]
    },
    {
     "name": "stderr",
     "output_type": "stream",
     "text": [
      "[Parallel(n_jobs=24)]: Using backend LokyBackend with 24 concurrent workers.\n",
      "\n",
      "[Parallel(n_jobs=24)]: Done   3 out of  24 | elapsed:    6.0s remaining:   42.3s\n",
      "\n",
      "[Parallel(n_jobs=24)]: Done  16 out of  24 | elapsed:    6.2s remaining:    3.1s\n",
      "\n"
     ]
    },
    {
     "name": "stdout",
     "output_type": "stream",
     "text": [
      "Number of estimated units:                                                     \n",
      "15                                                                             \n",
      "Saving to                                                                      \n",
      "/disk/scratch/mhennig/spikeinterface/spikeoptimizer-develop/optimization_23/HS2_sorted.hdf5\n",
      " 77%|███████▋  | 23/30 [15:14<07:28, 64.10s/it, best loss: -0.7651160904938238]"
     ]
    },
    {
     "name": "stderr",
     "output_type": "stream",
     "text": [
      "[Parallel(n_jobs=24)]: Done  24 out of  24 | elapsed:    6.4s finished\n",
      "\n"
     ]
    },
    {
     "name": "stdout",
     "output_type": "stream",
     "text": [
      "Warning: sampling frequency information not found. Setting delta_frames to 10. \n",
      "score:                                                                         \n",
      "-0.530417930569599                                                             \n",
      "chosen values:                                                                 \n",
      "{'ahpthr': 20.0, 'clustering_alpha': 3.092749493452009, 'clustering_bandwidth': 4.7722777742628395, 'detection_threshold': 10.0, 'maa': 7.0, 'probe_event_length': 0.21247647842109468, 'probe_inner_radius': 61.0, 'probe_neighbor_radius': 90.0}\n",
      "Clustering spikes with parameters: {'ahpthr': 20.0, 'clustering_alpha': 3.092749493452009, 'clustering_bandwidth': 4.7722777742628395, 'detection_threshold': 10.0, 'maa': 7.0, 'probe_event_length': 0.21247647842109468, 'probe_inner_radius': 61.0, 'probe_neighbor_radius': 90.0}\n",
      "# Generating new position and neighbor files from data file                    \n",
      "# Not Masking any Channels                                                     \n",
      "# Sampling rate: 32000                                                         \n",
      "# Localization On                                                              \n",
      "# Number of recorded channels: 30                                              \n",
      "# Analysing frames: 9600000; Seconds: 300.0                                    \n",
      "# Frames before spike in cutout: 6                                             \n",
      "# Frames after spike in cutout: 32                                             \n",
      "# tcuts: 51 77                                                                 \n",
      "# tInc: 1000000                                                                \n",
      "# Analysing frames from -51 to 1000077  (0.0%)                                 \n",
      "# Analysing frames from 999949 to 2000077  (10.4%)                             \n",
      "# Analysing frames from 1999949 to 3000077  (20.8%)                            \n",
      "# Analysing frames from 2999949 to 4000077  (31.2%)                            \n",
      "# Analysing frames from 3999949 to 5000077  (41.7%)                            \n",
      "# Analysing frames from 4999949 to 6000077  (52.1%)                            \n",
      "# Analysing frames from 5999949 to 7000077  (62.5%)                            \n",
      "# Analysing frames from 6999949 to 8000077  (72.9%)                            \n",
      "# Analysing frames from 7999949 to 9000077  (83.3%)                            \n",
      "# Analysing frames from 8999949 to 9600000  (93.8%)                            \n",
      "# Detection completed, time taken: 0:00:20.649154                              \n",
      "# Time per frame: 0:00:00.002151                                               \n",
      "# Time per sample: 0:00:00.000072                                              \n",
      "Loaded 40797 spikes.                                                           \n",
      "Fitting dimensionality reduction using all spikes...                           \n",
      "...projecting...                                                               \n",
      "...done                                                                        \n",
      "Clustering...                                                                  \n",
      "Clustering 40797 spikes...                                                     \n",
      "number of seeds: 537                                                           \n",
      "seeds/job: 23                                                                  \n",
      "using 24 cpus                                                                  \n",
      " 80%|████████  | 24/30 [16:17<06:33, 65.53s/it, best loss: -0.7651160904938238]"
     ]
    },
    {
     "name": "stderr",
     "output_type": "stream",
     "text": [
      "[Parallel(n_jobs=24)]: Using backend LokyBackend with 24 concurrent workers.\n",
      "\n",
      "[Parallel(n_jobs=24)]: Done   3 out of  24 | elapsed:    6.9s remaining:   48.3s\n",
      "\n",
      "[Parallel(n_jobs=24)]: Done  16 out of  24 | elapsed:    7.0s remaining:    3.5s\n",
      "\n"
     ]
    },
    {
     "name": "stdout",
     "output_type": "stream",
     "text": [
      "Number of estimated units:                                                     \n",
      "30                                                                             \n",
      "Saving to                                                                      \n",
      "/disk/scratch/mhennig/spikeinterface/spikeoptimizer-develop/optimization_24/HS2_sorted.hdf5\n",
      "Warning: sampling frequency information not found. Setting delta_frames to 10. \n",
      " 80%|████████  | 24/30 [16:25<06:33, 65.53s/it, best loss: -0.7651160904938238]"
     ]
    },
    {
     "name": "stderr",
     "output_type": "stream",
     "text": [
      "[Parallel(n_jobs=24)]: Done  24 out of  24 | elapsed:    7.3s finished\n",
      "\n"
     ]
    },
    {
     "name": "stdout",
     "output_type": "stream",
     "text": [
      "score:                                                                         \n",
      "-0.7110195400770969                                                            \n",
      "chosen values:                                                                 \n",
      "{'ahpthr': -8.0, 'clustering_alpha': 4.715546723722459, 'clustering_bandwidth': 5.978360716587013, 'detection_threshold': 16.0, 'maa': 5.0, 'probe_event_length': 0.18265750630070665, 'probe_inner_radius': 90.0, 'probe_neighbor_radius': 82.0}\n",
      "Clustering spikes with parameters: {'ahpthr': -8.0, 'clustering_alpha': 4.715546723722459, 'clustering_bandwidth': 5.978360716587013, 'detection_threshold': 16.0, 'maa': 5.0, 'probe_event_length': 0.18265750630070665, 'probe_inner_radius': 90.0, 'probe_neighbor_radius': 82.0}\n",
      "# Generating new position and neighbor files from data file                    \n",
      "# Not Masking any Channels                                                     \n",
      "# Sampling rate: 32000                                                         \n",
      "# Localization On                                                              \n",
      "# Number of recorded channels: 30                                              \n",
      "# Analysing frames: 9600000; Seconds: 300.0                                    \n",
      "# Frames before spike in cutout: 6                                             \n",
      "# Frames after spike in cutout: 32                                             \n",
      "# tcuts: 51 77                                                                 \n",
      "# tInc: 1000000                                                                \n",
      "# Analysing frames from -51 to 1000077  (0.0%)                                 \n",
      "# Analysing frames from 999949 to 2000077  (10.4%)                             \n",
      "# Analysing frames from 1999949 to 3000077  (20.8%)                            \n",
      "# Analysing frames from 2999949 to 4000077  (31.2%)                            \n",
      "# Analysing frames from 3999949 to 5000077  (41.7%)                            \n",
      "# Analysing frames from 4999949 to 6000077  (52.1%)                            \n",
      "# Analysing frames from 5999949 to 7000077  (62.5%)                            \n",
      "# Analysing frames from 6999949 to 8000077  (72.9%)                            \n",
      "# Analysing frames from 7999949 to 9000077  (83.3%)                            \n",
      "# Analysing frames from 8999949 to 9600000  (93.8%)                            \n",
      "# Detection completed, time taken: 0:00:19.494693                              \n",
      "# Time per frame: 0:00:00.002031                                               \n",
      "# Time per sample: 0:00:00.000068                                              \n",
      "Loaded 8249 spikes.                                                            \n",
      "Fitting dimensionality reduction using all spikes...                           \n",
      "...projecting...                                                               \n",
      "...done                                                                        \n",
      "Clustering...                                                                  \n",
      "Clustering 8249 spikes...                                                      \n",
      "number of seeds: 130                                                           \n",
      "seeds/job: 6                                                                   \n",
      "using 24 cpus                                                                  \n",
      " 83%|████████▎ | 25/30 [17:23<05:31, 66.29s/it, best loss: -0.7651160904938238]"
     ]
    },
    {
     "name": "stderr",
     "output_type": "stream",
     "text": [
      "[Parallel(n_jobs=24)]: Using backend LokyBackend with 24 concurrent workers.\n",
      "\n",
      "[Parallel(n_jobs=24)]: Done   3 out of  24 | elapsed:    6.6s remaining:   46.2s\n",
      "\n",
      "[Parallel(n_jobs=24)]: Done  16 out of  24 | elapsed:    6.7s remaining:    3.3s\n",
      "\n"
     ]
    },
    {
     "name": "stdout",
     "output_type": "stream",
     "text": [
      "Number of estimated units:                                                     \n",
      "13                                                                             \n",
      "Saving to                                                                      \n",
      "/disk/scratch/mhennig/spikeinterface/spikeoptimizer-develop/optimization_25/HS2_sorted.hdf5\n",
      "Warning: sampling frequency information not found. Setting delta_frames to 10. \n",
      " 83%|████████▎ | 25/30 [17:31<05:31, 66.29s/it, best loss: -0.7651160904938238]"
     ]
    },
    {
     "name": "stderr",
     "output_type": "stream",
     "text": [
      "[Parallel(n_jobs=24)]: Done  24 out of  24 | elapsed:    6.9s finished\n",
      "\n"
     ]
    },
    {
     "name": "stdout",
     "output_type": "stream",
     "text": [
      "score:                                                                         \n",
      "-0.14535682293221858                                                           \n",
      "chosen values:                                                                 \n",
      "{'ahpthr': 2.0, 'clustering_alpha': 9.996503705581166, 'clustering_bandwidth': 7.98244460508694, 'detection_threshold': 4.0, 'maa': 10.0, 'probe_event_length': 0.15284262185274117, 'probe_inner_radius': 70.0, 'probe_neighbor_radius': 79.0}\n",
      "Clustering spikes with parameters: {'ahpthr': 2.0, 'clustering_alpha': 9.996503705581166, 'clustering_bandwidth': 7.98244460508694, 'detection_threshold': 4.0, 'maa': 10.0, 'probe_event_length': 0.15284262185274117, 'probe_inner_radius': 70.0, 'probe_neighbor_radius': 79.0}\n",
      "# Generating new position and neighbor files from data file                    \n",
      "# Not Masking any Channels                                                     \n",
      "# Sampling rate: 32000                                                         \n",
      "# Localization On                                                              \n",
      "# Number of recorded channels: 30                                              \n",
      "# Analysing frames: 9600000; Seconds: 300.0                                    \n",
      "# Frames before spike in cutout: 6                                             \n",
      "# Frames after spike in cutout: 32                                             \n",
      "# tcuts: 51 77                                                                 \n",
      "# tInc: 1000000                                                                \n",
      "# Analysing frames from -51 to 1000077  (0.0%)                                 \n",
      "# Analysing frames from 999949 to 2000077  (10.4%)                             \n",
      "# Analysing frames from 1999949 to 3000077  (20.8%)                            \n",
      "# Analysing frames from 2999949 to 4000077  (31.2%)                            \n",
      "# Analysing frames from 3999949 to 5000077  (41.7%)                            \n",
      "# Analysing frames from 4999949 to 6000077  (52.1%)                            \n",
      "# Analysing frames from 5999949 to 7000077  (62.5%)                            \n",
      "# Analysing frames from 6999949 to 8000077  (72.9%)                            \n",
      "# Analysing frames from 7999949 to 9000077  (83.3%)                            \n",
      "# Analysing frames from 8999949 to 9600000  (93.8%)                            \n",
      "# Detection completed, time taken: 0:00:22.104165                              \n",
      "# Time per frame: 0:00:00.002303                                               \n",
      "# Time per sample: 0:00:00.000077                                              \n",
      "Loaded 53613 spikes.                                                           \n",
      "Fitting dimensionality reduction using all spikes...                           \n",
      "...projecting...                                                               \n",
      "...done                                                                        \n",
      "Clustering...                                                                  \n",
      "Clustering 53613 spikes...                                                     \n",
      "number of seeds: 772                                                           \n",
      "seeds/job: 33                                                                  \n",
      "using 24 cpus                                                                  \n",
      " 87%|████████▋ | 26/30 [18:08<03:56, 59.09s/it, best loss: -0.7651160904938238]"
     ]
    },
    {
     "name": "stderr",
     "output_type": "stream",
     "text": [
      "[Parallel(n_jobs=24)]: Using backend LokyBackend with 24 concurrent workers.\n",
      "\n",
      "[Parallel(n_jobs=24)]: Done   3 out of  24 | elapsed:    7.7s remaining:   53.6s\n",
      "\n",
      "[Parallel(n_jobs=24)]: Done  16 out of  24 | elapsed:    8.3s remaining:    4.1s\n",
      "\n"
     ]
    },
    {
     "name": "stdout",
     "output_type": "stream",
     "text": [
      "Number of estimated units:                                                     \n",
      "29                                                                             \n",
      "Saving to                                                                      \n",
      "/disk/scratch/mhennig/spikeinterface/spikeoptimizer-develop/optimization_26/HS2_sorted.hdf5\n",
      " 87%|████████▋ | 26/30 [18:18<03:56, 59.09s/it, best loss: -0.7651160904938238]"
     ]
    },
    {
     "name": "stderr",
     "output_type": "stream",
     "text": [
      "[Parallel(n_jobs=24)]: Done  24 out of  24 | elapsed:    8.5s finished\n",
      "\n"
     ]
    },
    {
     "name": "stdout",
     "output_type": "stream",
     "text": [
      "Warning: sampling frequency information not found. Setting delta_frames to 10. \n",
      "score:                                                                         \n",
      "-0.6783710679222601                                                            \n",
      "chosen values:                                                                 \n",
      "{'ahpthr': -10.0, 'clustering_alpha': 5.654944736909341, 'clustering_bandwidth': 10.580046544900418, 'detection_threshold': 12.0, 'maa': 10.0, 'probe_event_length': 0.16962545188650427, 'probe_inner_radius': 85.0, 'probe_neighbor_radius': 77.0}\n",
      "Clustering spikes with parameters: {'ahpthr': -10.0, 'clustering_alpha': 5.654944736909341, 'clustering_bandwidth': 10.580046544900418, 'detection_threshold': 12.0, 'maa': 10.0, 'probe_event_length': 0.16962545188650427, 'probe_inner_radius': 85.0, 'probe_neighbor_radius': 77.0}\n",
      "# Generating new position and neighbor files from data file                    \n",
      "# Not Masking any Channels                                                     \n",
      "# Sampling rate: 32000                                                         \n",
      "# Localization On                                                              \n",
      "# Number of recorded channels: 30                                              \n",
      "# Analysing frames: 9600000; Seconds: 300.0                                    \n",
      "# Frames before spike in cutout: 6                                             \n",
      "# Frames after spike in cutout: 32                                             \n",
      "# tcuts: 51 77                                                                 \n",
      "# tInc: 1000000                                                                \n",
      "# Analysing frames from -51 to 1000077  (0.0%)                                 \n",
      "# Analysing frames from 999949 to 2000077  (10.4%)                             \n",
      "# Analysing frames from 1999949 to 3000077  (20.8%)                            \n",
      "# Analysing frames from 2999949 to 4000077  (31.2%)                            \n",
      "# Analysing frames from 3999949 to 5000077  (41.7%)                            \n",
      "# Analysing frames from 4999949 to 6000077  (52.1%)                            \n",
      "# Analysing frames from 5999949 to 7000077  (62.5%)                            \n",
      "# Analysing frames from 6999949 to 8000077  (72.9%)                            \n",
      "# Analysing frames from 7999949 to 9000077  (83.3%)                            \n",
      "# Analysing frames from 8999949 to 9600000  (93.8%)                            \n",
      "# Detection completed, time taken: 0:00:19.393051                              \n",
      "# Time per frame: 0:00:00.002020                                               \n",
      "# Time per sample: 0:00:00.000067                                              \n",
      "Loaded 3786 spikes.                                                            \n",
      "Fitting dimensionality reduction using all spikes...                           \n",
      "...projecting...                                                               \n",
      "...done                                                                        \n",
      "Clustering...                                                                  \n",
      "Clustering 3786 spikes...                                                      \n",
      "number of seeds: 70                                                            \n",
      "seeds/job: 3                                                                   \n",
      "using 24 cpus                                                                  \n",
      " 90%|█████████ | 27/30 [19:03<02:56, 58.82s/it, best loss: -0.7651160904938238]"
     ]
    },
    {
     "name": "stderr",
     "output_type": "stream",
     "text": [
      "[Parallel(n_jobs=24)]: Using backend LokyBackend with 24 concurrent workers.\n",
      "\n",
      "[Parallel(n_jobs=24)]: Done   3 out of  24 | elapsed:    6.9s remaining:   48.0s\n",
      "\n",
      "[Parallel(n_jobs=24)]: Done  16 out of  24 | elapsed:    6.9s remaining:    3.5s\n",
      "\n"
     ]
    },
    {
     "name": "stdout",
     "output_type": "stream",
     "text": [
      "Number of estimated units:                                                     \n",
      "11                                                                             \n",
      "Saving to                                                                      \n",
      "/disk/scratch/mhennig/spikeinterface/spikeoptimizer-develop/optimization_27/HS2_sorted.hdf5\n",
      "Warning: sampling frequency information not found. Setting delta_frames to 10. \n",
      " 90%|█████████ | 27/30 [19:11<02:56, 58.82s/it, best loss: -0.7651160904938238]"
     ]
    },
    {
     "name": "stderr",
     "output_type": "stream",
     "text": [
      "[Parallel(n_jobs=24)]: Done  24 out of  24 | elapsed:    7.2s finished\n",
      "\n"
     ]
    },
    {
     "name": "stdout",
     "output_type": "stream",
     "text": [
      "score:                                                                         \n",
      "-0.05676539784038125                                                           \n",
      "chosen values:                                                                 \n",
      "{'ahpthr': 18.0, 'clustering_alpha': 7.149687939614492, 'clustering_bandwidth': 4.375825406398906, 'detection_threshold': 7.0, 'maa': 6.0, 'probe_event_length': 0.22866345838699267, 'probe_inner_radius': 63.0, 'probe_neighbor_radius': 85.0}\n",
      "Clustering spikes with parameters: {'ahpthr': 18.0, 'clustering_alpha': 7.149687939614492, 'clustering_bandwidth': 4.375825406398906, 'detection_threshold': 7.0, 'maa': 6.0, 'probe_event_length': 0.22866345838699267, 'probe_inner_radius': 63.0, 'probe_neighbor_radius': 85.0}\n",
      "# Generating new position and neighbor files from data file                    \n",
      "# Not Masking any Channels                                                     \n",
      "# Sampling rate: 32000                                                         \n",
      "# Localization On                                                              \n",
      "# Number of recorded channels: 30                                              \n",
      "# Analysing frames: 9600000; Seconds: 300.0                                    \n",
      "# Frames before spike in cutout: 6                                             \n",
      "# Frames after spike in cutout: 32                                             \n",
      "# tcuts: 51 77                                                                 \n",
      "# tInc: 1000000                                                                \n",
      "# Analysing frames from -51 to 1000077  (0.0%)                                 \n",
      "# Analysing frames from 999949 to 2000077  (10.4%)                             \n",
      "# Analysing frames from 1999949 to 3000077  (20.8%)                            \n",
      "# Analysing frames from 2999949 to 4000077  (31.2%)                            \n",
      "# Analysing frames from 3999949 to 5000077  (41.7%)                            \n",
      "# Analysing frames from 4999949 to 6000077  (52.1%)                            \n",
      "# Analysing frames from 5999949 to 7000077  (62.5%)                            \n",
      "# Analysing frames from 6999949 to 8000077  (72.9%)                            \n",
      "# Analysing frames from 7999949 to 9000077  (83.3%)                            \n",
      "# Analysing frames from 8999949 to 9600000  (93.8%)                            \n",
      "# Detection completed, time taken: 0:00:20.784301                              \n",
      "# Time per frame: 0:00:00.002165                                               \n",
      "# Time per sample: 0:00:00.000072                                              \n",
      "Loaded 56352 spikes.                                                           \n",
      "Fitting dimensionality reduction using all spikes...                           \n",
      "...projecting...                                                               \n",
      "...done                                                                        \n",
      "Clustering...                                                                  \n",
      "Clustering 56352 spikes...                                                     \n",
      "number of seeds: 1388                                                          \n",
      "seeds/job: 58                                                                  \n",
      "using 24 cpus                                                                  \n",
      " 93%|█████████▎| 28/30 [19:43<01:44, 52.34s/it, best loss: -0.7651160904938238]"
     ]
    },
    {
     "name": "stderr",
     "output_type": "stream",
     "text": [
      "[Parallel(n_jobs=24)]: Using backend LokyBackend with 24 concurrent workers.\n",
      "\n",
      "[Parallel(n_jobs=24)]: Done   3 out of  24 | elapsed:    8.7s remaining:  1.0min\n",
      "\n",
      "[Parallel(n_jobs=24)]: Done  16 out of  24 | elapsed:    9.4s remaining:    4.7s\n",
      "\n"
     ]
    },
    {
     "name": "stdout",
     "output_type": "stream",
     "text": [
      "Number of estimated units:                                                     \n",
      "85                                                                             \n",
      "Saving to                                                                      \n",
      "/disk/scratch/mhennig/spikeinterface/spikeoptimizer-develop/optimization_28/HS2_sorted.hdf5\n",
      " 93%|█████████▎| 28/30 [19:53<01:44, 52.34s/it, best loss: -0.7651160904938238]"
     ]
    },
    {
     "name": "stderr",
     "output_type": "stream",
     "text": [
      "[Parallel(n_jobs=24)]: Done  24 out of  24 | elapsed:    9.7s finished\n",
      "\n"
     ]
    },
    {
     "name": "stdout",
     "output_type": "stream",
     "text": [
      "Warning: sampling frequency information not found. Setting delta_frames to 10. \n",
      "score:                                                                         \n",
      "-0.7645089591965535                                                            \n",
      "chosen values:                                                                 \n",
      "{'ahpthr': 29.0, 'clustering_alpha': 8.812613537711195, 'clustering_bandwidth': 7.462425826597318, 'detection_threshold': 7.0, 'maa': 5.0, 'probe_event_length': 0.25928345684491627, 'probe_inner_radius': 63.0, 'probe_neighbor_radius': 85.0}\n",
      "Clustering spikes with parameters: {'ahpthr': 29.0, 'clustering_alpha': 8.812613537711195, 'clustering_bandwidth': 7.462425826597318, 'detection_threshold': 7.0, 'maa': 5.0, 'probe_event_length': 0.25928345684491627, 'probe_inner_radius': 63.0, 'probe_neighbor_radius': 85.0}\n",
      "# Generating new position and neighbor files from data file                    \n",
      "# Not Masking any Channels                                                     \n",
      "# Sampling rate: 32000                                                         \n",
      "# Localization On                                                              \n",
      "# Number of recorded channels: 30                                              \n",
      "# Analysing frames: 9600000; Seconds: 300.0                                    \n",
      "# Frames before spike in cutout: 6                                             \n",
      "# Frames after spike in cutout: 32                                             \n",
      "# tcuts: 51 77                                                                 \n",
      "# tInc: 1000000                                                                \n",
      "# Analysing frames from -51 to 1000077  (0.0%)                                 \n",
      "# Analysing frames from 999949 to 2000077  (10.4%)                             \n",
      "# Analysing frames from 1999949 to 3000077  (20.8%)                            \n",
      "# Analysing frames from 2999949 to 4000077  (31.2%)                            \n",
      "# Analysing frames from 3999949 to 5000077  (41.7%)                            \n",
      "# Analysing frames from 4999949 to 6000077  (52.1%)                            \n",
      "# Analysing frames from 5999949 to 7000077  (62.5%)                            \n",
      "# Analysing frames from 6999949 to 8000077  (72.9%)                            \n",
      "# Analysing frames from 7999949 to 9000077  (83.3%)                            \n",
      "# Analysing frames from 8999949 to 9600000  (93.8%)                            \n",
      "# Detection completed, time taken: 0:00:20.637110                              \n",
      "# Time per frame: 0:00:00.002150                                               \n",
      "# Time per sample: 0:00:00.000072                                              \n",
      "Loaded 64886 spikes.                                                           \n",
      "Fitting dimensionality reduction using all spikes...                           \n",
      "...projecting...                                                               \n",
      "...done                                                                        \n",
      "Clustering...                                                                  \n",
      "Clustering 64886 spikes...                                                     \n",
      "number of seeds: 936                                                           \n",
      "seeds/job: 40                                                                  \n",
      "using 24 cpus                                                                  \n",
      " 97%|█████████▋| 29/30 [20:26<00:49, 49.70s/it, best loss: -0.7651160904938238]"
     ]
    },
    {
     "name": "stderr",
     "output_type": "stream",
     "text": [
      "[Parallel(n_jobs=24)]: Using backend LokyBackend with 24 concurrent workers.\n",
      "\n",
      "[Parallel(n_jobs=24)]: Done   3 out of  24 | elapsed:    8.6s remaining:  1.0min\n",
      "\n",
      "[Parallel(n_jobs=24)]: Done  16 out of  24 | elapsed:    9.1s remaining:    4.5s\n",
      "\n",
      "[Parallel(n_jobs=24)]: Done  24 out of  24 | elapsed:    9.2s finished\n",
      "\n"
     ]
    },
    {
     "name": "stdout",
     "output_type": "stream",
     "text": [
      "Number of estimated units:                                                     \n",
      "42                                                                             \n",
      "Saving to                                                                      \n",
      "/disk/scratch/mhennig/spikeinterface/spikeoptimizer-develop/optimization_29/HS2_sorted.hdf5\n",
      "Warning: sampling frequency information not found. Setting delta_frames to 10. \n",
      "score:                                                                         \n",
      "-0.7298104919037646                                                            \n",
      "100%|██████████| 30/30 [21:07<00:00, 53.88s/it, best loss: -0.7651160904938238]\n",
      "--- 1267.4072988033295 seconds ---\n"
     ]
    }
   ],
   "source": [
    "test.run()\n"
   ]
  },
  {
   "cell_type": "code",
   "execution_count": null,
   "metadata": {},
   "outputs": [],
   "source": []
  },
  {
   "cell_type": "code",
   "execution_count": 7,
   "metadata": {},
   "outputs": [],
   "source": [
    "r = test.load_results(test.outfile)"
   ]
  },
  {
   "cell_type": "code",
   "execution_count": 29,
   "metadata": {},
   "outputs": [
    {
     "data": {
      "text/plain": [
       "{'ahpthr': [17.0],\n",
       " 'clustering_alpha': [9.146879614142524],\n",
       " 'clustering_bandwidth': [6.833699790317603],\n",
       " 'detection_threshold': [10.0],\n",
       " 'maa': [6.0],\n",
       " 'probe_event_length': [0.21982206729811388],\n",
       " 'probe_inner_radius': [89.0],\n",
       " 'probe_neighbor_radius': [83.0]}"
      ]
     },
     "execution_count": 29,
     "metadata": {},
     "output_type": "execute_result"
    }
   ],
   "source": [
    "r['optimal_params']"
   ]
  },
  {
   "cell_type": "code",
   "execution_count": 11,
   "metadata": {},
   "outputs": [
    {
     "data": {
      "image/png": "[encoded data removed]",
      "text/plain": [
       "<Figure size 1080x252 with 1 Axes>"
      ]
     },
     "metadata": {
      "needs_background": "light"
     },
     "output_type": "display_data"
    }
   ],
   "source": [
    "test.plot_convergence()"
   ]
  },
  {
   "cell_type": "code",
   "execution_count": 28,
   "metadata": {},
   "outputs": [
    {
     "name": "stdout",
     "output_type": "stream",
     "text": [
      "# Generating new position and neighbor files from data file\n",
      "# Not Masking any Channels\n",
      "# Sampling rate: 32000\n",
      "# Localization On\n",
      "# Number of recorded channels: 30\n",
      "# Analysing frames: 9600000; Seconds: 300.0\n",
      "# Frames before spike in cutout: 6\n",
      "# Frames after spike in cutout: 32\n",
      "# tcuts: 51 77\n",
      "# tInc: 1000000\n",
      "# Analysing frames from -51 to 1000077  (0.0%)\n",
      "# Analysing frames from 999949 to 2000077  (10.4%)\n",
      "# Analysing frames from 1999949 to 3000077  (20.8%)\n",
      "# Analysing frames from 2999949 to 4000077  (31.2%)\n",
      "# Analysing frames from 3999949 to 5000077  (41.7%)\n",
      "# Analysing frames from 4999949 to 6000077  (52.1%)\n",
      "# Analysing frames from 5999949 to 7000077  (62.5%)\n",
      "# Analysing frames from 6999949 to 8000077  (72.9%)\n",
      "# Analysing frames from 7999949 to 9000077  (83.3%)\n",
      "# Analysing frames from 8999949 to 9600000  (93.8%)\n",
      "# Detection completed, time taken: 0:00:20.004877\n",
      "# Time per frame: 0:00:00.002084\n",
      "# Time per sample: 0:00:00.000069\n",
      "Loaded 41665 spikes.\n",
      "Fitting dimensionality reduction using all spikes...\n",
      "...projecting...\n",
      "...done\n",
      "Clustering...\n",
      "Clustering 41665 spikes...\n",
      "number of seeds: 648\n",
      "seeds/job: 28\n",
      "using 24 cpus\n"
     ]
    },
    {
     "name": "stderr",
     "output_type": "stream",
     "text": [
      "[Parallel(n_jobs=24)]: Using backend LokyBackend with 24 concurrent workers.\n",
      "[Parallel(n_jobs=24)]: Done   3 out of  24 | elapsed:    8.6s remaining:  1.0min\n",
      "[Parallel(n_jobs=24)]: Done  16 out of  24 | elapsed:    9.1s remaining:    4.5s\n",
      "[Parallel(n_jobs=24)]: Done  24 out of  24 | elapsed:    9.2s finished\n"
     ]
    },
    {
     "name": "stdout",
     "output_type": "stream",
     "text": [
      "Number of estimated units: 29\n",
      "Saving to /disk/scratch/mhennig/spikeinterface/spikeoptimizer-develop/final_sorted/HS2_sorted.hdf5\n"
     ]
    },
    {
     "data": {
      "text/plain": [
       "29.963556310976855"
      ]
     },
     "execution_count": 28,
     "metadata": {},
     "output_type": "execute_result"
    }
   ],
   "source": [
    "import spiketoolkit as st\n",
    "\n",
    "output_folder = 'final_sorted'\n",
    "\n",
    "sorter = 'herdingspikes'\n",
    "\n",
    "\n",
    "final_parameters = {}\n",
    "for i, key in enumerate(r['optimal_params']):\n",
    "    if type(r['optimal_params']) is dict:\n",
    "        final_parameters[key] = r['optimal_params'][key][0]\n",
    "    else:\n",
    "        final_parameters[key] = r['optimal_params'][i]\n",
    "\n",
    "\n",
    "SorterClass = st.sorters.sorter_dict[sorter]\n",
    "my_sorter = SorterClass(recording=recording, output_folder = output_folder)\n",
    "my_sorter.set_params(**final_parameters)\n",
    "my_sorter.run()\n"
   ]
  },
  {
   "cell_type": "code",
   "execution_count": 30,
   "metadata": {},
   "outputs": [],
   "source": [
    "sorting_extractor = my_sorter.get_result()\n"
   ]
  },
  {
   "cell_type": "code",
   "execution_count": 31,
   "metadata": {},
   "outputs": [
    {
     "data": {
      "text/plain": [
       "32000.0"
      ]
     },
     "execution_count": 31,
     "metadata": {},
     "output_type": "execute_result"
    }
   ],
   "source": [
    "sorting_extractor.get_sampling_frequency()"
   ]
  },
  {
   "cell_type": "code",
   "execution_count": 32,
   "metadata": {},
   "outputs": [
    {
     "name": "stdout",
     "output_type": "stream",
     "text": [
      "Warning: sampling frequency information not found. Setting delta_frames to 10.\n"
     ]
    }
   ],
   "source": [
    "sc = st.comparison.compare_sorter_to_ground_truth(sorting_true, sorting_extractor, exhaustive_gt=True)\n",
    "# why the warning below?"
   ]
  },
  {
   "cell_type": "code",
   "execution_count": 33,
   "metadata": {},
   "outputs": [
    {
     "data": {
      "text/plain": [
       "{'accuracy': 0.7651367715428695,\n",
       " 'recall': 0.8573721831839108,\n",
       " 'precision': 0.8767305726763094,\n",
       " 'false_discovery_rate': 0.12326942732369064,\n",
       " 'miss_rate': 0.14262781681608916,\n",
       " 'misclassification_rate': 0.0}"
      ]
     },
     "execution_count": 33,
     "metadata": {},
     "output_type": "execute_result"
    }
   ],
   "source": [
    "# sc\n",
    "results = sc.get_performance(method='pooled_with_sum', output='dict')  \n",
    "results"
   ]
  },
  {
   "cell_type": "code",
   "execution_count": 38,
   "metadata": {
    "scrolled": false
   },
   "outputs": [
    {
     "data": {
      "text/html": [
       "<div>\n",
       "<style scoped>\n",
       "    .dataframe tbody tr th:only-of-type {\n",
       "        vertical-align: middle;\n",
       "    }\n",
       "\n",
       "    .dataframe tbody tr th {\n",
       "        vertical-align: top;\n",
       "    }\n",
       "\n",
       "    .dataframe thead th {\n",
       "        text-align: right;\n",
       "    }\n",
       "</style>\n",
       "<table border=\"1\" class=\"dataframe\">\n",
       "  <thead>\n",
       "    <tr style=\"text-align: right;\">\n",
       "      <th></th>\n",
       "      <th>accuracy</th>\n",
       "      <th>recall</th>\n",
       "      <th>precision</th>\n",
       "      <th>false_discovery_rate</th>\n",
       "      <th>miss_rate</th>\n",
       "      <th>misclassification_rate</th>\n",
       "    </tr>\n",
       "    <tr>\n",
       "      <th>gt_unit_id</th>\n",
       "      <th></th>\n",
       "      <th></th>\n",
       "      <th></th>\n",
       "      <th></th>\n",
       "      <th></th>\n",
       "      <th></th>\n",
       "    </tr>\n",
       "  </thead>\n",
       "  <tbody>\n",
       "    <tr>\n",
       "      <th>1</th>\n",
       "      <td>0.839192</td>\n",
       "      <td>0.926285</td>\n",
       "      <td>0.899247</td>\n",
       "      <td>0.100753</td>\n",
       "      <td>0.073715</td>\n",
       "      <td>0.0</td>\n",
       "    </tr>\n",
       "    <tr>\n",
       "      <th>2</th>\n",
       "      <td>0.786187</td>\n",
       "      <td>0.882838</td>\n",
       "      <td>0.877769</td>\n",
       "      <td>0.122231</td>\n",
       "      <td>0.117162</td>\n",
       "      <td>0.0</td>\n",
       "    </tr>\n",
       "    <tr>\n",
       "      <th>3</th>\n",
       "      <td>0.842545</td>\n",
       "      <td>0.897331</td>\n",
       "      <td>0.932432</td>\n",
       "      <td>0.067568</td>\n",
       "      <td>0.102669</td>\n",
       "      <td>0.0</td>\n",
       "    </tr>\n",
       "    <tr>\n",
       "      <th>4</th>\n",
       "      <td>0.000000</td>\n",
       "      <td>0.000000</td>\n",
       "      <td>NaN</td>\n",
       "      <td>NaN</td>\n",
       "      <td>1.000000</td>\n",
       "      <td>0.0</td>\n",
       "    </tr>\n",
       "    <tr>\n",
       "      <th>5</th>\n",
       "      <td>0.760931</td>\n",
       "      <td>0.894787</td>\n",
       "      <td>0.835705</td>\n",
       "      <td>0.164295</td>\n",
       "      <td>0.105213</td>\n",
       "      <td>0.0</td>\n",
       "    </tr>\n",
       "    <tr>\n",
       "      <th>6</th>\n",
       "      <td>0.751479</td>\n",
       "      <td>0.897174</td>\n",
       "      <td>0.822302</td>\n",
       "      <td>0.177698</td>\n",
       "      <td>0.102826</td>\n",
       "      <td>0.0</td>\n",
       "    </tr>\n",
       "    <tr>\n",
       "      <th>7</th>\n",
       "      <td>0.973376</td>\n",
       "      <td>0.981740</td>\n",
       "      <td>0.991323</td>\n",
       "      <td>0.008677</td>\n",
       "      <td>0.018260</td>\n",
       "      <td>0.0</td>\n",
       "    </tr>\n",
       "    <tr>\n",
       "      <th>8</th>\n",
       "      <td>0.745215</td>\n",
       "      <td>0.871815</td>\n",
       "      <td>0.836916</td>\n",
       "      <td>0.163084</td>\n",
       "      <td>0.128185</td>\n",
       "      <td>0.0</td>\n",
       "    </tr>\n",
       "    <tr>\n",
       "      <th>9</th>\n",
       "      <td>0.792564</td>\n",
       "      <td>0.875288</td>\n",
       "      <td>0.893459</td>\n",
       "      <td>0.106541</td>\n",
       "      <td>0.124712</td>\n",
       "      <td>0.0</td>\n",
       "    </tr>\n",
       "    <tr>\n",
       "      <th>10</th>\n",
       "      <td>0.595650</td>\n",
       "      <td>0.860256</td>\n",
       "      <td>0.659459</td>\n",
       "      <td>0.340541</td>\n",
       "      <td>0.139744</td>\n",
       "      <td>0.0</td>\n",
       "    </tr>\n",
       "    <tr>\n",
       "      <th>11</th>\n",
       "      <td>0.888214</td>\n",
       "      <td>0.938383</td>\n",
       "      <td>0.943226</td>\n",
       "      <td>0.056774</td>\n",
       "      <td>0.061617</td>\n",
       "      <td>0.0</td>\n",
       "    </tr>\n",
       "    <tr>\n",
       "      <th>12</th>\n",
       "      <td>0.638547</td>\n",
       "      <td>0.805750</td>\n",
       "      <td>0.754731</td>\n",
       "      <td>0.245269</td>\n",
       "      <td>0.194250</td>\n",
       "      <td>0.0</td>\n",
       "    </tr>\n",
       "    <tr>\n",
       "      <th>13</th>\n",
       "      <td>0.000000</td>\n",
       "      <td>0.000000</td>\n",
       "      <td>NaN</td>\n",
       "      <td>NaN</td>\n",
       "      <td>1.000000</td>\n",
       "      <td>0.0</td>\n",
       "    </tr>\n",
       "    <tr>\n",
       "      <th>14</th>\n",
       "      <td>0.840100</td>\n",
       "      <td>0.904005</td>\n",
       "      <td>0.922385</td>\n",
       "      <td>0.077615</td>\n",
       "      <td>0.095995</td>\n",
       "      <td>0.0</td>\n",
       "    </tr>\n",
       "    <tr>\n",
       "      <th>15</th>\n",
       "      <td>0.985030</td>\n",
       "      <td>0.994709</td>\n",
       "      <td>0.990218</td>\n",
       "      <td>0.009782</td>\n",
       "      <td>0.005291</td>\n",
       "      <td>0.0</td>\n",
       "    </tr>\n",
       "    <tr>\n",
       "      <th>16</th>\n",
       "      <td>0.929612</td>\n",
       "      <td>0.951159</td>\n",
       "      <td>0.976211</td>\n",
       "      <td>0.023789</td>\n",
       "      <td>0.048841</td>\n",
       "      <td>0.0</td>\n",
       "    </tr>\n",
       "  </tbody>\n",
       "</table>\n",
       "</div>"
      ],
      "text/plain": [
       "            accuracy    recall  precision  false_discovery_rate  miss_rate  \\\n",
       "gt_unit_id                                                                   \n",
       "1           0.839192  0.926285   0.899247              0.100753   0.073715   \n",
       "2           0.786187  0.882838   0.877769              0.122231   0.117162   \n",
       "3           0.842545  0.897331   0.932432              0.067568   0.102669   \n",
       "4           0.000000  0.000000        NaN                   NaN   1.000000   \n",
       "5           0.760931  0.894787   0.835705              0.164295   0.105213   \n",
       "6           0.751479  0.897174   0.822302              0.177698   0.102826   \n",
       "7           0.973376  0.981740   0.991323              0.008677   0.018260   \n",
       "8           0.745215  0.871815   0.836916              0.163084   0.128185   \n",
       "9           0.792564  0.875288   0.893459              0.106541   0.124712   \n",
       "10          0.595650  0.860256   0.659459              0.340541   0.139744   \n",
       "11          0.888214  0.938383   0.943226              0.056774   0.061617   \n",
       "12          0.638547  0.805750   0.754731              0.245269   0.194250   \n",
       "13          0.000000  0.000000        NaN                   NaN   1.000000   \n",
       "14          0.840100  0.904005   0.922385              0.077615   0.095995   \n",
       "15          0.985030  0.994709   0.990218              0.009782   0.005291   \n",
       "16          0.929612  0.951159   0.976211              0.023789   0.048841   \n",
       "\n",
       "            misclassification_rate  \n",
       "gt_unit_id                          \n",
       "1                              0.0  \n",
       "2                              0.0  \n",
       "3                              0.0  \n",
       "4                              0.0  \n",
       "5                              0.0  \n",
       "6                              0.0  \n",
       "7                              0.0  \n",
       "8                              0.0  \n",
       "9                              0.0  \n",
       "10                             0.0  \n",
       "11                             0.0  \n",
       "12                             0.0  \n",
       "13                             0.0  \n",
       "14                             0.0  \n",
       "15                             0.0  \n",
       "16                             0.0  "
      ]
     },
     "execution_count": 38,
     "metadata": {},
     "output_type": "execute_result"
    }
   ],
   "source": [
    "sc.get_performance(method='by_unit', output='dict')  \n"
   ]
  },
  {
   "cell_type": "code",
   "execution_count": null,
   "metadata": {},
   "outputs": [],
   "source": []
  },
  {
   "cell_type": "code",
   "execution_count": null,
   "metadata": {},
   "outputs": [],
   "source": []
  }
 ],
 "metadata": {
  "kernelspec": {
   "display_name": "Python [conda env:spikesorting]",
   "language": "python",
   "name": "conda-env-spikesorting-py"
  },
  "language_info": {
   "codemirror_mode": {
    "name": "ipython",
    "version": 3
   },
   "file_extension": ".py",
   "mimetype": "text/x-python",
   "name": "python",
   "nbconvert_exporter": "python",
   "pygments_lexer": "ipython3",
   "version": "3.7.2"
  }
 },
 "nbformat": 4,
 "nbformat_minor": 2
}
